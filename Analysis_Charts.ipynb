{
  "nbformat": 4,
  "nbformat_minor": 0,
  "metadata": {
    "colab": {
      "name": "Analysis-Charts",
      "provenance": [],
      "collapsed_sections": []
    },
    "kernelspec": {
      "name": "python3",
      "display_name": "Python 3"
    },
    "language_info": {
      "name": "python"
    }
  },
  "cells": [
    {
      "cell_type": "markdown",
      "metadata": {
        "id": "BshQonGmVNCg"
      },
      "source": [
        "This notebook does the following:\n",
        "*  Merge the Topics spreadsheet with the attributes spreadsheet \n",
        "*  Identify trends in each topic over time (line plot for each topic)\n",
        "*  See how the citations are changing \n",
        "*  Authors- Country affiliation\n",
        "*  Authors- Gender\n",
        "*  Methods and Level of Analysis\n",
        "\n",
        "\n",
        "\n",
        "\n",
        "\n",
        "\n"
      ]
    },
    {
      "cell_type": "markdown",
      "metadata": {
        "id": "IQj444Lb7uLy"
      },
      "source": [
        "Restart Kernel"
      ]
    },
    {
      "cell_type": "code",
      "metadata": {
        "id": "xwNH5gT8Y2mL"
      },
      "source": [
        "import nltk\n",
        "import numpy as np\n",
        "import pandas as pd\n",
        "from nltk import word_tokenize\n",
        "import re\n",
        "import seaborn as sns\n",
        "import matplotlib.pyplot as plt\n",
        "import smart_open\n",
        "#from gensim.models import LdaModel\n",
        "#from gensim.models import CoherenceModel\n",
        "#import pyLDAvis\n",
        "#import pyLDAvis.gensim_models as gensimvis\n",
        "#pyLDAvis.enable_notebook()\n",
        "import spacy\n",
        "import numpy as np\n",
        "#from gensim.models import LdaModel\n",
        "\n"
      ],
      "execution_count": null,
      "outputs": []
    },
    {
      "cell_type": "code",
      "metadata": {
        "colab": {
          "base_uri": "https://localhost:8080/"
        },
        "id": "poHJuUk4ZE-y",
        "outputId": "54c8633d-9e5c-443d-d0e1-c550d1fd7987"
      },
      "source": [
        "from google.colab import drive\n",
        "drive.mount('/content/drive')"
      ],
      "execution_count": null,
      "outputs": [
        {
          "output_type": "stream",
          "text": [
            "Drive already mounted at /content/drive; to attempt to forcibly remount, call drive.mount(\"/content/drive\", force_remount=True).\n"
          ],
          "name": "stdout"
        }
      ]
    },
    {
      "cell_type": "code",
      "metadata": {
        "id": "oZYPFKloZG69"
      },
      "source": [
        "path = \"/content/drive/MyDrive/Journal_Analysis/\""
      ],
      "execution_count": null,
      "outputs": []
    },
    {
      "cell_type": "code",
      "metadata": {
        "id": "hXaJxXEPAQsl"
      },
      "source": [
        "topics = pd.read_excel(path + \"Final_Topics/Topics_final.xlsx\")"
      ],
      "execution_count": null,
      "outputs": []
    },
    {
      "cell_type": "code",
      "metadata": {
        "colab": {
          "base_uri": "https://localhost:8080/",
          "height": 204
        },
        "id": "_NwFhOHHAZtO",
        "outputId": "09017509-f28b-4ada-a3cd-d3feeae693d2"
      },
      "source": [
        "topics.head()"
      ],
      "execution_count": null,
      "outputs": [
        {
          "output_type": "execute_result",
          "data": {
            "text/html": [
              "<div>\n",
              "<style scoped>\n",
              "    .dataframe tbody tr th:only-of-type {\n",
              "        vertical-align: middle;\n",
              "    }\n",
              "\n",
              "    .dataframe tbody tr th {\n",
              "        vertical-align: top;\n",
              "    }\n",
              "\n",
              "    .dataframe thead th {\n",
              "        text-align: right;\n",
              "    }\n",
              "</style>\n",
              "<table border=\"1\" class=\"dataframe\">\n",
              "  <thead>\n",
              "    <tr style=\"text-align: right;\">\n",
              "      <th></th>\n",
              "      <th>DOI</th>\n",
              "      <th>Article-title</th>\n",
              "      <th>Topic</th>\n",
              "    </tr>\n",
              "  </thead>\n",
              "  <tbody>\n",
              "    <tr>\n",
              "      <th>0</th>\n",
              "      <td>asqu.2011.56.1.095</td>\n",
              "      <td>Founding Conditions, Learning, and Organizatio...</td>\n",
              "      <td>Entrepreneurship and venture capital</td>\n",
              "    </tr>\n",
              "    <tr>\n",
              "      <th>1</th>\n",
              "      <td>10.1177/0001839215597270</td>\n",
              "      <td>Managing the Unknowable</td>\n",
              "      <td>Entrepreneurship and venture capital</td>\n",
              "    </tr>\n",
              "    <tr>\n",
              "      <th>2</th>\n",
              "      <td>10.1177/0001839219843486</td>\n",
              "      <td>Start-up Inertia versus Flexibility: The Role ...</td>\n",
              "      <td>Entrepreneurship and venture capital</td>\n",
              "    </tr>\n",
              "    <tr>\n",
              "      <th>3</th>\n",
              "      <td>10.1177/0001839219852349</td>\n",
              "      <td>Parallel Play: Startups, Nascent Markets, and ...</td>\n",
              "      <td>Entrepreneurship and venture capital</td>\n",
              "    </tr>\n",
              "    <tr>\n",
              "      <th>4</th>\n",
              "      <td>10.1177/0001839215591627</td>\n",
              "      <td>Business as Plan B</td>\n",
              "      <td>Entrepreneurship and venture capital</td>\n",
              "    </tr>\n",
              "  </tbody>\n",
              "</table>\n",
              "</div>"
            ],
            "text/plain": [
              "                        DOI  ...                                  Topic\n",
              "0        asqu.2011.56.1.095  ...  Entrepreneurship and venture capital \n",
              "1  10.1177/0001839215597270  ...  Entrepreneurship and venture capital \n",
              "2  10.1177/0001839219843486  ...  Entrepreneurship and venture capital \n",
              "3  10.1177/0001839219852349  ...  Entrepreneurship and venture capital \n",
              "4  10.1177/0001839215591627  ...  Entrepreneurship and venture capital \n",
              "\n",
              "[5 rows x 3 columns]"
            ]
          },
          "metadata": {
            "tags": []
          },
          "execution_count": 46
        }
      ]
    },
    {
      "cell_type": "code",
      "metadata": {
        "colab": {
          "base_uri": "https://localhost:8080/"
        },
        "id": "tnPFDPszB6jq",
        "outputId": "db814767-d88d-498b-b926-fb19048b09a0"
      },
      "source": [
        "len(topics)"
      ],
      "execution_count": null,
      "outputs": [
        {
          "output_type": "execute_result",
          "data": {
            "text/plain": [
              "261"
            ]
          },
          "metadata": {
            "tags": []
          },
          "execution_count": 47
        }
      ]
    },
    {
      "cell_type": "code",
      "metadata": {
        "id": "8yXbt3f2AdND"
      },
      "source": [
        "att = pd.read_excel(path + \"Final_Topics/ASQ_Article Attributes 2011-20.xlsx\")"
      ],
      "execution_count": null,
      "outputs": []
    },
    {
      "cell_type": "code",
      "metadata": {
        "id": "UvUFvJfo-1WB",
        "colab": {
          "base_uri": "https://localhost:8080/",
          "height": 632
        },
        "outputId": "0c7efdf8-5efc-4360-faff-8c9f1f9fc5a9"
      },
      "source": [
        "att.tail()"
      ],
      "execution_count": null,
      "outputs": [
        {
          "output_type": "execute_result",
          "data": {
            "text/html": [
              "<div>\n",
              "<style scoped>\n",
              "    .dataframe tbody tr th:only-of-type {\n",
              "        vertical-align: middle;\n",
              "    }\n",
              "\n",
              "    .dataframe tbody tr th {\n",
              "        vertical-align: top;\n",
              "    }\n",
              "\n",
              "    .dataframe thead th {\n",
              "        text-align: right;\n",
              "    }\n",
              "</style>\n",
              "<table border=\"1\" class=\"dataframe\">\n",
              "  <thead>\n",
              "    <tr style=\"text-align: right;\">\n",
              "      <th></th>\n",
              "      <th>DOI</th>\n",
              "      <th>Authors</th>\n",
              "      <th>Gender 1st A</th>\n",
              "      <th>Gender Other</th>\n",
              "      <th>Affiliation</th>\n",
              "      <th>US</th>\n",
              "      <th>Canada</th>\n",
              "      <th>Europe</th>\n",
              "      <th>Asia</th>\n",
              "      <th>Other</th>\n",
              "      <th>Article-title</th>\n",
              "      <th>Subtitle</th>\n",
              "      <th>Publication Date</th>\n",
              "      <th>Year</th>\n",
              "      <th>Volume</th>\n",
              "      <th>Issue</th>\n",
              "      <th>Total Citations</th>\n",
              "      <th>Average per Year</th>\n",
              "      <th>Method</th>\n",
              "      <th>Data Source</th>\n",
              "      <th>Analysis Level</th>\n",
              "      <th>Abstract</th>\n",
              "      <th>Unnamed: 22</th>\n",
              "    </tr>\n",
              "  </thead>\n",
              "  <tbody>\n",
              "    <tr>\n",
              "      <th>225</th>\n",
              "      <td>10.1177/0001839220963633</td>\n",
              "      <td>['Lisa Buchter']</td>\n",
              "      <td>1.0</td>\n",
              "      <td>NaN</td>\n",
              "      <td>['emlyon business school']</td>\n",
              "      <td>0.0</td>\n",
              "      <td>0.0</td>\n",
              "      <td>1.0</td>\n",
              "      <td>0.0</td>\n",
              "      <td>0.0</td>\n",
              "      <td>Escaping the Ellipsis of Diversity: Insider Ac...</td>\n",
              "      <td>NaN</td>\n",
              "      <td>NaT</td>\n",
              "      <td>2021</td>\n",
              "      <td>NaN</td>\n",
              "      <td>NaN</td>\n",
              "      <td>0</td>\n",
              "      <td>0.0</td>\n",
              "      <td>Qualitative</td>\n",
              "      <td>Europe</td>\n",
              "      <td>NaN</td>\n",
              "      <td>Researchers have explored in depth how social ...</td>\n",
              "      <td>NaN</td>\n",
              "    </tr>\n",
              "    <tr>\n",
              "      <th>226</th>\n",
              "      <td>asqu.2011.56.1.001</td>\n",
              "      <td>Chen-Bo Zhong</td>\n",
              "      <td>0.0</td>\n",
              "      <td>0.0</td>\n",
              "      <td>University of Toronto</td>\n",
              "      <td>0.0</td>\n",
              "      <td>1.0</td>\n",
              "      <td>0.0</td>\n",
              "      <td>0.0</td>\n",
              "      <td>0.0</td>\n",
              "      <td>The Ethical Dangers of Deliberative Decision M...</td>\n",
              "      <td>NaN</td>\n",
              "      <td>2011-03-01</td>\n",
              "      <td>2011</td>\n",
              "      <td>56.0</td>\n",
              "      <td>NaN</td>\n",
              "      <td>122</td>\n",
              "      <td>NaN</td>\n",
              "      <td>NaN</td>\n",
              "      <td>Canada</td>\n",
              "      <td>NaN</td>\n",
              "      <td>Research on ethical decision making has been h...</td>\n",
              "      <td>NaN</td>\n",
              "    </tr>\n",
              "    <tr>\n",
              "      <th>227</th>\n",
              "      <td>asqu.2011.56.1.026</td>\n",
              "      <td>Ji-Yub (Jay) Kim, Jerayr (John) Haleblian, Syd...</td>\n",
              "      <td>0.0</td>\n",
              "      <td>0.0</td>\n",
              "      <td>INSEAD, University of Georgia, Dartmouth College</td>\n",
              "      <td>1.0</td>\n",
              "      <td>0.0</td>\n",
              "      <td>0.0</td>\n",
              "      <td>1.0</td>\n",
              "      <td>0.0</td>\n",
              "      <td>When Firms Are Desperate to Grow via Acquisiti...</td>\n",
              "      <td>NaN</td>\n",
              "      <td>2011-03-01</td>\n",
              "      <td>2011</td>\n",
              "      <td>56.0</td>\n",
              "      <td>NaN</td>\n",
              "      <td>72</td>\n",
              "      <td>NaN</td>\n",
              "      <td>NaN</td>\n",
              "      <td>US</td>\n",
              "      <td>NaN</td>\n",
              "      <td>In this paper we draw on work in behavioral le...</td>\n",
              "      <td>NaN</td>\n",
              "    </tr>\n",
              "    <tr>\n",
              "      <th>228</th>\n",
              "      <td>asqu.2011.56.1.061</td>\n",
              "      <td>Edward Bishop Smith</td>\n",
              "      <td>0.0</td>\n",
              "      <td>0.0</td>\n",
              "      <td>University of Michigan</td>\n",
              "      <td>1.0</td>\n",
              "      <td>NaN</td>\n",
              "      <td>NaN</td>\n",
              "      <td>NaN</td>\n",
              "      <td>NaN</td>\n",
              "      <td>Identities as Lenses: How Organizational Ident...</td>\n",
              "      <td>NaN</td>\n",
              "      <td>2011-03-01</td>\n",
              "      <td>2011</td>\n",
              "      <td>56.0</td>\n",
              "      <td>NaN</td>\n",
              "      <td>76</td>\n",
              "      <td>NaN</td>\n",
              "      <td>NaN</td>\n",
              "      <td>Multi-Country</td>\n",
              "      <td>NaN</td>\n",
              "      <td>This study calls into question the completenes...</td>\n",
              "      <td>NaN</td>\n",
              "    </tr>\n",
              "    <tr>\n",
              "      <th>229</th>\n",
              "      <td>asqu.2011.56.1.095</td>\n",
              "      <td>Gaël Le Mens, Michael T. Hannan, László Pólos</td>\n",
              "      <td>0.0</td>\n",
              "      <td>0.0</td>\n",
              "      <td>Universitat Pompeu Fabra and Barcelona Graduat...</td>\n",
              "      <td>1.0</td>\n",
              "      <td>0.0</td>\n",
              "      <td>1.0</td>\n",
              "      <td>0.0</td>\n",
              "      <td>0.0</td>\n",
              "      <td>Founding Conditions, Learning, and Organizatio...</td>\n",
              "      <td>NaN</td>\n",
              "      <td>2021-03-11</td>\n",
              "      <td>2011</td>\n",
              "      <td>56.0</td>\n",
              "      <td>NaN</td>\n",
              "      <td>51</td>\n",
              "      <td>NaN</td>\n",
              "      <td>NaN</td>\n",
              "      <td>US</td>\n",
              "      <td>NaN</td>\n",
              "      <td>Empirical evidence about the relation between ...</td>\n",
              "      <td>NaN</td>\n",
              "    </tr>\n",
              "  </tbody>\n",
              "</table>\n",
              "</div>"
            ],
            "text/plain": [
              "                          DOI  ... Unnamed: 22\n",
              "225  10.1177/0001839220963633  ...         NaN\n",
              "226        asqu.2011.56.1.001  ...         NaN\n",
              "227        asqu.2011.56.1.026  ...         NaN\n",
              "228        asqu.2011.56.1.061  ...         NaN\n",
              "229        asqu.2011.56.1.095  ...         NaN\n",
              "\n",
              "[5 rows x 23 columns]"
            ]
          },
          "metadata": {
            "tags": []
          },
          "execution_count": 49
        }
      ]
    },
    {
      "cell_type": "code",
      "metadata": {
        "colab": {
          "base_uri": "https://localhost:8080/"
        },
        "id": "7cgvMGxnCMzX",
        "outputId": "ffcaadcf-b937-46db-d24c-ab66a89b4726"
      },
      "source": [
        "len(att)"
      ],
      "execution_count": null,
      "outputs": [
        {
          "output_type": "execute_result",
          "data": {
            "text/plain": [
              "230"
            ]
          },
          "metadata": {
            "tags": []
          },
          "execution_count": 50
        }
      ]
    },
    {
      "cell_type": "code",
      "metadata": {
        "colab": {
          "base_uri": "https://localhost:8080/"
        },
        "id": "7Nd6gUkHbK66",
        "outputId": "ceb23a99-7acd-4a62-bf92-1fa306205fd4"
      },
      "source": [
        "att.columns"
      ],
      "execution_count": null,
      "outputs": [
        {
          "output_type": "execute_result",
          "data": {
            "text/plain": [
              "Index(['DOI', 'Authors', 'Gender 1st A', 'Gender Other', 'Affiliation', 'US',\n",
              "       'Canada', 'Europe', 'Asia', 'Other', 'Article-title', 'Subtitle',\n",
              "       'Publication Date', 'Year', 'Volume', 'Issue', 'Total Citations',\n",
              "       'Average per Year', 'Method', 'Data Source', 'Analysis Level',\n",
              "       'Abstract', 'Unnamed: 22'],\n",
              "      dtype='object')"
            ]
          },
          "metadata": {
            "tags": []
          },
          "execution_count": 51
        }
      ]
    },
    {
      "cell_type": "markdown",
      "metadata": {
        "id": "eEhSBMlNCbik"
      },
      "source": [
        "**Trends - topics**"
      ]
    },
    {
      "cell_type": "code",
      "metadata": {
        "id": "k27zycDuCqMJ"
      },
      "source": [
        "trends_topics = pd.merge(topics[[\"DOI\", \"Topic\", \"Article-title\"]], att[[\"DOI\", \"Year\"]], on = \"DOI\", how = \"left\")"
      ],
      "execution_count": null,
      "outputs": []
    },
    {
      "cell_type": "code",
      "metadata": {
        "colab": {
          "base_uri": "https://localhost:8080/"
        },
        "id": "K26psXDvC9C9",
        "outputId": "3746f949-2c06-4c8a-c4ff-c1cdfa594cdd"
      },
      "source": [
        "len(trends_topics)"
      ],
      "execution_count": null,
      "outputs": [
        {
          "output_type": "execute_result",
          "data": {
            "text/plain": [
              "261"
            ]
          },
          "metadata": {
            "tags": []
          },
          "execution_count": 12
        }
      ]
    },
    {
      "cell_type": "code",
      "metadata": {
        "colab": {
          "base_uri": "https://localhost:8080/"
        },
        "id": "uihT4WAHC_dB",
        "outputId": "b16d796a-3163-42ae-aede-13c2a3497105"
      },
      "source": [
        "trends_topics.columns"
      ],
      "execution_count": null,
      "outputs": [
        {
          "output_type": "execute_result",
          "data": {
            "text/plain": [
              "Index(['DOI', 'Topic', 'Article-title', 'Year'], dtype='object')"
            ]
          },
          "metadata": {
            "tags": []
          },
          "execution_count": 13
        }
      ]
    },
    {
      "cell_type": "code",
      "metadata": {
        "id": "K9vo5SQGHkTa"
      },
      "source": [
        "count = trends_topics.groupby(['Topic','Year'])[\"DOI\"].count().reset_index()"
      ],
      "execution_count": null,
      "outputs": []
    },
    {
      "cell_type": "code",
      "metadata": {
        "id": "rpjM4-t_H1VD"
      },
      "source": [
        "count.rename(columns = {\"DOI\" : \"Count\"}, inplace = True)"
      ],
      "execution_count": null,
      "outputs": []
    },
    {
      "cell_type": "code",
      "metadata": {
        "colab": {
          "base_uri": "https://localhost:8080/",
          "height": 204
        },
        "id": "qxq3q27HIIjA",
        "outputId": "08666539-a271-4c93-cff4-750f7904469d"
      },
      "source": [
        "count.head()"
      ],
      "execution_count": null,
      "outputs": [
        {
          "output_type": "execute_result",
          "data": {
            "text/html": [
              "<div>\n",
              "<style scoped>\n",
              "    .dataframe tbody tr th:only-of-type {\n",
              "        vertical-align: middle;\n",
              "    }\n",
              "\n",
              "    .dataframe tbody tr th {\n",
              "        vertical-align: top;\n",
              "    }\n",
              "\n",
              "    .dataframe thead th {\n",
              "        text-align: right;\n",
              "    }\n",
              "</style>\n",
              "<table border=\"1\" class=\"dataframe\">\n",
              "  <thead>\n",
              "    <tr style=\"text-align: right;\">\n",
              "      <th></th>\n",
              "      <th>Topic</th>\n",
              "      <th>Year</th>\n",
              "      <th>Count</th>\n",
              "    </tr>\n",
              "  </thead>\n",
              "  <tbody>\n",
              "    <tr>\n",
              "      <th>0</th>\n",
              "      <td>Careers and Mobility</td>\n",
              "      <td>2011</td>\n",
              "      <td>1</td>\n",
              "    </tr>\n",
              "    <tr>\n",
              "      <th>1</th>\n",
              "      <td>Careers and Mobility</td>\n",
              "      <td>2012</td>\n",
              "      <td>2</td>\n",
              "    </tr>\n",
              "    <tr>\n",
              "      <th>2</th>\n",
              "      <td>Careers and Mobility</td>\n",
              "      <td>2013</td>\n",
              "      <td>2</td>\n",
              "    </tr>\n",
              "    <tr>\n",
              "      <th>3</th>\n",
              "      <td>Careers and Mobility</td>\n",
              "      <td>2014</td>\n",
              "      <td>1</td>\n",
              "    </tr>\n",
              "    <tr>\n",
              "      <th>4</th>\n",
              "      <td>Careers and Mobility</td>\n",
              "      <td>2015</td>\n",
              "      <td>4</td>\n",
              "    </tr>\n",
              "  </tbody>\n",
              "</table>\n",
              "</div>"
            ],
            "text/plain": [
              "                  Topic  Year  Count\n",
              "0  Careers and Mobility  2011      1\n",
              "1  Careers and Mobility  2012      2\n",
              "2  Careers and Mobility  2013      2\n",
              "3  Careers and Mobility  2014      1\n",
              "4  Careers and Mobility  2015      4"
            ]
          },
          "metadata": {
            "tags": []
          },
          "execution_count": 16
        }
      ]
    },
    {
      "cell_type": "code",
      "metadata": {
        "id": "WKInQZwV-XDy"
      },
      "source": [
        "count.groupby(\"Topic\")[\"Count\"].sum()"
      ],
      "execution_count": null,
      "outputs": []
    },
    {
      "cell_type": "code",
      "metadata": {
        "id": "6mTpQPxgPIdy"
      },
      "source": [
        "count.to_excel(path + \"Analysis/topic_trends.xlsx\")"
      ],
      "execution_count": null,
      "outputs": []
    },
    {
      "cell_type": "code",
      "metadata": {
        "colab": {
          "base_uri": "https://localhost:8080/",
          "height": 623
        },
        "id": "hXlM_zUfJPIW",
        "outputId": "12c0702a-68b1-4361-f258-df2942d5fd14"
      },
      "source": [
        "plt.figure(figsize = (20, 10) )\n",
        "sns.color_palette(\"Paired\")\n",
        "sns.lineplot(x = 'Year', y = \"Count\", hue = \"Topic\", data = count[(count[\"Topic\"] != \"No fit\") & (count[\"Topic\"] != \"Individual Behavior/Experience\") & (count[\"Topic\"] != \"Occupational dynamics\") & \\\n",
        "                                                                  (count[\"Topic\"] != \"Technology,  Work, and Change\")], legend = \"brief\", palette = \"tab20\", linewidth = 2)"
      ],
      "execution_count": null,
      "outputs": [
        {
          "output_type": "execute_result",
          "data": {
            "text/plain": [
              "<matplotlib.axes._subplots.AxesSubplot at 0x7fbaa305fb50>"
            ]
          },
          "metadata": {
            "tags": []
          },
          "execution_count": 50
        },
        {
          "output_type": "display_data",
          "data": {
            "image/png": "[encoded data removed]",
            "text/plain": [
              "<Figure size 1440x720 with 1 Axes>"
            ]
          },
          "metadata": {
            "tags": [],
            "needs_background": "light"
          }
        }
      ]
    },
    {
      "cell_type": "code",
      "metadata": {
        "colab": {
          "base_uri": "https://localhost:8080/",
          "height": 1000
        },
        "id": "OAN05iPvMnGD",
        "outputId": "a58ba5c0-8e27-4578-98d3-6f9b03fb1d72"
      },
      "source": [
        "grouped = count.groupby('Topic')\n",
        "rowlength = int(grouped.ngroups/2) + 1                        # fix up if odd number of groups\n",
        "fig, axs = plt.subplots(figsize=(20,25), \n",
        "                        nrows=rowlength, ncols= 2,     # fix as above\n",
        "                        gridspec_kw=dict(hspace=0.4)) # Much control of gridspec\n",
        "\n",
        "targets = zip(grouped.groups.keys(), axs.flatten())\n",
        "for i, (key, ax) in enumerate(targets):\n",
        "    group = grouped.get_group(key)\n",
        "    group.plot(x='Year', y='Count', ax = ax)  # , kind='line')\n",
        "    #ax.plot(grouped.get_group(key))\n",
        "    ax.set_title(key)\n",
        "ax.legend()\n",
        "plt.show()"
      ],
      "execution_count": null,
      "outputs": [
        {
          "output_type": "display_data",
          "data": {
            "image/png": "[encoded data removed]",
            "text/plain": [
              "<Figure size 1440x1800 with 18 Axes>"
            ]
          },
          "metadata": {
            "tags": [],
            "needs_background": "light"
          }
        }
      ]
    },
    {
      "cell_type": "code",
      "metadata": {
        "id": "DOg_HJEvLSUp"
      },
      "source": [
        "pd.pivot_table(count,\n",
        "               index='Year', columns='Topic', values='Count'\n",
        "              ).plot(subplots=True, figsize = (10, 40) )"
      ],
      "execution_count": null,
      "outputs": []
    },
    {
      "cell_type": "markdown",
      "metadata": {
        "id": "BgXo_bCly0HN"
      },
      "source": [
        "**Citations**"
      ]
    },
    {
      "cell_type": "code",
      "metadata": {
        "id": "lJQdg6kLYZs8"
      },
      "source": [
        "trends_citations = pd.merge(topics[[\"DOI\", \"Topic\", \"Article-title\"]], att[[\"DOI\", \"Year\", 'Total Citations' ]], on = \"DOI\", how = \"left\")"
      ],
      "execution_count": null,
      "outputs": []
    },
    {
      "cell_type": "code",
      "metadata": {
        "colab": {
          "base_uri": "https://localhost:8080/",
          "height": 419
        },
        "id": "CzyyDXEebUal",
        "outputId": "1ecc409a-a558-49a1-f74e-3ae474b048c6"
      },
      "source": [
        "trends_citations"
      ],
      "execution_count": null,
      "outputs": [
        {
          "output_type": "execute_result",
          "data": {
            "text/html": [
              "<div>\n",
              "<style scoped>\n",
              "    .dataframe tbody tr th:only-of-type {\n",
              "        vertical-align: middle;\n",
              "    }\n",
              "\n",
              "    .dataframe tbody tr th {\n",
              "        vertical-align: top;\n",
              "    }\n",
              "\n",
              "    .dataframe thead th {\n",
              "        text-align: right;\n",
              "    }\n",
              "</style>\n",
              "<table border=\"1\" class=\"dataframe\">\n",
              "  <thead>\n",
              "    <tr style=\"text-align: right;\">\n",
              "      <th></th>\n",
              "      <th>DOI</th>\n",
              "      <th>Topic</th>\n",
              "      <th>Article-title</th>\n",
              "      <th>Year</th>\n",
              "      <th>Total Citations</th>\n",
              "    </tr>\n",
              "  </thead>\n",
              "  <tbody>\n",
              "    <tr>\n",
              "      <th>0</th>\n",
              "      <td>asqu.2011.56.1.095</td>\n",
              "      <td>Entrepreneurship and venture capital</td>\n",
              "      <td>Founding Conditions, Learning, and Organizatio...</td>\n",
              "      <td>2011</td>\n",
              "      <td>51</td>\n",
              "    </tr>\n",
              "    <tr>\n",
              "      <th>1</th>\n",
              "      <td>10.1177/0001839215597270</td>\n",
              "      <td>Entrepreneurship and venture capital</td>\n",
              "      <td>Managing the Unknowable</td>\n",
              "      <td>2015</td>\n",
              "      <td>85</td>\n",
              "    </tr>\n",
              "    <tr>\n",
              "      <th>2</th>\n",
              "      <td>10.1177/0001839219843486</td>\n",
              "      <td>Entrepreneurship and venture capital</td>\n",
              "      <td>Start-up Inertia versus Flexibility: The Role ...</td>\n",
              "      <td>2020</td>\n",
              "      <td>18</td>\n",
              "    </tr>\n",
              "    <tr>\n",
              "      <th>3</th>\n",
              "      <td>10.1177/0001839219852349</td>\n",
              "      <td>Entrepreneurship and venture capital</td>\n",
              "      <td>Parallel Play: Startups, Nascent Markets, and ...</td>\n",
              "      <td>2020</td>\n",
              "      <td>17</td>\n",
              "    </tr>\n",
              "    <tr>\n",
              "      <th>4</th>\n",
              "      <td>10.1177/0001839215591627</td>\n",
              "      <td>Entrepreneurship and venture capital</td>\n",
              "      <td>Business as Plan B</td>\n",
              "      <td>2015</td>\n",
              "      <td>80</td>\n",
              "    </tr>\n",
              "    <tr>\n",
              "      <th>...</th>\n",
              "      <td>...</td>\n",
              "      <td>...</td>\n",
              "      <td>...</td>\n",
              "      <td>...</td>\n",
              "      <td>...</td>\n",
              "    </tr>\n",
              "    <tr>\n",
              "      <th>256</th>\n",
              "      <td>10.1177/0001839213475800</td>\n",
              "      <td>Social movements, mobilization and diffusion</td>\n",
              "      <td>Punctuated Generosity</td>\n",
              "      <td>2013</td>\n",
              "      <td>91</td>\n",
              "    </tr>\n",
              "    <tr>\n",
              "      <th>257</th>\n",
              "      <td>10.1177/0001839218821439</td>\n",
              "      <td>Social movements, mobilization and diffusion</td>\n",
              "      <td>A Model of Competitive Impression Management: ...</td>\n",
              "      <td>2019</td>\n",
              "      <td>5</td>\n",
              "    </tr>\n",
              "    <tr>\n",
              "      <th>258</th>\n",
              "      <td>10.1177/0001839217695089</td>\n",
              "      <td>Social movements, mobilization and diffusion</td>\n",
              "      <td>Strategic Silence: Withholding Certification S...</td>\n",
              "      <td>2018</td>\n",
              "      <td>47</td>\n",
              "    </tr>\n",
              "    <tr>\n",
              "      <th>259</th>\n",
              "      <td>10.1177/0001839215579235</td>\n",
              "      <td>Social movements, mobilization and diffusion</td>\n",
              "      <td>Social Activism and Practice Diffusion</td>\n",
              "      <td>2015</td>\n",
              "      <td>36</td>\n",
              "    </tr>\n",
              "    <tr>\n",
              "      <th>260</th>\n",
              "      <td>10.1177/0001839220963633</td>\n",
              "      <td>Social movements, mobilization and diffusion</td>\n",
              "      <td>Escaping the Ellipsis of Diversity: Insider Ac...</td>\n",
              "      <td>2020</td>\n",
              "      <td>0</td>\n",
              "    </tr>\n",
              "  </tbody>\n",
              "</table>\n",
              "<p>261 rows × 5 columns</p>\n",
              "</div>"
            ],
            "text/plain": [
              "                          DOI  ... Total Citations\n",
              "0          asqu.2011.56.1.095  ...              51\n",
              "1    10.1177/0001839215597270  ...              85\n",
              "2    10.1177/0001839219843486  ...              18\n",
              "3    10.1177/0001839219852349  ...              17\n",
              "4    10.1177/0001839215591627  ...              80\n",
              "..                        ...  ...             ...\n",
              "256  10.1177/0001839213475800  ...              91\n",
              "257  10.1177/0001839218821439  ...               5\n",
              "258  10.1177/0001839217695089  ...              47\n",
              "259  10.1177/0001839215579235  ...              36\n",
              "260  10.1177/0001839220963633  ...               0\n",
              "\n",
              "[261 rows x 5 columns]"
            ]
          },
          "metadata": {
            "tags": []
          },
          "execution_count": 24
        }
      ]
    },
    {
      "cell_type": "code",
      "metadata": {
        "id": "L61pJPqrdFPL"
      },
      "source": [
        "trends_citations.loc[trends_citations['Year'].between(2011,2014), 'year_bucket'] = '2011 - 2014'\n",
        "trends_citations.loc[trends_citations['Year'].between(2015,2017), 'year_bucket'] = '2015 - 2017'\n",
        "trends_citations.loc[trends_citations['Year'].between(2018,2020), 'year_bucket'] = '2018 - 2020'"
      ],
      "execution_count": null,
      "outputs": []
    },
    {
      "cell_type": "code",
      "metadata": {
        "id": "jU465z1_ebUy"
      },
      "source": [
        ""
      ],
      "execution_count": null,
      "outputs": []
    },
    {
      "cell_type": "code",
      "metadata": {
        "id": "7Wkr1WZOdnH_"
      },
      "source": [
        "trends_citations.to_excel(path + \"Analysis/trends_citations.xlsx\")"
      ],
      "execution_count": null,
      "outputs": []
    },
    {
      "cell_type": "code",
      "metadata": {
        "colab": {
          "base_uri": "https://localhost:8080/",
          "height": 419
        },
        "id": "ykzcWLEqekG4",
        "outputId": "c45aeff7-594a-420a-b494-21dbe3a4ce48"
      },
      "source": [
        "trends_citations"
      ],
      "execution_count": null,
      "outputs": [
        {
          "output_type": "execute_result",
          "data": {
            "text/html": [
              "<div>\n",
              "<style scoped>\n",
              "    .dataframe tbody tr th:only-of-type {\n",
              "        vertical-align: middle;\n",
              "    }\n",
              "\n",
              "    .dataframe tbody tr th {\n",
              "        vertical-align: top;\n",
              "    }\n",
              "\n",
              "    .dataframe thead th {\n",
              "        text-align: right;\n",
              "    }\n",
              "</style>\n",
              "<table border=\"1\" class=\"dataframe\">\n",
              "  <thead>\n",
              "    <tr style=\"text-align: right;\">\n",
              "      <th></th>\n",
              "      <th>DOI</th>\n",
              "      <th>Topic</th>\n",
              "      <th>Article-title</th>\n",
              "      <th>Year</th>\n",
              "      <th>Total Citations</th>\n",
              "      <th>year_bucket</th>\n",
              "    </tr>\n",
              "  </thead>\n",
              "  <tbody>\n",
              "    <tr>\n",
              "      <th>0</th>\n",
              "      <td>asqu.2011.56.1.095</td>\n",
              "      <td>Entrepreneurship and venture capital</td>\n",
              "      <td>Founding Conditions, Learning, and Organizatio...</td>\n",
              "      <td>2011</td>\n",
              "      <td>51</td>\n",
              "      <td>2011 - 2014</td>\n",
              "    </tr>\n",
              "    <tr>\n",
              "      <th>1</th>\n",
              "      <td>10.1177/0001839215597270</td>\n",
              "      <td>Entrepreneurship and venture capital</td>\n",
              "      <td>Managing the Unknowable</td>\n",
              "      <td>2015</td>\n",
              "      <td>85</td>\n",
              "      <td>2015 - 2017</td>\n",
              "    </tr>\n",
              "    <tr>\n",
              "      <th>2</th>\n",
              "      <td>10.1177/0001839219843486</td>\n",
              "      <td>Entrepreneurship and venture capital</td>\n",
              "      <td>Start-up Inertia versus Flexibility: The Role ...</td>\n",
              "      <td>2020</td>\n",
              "      <td>18</td>\n",
              "      <td>2018 - 2020</td>\n",
              "    </tr>\n",
              "    <tr>\n",
              "      <th>3</th>\n",
              "      <td>10.1177/0001839219852349</td>\n",
              "      <td>Entrepreneurship and venture capital</td>\n",
              "      <td>Parallel Play: Startups, Nascent Markets, and ...</td>\n",
              "      <td>2020</td>\n",
              "      <td>17</td>\n",
              "      <td>2018 - 2020</td>\n",
              "    </tr>\n",
              "    <tr>\n",
              "      <th>4</th>\n",
              "      <td>10.1177/0001839215591627</td>\n",
              "      <td>Entrepreneurship and venture capital</td>\n",
              "      <td>Business as Plan B</td>\n",
              "      <td>2015</td>\n",
              "      <td>80</td>\n",
              "      <td>2015 - 2017</td>\n",
              "    </tr>\n",
              "    <tr>\n",
              "      <th>...</th>\n",
              "      <td>...</td>\n",
              "      <td>...</td>\n",
              "      <td>...</td>\n",
              "      <td>...</td>\n",
              "      <td>...</td>\n",
              "      <td>...</td>\n",
              "    </tr>\n",
              "    <tr>\n",
              "      <th>256</th>\n",
              "      <td>10.1177/0001839213475800</td>\n",
              "      <td>Social movements, mobilization and diffusion</td>\n",
              "      <td>Punctuated Generosity</td>\n",
              "      <td>2013</td>\n",
              "      <td>91</td>\n",
              "      <td>2011 - 2014</td>\n",
              "    </tr>\n",
              "    <tr>\n",
              "      <th>257</th>\n",
              "      <td>10.1177/0001839218821439</td>\n",
              "      <td>Social movements, mobilization and diffusion</td>\n",
              "      <td>A Model of Competitive Impression Management: ...</td>\n",
              "      <td>2019</td>\n",
              "      <td>5</td>\n",
              "      <td>2018 - 2020</td>\n",
              "    </tr>\n",
              "    <tr>\n",
              "      <th>258</th>\n",
              "      <td>10.1177/0001839217695089</td>\n",
              "      <td>Social movements, mobilization and diffusion</td>\n",
              "      <td>Strategic Silence: Withholding Certification S...</td>\n",
              "      <td>2018</td>\n",
              "      <td>47</td>\n",
              "      <td>2018 - 2020</td>\n",
              "    </tr>\n",
              "    <tr>\n",
              "      <th>259</th>\n",
              "      <td>10.1177/0001839215579235</td>\n",
              "      <td>Social movements, mobilization and diffusion</td>\n",
              "      <td>Social Activism and Practice Diffusion</td>\n",
              "      <td>2015</td>\n",
              "      <td>36</td>\n",
              "      <td>2015 - 2017</td>\n",
              "    </tr>\n",
              "    <tr>\n",
              "      <th>260</th>\n",
              "      <td>10.1177/0001839220963633</td>\n",
              "      <td>Social movements, mobilization and diffusion</td>\n",
              "      <td>Escaping the Ellipsis of Diversity: Insider Ac...</td>\n",
              "      <td>2020</td>\n",
              "      <td>0</td>\n",
              "      <td>2018 - 2020</td>\n",
              "    </tr>\n",
              "  </tbody>\n",
              "</table>\n",
              "<p>261 rows × 6 columns</p>\n",
              "</div>"
            ],
            "text/plain": [
              "                          DOI  ...  year_bucket\n",
              "0          asqu.2011.56.1.095  ...  2011 - 2014\n",
              "1    10.1177/0001839215597270  ...  2015 - 2017\n",
              "2    10.1177/0001839219843486  ...  2018 - 2020\n",
              "3    10.1177/0001839219852349  ...  2018 - 2020\n",
              "4    10.1177/0001839215591627  ...  2015 - 2017\n",
              "..                        ...  ...          ...\n",
              "256  10.1177/0001839213475800  ...  2011 - 2014\n",
              "257  10.1177/0001839218821439  ...  2018 - 2020\n",
              "258  10.1177/0001839217695089  ...  2018 - 2020\n",
              "259  10.1177/0001839215579235  ...  2015 - 2017\n",
              "260  10.1177/0001839220963633  ...  2018 - 2020\n",
              "\n",
              "[261 rows x 6 columns]"
            ]
          },
          "metadata": {
            "tags": []
          },
          "execution_count": 28
        }
      ]
    },
    {
      "cell_type": "markdown",
      "metadata": {
        "id": "R_joSximCnqL"
      },
      "source": [
        "**Authors**"
      ]
    },
    {
      "cell_type": "code",
      "metadata": {
        "id": "ivd0qmcuLLY1",
        "colab": {
          "base_uri": "https://localhost:8080/"
        },
        "outputId": "2eeaf6dc-4a95-4e6b-8e83-b95bea8aabe7"
      },
      "source": [
        "att.columns"
      ],
      "execution_count": null,
      "outputs": [
        {
          "output_type": "execute_result",
          "data": {
            "text/plain": [
              "Index(['DOI', 'Authors', 'Gender 1st A', 'Gender Other', 'Affiliation', 'US',\n",
              "       'Canada', 'Europe', 'Asia', 'Other', 'Article-title', 'Subtitle',\n",
              "       'Publication Date', 'Year', 'Volume', 'Issue', 'Total Citations',\n",
              "       'Average per Year', 'Method', 'Data Source', 'Analysis Level',\n",
              "       'Abstract', 'Unnamed: 22'],\n",
              "      dtype='object')"
            ]
          },
          "metadata": {
            "tags": []
          },
          "execution_count": 122
        }
      ]
    },
    {
      "cell_type": "code",
      "metadata": {
        "id": "RnRyAhrgk5d9"
      },
      "source": [
        "methods = pd.read_excel(path +\"Analysis/Methods_new.xlsx\")"
      ],
      "execution_count": null,
      "outputs": []
    },
    {
      "cell_type": "code",
      "metadata": {
        "colab": {
          "base_uri": "https://localhost:8080/",
          "height": 255
        },
        "id": "BIBuv2-QlA03",
        "outputId": "217671b2-6938-4221-d27a-e03759c1a679"
      },
      "source": [
        "methods.head()"
      ],
      "execution_count": null,
      "outputs": [
        {
          "output_type": "execute_result",
          "data": {
            "text/html": [
              "<div>\n",
              "<style scoped>\n",
              "    .dataframe tbody tr th:only-of-type {\n",
              "        vertical-align: middle;\n",
              "    }\n",
              "\n",
              "    .dataframe tbody tr th {\n",
              "        vertical-align: top;\n",
              "    }\n",
              "\n",
              "    .dataframe thead th {\n",
              "        text-align: right;\n",
              "    }\n",
              "</style>\n",
              "<table border=\"1\" class=\"dataframe\">\n",
              "  <thead>\n",
              "    <tr style=\"text-align: right;\">\n",
              "      <th></th>\n",
              "      <th>Unnamed: 0</th>\n",
              "      <th>DOI</th>\n",
              "      <th>Qualitative [interview , ethnograph, qualitative, grounded theory]</th>\n",
              "      <th>Simulation [simulation, formal model]</th>\n",
              "      <th>Experiment [field experiment, lab experiment, experiment, experiments]</th>\n",
              "      <th>Quantitative [regression, quantitative, statistically significant, statistical significance]</th>\n",
              "      <th>Majority_Method</th>\n",
              "    </tr>\n",
              "  </thead>\n",
              "  <tbody>\n",
              "    <tr>\n",
              "      <th>0</th>\n",
              "      <td>0</td>\n",
              "      <td>10.1177_0001839213486759</td>\n",
              "      <td>[1, 0, 1, 0]</td>\n",
              "      <td>[0, 0]</td>\n",
              "      <td>[0, 0, 0, 0]</td>\n",
              "      <td>[7, 0, 1, 0]</td>\n",
              "      <td>Quantitative</td>\n",
              "    </tr>\n",
              "    <tr>\n",
              "      <th>1</th>\n",
              "      <td>1</td>\n",
              "      <td>10.1177_0001839218793128</td>\n",
              "      <td>[4, 0, 0, 0]</td>\n",
              "      <td>[1, 0]</td>\n",
              "      <td>[0, 0, 0, 0]</td>\n",
              "      <td>[4, 0, 2, 0]</td>\n",
              "      <td>Mixed_Methods</td>\n",
              "    </tr>\n",
              "    <tr>\n",
              "      <th>2</th>\n",
              "      <td>2</td>\n",
              "      <td>10.1177_0001839212437519</td>\n",
              "      <td>[20, 5, 0, 1]</td>\n",
              "      <td>[0, 0]</td>\n",
              "      <td>[0, 0, 1, 2]</td>\n",
              "      <td>[0, 2, 0, 0]</td>\n",
              "      <td>Qualitative</td>\n",
              "    </tr>\n",
              "    <tr>\n",
              "      <th>3</th>\n",
              "      <td>3</td>\n",
              "      <td>10.1177_0001839216673823</td>\n",
              "      <td>[0, 0, 1, 0]</td>\n",
              "      <td>[0, 0]</td>\n",
              "      <td>[0, 0, 0, 0]</td>\n",
              "      <td>[6, 0, 0, 0]</td>\n",
              "      <td>Quantitative</td>\n",
              "    </tr>\n",
              "    <tr>\n",
              "      <th>4</th>\n",
              "      <td>4</td>\n",
              "      <td>10.1177_0001839213488773</td>\n",
              "      <td>[2, 0, 1, 0]</td>\n",
              "      <td>[0, 0]</td>\n",
              "      <td>[0, 0, 0, 0]</td>\n",
              "      <td>[4, 0, 0, 0]</td>\n",
              "      <td>Quantitative</td>\n",
              "    </tr>\n",
              "  </tbody>\n",
              "</table>\n",
              "</div>"
            ],
            "text/plain": [
              "   Unnamed: 0  ... Majority_Method\n",
              "0           0  ...    Quantitative\n",
              "1           1  ...   Mixed_Methods\n",
              "2           2  ...     Qualitative\n",
              "3           3  ...    Quantitative\n",
              "4           4  ...    Quantitative\n",
              "\n",
              "[5 rows x 7 columns]"
            ]
          },
          "metadata": {
            "tags": []
          },
          "execution_count": 124
        }
      ]
    },
    {
      "cell_type": "code",
      "metadata": {
        "id": "MB7Dqo-YmMbJ"
      },
      "source": [
        "methods[\"DOI_new\"] = methods[\"DOI\"].apply(lambda x: x.replace(\"_\", \"/\"))"
      ],
      "execution_count": null,
      "outputs": []
    },
    {
      "cell_type": "code",
      "metadata": {
        "id": "GEzPtIpPmc5M"
      },
      "source": [
        "methods.drop(\"DOI\", axis = 1, inplace = True)"
      ],
      "execution_count": null,
      "outputs": []
    },
    {
      "cell_type": "code",
      "metadata": {
        "id": "Mg1o5QhRmhuS"
      },
      "source": [
        "methods.rename(columns = {\"DOI_new\" : \"DOI\"}, inplace = True)"
      ],
      "execution_count": null,
      "outputs": []
    },
    {
      "cell_type": "code",
      "metadata": {
        "id": "fLTm7oHdlCFd"
      },
      "source": [
        "merged_methods = pd.merge(methods[[\"DOI\", \"Majority_Method\"]], att[[\"DOI\", \"Year\", \"Article-title\", \"Abstract\"]], on = \"DOI\", how = \"inner\")"
      ],
      "execution_count": null,
      "outputs": []
    },
    {
      "cell_type": "code",
      "metadata": {
        "colab": {
          "base_uri": "https://localhost:8080/"
        },
        "id": "OVFCV2S2lbsW",
        "outputId": "7ef34a43-377c-464d-f077-68f793497db8"
      },
      "source": [
        "len(merged_methods)"
      ],
      "execution_count": null,
      "outputs": [
        {
          "output_type": "execute_result",
          "data": {
            "text/plain": [
              "220"
            ]
          },
          "metadata": {
            "tags": []
          },
          "execution_count": 129
        }
      ]
    },
    {
      "cell_type": "code",
      "metadata": {
        "colab": {
          "base_uri": "https://localhost:8080/"
        },
        "id": "j9pioOcpF0WL",
        "outputId": "7c58cd3a-7280-43c0-dd24-6bfa909513b0"
      },
      "source": [
        "merged_methods[\"Majority_Method\"].value_counts()"
      ],
      "execution_count": null,
      "outputs": [
        {
          "output_type": "execute_result",
          "data": {
            "text/plain": [
              "Qualitative      90\n",
              "Quantitative     64\n",
              "Mixed_Methods    48\n",
              "Experiment        9\n",
              "Simulation        7\n",
              "Name: Majority_Method, dtype: int64"
            ]
          },
          "metadata": {
            "tags": []
          },
          "execution_count": 130
        }
      ]
    },
    {
      "cell_type": "code",
      "metadata": {
        "id": "876Wrl2-rbcX"
      },
      "source": [
        "analysis = pd.read_excel(path + \"Analysis/Level_of_Analysis.xlsx\")"
      ],
      "execution_count": null,
      "outputs": []
    },
    {
      "cell_type": "code",
      "metadata": {
        "id": "rsEhSFeZrlRF"
      },
      "source": [
        "analysis_new = analysis[[\"DOI\", \"Majority_LoA\"]]"
      ],
      "execution_count": null,
      "outputs": []
    },
    {
      "cell_type": "code",
      "metadata": {
        "colab": {
          "base_uri": "https://localhost:8080/"
        },
        "id": "Xgz1LFeGr-qZ",
        "outputId": "16ebde87-1a27-4b19-8df0-5d0382d6e641"
      },
      "source": [
        "analysis_new[\"DOI_new\"] = analysis_new.apply(lambda x: x[\"DOI\"].replace(\"_\", \"/\"), axis = 1)"
      ],
      "execution_count": null,
      "outputs": [
        {
          "output_type": "stream",
          "text": [
            "/usr/local/lib/python3.7/dist-packages/ipykernel_launcher.py:1: SettingWithCopyWarning: \n",
            "A value is trying to be set on a copy of a slice from a DataFrame.\n",
            "Try using .loc[row_indexer,col_indexer] = value instead\n",
            "\n",
            "See the caveats in the documentation: https://pandas.pydata.org/pandas-docs/stable/user_guide/indexing.html#returning-a-view-versus-a-copy\n",
            "  \"\"\"Entry point for launching an IPython kernel.\n"
          ],
          "name": "stderr"
        }
      ]
    },
    {
      "cell_type": "code",
      "metadata": {
        "colab": {
          "base_uri": "https://localhost:8080/"
        },
        "id": "Vx0fukfhsMMH",
        "outputId": "cfe0e604-43f6-431d-8e94-508073d1bdc3"
      },
      "source": [
        "analysis_new.drop(\"DOI\", axis = 1, inplace = True)"
      ],
      "execution_count": null,
      "outputs": [
        {
          "output_type": "stream",
          "text": [
            "/usr/local/lib/python3.7/dist-packages/pandas/core/frame.py:4174: SettingWithCopyWarning: \n",
            "A value is trying to be set on a copy of a slice from a DataFrame\n",
            "\n",
            "See the caveats in the documentation: https://pandas.pydata.org/pandas-docs/stable/user_guide/indexing.html#returning-a-view-versus-a-copy\n",
            "  errors=errors,\n"
          ],
          "name": "stderr"
        }
      ]
    },
    {
      "cell_type": "code",
      "metadata": {
        "colab": {
          "base_uri": "https://localhost:8080/"
        },
        "id": "234lXdHGsTq_",
        "outputId": "3da293f9-4cb2-466b-be35-2a1d63746f28"
      },
      "source": [
        "analysis_new.rename(columns = {\"DOI_new\" : \"DOI\"}, inplace = True)"
      ],
      "execution_count": null,
      "outputs": [
        {
          "output_type": "stream",
          "text": [
            "/usr/local/lib/python3.7/dist-packages/pandas/core/frame.py:4308: SettingWithCopyWarning: \n",
            "A value is trying to be set on a copy of a slice from a DataFrame\n",
            "\n",
            "See the caveats in the documentation: https://pandas.pydata.org/pandas-docs/stable/user_guide/indexing.html#returning-a-view-versus-a-copy\n",
            "  errors=errors,\n"
          ],
          "name": "stderr"
        }
      ]
    },
    {
      "cell_type": "code",
      "metadata": {
        "id": "-Z2KSr0LsdW9"
      },
      "source": [
        "merged_methods_analysis = pd.merge(merged_methods, analysis_new, on = \"DOI\", how = \"outer\")"
      ],
      "execution_count": null,
      "outputs": []
    },
    {
      "cell_type": "code",
      "metadata": {
        "colab": {
          "base_uri": "https://localhost:8080/",
          "height": 453
        },
        "id": "Wv0LcP9UsvaZ",
        "outputId": "e190b581-b003-43ef-e7f4-36b5db1b9c68"
      },
      "source": [
        "merged_methods_analysis"
      ],
      "execution_count": null,
      "outputs": [
        {
          "output_type": "execute_result",
          "data": {
            "text/html": [
              "<div>\n",
              "<style scoped>\n",
              "    .dataframe tbody tr th:only-of-type {\n",
              "        vertical-align: middle;\n",
              "    }\n",
              "\n",
              "    .dataframe tbody tr th {\n",
              "        vertical-align: top;\n",
              "    }\n",
              "\n",
              "    .dataframe thead th {\n",
              "        text-align: right;\n",
              "    }\n",
              "</style>\n",
              "<table border=\"1\" class=\"dataframe\">\n",
              "  <thead>\n",
              "    <tr style=\"text-align: right;\">\n",
              "      <th></th>\n",
              "      <th>DOI</th>\n",
              "      <th>Majority_Method</th>\n",
              "      <th>Year</th>\n",
              "      <th>Article-title</th>\n",
              "      <th>Abstract</th>\n",
              "      <th>Majority_LoA</th>\n",
              "    </tr>\n",
              "  </thead>\n",
              "  <tbody>\n",
              "    <tr>\n",
              "      <th>0</th>\n",
              "      <td>10.1177/0001839213486759</td>\n",
              "      <td>Quantitative</td>\n",
              "      <td>2013</td>\n",
              "      <td>Specialization and Career Dynamics</td>\n",
              "      <td>In this article, we attempt to resolve the ten...</td>\n",
              "      <td>['Individual']</td>\n",
              "    </tr>\n",
              "    <tr>\n",
              "      <th>1</th>\n",
              "      <td>10.1177/0001839218793128</td>\n",
              "      <td>Mixed_Methods</td>\n",
              "      <td>2019</td>\n",
              "      <td>Dispositional Sources of Managerial Discretion...</td>\n",
              "      <td>We investigate the dispositional sources of ma...</td>\n",
              "      <td>['Individual']</td>\n",
              "    </tr>\n",
              "    <tr>\n",
              "      <th>2</th>\n",
              "      <td>10.1177/0001839212437519</td>\n",
              "      <td>Qualitative</td>\n",
              "      <td>2011</td>\n",
              "      <td>Transcending Socialization</td>\n",
              "      <td>A nine-year ethnography is used to show how tw...</td>\n",
              "      <td>['Organization/Company']</td>\n",
              "    </tr>\n",
              "    <tr>\n",
              "      <th>3</th>\n",
              "      <td>10.1177/0001839216673823</td>\n",
              "      <td>Quantitative</td>\n",
              "      <td>2017</td>\n",
              "      <td>These Unequal States: Corporate Organization a...</td>\n",
              "      <td>In an analysis of data on employment in the 48...</td>\n",
              "      <td>['Organization/Company']</td>\n",
              "    </tr>\n",
              "    <tr>\n",
              "      <th>4</th>\n",
              "      <td>10.1177/0001839213488773</td>\n",
              "      <td>Quantitative</td>\n",
              "      <td>2013</td>\n",
              "      <td>CEO Narcissism, Audience Engagement, and Organ...</td>\n",
              "      <td>We examine the responses of major pharmaceutic...</td>\n",
              "      <td>['Organization/Company']</td>\n",
              "    </tr>\n",
              "    <tr>\n",
              "      <th>...</th>\n",
              "      <td>...</td>\n",
              "      <td>...</td>\n",
              "      <td>...</td>\n",
              "      <td>...</td>\n",
              "      <td>...</td>\n",
              "      <td>...</td>\n",
              "    </tr>\n",
              "    <tr>\n",
              "      <th>215</th>\n",
              "      <td>10.1177/0001839214523428</td>\n",
              "      <td>Simulation</td>\n",
              "      <td>2014</td>\n",
              "      <td>Finding a Home away from Home</td>\n",
              "      <td>Using data from a sample of foreign subsidiari...</td>\n",
              "      <td>['Industry/Field/Across countries']</td>\n",
              "    </tr>\n",
              "    <tr>\n",
              "      <th>216</th>\n",
              "      <td>asqu.2011.56.1.001</td>\n",
              "      <td>Experiment</td>\n",
              "      <td>2011</td>\n",
              "      <td>The Ethical Dangers of Deliberative Decision M...</td>\n",
              "      <td>Research on ethical decision making has been h...</td>\n",
              "      <td>['Individual']</td>\n",
              "    </tr>\n",
              "    <tr>\n",
              "      <th>217</th>\n",
              "      <td>asqu.2011.56.1.095</td>\n",
              "      <td>Mixed_Methods</td>\n",
              "      <td>2011</td>\n",
              "      <td>Founding Conditions, Learning, and Organizatio...</td>\n",
              "      <td>Empirical evidence about the relation between ...</td>\n",
              "      <td>['Organization/Company']</td>\n",
              "    </tr>\n",
              "    <tr>\n",
              "      <th>218</th>\n",
              "      <td>10.1177/0001839212461439</td>\n",
              "      <td>NaN</td>\n",
              "      <td>2012</td>\n",
              "      <td>Appeasing Equals</td>\n",
              "      <td>Using archival data on a year of e-mail exchan...</td>\n",
              "      <td>['Organization/Company']</td>\n",
              "    </tr>\n",
              "    <tr>\n",
              "      <th>219</th>\n",
              "      <td>10.1177/0001839212441928</td>\n",
              "      <td>NaN</td>\n",
              "      <td>2011</td>\n",
              "      <td>Something to Lose and Nothing to Gain</td>\n",
              "      <td>The current investigation explores how power a...</td>\n",
              "      <td>['Team/Group']</td>\n",
              "    </tr>\n",
              "  </tbody>\n",
              "</table>\n",
              "<p>220 rows × 6 columns</p>\n",
              "</div>"
            ],
            "text/plain": [
              "                          DOI  ...                         Majority_LoA\n",
              "0    10.1177/0001839213486759  ...                       ['Individual']\n",
              "1    10.1177/0001839218793128  ...                       ['Individual']\n",
              "2    10.1177/0001839212437519  ...             ['Organization/Company']\n",
              "3    10.1177/0001839216673823  ...             ['Organization/Company']\n",
              "4    10.1177/0001839213488773  ...             ['Organization/Company']\n",
              "..                        ...  ...                                  ...\n",
              "215  10.1177/0001839214523428  ...  ['Industry/Field/Across countries']\n",
              "216        asqu.2011.56.1.001  ...                       ['Individual']\n",
              "217        asqu.2011.56.1.095  ...             ['Organization/Company']\n",
              "218  10.1177/0001839212461439  ...             ['Organization/Company']\n",
              "219  10.1177/0001839212441928  ...                       ['Team/Group']\n",
              "\n",
              "[220 rows x 6 columns]"
            ]
          },
          "metadata": {
            "tags": []
          },
          "execution_count": 137
        }
      ]
    },
    {
      "cell_type": "code",
      "metadata": {
        "id": "p074FbKie-2y"
      },
      "source": [
        "cols = merged_methods_analysis.columns.tolist()"
      ],
      "execution_count": null,
      "outputs": []
    },
    {
      "cell_type": "code",
      "metadata": {
        "colab": {
          "base_uri": "https://localhost:8080/"
        },
        "id": "J3kAoy5OeGas",
        "outputId": "b780a062-9fe8-4894-ed15-56f3980871b1"
      },
      "source": [
        "cols"
      ],
      "execution_count": null,
      "outputs": [
        {
          "output_type": "execute_result",
          "data": {
            "text/plain": [
              "['DOI', 'Majority_Method', 'Year', 'Article-title', 'Abstract', 'Majority_LoA']"
            ]
          },
          "metadata": {
            "tags": []
          },
          "execution_count": 139
        }
      ]
    },
    {
      "cell_type": "code",
      "metadata": {
        "id": "nI5XEMdyfSw6"
      },
      "source": [
        "merged_methods_analysis = merged_methods_analysis[cols]"
      ],
      "execution_count": null,
      "outputs": []
    },
    {
      "cell_type": "code",
      "metadata": {
        "id": "gVbrFXuuQ--9"
      },
      "source": [
        "merged_methods_analysis.loc[merged_methods_analysis['Year'].between(2011,2014), 'year_bucket'] = '2011 - 2014'\n",
        "merged_methods_analysis.loc[merged_methods_analysis['Year'].between(2015,2017), 'year_bucket'] = '2015 - 2017'\n",
        "merged_methods_analysis.loc[merged_methods_analysis['Year'].between(2018,2021), 'year_bucket'] = '2018 - 2021'"
      ],
      "execution_count": null,
      "outputs": []
    },
    {
      "cell_type": "code",
      "metadata": {
        "id": "HIW3iYPNliQo"
      },
      "source": [
        "merged_methods_analysis.to_excel(path + \"Analysis/Merged_methods_LoA_new.xlsx\")"
      ],
      "execution_count": null,
      "outputs": []
    },
    {
      "cell_type": "markdown",
      "metadata": {
        "id": "a1VXbG8Hfcv2"
      },
      "source": [
        "**Topics Trends and Citations**"
      ]
    },
    {
      "cell_type": "code",
      "metadata": {
        "id": "bmWozfullqC2"
      },
      "source": [
        "trends_topics_cit = pd.merge(topics[[\"DOI\", \"Topic\", \"Article-title\"]], att[[\"DOI\", \"Year\", \"Total Citations\"]], on = \"DOI\", how = \"left\")"
      ],
      "execution_count": null,
      "outputs": []
    },
    {
      "cell_type": "code",
      "metadata": {
        "colab": {
          "base_uri": "https://localhost:8080/"
        },
        "id": "20HSGsPnf4A_",
        "outputId": "5b5ce534-c6d6-4355-ec35-4e138582ef57"
      },
      "source": [
        "trends_topics_cit[\"Year\"].unique()"
      ],
      "execution_count": null,
      "outputs": [
        {
          "output_type": "execute_result",
          "data": {
            "text/plain": [
              "array([2011, 2015, 2020, 2019, 2014, 2012, 2017, 2016, 2013, 2018, 2021])"
            ]
          },
          "metadata": {
            "tags": []
          },
          "execution_count": 32
        }
      ]
    },
    {
      "cell_type": "code",
      "metadata": {
        "id": "93J5TV0Thmmq"
      },
      "source": [
        "trends_topics_cit.loc[trends_topics_cit['Year'].between(2011,2014), 'year_bucket'] = '2011 - 2014'\n",
        "trends_topics_cit.loc[trends_topics_cit['Year'].between(2015,2017), 'year_bucket'] = '2015 - 2017'\n",
        "trends_topics_cit.loc[trends_topics_cit['Year'].between(2018,2020), 'year_bucket'] = '2018 - 2020'"
      ],
      "execution_count": null,
      "outputs": []
    },
    {
      "cell_type": "code",
      "metadata": {
        "colab": {
          "base_uri": "https://localhost:8080/",
          "height": 204
        },
        "id": "Lt8AZJ9Bhw3K",
        "outputId": "3260ba87-b8e3-40e1-bdec-c52ee59e66d8"
      },
      "source": [
        "trends_topics_cit.head()"
      ],
      "execution_count": null,
      "outputs": [
        {
          "output_type": "execute_result",
          "data": {
            "text/html": [
              "<div>\n",
              "<style scoped>\n",
              "    .dataframe tbody tr th:only-of-type {\n",
              "        vertical-align: middle;\n",
              "    }\n",
              "\n",
              "    .dataframe tbody tr th {\n",
              "        vertical-align: top;\n",
              "    }\n",
              "\n",
              "    .dataframe thead th {\n",
              "        text-align: right;\n",
              "    }\n",
              "</style>\n",
              "<table border=\"1\" class=\"dataframe\">\n",
              "  <thead>\n",
              "    <tr style=\"text-align: right;\">\n",
              "      <th></th>\n",
              "      <th>DOI</th>\n",
              "      <th>Topic</th>\n",
              "      <th>Article-title</th>\n",
              "      <th>Year</th>\n",
              "      <th>Total Citations</th>\n",
              "      <th>year_bucket</th>\n",
              "    </tr>\n",
              "  </thead>\n",
              "  <tbody>\n",
              "    <tr>\n",
              "      <th>0</th>\n",
              "      <td>asqu.2011.56.1.095</td>\n",
              "      <td>Entrepreneurship and venture capital</td>\n",
              "      <td>Founding Conditions, Learning, and Organizatio...</td>\n",
              "      <td>2011</td>\n",
              "      <td>51</td>\n",
              "      <td>2011 - 2014</td>\n",
              "    </tr>\n",
              "    <tr>\n",
              "      <th>1</th>\n",
              "      <td>10.1177/0001839215597270</td>\n",
              "      <td>Entrepreneurship and venture capital</td>\n",
              "      <td>Managing the Unknowable</td>\n",
              "      <td>2015</td>\n",
              "      <td>85</td>\n",
              "      <td>2015 - 2017</td>\n",
              "    </tr>\n",
              "    <tr>\n",
              "      <th>2</th>\n",
              "      <td>10.1177/0001839219843486</td>\n",
              "      <td>Entrepreneurship and venture capital</td>\n",
              "      <td>Start-up Inertia versus Flexibility: The Role ...</td>\n",
              "      <td>2020</td>\n",
              "      <td>18</td>\n",
              "      <td>2018 - 2020</td>\n",
              "    </tr>\n",
              "    <tr>\n",
              "      <th>3</th>\n",
              "      <td>10.1177/0001839219852349</td>\n",
              "      <td>Entrepreneurship and venture capital</td>\n",
              "      <td>Parallel Play: Startups, Nascent Markets, and ...</td>\n",
              "      <td>2020</td>\n",
              "      <td>17</td>\n",
              "      <td>2018 - 2020</td>\n",
              "    </tr>\n",
              "    <tr>\n",
              "      <th>4</th>\n",
              "      <td>10.1177/0001839215591627</td>\n",
              "      <td>Entrepreneurship and venture capital</td>\n",
              "      <td>Business as Plan B</td>\n",
              "      <td>2015</td>\n",
              "      <td>80</td>\n",
              "      <td>2015 - 2017</td>\n",
              "    </tr>\n",
              "  </tbody>\n",
              "</table>\n",
              "</div>"
            ],
            "text/plain": [
              "                        DOI  ...  year_bucket\n",
              "0        asqu.2011.56.1.095  ...  2011 - 2014\n",
              "1  10.1177/0001839215597270  ...  2015 - 2017\n",
              "2  10.1177/0001839219843486  ...  2018 - 2020\n",
              "3  10.1177/0001839219852349  ...  2018 - 2020\n",
              "4  10.1177/0001839215591627  ...  2015 - 2017\n",
              "\n",
              "[5 rows x 6 columns]"
            ]
          },
          "metadata": {
            "tags": []
          },
          "execution_count": 32
        }
      ]
    },
    {
      "cell_type": "code",
      "metadata": {
        "id": "_bCPuBxAf5eY"
      },
      "source": [
        "trends_topics_cit.to_excel(path + \"Analysis/Topics&Citations.xlsx\")"
      ],
      "execution_count": null,
      "outputs": []
    },
    {
      "cell_type": "code",
      "metadata": {
        "id": "o9Rkp_PzgByF"
      },
      "source": [
        ""
      ],
      "execution_count": null,
      "outputs": []
    },
    {
      "cell_type": "markdown",
      "metadata": {
        "id": "LHJwjHCiX4dr"
      },
      "source": [
        "**Analysis- Gender, country, methods**"
      ]
    },
    {
      "cell_type": "code",
      "metadata": {
        "colab": {
          "base_uri": "https://localhost:8080/"
        },
        "id": "twuFmsQaZvcw",
        "outputId": "9555c2a1-1a34-440b-86e0-a7ddf1a6e9f0"
      },
      "source": [
        "att.columns"
      ],
      "execution_count": null,
      "outputs": [
        {
          "output_type": "execute_result",
          "data": {
            "text/plain": [
              "Index(['DOI', 'Authors', 'Gender 1st A', 'Gender Other', 'Affiliation', 'US',\n",
              "       'Canada', 'Europe', 'Asia', 'Other', 'Article-title', 'Subtitle',\n",
              "       'Publication Date', 'Year', 'Volume', 'Issue', 'Total Citations',\n",
              "       'Average per Year', 'Method', 'Data Source', 'Analysis Level',\n",
              "       'Abstract', 'Unnamed: 22'],\n",
              "      dtype='object')"
            ]
          },
          "metadata": {
            "tags": []
          },
          "execution_count": 35
        }
      ]
    },
    {
      "cell_type": "code",
      "metadata": {
        "id": "6n9bxYx0DSHh"
      },
      "source": [
        "#Total number of authors\n",
        "att['Authors_Count'] = att['Authors'].apply(lambda x : len(x.split(\",\")))"
      ],
      "execution_count": null,
      "outputs": []
    },
    {
      "cell_type": "code",
      "metadata": {
        "id": "hgxd1on9G7_S"
      },
      "source": [
        "att_gender = att.pivot_table(index = \"Year\", values = (\"Gender 1st A\", 'Gender Other', 'Authors_Count') , aggfunc = 'sum').reset_index()"
      ],
      "execution_count": null,
      "outputs": []
    },
    {
      "cell_type": "code",
      "metadata": {
        "colab": {
          "base_uri": "https://localhost:8080/",
          "height": 390
        },
        "id": "H4DCBcS1HRFb",
        "outputId": "116502fa-9a6f-46c8-9415-2a261110266b"
      },
      "source": [
        "att_gender"
      ],
      "execution_count": null,
      "outputs": [
        {
          "output_type": "execute_result",
          "data": {
            "text/html": [
              "<div>\n",
              "<style scoped>\n",
              "    .dataframe tbody tr th:only-of-type {\n",
              "        vertical-align: middle;\n",
              "    }\n",
              "\n",
              "    .dataframe tbody tr th {\n",
              "        vertical-align: top;\n",
              "    }\n",
              "\n",
              "    .dataframe thead th {\n",
              "        text-align: right;\n",
              "    }\n",
              "</style>\n",
              "<table border=\"1\" class=\"dataframe\">\n",
              "  <thead>\n",
              "    <tr style=\"text-align: right;\">\n",
              "      <th></th>\n",
              "      <th>Year</th>\n",
              "      <th>Authors_Count</th>\n",
              "      <th>Gender 1st A</th>\n",
              "      <th>Gender Other</th>\n",
              "    </tr>\n",
              "  </thead>\n",
              "  <tbody>\n",
              "    <tr>\n",
              "      <th>0</th>\n",
              "      <td>2011</td>\n",
              "      <td>33</td>\n",
              "      <td>4.0</td>\n",
              "      <td>2.0</td>\n",
              "    </tr>\n",
              "    <tr>\n",
              "      <th>1</th>\n",
              "      <td>2012</td>\n",
              "      <td>35</td>\n",
              "      <td>6.0</td>\n",
              "      <td>3.0</td>\n",
              "    </tr>\n",
              "    <tr>\n",
              "      <th>2</th>\n",
              "      <td>2013</td>\n",
              "      <td>44</td>\n",
              "      <td>6.0</td>\n",
              "      <td>4.0</td>\n",
              "    </tr>\n",
              "    <tr>\n",
              "      <th>3</th>\n",
              "      <td>2014</td>\n",
              "      <td>48</td>\n",
              "      <td>10.0</td>\n",
              "      <td>10.0</td>\n",
              "    </tr>\n",
              "    <tr>\n",
              "      <th>4</th>\n",
              "      <td>2015</td>\n",
              "      <td>45</td>\n",
              "      <td>8.0</td>\n",
              "      <td>12.0</td>\n",
              "    </tr>\n",
              "    <tr>\n",
              "      <th>5</th>\n",
              "      <td>2016</td>\n",
              "      <td>43</td>\n",
              "      <td>6.0</td>\n",
              "      <td>5.0</td>\n",
              "    </tr>\n",
              "    <tr>\n",
              "      <th>6</th>\n",
              "      <td>2017</td>\n",
              "      <td>52</td>\n",
              "      <td>11.0</td>\n",
              "      <td>14.0</td>\n",
              "    </tr>\n",
              "    <tr>\n",
              "      <th>7</th>\n",
              "      <td>2018</td>\n",
              "      <td>50</td>\n",
              "      <td>10.0</td>\n",
              "      <td>5.0</td>\n",
              "    </tr>\n",
              "    <tr>\n",
              "      <th>8</th>\n",
              "      <td>2019</td>\n",
              "      <td>60</td>\n",
              "      <td>10.0</td>\n",
              "      <td>10.0</td>\n",
              "    </tr>\n",
              "    <tr>\n",
              "      <th>9</th>\n",
              "      <td>2020</td>\n",
              "      <td>68</td>\n",
              "      <td>9.0</td>\n",
              "      <td>13.0</td>\n",
              "    </tr>\n",
              "    <tr>\n",
              "      <th>10</th>\n",
              "      <td>2021</td>\n",
              "      <td>32</td>\n",
              "      <td>7.0</td>\n",
              "      <td>8.0</td>\n",
              "    </tr>\n",
              "  </tbody>\n",
              "</table>\n",
              "</div>"
            ],
            "text/plain": [
              "    Year  Authors_Count  Gender 1st A  Gender Other\n",
              "0   2011             33           4.0           2.0\n",
              "1   2012             35           6.0           3.0\n",
              "2   2013             44           6.0           4.0\n",
              "3   2014             48          10.0          10.0\n",
              "4   2015             45           8.0          12.0\n",
              "5   2016             43           6.0           5.0\n",
              "6   2017             52          11.0          14.0\n",
              "7   2018             50          10.0           5.0\n",
              "8   2019             60          10.0          10.0\n",
              "9   2020             68           9.0          13.0\n",
              "10  2021             32           7.0           8.0"
            ]
          },
          "metadata": {
            "tags": []
          },
          "execution_count": 96
        }
      ]
    },
    {
      "cell_type": "code",
      "metadata": {
        "id": "zdUqcqXxZ5v1"
      },
      "source": [
        "att_country = att.pivot_table(index = \"Year\", values = ('US',\n",
        "       'Canada', 'Europe', 'Asia', 'Other'), aggfunc = 'sum')"
      ],
      "execution_count": null,
      "outputs": []
    },
    {
      "cell_type": "code",
      "metadata": {
        "id": "QWovILROamPc"
      },
      "source": [
        "country = att_country.reset_index().melt(id_vars = \"Year\")"
      ],
      "execution_count": null,
      "outputs": []
    },
    {
      "cell_type": "code",
      "metadata": {
        "id": "tvN2-WWIaneP"
      },
      "source": [
        "methods_LOA = pd.read_excel(path + \"Analysis/Merged_methods_LoA_new.xlsx\")"
      ],
      "execution_count": null,
      "outputs": []
    },
    {
      "cell_type": "code",
      "metadata": {
        "colab": {
          "base_uri": "https://localhost:8080/",
          "height": 606
        },
        "id": "T_A8y92nbNly",
        "outputId": "fac10c1d-490f-409e-dda6-2ac97b819e2f"
      },
      "source": [
        "methods_LOA"
      ],
      "execution_count": null,
      "outputs": [
        {
          "output_type": "execute_result",
          "data": {
            "text/html": [
              "<div>\n",
              "<style scoped>\n",
              "    .dataframe tbody tr th:only-of-type {\n",
              "        vertical-align: middle;\n",
              "    }\n",
              "\n",
              "    .dataframe tbody tr th {\n",
              "        vertical-align: top;\n",
              "    }\n",
              "\n",
              "    .dataframe thead th {\n",
              "        text-align: right;\n",
              "    }\n",
              "</style>\n",
              "<table border=\"1\" class=\"dataframe\">\n",
              "  <thead>\n",
              "    <tr style=\"text-align: right;\">\n",
              "      <th></th>\n",
              "      <th>Unnamed: 0</th>\n",
              "      <th>DOI</th>\n",
              "      <th>Majority_Method</th>\n",
              "      <th>Year</th>\n",
              "      <th>Article-title</th>\n",
              "      <th>Abstract</th>\n",
              "      <th>Majority_LoA</th>\n",
              "      <th>year_bucket</th>\n",
              "    </tr>\n",
              "  </thead>\n",
              "  <tbody>\n",
              "    <tr>\n",
              "      <th>0</th>\n",
              "      <td>0</td>\n",
              "      <td>10.1177/0001839213486759</td>\n",
              "      <td>Quantitative</td>\n",
              "      <td>2013</td>\n",
              "      <td>Specialization and Career Dynamics</td>\n",
              "      <td>In this article, we attempt to resolve the ten...</td>\n",
              "      <td>['Individual']</td>\n",
              "      <td>2011 - 2014</td>\n",
              "    </tr>\n",
              "    <tr>\n",
              "      <th>1</th>\n",
              "      <td>1</td>\n",
              "      <td>10.1177/0001839218793128</td>\n",
              "      <td>Mixed_Methods</td>\n",
              "      <td>2019</td>\n",
              "      <td>Dispositional Sources of Managerial Discretion...</td>\n",
              "      <td>We investigate the dispositional sources of ma...</td>\n",
              "      <td>['Individual']</td>\n",
              "      <td>2018 - 2021</td>\n",
              "    </tr>\n",
              "    <tr>\n",
              "      <th>2</th>\n",
              "      <td>2</td>\n",
              "      <td>10.1177/0001839212437519</td>\n",
              "      <td>Qualitative</td>\n",
              "      <td>2011</td>\n",
              "      <td>Transcending Socialization</td>\n",
              "      <td>A nine-year ethnography is used to show how tw...</td>\n",
              "      <td>['Organization/Company']</td>\n",
              "      <td>2011 - 2014</td>\n",
              "    </tr>\n",
              "    <tr>\n",
              "      <th>3</th>\n",
              "      <td>3</td>\n",
              "      <td>10.1177/0001839216673823</td>\n",
              "      <td>Quantitative</td>\n",
              "      <td>2017</td>\n",
              "      <td>These Unequal States: Corporate Organization a...</td>\n",
              "      <td>In an analysis of data on employment in the 48...</td>\n",
              "      <td>['Organization/Company']</td>\n",
              "      <td>2015 - 2017</td>\n",
              "    </tr>\n",
              "    <tr>\n",
              "      <th>4</th>\n",
              "      <td>4</td>\n",
              "      <td>10.1177/0001839213488773</td>\n",
              "      <td>Quantitative</td>\n",
              "      <td>2013</td>\n",
              "      <td>CEO Narcissism, Audience Engagement, and Organ...</td>\n",
              "      <td>We examine the responses of major pharmaceutic...</td>\n",
              "      <td>['Organization/Company']</td>\n",
              "      <td>2011 - 2014</td>\n",
              "    </tr>\n",
              "    <tr>\n",
              "      <th>...</th>\n",
              "      <td>...</td>\n",
              "      <td>...</td>\n",
              "      <td>...</td>\n",
              "      <td>...</td>\n",
              "      <td>...</td>\n",
              "      <td>...</td>\n",
              "      <td>...</td>\n",
              "      <td>...</td>\n",
              "    </tr>\n",
              "    <tr>\n",
              "      <th>215</th>\n",
              "      <td>215</td>\n",
              "      <td>10.1177/0001839214523428</td>\n",
              "      <td>Simulation</td>\n",
              "      <td>2014</td>\n",
              "      <td>Finding a Home away from Home</td>\n",
              "      <td>Using data from a sample of foreign subsidiari...</td>\n",
              "      <td>['Industry/Field/Across countries']</td>\n",
              "      <td>2011 - 2014</td>\n",
              "    </tr>\n",
              "    <tr>\n",
              "      <th>216</th>\n",
              "      <td>216</td>\n",
              "      <td>asqu.2011.56.1.001</td>\n",
              "      <td>Experiment</td>\n",
              "      <td>2011</td>\n",
              "      <td>The Ethical Dangers of Deliberative Decision M...</td>\n",
              "      <td>Research on ethical decision making has been h...</td>\n",
              "      <td>['Individual']</td>\n",
              "      <td>2011 - 2014</td>\n",
              "    </tr>\n",
              "    <tr>\n",
              "      <th>217</th>\n",
              "      <td>217</td>\n",
              "      <td>asqu.2011.56.1.095</td>\n",
              "      <td>Mixed_Methods</td>\n",
              "      <td>2011</td>\n",
              "      <td>Founding Conditions, Learning, and Organizatio...</td>\n",
              "      <td>Empirical evidence about the relation between ...</td>\n",
              "      <td>['Organization/Company']</td>\n",
              "      <td>2011 - 2014</td>\n",
              "    </tr>\n",
              "    <tr>\n",
              "      <th>218</th>\n",
              "      <td>218</td>\n",
              "      <td>10.1177/0001839212461439</td>\n",
              "      <td>NaN</td>\n",
              "      <td>2012</td>\n",
              "      <td>Appeasing Equals</td>\n",
              "      <td>Using archival data on a year of e-mail exchan...</td>\n",
              "      <td>['Organization/Company']</td>\n",
              "      <td>2011 - 2014</td>\n",
              "    </tr>\n",
              "    <tr>\n",
              "      <th>219</th>\n",
              "      <td>219</td>\n",
              "      <td>10.1177/0001839212441928</td>\n",
              "      <td>NaN</td>\n",
              "      <td>2011</td>\n",
              "      <td>Something to Lose and Nothing to Gain</td>\n",
              "      <td>The current investigation explores how power a...</td>\n",
              "      <td>['Team/Group']</td>\n",
              "      <td>2011 - 2014</td>\n",
              "    </tr>\n",
              "  </tbody>\n",
              "</table>\n",
              "<p>220 rows × 8 columns</p>\n",
              "</div>"
            ],
            "text/plain": [
              "     Unnamed: 0  ...  year_bucket\n",
              "0             0  ...  2011 - 2014\n",
              "1             1  ...  2018 - 2021\n",
              "2             2  ...  2011 - 2014\n",
              "3             3  ...  2015 - 2017\n",
              "4             4  ...  2011 - 2014\n",
              "..          ...  ...          ...\n",
              "215         215  ...  2011 - 2014\n",
              "216         216  ...  2011 - 2014\n",
              "217         217  ...  2011 - 2014\n",
              "218         218  ...  2011 - 2014\n",
              "219         219  ...  2011 - 2014\n",
              "\n",
              "[220 rows x 8 columns]"
            ]
          },
          "metadata": {
            "tags": []
          },
          "execution_count": 144
        }
      ]
    },
    {
      "cell_type": "code",
      "metadata": {
        "id": "P20432zIbbbh"
      },
      "source": [
        "methods = methods_LOA.groupby([\"Year\", \"Majority_Method\"])[\"DOI\"].count().reset_index()"
      ],
      "execution_count": null,
      "outputs": []
    },
    {
      "cell_type": "code",
      "metadata": {
        "colab": {
          "base_uri": "https://localhost:8080/",
          "height": 1000
        },
        "id": "q8Vt6yWsch4v",
        "outputId": "912b7ab4-4165-4074-ced9-be991aa59687"
      },
      "source": [
        "methods"
      ],
      "execution_count": null,
      "outputs": [
        {
          "output_type": "execute_result",
          "data": {
            "text/html": [
              "<div>\n",
              "<style scoped>\n",
              "    .dataframe tbody tr th:only-of-type {\n",
              "        vertical-align: middle;\n",
              "    }\n",
              "\n",
              "    .dataframe tbody tr th {\n",
              "        vertical-align: top;\n",
              "    }\n",
              "\n",
              "    .dataframe thead th {\n",
              "        text-align: right;\n",
              "    }\n",
              "</style>\n",
              "<table border=\"1\" class=\"dataframe\">\n",
              "  <thead>\n",
              "    <tr style=\"text-align: right;\">\n",
              "      <th></th>\n",
              "      <th>Year</th>\n",
              "      <th>Majority_Method</th>\n",
              "      <th>DOI</th>\n",
              "    </tr>\n",
              "  </thead>\n",
              "  <tbody>\n",
              "    <tr>\n",
              "      <th>0</th>\n",
              "      <td>2011</td>\n",
              "      <td>Experiment</td>\n",
              "      <td>4</td>\n",
              "    </tr>\n",
              "    <tr>\n",
              "      <th>1</th>\n",
              "      <td>2011</td>\n",
              "      <td>Mixed_Methods</td>\n",
              "      <td>3</td>\n",
              "    </tr>\n",
              "    <tr>\n",
              "      <th>2</th>\n",
              "      <td>2011</td>\n",
              "      <td>Qualitative</td>\n",
              "      <td>4</td>\n",
              "    </tr>\n",
              "    <tr>\n",
              "      <th>3</th>\n",
              "      <td>2011</td>\n",
              "      <td>Quantitative</td>\n",
              "      <td>4</td>\n",
              "    </tr>\n",
              "    <tr>\n",
              "      <th>4</th>\n",
              "      <td>2011</td>\n",
              "      <td>Simulation</td>\n",
              "      <td>1</td>\n",
              "    </tr>\n",
              "    <tr>\n",
              "      <th>5</th>\n",
              "      <td>2012</td>\n",
              "      <td>Mixed_Methods</td>\n",
              "      <td>9</td>\n",
              "    </tr>\n",
              "    <tr>\n",
              "      <th>6</th>\n",
              "      <td>2012</td>\n",
              "      <td>Qualitative</td>\n",
              "      <td>2</td>\n",
              "    </tr>\n",
              "    <tr>\n",
              "      <th>7</th>\n",
              "      <td>2012</td>\n",
              "      <td>Quantitative</td>\n",
              "      <td>4</td>\n",
              "    </tr>\n",
              "    <tr>\n",
              "      <th>8</th>\n",
              "      <td>2013</td>\n",
              "      <td>Mixed_Methods</td>\n",
              "      <td>3</td>\n",
              "    </tr>\n",
              "    <tr>\n",
              "      <th>9</th>\n",
              "      <td>2013</td>\n",
              "      <td>Qualitative</td>\n",
              "      <td>3</td>\n",
              "    </tr>\n",
              "    <tr>\n",
              "      <th>10</th>\n",
              "      <td>2013</td>\n",
              "      <td>Quantitative</td>\n",
              "      <td>11</td>\n",
              "    </tr>\n",
              "    <tr>\n",
              "      <th>11</th>\n",
              "      <td>2014</td>\n",
              "      <td>Mixed_Methods</td>\n",
              "      <td>3</td>\n",
              "    </tr>\n",
              "    <tr>\n",
              "      <th>12</th>\n",
              "      <td>2014</td>\n",
              "      <td>Qualitative</td>\n",
              "      <td>9</td>\n",
              "    </tr>\n",
              "    <tr>\n",
              "      <th>13</th>\n",
              "      <td>2014</td>\n",
              "      <td>Quantitative</td>\n",
              "      <td>6</td>\n",
              "    </tr>\n",
              "    <tr>\n",
              "      <th>14</th>\n",
              "      <td>2014</td>\n",
              "      <td>Simulation</td>\n",
              "      <td>2</td>\n",
              "    </tr>\n",
              "    <tr>\n",
              "      <th>15</th>\n",
              "      <td>2015</td>\n",
              "      <td>Experiment</td>\n",
              "      <td>1</td>\n",
              "    </tr>\n",
              "    <tr>\n",
              "      <th>16</th>\n",
              "      <td>2015</td>\n",
              "      <td>Mixed_Methods</td>\n",
              "      <td>5</td>\n",
              "    </tr>\n",
              "    <tr>\n",
              "      <th>17</th>\n",
              "      <td>2015</td>\n",
              "      <td>Qualitative</td>\n",
              "      <td>9</td>\n",
              "    </tr>\n",
              "    <tr>\n",
              "      <th>18</th>\n",
              "      <td>2015</td>\n",
              "      <td>Quantitative</td>\n",
              "      <td>5</td>\n",
              "    </tr>\n",
              "    <tr>\n",
              "      <th>19</th>\n",
              "      <td>2016</td>\n",
              "      <td>Experiment</td>\n",
              "      <td>1</td>\n",
              "    </tr>\n",
              "    <tr>\n",
              "      <th>20</th>\n",
              "      <td>2016</td>\n",
              "      <td>Mixed_Methods</td>\n",
              "      <td>4</td>\n",
              "    </tr>\n",
              "    <tr>\n",
              "      <th>21</th>\n",
              "      <td>2016</td>\n",
              "      <td>Qualitative</td>\n",
              "      <td>8</td>\n",
              "    </tr>\n",
              "    <tr>\n",
              "      <th>22</th>\n",
              "      <td>2016</td>\n",
              "      <td>Quantitative</td>\n",
              "      <td>3</td>\n",
              "    </tr>\n",
              "    <tr>\n",
              "      <th>23</th>\n",
              "      <td>2016</td>\n",
              "      <td>Simulation</td>\n",
              "      <td>1</td>\n",
              "    </tr>\n",
              "    <tr>\n",
              "      <th>24</th>\n",
              "      <td>2017</td>\n",
              "      <td>Experiment</td>\n",
              "      <td>1</td>\n",
              "    </tr>\n",
              "    <tr>\n",
              "      <th>25</th>\n",
              "      <td>2017</td>\n",
              "      <td>Mixed_Methods</td>\n",
              "      <td>5</td>\n",
              "    </tr>\n",
              "    <tr>\n",
              "      <th>26</th>\n",
              "      <td>2017</td>\n",
              "      <td>Qualitative</td>\n",
              "      <td>6</td>\n",
              "    </tr>\n",
              "    <tr>\n",
              "      <th>27</th>\n",
              "      <td>2017</td>\n",
              "      <td>Quantitative</td>\n",
              "      <td>9</td>\n",
              "    </tr>\n",
              "    <tr>\n",
              "      <th>28</th>\n",
              "      <td>2018</td>\n",
              "      <td>Experiment</td>\n",
              "      <td>1</td>\n",
              "    </tr>\n",
              "    <tr>\n",
              "      <th>29</th>\n",
              "      <td>2018</td>\n",
              "      <td>Mixed_Methods</td>\n",
              "      <td>4</td>\n",
              "    </tr>\n",
              "    <tr>\n",
              "      <th>30</th>\n",
              "      <td>2018</td>\n",
              "      <td>Qualitative</td>\n",
              "      <td>12</td>\n",
              "    </tr>\n",
              "    <tr>\n",
              "      <th>31</th>\n",
              "      <td>2018</td>\n",
              "      <td>Quantitative</td>\n",
              "      <td>8</td>\n",
              "    </tr>\n",
              "    <tr>\n",
              "      <th>32</th>\n",
              "      <td>2019</td>\n",
              "      <td>Experiment</td>\n",
              "      <td>1</td>\n",
              "    </tr>\n",
              "    <tr>\n",
              "      <th>33</th>\n",
              "      <td>2019</td>\n",
              "      <td>Mixed_Methods</td>\n",
              "      <td>3</td>\n",
              "    </tr>\n",
              "    <tr>\n",
              "      <th>34</th>\n",
              "      <td>2019</td>\n",
              "      <td>Qualitative</td>\n",
              "      <td>15</td>\n",
              "    </tr>\n",
              "    <tr>\n",
              "      <th>35</th>\n",
              "      <td>2019</td>\n",
              "      <td>Quantitative</td>\n",
              "      <td>6</td>\n",
              "    </tr>\n",
              "    <tr>\n",
              "      <th>36</th>\n",
              "      <td>2019</td>\n",
              "      <td>Simulation</td>\n",
              "      <td>3</td>\n",
              "    </tr>\n",
              "    <tr>\n",
              "      <th>37</th>\n",
              "      <td>2020</td>\n",
              "      <td>Mixed_Methods</td>\n",
              "      <td>7</td>\n",
              "    </tr>\n",
              "    <tr>\n",
              "      <th>38</th>\n",
              "      <td>2020</td>\n",
              "      <td>Qualitative</td>\n",
              "      <td>14</td>\n",
              "    </tr>\n",
              "    <tr>\n",
              "      <th>39</th>\n",
              "      <td>2020</td>\n",
              "      <td>Quantitative</td>\n",
              "      <td>6</td>\n",
              "    </tr>\n",
              "    <tr>\n",
              "      <th>40</th>\n",
              "      <td>2021</td>\n",
              "      <td>Mixed_Methods</td>\n",
              "      <td>2</td>\n",
              "    </tr>\n",
              "    <tr>\n",
              "      <th>41</th>\n",
              "      <td>2021</td>\n",
              "      <td>Qualitative</td>\n",
              "      <td>8</td>\n",
              "    </tr>\n",
              "    <tr>\n",
              "      <th>42</th>\n",
              "      <td>2021</td>\n",
              "      <td>Quantitative</td>\n",
              "      <td>2</td>\n",
              "    </tr>\n",
              "  </tbody>\n",
              "</table>\n",
              "</div>"
            ],
            "text/plain": [
              "    Year Majority_Method  DOI\n",
              "0   2011      Experiment    4\n",
              "1   2011   Mixed_Methods    3\n",
              "2   2011     Qualitative    4\n",
              "3   2011    Quantitative    4\n",
              "4   2011      Simulation    1\n",
              "5   2012   Mixed_Methods    9\n",
              "6   2012     Qualitative    2\n",
              "7   2012    Quantitative    4\n",
              "8   2013   Mixed_Methods    3\n",
              "9   2013     Qualitative    3\n",
              "10  2013    Quantitative   11\n",
              "11  2014   Mixed_Methods    3\n",
              "12  2014     Qualitative    9\n",
              "13  2014    Quantitative    6\n",
              "14  2014      Simulation    2\n",
              "15  2015      Experiment    1\n",
              "16  2015   Mixed_Methods    5\n",
              "17  2015     Qualitative    9\n",
              "18  2015    Quantitative    5\n",
              "19  2016      Experiment    1\n",
              "20  2016   Mixed_Methods    4\n",
              "21  2016     Qualitative    8\n",
              "22  2016    Quantitative    3\n",
              "23  2016      Simulation    1\n",
              "24  2017      Experiment    1\n",
              "25  2017   Mixed_Methods    5\n",
              "26  2017     Qualitative    6\n",
              "27  2017    Quantitative    9\n",
              "28  2018      Experiment    1\n",
              "29  2018   Mixed_Methods    4\n",
              "30  2018     Qualitative   12\n",
              "31  2018    Quantitative    8\n",
              "32  2019      Experiment    1\n",
              "33  2019   Mixed_Methods    3\n",
              "34  2019     Qualitative   15\n",
              "35  2019    Quantitative    6\n",
              "36  2019      Simulation    3\n",
              "37  2020   Mixed_Methods    7\n",
              "38  2020     Qualitative   14\n",
              "39  2020    Quantitative    6\n",
              "40  2021   Mixed_Methods    2\n",
              "41  2021     Qualitative    8\n",
              "42  2021    Quantitative    2"
            ]
          },
          "metadata": {
            "tags": []
          },
          "execution_count": 146
        }
      ]
    },
    {
      "cell_type": "code",
      "metadata": {
        "id": "GTHpiJHJebr-"
      },
      "source": [
        "LOA = methods_LOA.groupby([\"Year\", \"Majority_LoA\"])[\"DOI\"].count().reset_index()"
      ],
      "execution_count": null,
      "outputs": []
    },
    {
      "cell_type": "code",
      "metadata": {
        "colab": {
          "base_uri": "https://localhost:8080/",
          "height": 1000
        },
        "id": "NWiO9yPYexx0",
        "outputId": "fb2cd2fe-9764-4e9b-9f2b-9535ec06596c"
      },
      "source": [
        "LOA"
      ],
      "execution_count": null,
      "outputs": [
        {
          "output_type": "execute_result",
          "data": {
            "text/html": [
              "<div>\n",
              "<style scoped>\n",
              "    .dataframe tbody tr th:only-of-type {\n",
              "        vertical-align: middle;\n",
              "    }\n",
              "\n",
              "    .dataframe tbody tr th {\n",
              "        vertical-align: top;\n",
              "    }\n",
              "\n",
              "    .dataframe thead th {\n",
              "        text-align: right;\n",
              "    }\n",
              "</style>\n",
              "<table border=\"1\" class=\"dataframe\">\n",
              "  <thead>\n",
              "    <tr style=\"text-align: right;\">\n",
              "      <th></th>\n",
              "      <th>Year</th>\n",
              "      <th>Majority_LoA</th>\n",
              "      <th>DOI</th>\n",
              "    </tr>\n",
              "  </thead>\n",
              "  <tbody>\n",
              "    <tr>\n",
              "      <th>0</th>\n",
              "      <td>2011</td>\n",
              "      <td>['Individual']</td>\n",
              "      <td>3</td>\n",
              "    </tr>\n",
              "    <tr>\n",
              "      <th>1</th>\n",
              "      <td>2011</td>\n",
              "      <td>['Industry/Field/Across countries']</td>\n",
              "      <td>1</td>\n",
              "    </tr>\n",
              "    <tr>\n",
              "      <th>2</th>\n",
              "      <td>2011</td>\n",
              "      <td>['Organization/Company']</td>\n",
              "      <td>11</td>\n",
              "    </tr>\n",
              "    <tr>\n",
              "      <th>3</th>\n",
              "      <td>2011</td>\n",
              "      <td>['Team/Group']</td>\n",
              "      <td>2</td>\n",
              "    </tr>\n",
              "    <tr>\n",
              "      <th>4</th>\n",
              "      <td>2012</td>\n",
              "      <td>['Individual']</td>\n",
              "      <td>1</td>\n",
              "    </tr>\n",
              "    <tr>\n",
              "      <th>5</th>\n",
              "      <td>2012</td>\n",
              "      <td>['Industry/Field/Across countries']</td>\n",
              "      <td>2</td>\n",
              "    </tr>\n",
              "    <tr>\n",
              "      <th>6</th>\n",
              "      <td>2012</td>\n",
              "      <td>['Organization/Company']</td>\n",
              "      <td>10</td>\n",
              "    </tr>\n",
              "    <tr>\n",
              "      <th>7</th>\n",
              "      <td>2012</td>\n",
              "      <td>['Team/Group']</td>\n",
              "      <td>3</td>\n",
              "    </tr>\n",
              "    <tr>\n",
              "      <th>8</th>\n",
              "      <td>2013</td>\n",
              "      <td>['Individual']</td>\n",
              "      <td>2</td>\n",
              "    </tr>\n",
              "    <tr>\n",
              "      <th>9</th>\n",
              "      <td>2013</td>\n",
              "      <td>['Industry/Field/Across countries']</td>\n",
              "      <td>1</td>\n",
              "    </tr>\n",
              "    <tr>\n",
              "      <th>10</th>\n",
              "      <td>2013</td>\n",
              "      <td>['Organization/Company']</td>\n",
              "      <td>11</td>\n",
              "    </tr>\n",
              "    <tr>\n",
              "      <th>11</th>\n",
              "      <td>2013</td>\n",
              "      <td>['Team/Group']</td>\n",
              "      <td>3</td>\n",
              "    </tr>\n",
              "    <tr>\n",
              "      <th>12</th>\n",
              "      <td>2014</td>\n",
              "      <td>['Individual']</td>\n",
              "      <td>3</td>\n",
              "    </tr>\n",
              "    <tr>\n",
              "      <th>13</th>\n",
              "      <td>2014</td>\n",
              "      <td>['Industry/Field/Across countries']</td>\n",
              "      <td>3</td>\n",
              "    </tr>\n",
              "    <tr>\n",
              "      <th>14</th>\n",
              "      <td>2014</td>\n",
              "      <td>['Organization/Company']</td>\n",
              "      <td>8</td>\n",
              "    </tr>\n",
              "    <tr>\n",
              "      <th>15</th>\n",
              "      <td>2014</td>\n",
              "      <td>['Team/Group']</td>\n",
              "      <td>6</td>\n",
              "    </tr>\n",
              "    <tr>\n",
              "      <th>16</th>\n",
              "      <td>2015</td>\n",
              "      <td>['Individual']</td>\n",
              "      <td>4</td>\n",
              "    </tr>\n",
              "    <tr>\n",
              "      <th>17</th>\n",
              "      <td>2015</td>\n",
              "      <td>['Industry/Field/Across countries']</td>\n",
              "      <td>2</td>\n",
              "    </tr>\n",
              "    <tr>\n",
              "      <th>18</th>\n",
              "      <td>2015</td>\n",
              "      <td>['Organization/Company']</td>\n",
              "      <td>10</td>\n",
              "    </tr>\n",
              "    <tr>\n",
              "      <th>19</th>\n",
              "      <td>2015</td>\n",
              "      <td>['Team/Group']</td>\n",
              "      <td>4</td>\n",
              "    </tr>\n",
              "    <tr>\n",
              "      <th>20</th>\n",
              "      <td>2016</td>\n",
              "      <td>['Individual']</td>\n",
              "      <td>2</td>\n",
              "    </tr>\n",
              "    <tr>\n",
              "      <th>21</th>\n",
              "      <td>2016</td>\n",
              "      <td>['Industry/Field/Across countries']</td>\n",
              "      <td>4</td>\n",
              "    </tr>\n",
              "    <tr>\n",
              "      <th>22</th>\n",
              "      <td>2016</td>\n",
              "      <td>['Organization/Company']</td>\n",
              "      <td>6</td>\n",
              "    </tr>\n",
              "    <tr>\n",
              "      <th>23</th>\n",
              "      <td>2016</td>\n",
              "      <td>['Team/Group']</td>\n",
              "      <td>5</td>\n",
              "    </tr>\n",
              "    <tr>\n",
              "      <th>24</th>\n",
              "      <td>2017</td>\n",
              "      <td>['Individual']</td>\n",
              "      <td>3</td>\n",
              "    </tr>\n",
              "    <tr>\n",
              "      <th>25</th>\n",
              "      <td>2017</td>\n",
              "      <td>['Industry/Field/Across countries']</td>\n",
              "      <td>4</td>\n",
              "    </tr>\n",
              "    <tr>\n",
              "      <th>26</th>\n",
              "      <td>2017</td>\n",
              "      <td>['Organization/Company', 'Team/Group']</td>\n",
              "      <td>1</td>\n",
              "    </tr>\n",
              "    <tr>\n",
              "      <th>27</th>\n",
              "      <td>2017</td>\n",
              "      <td>['Organization/Company']</td>\n",
              "      <td>7</td>\n",
              "    </tr>\n",
              "    <tr>\n",
              "      <th>28</th>\n",
              "      <td>2017</td>\n",
              "      <td>['Team/Group']</td>\n",
              "      <td>6</td>\n",
              "    </tr>\n",
              "    <tr>\n",
              "      <th>29</th>\n",
              "      <td>2018</td>\n",
              "      <td>['Individual']</td>\n",
              "      <td>1</td>\n",
              "    </tr>\n",
              "    <tr>\n",
              "      <th>30</th>\n",
              "      <td>2018</td>\n",
              "      <td>['Industry/Field/Across countries']</td>\n",
              "      <td>7</td>\n",
              "    </tr>\n",
              "    <tr>\n",
              "      <th>31</th>\n",
              "      <td>2018</td>\n",
              "      <td>['Organization/Company']</td>\n",
              "      <td>12</td>\n",
              "    </tr>\n",
              "    <tr>\n",
              "      <th>32</th>\n",
              "      <td>2018</td>\n",
              "      <td>['Team/Group']</td>\n",
              "      <td>5</td>\n",
              "    </tr>\n",
              "    <tr>\n",
              "      <th>33</th>\n",
              "      <td>2019</td>\n",
              "      <td>['Individual']</td>\n",
              "      <td>4</td>\n",
              "    </tr>\n",
              "    <tr>\n",
              "      <th>34</th>\n",
              "      <td>2019</td>\n",
              "      <td>['Industry/Field/Across countries']</td>\n",
              "      <td>7</td>\n",
              "    </tr>\n",
              "    <tr>\n",
              "      <th>35</th>\n",
              "      <td>2019</td>\n",
              "      <td>['Organization/Company']</td>\n",
              "      <td>13</td>\n",
              "    </tr>\n",
              "    <tr>\n",
              "      <th>36</th>\n",
              "      <td>2019</td>\n",
              "      <td>['Team/Group']</td>\n",
              "      <td>4</td>\n",
              "    </tr>\n",
              "    <tr>\n",
              "      <th>37</th>\n",
              "      <td>2020</td>\n",
              "      <td>['Individual']</td>\n",
              "      <td>4</td>\n",
              "    </tr>\n",
              "    <tr>\n",
              "      <th>38</th>\n",
              "      <td>2020</td>\n",
              "      <td>['Industry/Field/Across countries']</td>\n",
              "      <td>3</td>\n",
              "    </tr>\n",
              "    <tr>\n",
              "      <th>39</th>\n",
              "      <td>2020</td>\n",
              "      <td>['Organization/Company']</td>\n",
              "      <td>16</td>\n",
              "    </tr>\n",
              "    <tr>\n",
              "      <th>40</th>\n",
              "      <td>2020</td>\n",
              "      <td>['Platform']</td>\n",
              "      <td>1</td>\n",
              "    </tr>\n",
              "    <tr>\n",
              "      <th>41</th>\n",
              "      <td>2020</td>\n",
              "      <td>['Team/Group']</td>\n",
              "      <td>3</td>\n",
              "    </tr>\n",
              "    <tr>\n",
              "      <th>42</th>\n",
              "      <td>2021</td>\n",
              "      <td>['Individual']</td>\n",
              "      <td>3</td>\n",
              "    </tr>\n",
              "    <tr>\n",
              "      <th>43</th>\n",
              "      <td>2021</td>\n",
              "      <td>['Organization/Company']</td>\n",
              "      <td>4</td>\n",
              "    </tr>\n",
              "    <tr>\n",
              "      <th>44</th>\n",
              "      <td>2021</td>\n",
              "      <td>['Team/Group']</td>\n",
              "      <td>5</td>\n",
              "    </tr>\n",
              "  </tbody>\n",
              "</table>\n",
              "</div>"
            ],
            "text/plain": [
              "    Year                            Majority_LoA  DOI\n",
              "0   2011                          ['Individual']    3\n",
              "1   2011     ['Industry/Field/Across countries']    1\n",
              "2   2011                ['Organization/Company']   11\n",
              "3   2011                          ['Team/Group']    2\n",
              "4   2012                          ['Individual']    1\n",
              "5   2012     ['Industry/Field/Across countries']    2\n",
              "6   2012                ['Organization/Company']   10\n",
              "7   2012                          ['Team/Group']    3\n",
              "8   2013                          ['Individual']    2\n",
              "9   2013     ['Industry/Field/Across countries']    1\n",
              "10  2013                ['Organization/Company']   11\n",
              "11  2013                          ['Team/Group']    3\n",
              "12  2014                          ['Individual']    3\n",
              "13  2014     ['Industry/Field/Across countries']    3\n",
              "14  2014                ['Organization/Company']    8\n",
              "15  2014                          ['Team/Group']    6\n",
              "16  2015                          ['Individual']    4\n",
              "17  2015     ['Industry/Field/Across countries']    2\n",
              "18  2015                ['Organization/Company']   10\n",
              "19  2015                          ['Team/Group']    4\n",
              "20  2016                          ['Individual']    2\n",
              "21  2016     ['Industry/Field/Across countries']    4\n",
              "22  2016                ['Organization/Company']    6\n",
              "23  2016                          ['Team/Group']    5\n",
              "24  2017                          ['Individual']    3\n",
              "25  2017     ['Industry/Field/Across countries']    4\n",
              "26  2017  ['Organization/Company', 'Team/Group']    1\n",
              "27  2017                ['Organization/Company']    7\n",
              "28  2017                          ['Team/Group']    6\n",
              "29  2018                          ['Individual']    1\n",
              "30  2018     ['Industry/Field/Across countries']    7\n",
              "31  2018                ['Organization/Company']   12\n",
              "32  2018                          ['Team/Group']    5\n",
              "33  2019                          ['Individual']    4\n",
              "34  2019     ['Industry/Field/Across countries']    7\n",
              "35  2019                ['Organization/Company']   13\n",
              "36  2019                          ['Team/Group']    4\n",
              "37  2020                          ['Individual']    4\n",
              "38  2020     ['Industry/Field/Across countries']    3\n",
              "39  2020                ['Organization/Company']   16\n",
              "40  2020                            ['Platform']    1\n",
              "41  2020                          ['Team/Group']    3\n",
              "42  2021                          ['Individual']    3\n",
              "43  2021                ['Organization/Company']    4\n",
              "44  2021                          ['Team/Group']    5"
            ]
          },
          "metadata": {
            "tags": []
          },
          "execution_count": 118
        }
      ]
    },
    {
      "cell_type": "code",
      "metadata": {
        "id": "FZBWl43gfXN-"
      },
      "source": [
        "att_gender.to_excel(path + \"Analysis/Analysis_multiple.xlsx\")"
      ],
      "execution_count": null,
      "outputs": []
    },
    {
      "cell_type": "code",
      "metadata": {
        "id": "lUxME07-ey8H"
      },
      "source": [
        "import pandas\n",
        "from openpyxl import load_workbook\n",
        "\n",
        "book = load_workbook(path + \"Analysis/Analysis_multiple.xlsx\")\n",
        "writer = pandas.ExcelWriter(path + \"Analysis/Analysis_multiple.xlsx\", engine='openpyxl') \n",
        "writer.book = book"
      ],
      "execution_count": null,
      "outputs": []
    },
    {
      "cell_type": "code",
      "metadata": {
        "colab": {
          "base_uri": "https://localhost:8080/",
          "height": 204
        },
        "id": "2qZaaH0sf3ot",
        "outputId": "07fe9468-c1e7-4455-bb85-ca27f98c0070"
      },
      "source": [
        "methods.head()"
      ],
      "execution_count": null,
      "outputs": [
        {
          "output_type": "execute_result",
          "data": {
            "text/html": [
              "<div>\n",
              "<style scoped>\n",
              "    .dataframe tbody tr th:only-of-type {\n",
              "        vertical-align: middle;\n",
              "    }\n",
              "\n",
              "    .dataframe tbody tr th {\n",
              "        vertical-align: top;\n",
              "    }\n",
              "\n",
              "    .dataframe thead th {\n",
              "        text-align: right;\n",
              "    }\n",
              "</style>\n",
              "<table border=\"1\" class=\"dataframe\">\n",
              "  <thead>\n",
              "    <tr style=\"text-align: right;\">\n",
              "      <th></th>\n",
              "      <th>Year</th>\n",
              "      <th>Majority_Method</th>\n",
              "      <th>DOI</th>\n",
              "    </tr>\n",
              "  </thead>\n",
              "  <tbody>\n",
              "    <tr>\n",
              "      <th>0</th>\n",
              "      <td>2011</td>\n",
              "      <td>Experiment</td>\n",
              "      <td>6</td>\n",
              "    </tr>\n",
              "    <tr>\n",
              "      <th>1</th>\n",
              "      <td>2011</td>\n",
              "      <td>Mixed_Methods</td>\n",
              "      <td>7</td>\n",
              "    </tr>\n",
              "    <tr>\n",
              "      <th>2</th>\n",
              "      <td>2011</td>\n",
              "      <td>Qualitative</td>\n",
              "      <td>2</td>\n",
              "    </tr>\n",
              "    <tr>\n",
              "      <th>3</th>\n",
              "      <td>2011</td>\n",
              "      <td>Quantitative</td>\n",
              "      <td>2</td>\n",
              "    </tr>\n",
              "    <tr>\n",
              "      <th>4</th>\n",
              "      <td>2012</td>\n",
              "      <td>Experiment</td>\n",
              "      <td>4</td>\n",
              "    </tr>\n",
              "  </tbody>\n",
              "</table>\n",
              "</div>"
            ],
            "text/plain": [
              "   Year Majority_Method  DOI\n",
              "0  2011      Experiment    6\n",
              "1  2011   Mixed_Methods    7\n",
              "2  2011     Qualitative    2\n",
              "3  2011    Quantitative    2\n",
              "4  2012      Experiment    4"
            ]
          },
          "metadata": {
            "tags": []
          },
          "execution_count": 99
        }
      ]
    },
    {
      "cell_type": "code",
      "metadata": {
        "id": "FUi-BcKhfyOS"
      },
      "source": [
        "country.to_excel(writer, \"Country\")\n",
        "\n",
        "writer.save()"
      ],
      "execution_count": null,
      "outputs": []
    },
    {
      "cell_type": "code",
      "metadata": {
        "id": "A-4QAxgcf536"
      },
      "source": [
        "methods.to_excel(writer, \"Method1\")\n",
        "writer.save()"
      ],
      "execution_count": null,
      "outputs": []
    },
    {
      "cell_type": "code",
      "metadata": {
        "id": "CkEzKlrYgAqG"
      },
      "source": [
        "LOA.to_excel(writer, \"LoA2\")\n",
        "writer.save()"
      ],
      "execution_count": null,
      "outputs": []
    },
    {
      "cell_type": "markdown",
      "metadata": {
        "id": "1mHPKonURwxY"
      },
      "source": [
        "**Data Source**"
      ]
    },
    {
      "cell_type": "code",
      "metadata": {
        "id": "bTGYLgDWgeo7",
        "colab": {
          "base_uri": "https://localhost:8080/"
        },
        "outputId": "431d9822-ffec-4137-a3d6-824ce8f40e3a"
      },
      "source": [
        "att.columns"
      ],
      "execution_count": null,
      "outputs": [
        {
          "output_type": "execute_result",
          "data": {
            "text/plain": [
              "Index(['DOI', 'Authors', 'Gender 1st A', 'Gender Other', 'Affiliation', 'US',\n",
              "       'Canada', 'Europe', 'Asia', 'Other', 'Article-title', 'Subtitle',\n",
              "       'Publication Date', 'Year', 'Volume', 'Issue', 'Total Citations',\n",
              "       'Average per Year', 'Method', 'Data Source', 'Analysis Level',\n",
              "       'Abstract', 'Unnamed: 22'],\n",
              "      dtype='object')"
            ]
          },
          "metadata": {
            "tags": []
          },
          "execution_count": 10
        }
      ]
    },
    {
      "cell_type": "code",
      "metadata": {
        "colab": {
          "base_uri": "https://localhost:8080/"
        },
        "id": "xoPJVrijRzTH",
        "outputId": "f57f72b4-a3bd-4ec7-9f72-37ffcb8cc496"
      },
      "source": [
        "att[\"Data Source\"].unique()"
      ],
      "execution_count": null,
      "outputs": [
        {
          "output_type": "execute_result",
          "data": {
            "text/plain": [
              "array(['Other Asia', 'Multi-Country', 'US', 'Europe', 'Other', nan,\n",
              "       'Canada', 'China'], dtype=object)"
            ]
          },
          "metadata": {
            "tags": []
          },
          "execution_count": 11
        }
      ]
    },
    {
      "cell_type": "code",
      "metadata": {
        "id": "LsmXyR_YSypn"
      },
      "source": [
        "att[\"Data Source\"] = att[\"Data Source\"].apply(lambda x: \"Asia\" if x in [\"Other Asia\", \"China\"] else x)"
      ],
      "execution_count": null,
      "outputs": []
    },
    {
      "cell_type": "code",
      "metadata": {
        "colab": {
          "base_uri": "https://localhost:8080/"
        },
        "id": "5gnCohqd-nyK",
        "outputId": "cad94316-9d9c-4686-fec7-bd7b820ff449"
      },
      "source": [
        "att[\"Data Source\"].unique()"
      ],
      "execution_count": null,
      "outputs": [
        {
          "output_type": "execute_result",
          "data": {
            "text/plain": [
              "array(['Asia', 'Multi-Country', 'US', 'Europe', 'Other', nan, 'Canada'],\n",
              "      dtype=object)"
            ]
          },
          "metadata": {
            "tags": []
          },
          "execution_count": 13
        }
      ]
    },
    {
      "cell_type": "code",
      "metadata": {
        "id": "GEudXz9GSc72"
      },
      "source": [
        "att_data = att[['Year', 'Data Source', 'DOI']].groupby([\"Year\", \"Data Source\"])[\"DOI\"].count().reset_index()"
      ],
      "execution_count": null,
      "outputs": []
    },
    {
      "cell_type": "code",
      "metadata": {
        "colab": {
          "base_uri": "https://localhost:8080/",
          "height": 1000
        },
        "id": "L3kIMR5dae5z",
        "outputId": "e5aa3215-65e9-49ff-a577-7491f6e5f672"
      },
      "source": [
        "att_data"
      ],
      "execution_count": null,
      "outputs": [
        {
          "output_type": "execute_result",
          "data": {
            "text/html": [
              "<div>\n",
              "<style scoped>\n",
              "    .dataframe tbody tr th:only-of-type {\n",
              "        vertical-align: middle;\n",
              "    }\n",
              "\n",
              "    .dataframe tbody tr th {\n",
              "        vertical-align: top;\n",
              "    }\n",
              "\n",
              "    .dataframe thead th {\n",
              "        text-align: right;\n",
              "    }\n",
              "</style>\n",
              "<table border=\"1\" class=\"dataframe\">\n",
              "  <thead>\n",
              "    <tr style=\"text-align: right;\">\n",
              "      <th></th>\n",
              "      <th>Year</th>\n",
              "      <th>Data Source</th>\n",
              "      <th>DOI</th>\n",
              "    </tr>\n",
              "  </thead>\n",
              "  <tbody>\n",
              "    <tr>\n",
              "      <th>0</th>\n",
              "      <td>2011</td>\n",
              "      <td>Canada</td>\n",
              "      <td>1</td>\n",
              "    </tr>\n",
              "    <tr>\n",
              "      <th>1</th>\n",
              "      <td>2011</td>\n",
              "      <td>Multi-Country</td>\n",
              "      <td>2</td>\n",
              "    </tr>\n",
              "    <tr>\n",
              "      <th>2</th>\n",
              "      <td>2011</td>\n",
              "      <td>US</td>\n",
              "      <td>14</td>\n",
              "    </tr>\n",
              "    <tr>\n",
              "      <th>3</th>\n",
              "      <td>2012</td>\n",
              "      <td>Asia</td>\n",
              "      <td>2</td>\n",
              "    </tr>\n",
              "    <tr>\n",
              "      <th>4</th>\n",
              "      <td>2012</td>\n",
              "      <td>Europe</td>\n",
              "      <td>2</td>\n",
              "    </tr>\n",
              "    <tr>\n",
              "      <th>5</th>\n",
              "      <td>2012</td>\n",
              "      <td>Multi-Country</td>\n",
              "      <td>3</td>\n",
              "    </tr>\n",
              "    <tr>\n",
              "      <th>6</th>\n",
              "      <td>2012</td>\n",
              "      <td>US</td>\n",
              "      <td>9</td>\n",
              "    </tr>\n",
              "    <tr>\n",
              "      <th>7</th>\n",
              "      <td>2013</td>\n",
              "      <td>Asia</td>\n",
              "      <td>2</td>\n",
              "    </tr>\n",
              "    <tr>\n",
              "      <th>8</th>\n",
              "      <td>2013</td>\n",
              "      <td>Europe</td>\n",
              "      <td>2</td>\n",
              "    </tr>\n",
              "    <tr>\n",
              "      <th>9</th>\n",
              "      <td>2013</td>\n",
              "      <td>Multi-Country</td>\n",
              "      <td>1</td>\n",
              "    </tr>\n",
              "    <tr>\n",
              "      <th>10</th>\n",
              "      <td>2013</td>\n",
              "      <td>US</td>\n",
              "      <td>12</td>\n",
              "    </tr>\n",
              "    <tr>\n",
              "      <th>11</th>\n",
              "      <td>2014</td>\n",
              "      <td>Asia</td>\n",
              "      <td>3</td>\n",
              "    </tr>\n",
              "    <tr>\n",
              "      <th>12</th>\n",
              "      <td>2014</td>\n",
              "      <td>Europe</td>\n",
              "      <td>4</td>\n",
              "    </tr>\n",
              "    <tr>\n",
              "      <th>13</th>\n",
              "      <td>2014</td>\n",
              "      <td>Multi-Country</td>\n",
              "      <td>5</td>\n",
              "    </tr>\n",
              "    <tr>\n",
              "      <th>14</th>\n",
              "      <td>2014</td>\n",
              "      <td>Other</td>\n",
              "      <td>2</td>\n",
              "    </tr>\n",
              "    <tr>\n",
              "      <th>15</th>\n",
              "      <td>2014</td>\n",
              "      <td>US</td>\n",
              "      <td>7</td>\n",
              "    </tr>\n",
              "    <tr>\n",
              "      <th>16</th>\n",
              "      <td>2015</td>\n",
              "      <td>Canada</td>\n",
              "      <td>2</td>\n",
              "    </tr>\n",
              "    <tr>\n",
              "      <th>17</th>\n",
              "      <td>2015</td>\n",
              "      <td>Europe</td>\n",
              "      <td>2</td>\n",
              "    </tr>\n",
              "    <tr>\n",
              "      <th>18</th>\n",
              "      <td>2015</td>\n",
              "      <td>Multi-Country</td>\n",
              "      <td>5</td>\n",
              "    </tr>\n",
              "    <tr>\n",
              "      <th>19</th>\n",
              "      <td>2015</td>\n",
              "      <td>Other</td>\n",
              "      <td>1</td>\n",
              "    </tr>\n",
              "    <tr>\n",
              "      <th>20</th>\n",
              "      <td>2015</td>\n",
              "      <td>US</td>\n",
              "      <td>10</td>\n",
              "    </tr>\n",
              "    <tr>\n",
              "      <th>21</th>\n",
              "      <td>2016</td>\n",
              "      <td>Canada</td>\n",
              "      <td>1</td>\n",
              "    </tr>\n",
              "    <tr>\n",
              "      <th>22</th>\n",
              "      <td>2016</td>\n",
              "      <td>Europe</td>\n",
              "      <td>2</td>\n",
              "    </tr>\n",
              "    <tr>\n",
              "      <th>23</th>\n",
              "      <td>2016</td>\n",
              "      <td>Multi-Country</td>\n",
              "      <td>4</td>\n",
              "    </tr>\n",
              "    <tr>\n",
              "      <th>24</th>\n",
              "      <td>2016</td>\n",
              "      <td>Other</td>\n",
              "      <td>1</td>\n",
              "    </tr>\n",
              "    <tr>\n",
              "      <th>25</th>\n",
              "      <td>2016</td>\n",
              "      <td>US</td>\n",
              "      <td>10</td>\n",
              "    </tr>\n",
              "    <tr>\n",
              "      <th>26</th>\n",
              "      <td>2017</td>\n",
              "      <td>Asia</td>\n",
              "      <td>3</td>\n",
              "    </tr>\n",
              "    <tr>\n",
              "      <th>27</th>\n",
              "      <td>2017</td>\n",
              "      <td>Canada</td>\n",
              "      <td>1</td>\n",
              "    </tr>\n",
              "    <tr>\n",
              "      <th>28</th>\n",
              "      <td>2017</td>\n",
              "      <td>Europe</td>\n",
              "      <td>2</td>\n",
              "    </tr>\n",
              "    <tr>\n",
              "      <th>29</th>\n",
              "      <td>2017</td>\n",
              "      <td>Multi-Country</td>\n",
              "      <td>2</td>\n",
              "    </tr>\n",
              "    <tr>\n",
              "      <th>30</th>\n",
              "      <td>2017</td>\n",
              "      <td>US</td>\n",
              "      <td>13</td>\n",
              "    </tr>\n",
              "    <tr>\n",
              "      <th>31</th>\n",
              "      <td>2018</td>\n",
              "      <td>Asia</td>\n",
              "      <td>3</td>\n",
              "    </tr>\n",
              "    <tr>\n",
              "      <th>32</th>\n",
              "      <td>2018</td>\n",
              "      <td>Europe</td>\n",
              "      <td>2</td>\n",
              "    </tr>\n",
              "    <tr>\n",
              "      <th>33</th>\n",
              "      <td>2018</td>\n",
              "      <td>Multi-Country</td>\n",
              "      <td>2</td>\n",
              "    </tr>\n",
              "    <tr>\n",
              "      <th>34</th>\n",
              "      <td>2018</td>\n",
              "      <td>Other</td>\n",
              "      <td>1</td>\n",
              "    </tr>\n",
              "    <tr>\n",
              "      <th>35</th>\n",
              "      <td>2018</td>\n",
              "      <td>US</td>\n",
              "      <td>17</td>\n",
              "    </tr>\n",
              "    <tr>\n",
              "      <th>36</th>\n",
              "      <td>2019</td>\n",
              "      <td>Asia</td>\n",
              "      <td>4</td>\n",
              "    </tr>\n",
              "    <tr>\n",
              "      <th>37</th>\n",
              "      <td>2019</td>\n",
              "      <td>Europe</td>\n",
              "      <td>5</td>\n",
              "    </tr>\n",
              "    <tr>\n",
              "      <th>38</th>\n",
              "      <td>2019</td>\n",
              "      <td>Multi-Country</td>\n",
              "      <td>3</td>\n",
              "    </tr>\n",
              "    <tr>\n",
              "      <th>39</th>\n",
              "      <td>2019</td>\n",
              "      <td>Other</td>\n",
              "      <td>2</td>\n",
              "    </tr>\n",
              "    <tr>\n",
              "      <th>40</th>\n",
              "      <td>2019</td>\n",
              "      <td>US</td>\n",
              "      <td>14</td>\n",
              "    </tr>\n",
              "    <tr>\n",
              "      <th>41</th>\n",
              "      <td>2020</td>\n",
              "      <td>Asia</td>\n",
              "      <td>3</td>\n",
              "    </tr>\n",
              "    <tr>\n",
              "      <th>42</th>\n",
              "      <td>2020</td>\n",
              "      <td>Europe</td>\n",
              "      <td>2</td>\n",
              "    </tr>\n",
              "    <tr>\n",
              "      <th>43</th>\n",
              "      <td>2020</td>\n",
              "      <td>Multi-Country</td>\n",
              "      <td>4</td>\n",
              "    </tr>\n",
              "    <tr>\n",
              "      <th>44</th>\n",
              "      <td>2020</td>\n",
              "      <td>Other</td>\n",
              "      <td>2</td>\n",
              "    </tr>\n",
              "    <tr>\n",
              "      <th>45</th>\n",
              "      <td>2020</td>\n",
              "      <td>US</td>\n",
              "      <td>17</td>\n",
              "    </tr>\n",
              "    <tr>\n",
              "      <th>46</th>\n",
              "      <td>2021</td>\n",
              "      <td>Asia</td>\n",
              "      <td>1</td>\n",
              "    </tr>\n",
              "    <tr>\n",
              "      <th>47</th>\n",
              "      <td>2021</td>\n",
              "      <td>Canada</td>\n",
              "      <td>1</td>\n",
              "    </tr>\n",
              "    <tr>\n",
              "      <th>48</th>\n",
              "      <td>2021</td>\n",
              "      <td>Europe</td>\n",
              "      <td>3</td>\n",
              "    </tr>\n",
              "    <tr>\n",
              "      <th>49</th>\n",
              "      <td>2021</td>\n",
              "      <td>Multi-Country</td>\n",
              "      <td>4</td>\n",
              "    </tr>\n",
              "    <tr>\n",
              "      <th>50</th>\n",
              "      <td>2021</td>\n",
              "      <td>US</td>\n",
              "      <td>3</td>\n",
              "    </tr>\n",
              "  </tbody>\n",
              "</table>\n",
              "</div>"
            ],
            "text/plain": [
              "    Year    Data Source  DOI\n",
              "0   2011         Canada    1\n",
              "1   2011  Multi-Country    2\n",
              "2   2011             US   14\n",
              "3   2012           Asia    2\n",
              "4   2012         Europe    2\n",
              "5   2012  Multi-Country    3\n",
              "6   2012             US    9\n",
              "7   2013           Asia    2\n",
              "8   2013         Europe    2\n",
              "9   2013  Multi-Country    1\n",
              "10  2013             US   12\n",
              "11  2014           Asia    3\n",
              "12  2014         Europe    4\n",
              "13  2014  Multi-Country    5\n",
              "14  2014          Other    2\n",
              "15  2014             US    7\n",
              "16  2015         Canada    2\n",
              "17  2015         Europe    2\n",
              "18  2015  Multi-Country    5\n",
              "19  2015          Other    1\n",
              "20  2015             US   10\n",
              "21  2016         Canada    1\n",
              "22  2016         Europe    2\n",
              "23  2016  Multi-Country    4\n",
              "24  2016          Other    1\n",
              "25  2016             US   10\n",
              "26  2017           Asia    3\n",
              "27  2017         Canada    1\n",
              "28  2017         Europe    2\n",
              "29  2017  Multi-Country    2\n",
              "30  2017             US   13\n",
              "31  2018           Asia    3\n",
              "32  2018         Europe    2\n",
              "33  2018  Multi-Country    2\n",
              "34  2018          Other    1\n",
              "35  2018             US   17\n",
              "36  2019           Asia    4\n",
              "37  2019         Europe    5\n",
              "38  2019  Multi-Country    3\n",
              "39  2019          Other    2\n",
              "40  2019             US   14\n",
              "41  2020           Asia    3\n",
              "42  2020         Europe    2\n",
              "43  2020  Multi-Country    4\n",
              "44  2020          Other    2\n",
              "45  2020             US   17\n",
              "46  2021           Asia    1\n",
              "47  2021         Canada    1\n",
              "48  2021         Europe    3\n",
              "49  2021  Multi-Country    4\n",
              "50  2021             US    3"
            ]
          },
          "metadata": {
            "tags": []
          },
          "execution_count": 40
        }
      ]
    },
    {
      "cell_type": "code",
      "metadata": {
        "id": "NiYwwm7XSRt3"
      },
      "source": [
        "att_data.to_excel(writer, \"Data Source\")\n",
        "writer.save()"
      ],
      "execution_count": null,
      "outputs": []
    },
    {
      "cell_type": "markdown",
      "metadata": {
        "id": "PzA_T5kWAGYZ"
      },
      "source": [
        "**Number of papers by Year**"
      ]
    },
    {
      "cell_type": "code",
      "metadata": {
        "id": "ruVcSk2RCr56"
      },
      "source": [
        "count = att.pivot_table(index = \"Year\", values = (\"DOI\") , aggfunc = 'count').reset_index()"
      ],
      "execution_count": null,
      "outputs": []
    },
    {
      "cell_type": "code",
      "metadata": {
        "colab": {
          "base_uri": "https://localhost:8080/"
        },
        "id": "5ISBNUljAo_Y",
        "outputId": "b8b2bf94-94fe-4ff8-ce38-b20831e12f16"
      },
      "source": [
        "sum(count[\"DOI\"])"
      ],
      "execution_count": null,
      "outputs": [
        {
          "output_type": "execute_result",
          "data": {
            "text/plain": [
              "230"
            ]
          },
          "metadata": {
            "tags": []
          },
          "execution_count": 11
        }
      ]
    },
    {
      "cell_type": "code",
      "metadata": {
        "id": "04VHZzvxApvl"
      },
      "source": [
        "count.to_excel(writer, \"count\")\n",
        "writer.save()"
      ],
      "execution_count": null,
      "outputs": []
    },
    {
      "cell_type": "code",
      "metadata": {
        "id": "_0NzdDH9A7U8"
      },
      "source": [
        ""
      ],
      "execution_count": null,
      "outputs": []
    },
    {
      "cell_type": "markdown",
      "metadata": {
        "id": "SmvUCIQOnpny"
      },
      "source": [
        "Save Methods and LoA to a Stata file"
      ]
    },
    {
      "cell_type": "code",
      "metadata": {
        "id": "LNZI0KutnuCS"
      },
      "source": [
        "df = pd.read_excel(path + \"Analysis/Merged_methods_LoA.xlsx\")"
      ],
      "execution_count": null,
      "outputs": []
    },
    {
      "cell_type": "code",
      "metadata": {
        "id": "TZCo-C5DsGWa"
      },
      "source": [
        "df.drop(\"year_bucket\", axis = 1, inplace = True)"
      ],
      "execution_count": null,
      "outputs": []
    },
    {
      "cell_type": "code",
      "metadata": {
        "colab": {
          "base_uri": "https://localhost:8080/"
        },
        "id": "t8Bry_2Yn6xI",
        "outputId": "31c12acd-5bc6-4a6b-bc5d-7ef79605cd1a"
      },
      "source": [
        "df.to_stata(path + \"Analysis/Merged_methods_LoA.dta\", write_index=False, version=118)"
      ],
      "execution_count": null,
      "outputs": [
        {
          "output_type": "stream",
          "text": [
            "/usr/local/lib/python3.7/dist-packages/pandas/io/stata.py:2400: InvalidColumnName: \n",
            "Not all pandas column names were valid Stata variable names.\n",
            "The following replacements have been made:\n",
            "\n",
            "    Unnamed: 0   ->   Unnamed__0\n",
            "    Article-title   ->   Article_title\n",
            "\n",
            "If this is not what you expect, please make sure you have Stata-compliant\n",
            "column names in your DataFrame (strings only, max 32 characters, only\n",
            "alphanumerics and underscores, no Stata reserved words)\n",
            "\n",
            "  warnings.warn(ws, InvalidColumnName)\n"
          ],
          "name": "stderr"
        }
      ]
    },
    {
      "cell_type": "code",
      "metadata": {
        "colab": {
          "base_uri": "https://localhost:8080/",
          "height": 589
        },
        "id": "dHF_2bugn7ro",
        "outputId": "bcbf5fc3-c3f1-43ac-8291-3e29909066ee"
      },
      "source": [
        "pd.read_stata(path + \"Analysis/Merged_methods_LoA.dta\")"
      ],
      "execution_count": null,
      "outputs": [
        {
          "output_type": "execute_result",
          "data": {
            "text/html": [
              "<div>\n",
              "<style scoped>\n",
              "    .dataframe tbody tr th:only-of-type {\n",
              "        vertical-align: middle;\n",
              "    }\n",
              "\n",
              "    .dataframe tbody tr th {\n",
              "        vertical-align: top;\n",
              "    }\n",
              "\n",
              "    .dataframe thead th {\n",
              "        text-align: right;\n",
              "    }\n",
              "</style>\n",
              "<table border=\"1\" class=\"dataframe\">\n",
              "  <thead>\n",
              "    <tr style=\"text-align: right;\">\n",
              "      <th></th>\n",
              "      <th>Unnamed__0</th>\n",
              "      <th>DOI</th>\n",
              "      <th>Majority_Method</th>\n",
              "      <th>Year</th>\n",
              "      <th>Article_title</th>\n",
              "      <th>Abstract</th>\n",
              "      <th>Majority_LoA</th>\n",
              "    </tr>\n",
              "  </thead>\n",
              "  <tbody>\n",
              "    <tr>\n",
              "      <th>0</th>\n",
              "      <td>0</td>\n",
              "      <td>10.1177/0001839213486759</td>\n",
              "      <td>Quantitative</td>\n",
              "      <td>2013</td>\n",
              "      <td>Specialization and Career Dynamics</td>\n",
              "      <td>In this article, we attempt to resolve the ten...</td>\n",
              "      <td>['Individual']</td>\n",
              "    </tr>\n",
              "    <tr>\n",
              "      <th>1</th>\n",
              "      <td>1</td>\n",
              "      <td>10.1177/0001839212437519</td>\n",
              "      <td>Qualitative</td>\n",
              "      <td>2011</td>\n",
              "      <td>Transcending Socialization</td>\n",
              "      <td>A nine-year ethnography is used to show how tw...</td>\n",
              "      <td>['Organization/Company']</td>\n",
              "    </tr>\n",
              "    <tr>\n",
              "      <th>2</th>\n",
              "      <td>2</td>\n",
              "      <td>10.1177/0001839216673823</td>\n",
              "      <td>Mixed_Methods</td>\n",
              "      <td>2017</td>\n",
              "      <td>These Unequal States: Corporate Organization a...</td>\n",
              "      <td>In an analysis of data on employment in the 48...</td>\n",
              "      <td>['Organization/Company']</td>\n",
              "    </tr>\n",
              "    <tr>\n",
              "      <th>3</th>\n",
              "      <td>3</td>\n",
              "      <td>10.1177/0001839213488773</td>\n",
              "      <td>Mixed_Methods</td>\n",
              "      <td>2013</td>\n",
              "      <td>CEO Narcissism, Audience Engagement, and Organ...</td>\n",
              "      <td>We examine the responses of major pharmaceutic...</td>\n",
              "      <td>['Organization/Company']</td>\n",
              "    </tr>\n",
              "    <tr>\n",
              "      <th>4</th>\n",
              "      <td>4</td>\n",
              "      <td>10.1177/0001839219855329</td>\n",
              "      <td>Qualitative</td>\n",
              "      <td>2020</td>\n",
              "      <td>Evaluative Spillovers from Technological Chang...</td>\n",
              "      <td>Most studies of technologies’ impact on occupa...</td>\n",
              "      <td>['Industry/Field/Across countries']</td>\n",
              "    </tr>\n",
              "    <tr>\n",
              "      <th>...</th>\n",
              "      <td>...</td>\n",
              "      <td>...</td>\n",
              "      <td>...</td>\n",
              "      <td>...</td>\n",
              "      <td>...</td>\n",
              "      <td>...</td>\n",
              "      <td>...</td>\n",
              "    </tr>\n",
              "    <tr>\n",
              "      <th>215</th>\n",
              "      <td>215</td>\n",
              "      <td>10.1177/0001839217707738</td>\n",
              "      <td>Experiment</td>\n",
              "      <td>2018</td>\n",
              "      <td>Routine Regulation: Balancing Conflicting Goal...</td>\n",
              "      <td>To examine how organizational routines serve a...</td>\n",
              "      <td>['Organization/Company']</td>\n",
              "    </tr>\n",
              "    <tr>\n",
              "      <th>216</th>\n",
              "      <td>216</td>\n",
              "      <td>10.1177/0001839217718547</td>\n",
              "      <td>Experiment</td>\n",
              "      <td>2018</td>\n",
              "      <td>Renegotiating Spheres of Obligation: The Role ...</td>\n",
              "      <td>To achieve organization-wide goals, sometimes ...</td>\n",
              "      <td>['Team/Group']</td>\n",
              "    </tr>\n",
              "    <tr>\n",
              "      <th>217</th>\n",
              "      <td>217</td>\n",
              "      <td>10.1177/0001839214523428</td>\n",
              "      <td>Simulation</td>\n",
              "      <td>2014</td>\n",
              "      <td>Finding a Home away from Home</td>\n",
              "      <td>Using data from a sample of foreign subsidiari...</td>\n",
              "      <td>['Industry/Field/Across countries']</td>\n",
              "    </tr>\n",
              "    <tr>\n",
              "      <th>218</th>\n",
              "      <td>218</td>\n",
              "      <td>asqu.2011.56.1.001</td>\n",
              "      <td>Experiment</td>\n",
              "      <td>2011</td>\n",
              "      <td>The Ethical Dangers of Deliberative Decision M...</td>\n",
              "      <td>Research on ethical decision making has been h...</td>\n",
              "      <td>['Individual']</td>\n",
              "    </tr>\n",
              "    <tr>\n",
              "      <th>219</th>\n",
              "      <td>219</td>\n",
              "      <td>asqu.2011.56.1.095</td>\n",
              "      <td>Mixed_Methods</td>\n",
              "      <td>2011</td>\n",
              "      <td>Founding Conditions, Learning, and Organizatio...</td>\n",
              "      <td>Empirical evidence about the relation between ...</td>\n",
              "      <td>['Organization/Company']</td>\n",
              "    </tr>\n",
              "  </tbody>\n",
              "</table>\n",
              "<p>220 rows × 7 columns</p>\n",
              "</div>"
            ],
            "text/plain": [
              "     Unnamed__0  ...                         Majority_LoA\n",
              "0             0  ...                       ['Individual']\n",
              "1             1  ...             ['Organization/Company']\n",
              "2             2  ...             ['Organization/Company']\n",
              "3             3  ...             ['Organization/Company']\n",
              "4             4  ...  ['Industry/Field/Across countries']\n",
              "..          ...  ...                                  ...\n",
              "215         215  ...             ['Organization/Company']\n",
              "216         216  ...                       ['Team/Group']\n",
              "217         217  ...  ['Industry/Field/Across countries']\n",
              "218         218  ...                       ['Individual']\n",
              "219         219  ...             ['Organization/Company']\n",
              "\n",
              "[220 rows x 7 columns]"
            ]
          },
          "metadata": {
            "tags": []
          },
          "execution_count": 14
        }
      ]
    },
    {
      "cell_type": "code",
      "metadata": {
        "id": "ewZ_Lr07r3ep"
      },
      "source": [
        ""
      ],
      "execution_count": null,
      "outputs": []
    },
    {
      "cell_type": "markdown",
      "metadata": {
        "id": "SupbrDC_d6Vj"
      },
      "source": [
        "Create an excel sheet with word counts of methods and LOA along with DOI, Title and Abstract"
      ]
    },
    {
      "cell_type": "code",
      "metadata": {
        "id": "DT4yBbsDeEaJ"
      },
      "source": [
        "df = pd.read_excel(path + \"Analysis/Merged_methods_LoA_new.xlsx\")"
      ],
      "execution_count": null,
      "outputs": []
    },
    {
      "cell_type": "code",
      "metadata": {
        "id": "zI60ZW33eJaM"
      },
      "source": [
        "df.drop(\"year_bucket\", axis = 1, inplace = True)"
      ],
      "execution_count": null,
      "outputs": []
    },
    {
      "cell_type": "code",
      "metadata": {
        "id": "qIhs6QSLeL8Q"
      },
      "source": [
        "methods = pd.read_excel(path + \"Analysis/Methods_new.xlsx\")"
      ],
      "execution_count": null,
      "outputs": []
    },
    {
      "cell_type": "code",
      "metadata": {
        "id": "i4OyRCQReYdA"
      },
      "source": [
        "loa = pd.read_excel(path + \"Analysis/Level_of_Analysis.xlsx\")"
      ],
      "execution_count": null,
      "outputs": []
    },
    {
      "cell_type": "code",
      "metadata": {
        "id": "4HvmoEcSegZG"
      },
      "source": [
        "methods[\"DOI\"] = methods[\"DOI\"].apply(lambda x : x.replace(\"_\", \"/\"))"
      ],
      "execution_count": null,
      "outputs": []
    },
    {
      "cell_type": "code",
      "metadata": {
        "colab": {
          "base_uri": "https://localhost:8080/",
          "height": 255
        },
        "id": "a5GOaOfJevXp",
        "outputId": "a5ed54f1-0d92-4f7d-cc51-9d2dde786a0d"
      },
      "source": [
        "methods.head()"
      ],
      "execution_count": null,
      "outputs": [
        {
          "output_type": "execute_result",
          "data": {
            "text/html": [
              "<div>\n",
              "<style scoped>\n",
              "    .dataframe tbody tr th:only-of-type {\n",
              "        vertical-align: middle;\n",
              "    }\n",
              "\n",
              "    .dataframe tbody tr th {\n",
              "        vertical-align: top;\n",
              "    }\n",
              "\n",
              "    .dataframe thead th {\n",
              "        text-align: right;\n",
              "    }\n",
              "</style>\n",
              "<table border=\"1\" class=\"dataframe\">\n",
              "  <thead>\n",
              "    <tr style=\"text-align: right;\">\n",
              "      <th></th>\n",
              "      <th>Unnamed: 0</th>\n",
              "      <th>DOI</th>\n",
              "      <th>Qualitative [interview , ethnograph, qualitative, grounded theory]</th>\n",
              "      <th>Simulation [simulation, formal model]</th>\n",
              "      <th>Experiment [field experiment, lab experiment, experiment, experiments]</th>\n",
              "      <th>Quantitative [regression, quantitative, statistically significant, statistical significance]</th>\n",
              "      <th>Majority_Method</th>\n",
              "    </tr>\n",
              "  </thead>\n",
              "  <tbody>\n",
              "    <tr>\n",
              "      <th>0</th>\n",
              "      <td>0</td>\n",
              "      <td>10.1177/0001839213486759</td>\n",
              "      <td>[1, 0, 1, 0]</td>\n",
              "      <td>[0, 0]</td>\n",
              "      <td>[0, 0, 0, 0]</td>\n",
              "      <td>[7, 0, 1, 0]</td>\n",
              "      <td>Quantitative</td>\n",
              "    </tr>\n",
              "    <tr>\n",
              "      <th>1</th>\n",
              "      <td>1</td>\n",
              "      <td>10.1177/0001839218793128</td>\n",
              "      <td>[4, 0, 0, 0]</td>\n",
              "      <td>[1, 0]</td>\n",
              "      <td>[0, 0, 0, 0]</td>\n",
              "      <td>[4, 0, 2, 0]</td>\n",
              "      <td>Mixed_Methods</td>\n",
              "    </tr>\n",
              "    <tr>\n",
              "      <th>2</th>\n",
              "      <td>2</td>\n",
              "      <td>10.1177/0001839212437519</td>\n",
              "      <td>[20, 5, 0, 1]</td>\n",
              "      <td>[0, 0]</td>\n",
              "      <td>[0, 0, 1, 2]</td>\n",
              "      <td>[0, 2, 0, 0]</td>\n",
              "      <td>Qualitative</td>\n",
              "    </tr>\n",
              "    <tr>\n",
              "      <th>3</th>\n",
              "      <td>3</td>\n",
              "      <td>10.1177/0001839216673823</td>\n",
              "      <td>[0, 0, 1, 0]</td>\n",
              "      <td>[0, 0]</td>\n",
              "      <td>[0, 0, 0, 0]</td>\n",
              "      <td>[6, 0, 0, 0]</td>\n",
              "      <td>Quantitative</td>\n",
              "    </tr>\n",
              "    <tr>\n",
              "      <th>4</th>\n",
              "      <td>4</td>\n",
              "      <td>10.1177/0001839213488773</td>\n",
              "      <td>[2, 0, 1, 0]</td>\n",
              "      <td>[0, 0]</td>\n",
              "      <td>[0, 0, 0, 0]</td>\n",
              "      <td>[4, 0, 0, 0]</td>\n",
              "      <td>Quantitative</td>\n",
              "    </tr>\n",
              "  </tbody>\n",
              "</table>\n",
              "</div>"
            ],
            "text/plain": [
              "   Unnamed: 0  ... Majority_Method\n",
              "0           0  ...    Quantitative\n",
              "1           1  ...   Mixed_Methods\n",
              "2           2  ...     Qualitative\n",
              "3           3  ...    Quantitative\n",
              "4           4  ...    Quantitative\n",
              "\n",
              "[5 rows x 7 columns]"
            ]
          },
          "metadata": {
            "tags": []
          },
          "execution_count": 87
        }
      ]
    },
    {
      "cell_type": "code",
      "metadata": {
        "colab": {
          "base_uri": "https://localhost:8080/"
        },
        "id": "secnRYxXexOC",
        "outputId": "ca907682-e81c-4eb9-d142-145b76b6a826"
      },
      "source": [
        "df.columns"
      ],
      "execution_count": null,
      "outputs": [
        {
          "output_type": "execute_result",
          "data": {
            "text/plain": [
              "Index(['Unnamed: 0', 'DOI', 'Majority_Method', 'Year', 'Article-title',\n",
              "       'Abstract', 'Majority_LoA'],\n",
              "      dtype='object')"
            ]
          },
          "metadata": {
            "tags": []
          },
          "execution_count": 88
        }
      ]
    },
    {
      "cell_type": "code",
      "metadata": {
        "id": "K2Zb9yrse2ld"
      },
      "source": [
        "loa[\"DOI\"] = loa[\"DOI\"].apply(lambda x : x.replace(\"_\", \"/\"))"
      ],
      "execution_count": null,
      "outputs": []
    },
    {
      "cell_type": "code",
      "metadata": {
        "id": "QLZC15wLfV_V"
      },
      "source": [
        "df2 = pd.merge(methods, loa, on = \"DOI\", how = \"outer\" )"
      ],
      "execution_count": null,
      "outputs": []
    },
    {
      "cell_type": "code",
      "metadata": {
        "colab": {
          "base_uri": "https://localhost:8080/"
        },
        "id": "G3NBHWxnfe0W",
        "outputId": "f6723200-f5a5-4652-ef5f-7e84514bbbfa"
      },
      "source": [
        "df2.columns"
      ],
      "execution_count": null,
      "outputs": [
        {
          "output_type": "execute_result",
          "data": {
            "text/plain": [
              "Index(['Unnamed: 0_x', 'DOI',\n",
              "       'Qualitative [interview , ethnograph, qualitative, grounded theory]',\n",
              "       'Simulation [simulation, formal model]',\n",
              "       'Experiment [field experiment, lab experiment, experiment, experiments]',\n",
              "       'Quantitative [regression, quantitative, statistically significant, statistical significance]',\n",
              "       'Majority_Method', 'Unnamed: 0_y', 'Individual',\n",
              "       'Industry/Field/Across countries', 'Organization/Company', 'Platform',\n",
              "       'Team/Group', 'Majority_LoA'],\n",
              "      dtype='object')"
            ]
          },
          "metadata": {
            "tags": []
          },
          "execution_count": 91
        }
      ]
    },
    {
      "cell_type": "code",
      "metadata": {
        "id": "WzxoSd_QfQXg"
      },
      "source": [
        "wordcounts = pd.merge(df, df2[['DOI',\n",
        "       'Qualitative [interview , ethnograph, qualitative, grounded theory]',\n",
        "       'Simulation [simulation, formal model]',\n",
        "       'Experiment [field experiment, lab experiment, experiment, experiments]',\n",
        "       'Quantitative [regression, quantitative, statistically significant, statistical significance]',\n",
        "       'Individual',\n",
        "       'Industry/Field/Across countries', 'Organization/Company', 'Platform',\n",
        "       'Team/Group'\n",
        "       ]], on = \"DOI\", how = \"outer\")"
      ],
      "execution_count": null,
      "outputs": []
    },
    {
      "cell_type": "code",
      "metadata": {
        "id": "8f29KxgFf0Ic"
      },
      "source": [
        "wordcounts.drop('Unnamed: 0', axis = 1, inplace = True)"
      ],
      "execution_count": null,
      "outputs": []
    },
    {
      "cell_type": "code",
      "metadata": {
        "id": "05r4BTogf1Wx"
      },
      "source": [
        "wordcounts.to_excel(path + \"Analysis/merged_methods_loa_wordcounts_new.xlsx\")"
      ],
      "execution_count": null,
      "outputs": []
    },
    {
      "cell_type": "code",
      "metadata": {
        "colab": {
          "base_uri": "https://localhost:8080/"
        },
        "id": "br2ghqzcgCCT",
        "outputId": "cfde3e84-5898-4c26-d14f-8a605d4288cd"
      },
      "source": [
        "wordcounts.to_stata(path + \"Analysis/merged_methods_loa_wordcounts_new.dta\",write_index=False, version=118)"
      ],
      "execution_count": null,
      "outputs": [
        {
          "output_type": "stream",
          "text": [
            "/usr/local/lib/python3.7/dist-packages/pandas/io/stata.py:2400: InvalidColumnName: \n",
            "Not all pandas column names were valid Stata variable names.\n",
            "The following replacements have been made:\n",
            "\n",
            "    Article-title   ->   Article_title\n",
            "    Qualitative [interview , ethnograph, qualitative, grounded theory]   ->   Qualitative__interview___ethnogr\n",
            "    Simulation [simulation, formal model]   ->   Simulation__simulation__formal_m\n",
            "    Experiment [field experiment, lab experiment, experiment, experiments]   ->   Experiment__field_experiment__la\n",
            "    Quantitative [regression, quantitative, statistically significant, statistical significance]   ->   Quantitative__regression__quanti\n",
            "    Industry/Field/Across countries   ->   Industry_Field_Across_countries\n",
            "    Organization/Company   ->   Organization_Company\n",
            "    Team/Group   ->   Team_Group\n",
            "\n",
            "If this is not what you expect, please make sure you have Stata-compliant\n",
            "column names in your DataFrame (strings only, max 32 characters, only\n",
            "alphanumerics and underscores, no Stata reserved words)\n",
            "\n",
            "  warnings.warn(ws, InvalidColumnName)\n"
          ],
          "name": "stderr"
        }
      ]
    },
    {
      "cell_type": "code",
      "metadata": {
        "id": "Xcj6pDSvhjzZ"
      },
      "source": [
        ""
      ],
      "execution_count": null,
      "outputs": []
    }
  ]
}