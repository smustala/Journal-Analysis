{
  "nbformat": 4,
  "nbformat_minor": 0,
  "metadata": {
    "colab": {
      "name": "Identify methods of research-through keywords",
      "provenance": [],
      "collapsed_sections": []
    },
    "kernelspec": {
      "name": "python3",
      "display_name": "Python 3"
    },
    "language_info": {
      "name": "python"
    }
  },
  "cells": [
    {
      "cell_type": "markdown",
      "metadata": {
        "id": "BshQonGmVNCg"
      },
      "source": [
        "This notebook does the following:\n",
        "*   Preprocess the corpus- lowercase, tokenize, bigram\n",
        "*  Count the number of occurences of a set of pre-defined words in each text\n",
        "\n",
        "\n",
        "Qualitative words:\n",
        "\n",
        "**qualitative**\n",
        "\n",
        "interview\n",
        "\n",
        "ethnograph*\n",
        "\n",
        "\n",
        "**Simulation/Model:**\n",
        "\n",
        "simulation \n",
        "\n",
        "formal modal:\n",
        "\n",
        "\n",
        "**Experiment (these would be collapsed into quantitative but it would be interesting to know this separately as well):**\n",
        "\n",
        "field experiment\n",
        "\n",
        "lab experiment "
      ]
    },
    {
      "cell_type": "markdown",
      "metadata": {
        "id": "IQj444Lb7uLy"
      },
      "source": [
        "Restart Kernel"
      ]
    },
    {
      "cell_type": "code",
      "metadata": {
        "id": "xwNH5gT8Y2mL"
      },
      "source": [
        "import nltk\n",
        "import numpy as np\n",
        "import pandas as pd\n",
        "from nltk import word_tokenize\n",
        "import re\n",
        "import seaborn as sns\n",
        "import matplotlib.pyplot as plt\n",
        "import smart_open\n",
        "#from gensim.models import LdaModel\n",
        "#from gensim.models import CoherenceModel\n",
        "#import pyLDAvis\n",
        "#import pyLDAvis.gensim_models as gensimvis\n",
        "#pyLDAvis.enable_notebook()\n",
        "import spacy\n",
        "import numpy as np\n",
        "#from gensim.models import LdaModel\n",
        "\n"
      ],
      "execution_count": null,
      "outputs": []
    },
    {
      "cell_type": "code",
      "metadata": {
        "colab": {
          "base_uri": "https://localhost:8080/"
        },
        "id": "poHJuUk4ZE-y",
        "outputId": "58176c68-52a0-4cd5-ae23-3555b77c8704"
      },
      "source": [
        "from google.colab import drive\n",
        "drive.mount('/content/drive')"
      ],
      "execution_count": null,
      "outputs": [
        {
          "output_type": "stream",
          "text": [
            "Mounted at /content/drive\n"
          ],
          "name": "stdout"
        }
      ]
    },
    {
      "cell_type": "code",
      "metadata": {
        "id": "oZYPFKloZG69"
      },
      "source": [
        "path = \"/content/drive/MyDrive/Journal_Analysis/\""
      ],
      "execution_count": null,
      "outputs": []
    },
    {
      "cell_type": "code",
      "metadata": {
        "id": "cli_IA2iZbqx"
      },
      "source": [
        "def extract_documents(folder_name):\n",
        "  import os\n",
        "  docs = []\n",
        "  allfiles = []\n",
        "  for entry in os.scandir(folder_name):\n",
        "      if entry.path.endswith(\".txt\") and entry.is_file():\n",
        "          path_paper = entry.path\n",
        "          allfiles.append(path_paper)\n",
        "          if os.stat(path_paper).st_size == 0:\n",
        "              continue\n",
        "          with open(path_paper) as f:\n",
        "            text = f.read()\n",
        "            docs.append(text)\n",
        "  return docs, allfiles"
      ],
      "execution_count": null,
      "outputs": []
    },
    {
      "cell_type": "code",
      "metadata": {
        "id": "cVzVPqMDZN5j"
      },
      "source": [
        "docs, allfiles = extract_documents(path + 'allpapers_NoEssays')"
      ],
      "execution_count": null,
      "outputs": []
    },
    {
      "cell_type": "code",
      "metadata": {
        "colab": {
          "base_uri": "https://localhost:8080/"
        },
        "id": "TGQNT_SWm2hs",
        "outputId": "638bc58b-d482-42d4-8f6f-6cf34772d8c0"
      },
      "source": [
        "range(len(docs))"
      ],
      "execution_count": null,
      "outputs": [
        {
          "output_type": "execute_result",
          "data": {
            "text/plain": [
              "range(0, 220)"
            ]
          },
          "metadata": {},
          "execution_count": 6
        }
      ]
    },
    {
      "cell_type": "code",
      "metadata": {
        "colab": {
          "base_uri": "https://localhost:8080/"
        },
        "id": "SXXv7eG57_UE",
        "outputId": "1ddf8d9b-e856-42e7-fab9-e743bd5edebc"
      },
      "source": [
        "toy = \"I did an experiment.\"\n",
        "toy.split().count(\"experiment\")"
      ],
      "execution_count": null,
      "outputs": [
        {
          "output_type": "execute_result",
          "data": {
            "text/plain": [
              "0"
            ]
          },
          "metadata": {},
          "execution_count": 7
        }
      ]
    },
    {
      "cell_type": "markdown",
      "metadata": {
        "id": "eEhSBMlNCbik"
      },
      "source": [
        "**Get the majority method based on sum of number of times each keyword appears in the document**"
      ]
    },
    {
      "cell_type": "code",
      "metadata": {
        "id": "1iugSQkty5zU"
      },
      "source": [
        "#Edits: Add \"Experiment\" in experiment\n",
        "# Replace Hypothesis with quantitative in quantitative, add \"statistically significant\" and \"statistical significance\" \n",
        "# Mixed Methods \n",
        "# Edits Aug 4: \n",
        "# Add \"independent variable\", \"control variable\", \"dependent variable\" in quantitative\n",
        "# Lower bar than 10 maybe 5\n",
        "# Sum of counts in one category > average of all individual non-zero counts\n",
        "# Just the word \"qualitative\" using split, same for \"interview\"\n",
        "# Experiments in mixed \n",
        "# Split all the words to fix the stemming issue\n",
        "# Make a stata file with all the things coded\n",
        "# Pie charts for topics : showing break up of all other characteristics that we were looking at \n",
        "# Potential words for quantitative: \"categorical variables\", \"logit\", \" standard error\", \"OLS\", \"linear model\", \"sensitivity analysis\", \"coefficients\"\n",
        "# Potential words for quantitative: \"survey\"\n",
        "qualitative = [\"interview\" , \"interviews\", \"ethnograph\", \"qualitative\", \"grounded theory\"] \n",
        "simulation = [\"simulation\", \"formal model\"]\n",
        "#experiment = [\"field experiment\", \"lab experiment\"]\n",
        "experiment = [\"field experiment\", \"lab experiment\", \"experiment\", \"experiments\"]\n",
        "#quantitative = [\"regression\", \"hypothesis\"]\n",
        "quantitative = [\"regression\", \"quantitative\", \"statistically significant\", \"statistical significance\", \"independent variable\", \"control variable\", \"dependent variable\", \"logit\", \"standard error\", \"OLS\", \"linear model\"]\n",
        "from collections import defaultdict\n",
        "countsum = {}\n",
        "for i in range(len(docs)):\n",
        "\n",
        "  q = sum([docs[i].lower().split().count(x) for x in qualitative])\n",
        "  s = sum([docs[i].lower().count(x) for x in simulation])\n",
        "  e = sum([docs[i].lower().split().count(x) for x in experiment])\n",
        "  qt = sum([docs[i].lower().count(x) for x in quantitative])\n",
        "  countsum[allfiles[i].split(\"/\")[-1].strip('.txt')] = [q,s,e,qt]\n"
      ],
      "execution_count": null,
      "outputs": []
    },
    {
      "cell_type": "code",
      "metadata": {
        "id": "7NOfm04P1qgi"
      },
      "source": [
        "df_countsum = pd.DataFrame(data = countsum, index = None).T"
      ],
      "execution_count": null,
      "outputs": []
    },
    {
      "cell_type": "code",
      "metadata": {
        "id": "t3BynGl74yyg"
      },
      "source": [
        "df_countsum.columns = [\"Qualitative\", \"Simulation\", \"Experiment\", \"Quantitative\"]"
      ],
      "execution_count": null,
      "outputs": []
    },
    {
      "cell_type": "code",
      "metadata": {
        "id": "gH_S3eZx8nYT"
      },
      "source": [
        "df_countsum_no_nulls = df_countsum[(df_countsum != 0).any(axis='columns')]"
      ],
      "execution_count": null,
      "outputs": []
    },
    {
      "cell_type": "code",
      "metadata": {
        "id": "YHqb25JHAOqq"
      },
      "source": [
        "#df_countsum_no_nulls[\"majority\"] = df_countsum_no_nulls.idxmax(axis = 1)"
      ],
      "execution_count": null,
      "outputs": []
    },
    {
      "cell_type": "markdown",
      "metadata": {
        "id": "BgXo_bCly0HN"
      },
      "source": [
        "**Change it to mixed category in case of a tie**"
      ]
    },
    {
      "cell_type": "code",
      "metadata": {
        "id": "w_ezgfd9y3lH",
        "colab": {
          "base_uri": "https://localhost:8080/"
        },
        "outputId": "d7687f32-7908-4385-bd81-b5cc67205237"
      },
      "source": [
        "df_countsum_no_nulls[\"majority\"] = df_countsum_no_nulls.apply(lambda x: x.values == x.values.max(), axis = 1)"
      ],
      "execution_count": null,
      "outputs": [
        {
          "output_type": "stream",
          "text": [
            "/usr/local/lib/python3.7/dist-packages/ipykernel_launcher.py:1: SettingWithCopyWarning: \n",
            "A value is trying to be set on a copy of a slice from a DataFrame.\n",
            "Try using .loc[row_indexer,col_indexer] = value instead\n",
            "\n",
            "See the caveats in the documentation: https://pandas.pydata.org/pandas-docs/stable/user_guide/indexing.html#returning-a-view-versus-a-copy\n",
            "  \"\"\"Entry point for launching an IPython kernel.\n"
          ],
          "name": "stderr"
        }
      ]
    },
    {
      "cell_type": "code",
      "metadata": {
        "id": "OE5BnncNzIaz",
        "colab": {
          "base_uri": "https://localhost:8080/"
        },
        "outputId": "c1cabd0b-76e3-4679-866f-4b0a07a2d5d3"
      },
      "source": [
        "df_countsum_no_nulls[\"Majority_Method_Index\"] = df_countsum_no_nulls[\"majority\"].apply(lambda row: [i for i, x in enumerate(row) if x] )"
      ],
      "execution_count": null,
      "outputs": [
        {
          "output_type": "stream",
          "text": [
            "/usr/local/lib/python3.7/dist-packages/ipykernel_launcher.py:1: SettingWithCopyWarning: \n",
            "A value is trying to be set on a copy of a slice from a DataFrame.\n",
            "Try using .loc[row_indexer,col_indexer] = value instead\n",
            "\n",
            "See the caveats in the documentation: https://pandas.pydata.org/pandas-docs/stable/user_guide/indexing.html#returning-a-view-versus-a-copy\n",
            "  \"\"\"Entry point for launching an IPython kernel.\n"
          ],
          "name": "stderr"
        }
      ]
    },
    {
      "cell_type": "code",
      "metadata": {
        "id": "R33j7FaTzPfz",
        "colab": {
          "base_uri": "https://localhost:8080/"
        },
        "outputId": "e68263b9-8e50-4d58-c4e3-2e37a579b56e"
      },
      "source": [
        "categories = df_countsum.columns\n",
        "df_countsum_no_nulls[\"Majority_Method\"] = df_countsum_no_nulls[\"Majority_Method_Index\"].apply(lambda x : [categories[i] for i in x])"
      ],
      "execution_count": null,
      "outputs": [
        {
          "output_type": "stream",
          "text": [
            "/usr/local/lib/python3.7/dist-packages/ipykernel_launcher.py:2: SettingWithCopyWarning: \n",
            "A value is trying to be set on a copy of a slice from a DataFrame.\n",
            "Try using .loc[row_indexer,col_indexer] = value instead\n",
            "\n",
            "See the caveats in the documentation: https://pandas.pydata.org/pandas-docs/stable/user_guide/indexing.html#returning-a-view-versus-a-copy\n",
            "  \n"
          ],
          "name": "stderr"
        }
      ]
    },
    {
      "cell_type": "code",
      "metadata": {
        "colab": {
          "base_uri": "https://localhost:8080/"
        },
        "id": "MJwPKCYH4Gx7",
        "outputId": "7dec0220-c63a-4f99-a5fa-2b8aa948e2e5"
      },
      "source": [
        "categories = df_countsum.columns\n",
        "categories = list(categories)\n",
        "categories.append(\"Majority_Method\")\n",
        "categories"
      ],
      "execution_count": null,
      "outputs": [
        {
          "output_type": "execute_result",
          "data": {
            "text/plain": [
              "['Qualitative', 'Simulation', 'Experiment', 'Quantitative', 'Majority_Method']"
            ]
          },
          "metadata": {},
          "execution_count": 16
        }
      ]
    },
    {
      "cell_type": "code",
      "metadata": {
        "id": "MoKNAztU0F_v"
      },
      "source": [
        "df_methods = df_countsum_no_nulls[categories]"
      ],
      "execution_count": null,
      "outputs": []
    },
    {
      "cell_type": "code",
      "metadata": {
        "id": "WslFZIEh5GXL"
      },
      "source": [
        "del df_countsum_no_nulls\n",
        "#del df_countsum\n",
        "#del df_ties\n",
        "#del df_ties_morethan1"
      ],
      "execution_count": null,
      "outputs": []
    },
    {
      "cell_type": "code",
      "metadata": {
        "id": "h5ZBUljG5g5x"
      },
      "source": [
        "df_methods.reset_index(inplace = True)\n"
      ],
      "execution_count": null,
      "outputs": []
    },
    {
      "cell_type": "code",
      "metadata": {
        "id": "ol1hH05Z5tpA"
      },
      "source": [
        "df_methods.rename(columns = {\"index\" : \"DOI\"}, inplace = True)"
      ],
      "execution_count": null,
      "outputs": []
    },
    {
      "cell_type": "code",
      "metadata": {
        "colab": {
          "base_uri": "https://localhost:8080/",
          "height": 359
        },
        "id": "-6nAq7QK-BQU",
        "outputId": "78c45c8e-38f8-40b6-ba26-603abeb888e0"
      },
      "source": [
        "df_methods.head(10)"
      ],
      "execution_count": null,
      "outputs": [
        {
          "output_type": "execute_result",
          "data": {
            "text/html": [
              "<div>\n",
              "<style scoped>\n",
              "    .dataframe tbody tr th:only-of-type {\n",
              "        vertical-align: middle;\n",
              "    }\n",
              "\n",
              "    .dataframe tbody tr th {\n",
              "        vertical-align: top;\n",
              "    }\n",
              "\n",
              "    .dataframe thead th {\n",
              "        text-align: right;\n",
              "    }\n",
              "</style>\n",
              "<table border=\"1\" class=\"dataframe\">\n",
              "  <thead>\n",
              "    <tr style=\"text-align: right;\">\n",
              "      <th></th>\n",
              "      <th>DOI</th>\n",
              "      <th>Qualitative</th>\n",
              "      <th>Simulation</th>\n",
              "      <th>Experiment</th>\n",
              "      <th>Quantitative</th>\n",
              "      <th>Majority_Method</th>\n",
              "    </tr>\n",
              "  </thead>\n",
              "  <tbody>\n",
              "    <tr>\n",
              "      <th>0</th>\n",
              "      <td>10.1177_0001839213486759</td>\n",
              "      <td>1</td>\n",
              "      <td>0</td>\n",
              "      <td>0</td>\n",
              "      <td>23</td>\n",
              "      <td>[Quantitative]</td>\n",
              "    </tr>\n",
              "    <tr>\n",
              "      <th>1</th>\n",
              "      <td>10.1177_0001839218793128</td>\n",
              "      <td>2</td>\n",
              "      <td>1</td>\n",
              "      <td>0</td>\n",
              "      <td>14</td>\n",
              "      <td>[Quantitative]</td>\n",
              "    </tr>\n",
              "    <tr>\n",
              "      <th>2</th>\n",
              "      <td>10.1177_0001839212437519</td>\n",
              "      <td>12</td>\n",
              "      <td>0</td>\n",
              "      <td>3</td>\n",
              "      <td>2</td>\n",
              "      <td>[Qualitative]</td>\n",
              "    </tr>\n",
              "    <tr>\n",
              "      <th>3</th>\n",
              "      <td>10.1177_0001839216673823</td>\n",
              "      <td>0</td>\n",
              "      <td>0</td>\n",
              "      <td>0</td>\n",
              "      <td>24</td>\n",
              "      <td>[Quantitative]</td>\n",
              "    </tr>\n",
              "    <tr>\n",
              "      <th>4</th>\n",
              "      <td>10.1177_0001839213488773</td>\n",
              "      <td>1</td>\n",
              "      <td>0</td>\n",
              "      <td>0</td>\n",
              "      <td>15</td>\n",
              "      <td>[Quantitative]</td>\n",
              "    </tr>\n",
              "    <tr>\n",
              "      <th>5</th>\n",
              "      <td>10.1177_0001839218761369</td>\n",
              "      <td>0</td>\n",
              "      <td>2</td>\n",
              "      <td>0</td>\n",
              "      <td>25</td>\n",
              "      <td>[Quantitative]</td>\n",
              "    </tr>\n",
              "    <tr>\n",
              "      <th>6</th>\n",
              "      <td>10.1177_0001839215619198</td>\n",
              "      <td>8</td>\n",
              "      <td>0</td>\n",
              "      <td>0</td>\n",
              "      <td>26</td>\n",
              "      <td>[Quantitative]</td>\n",
              "    </tr>\n",
              "    <tr>\n",
              "      <th>7</th>\n",
              "      <td>10.1177_0001839219855329</td>\n",
              "      <td>3</td>\n",
              "      <td>0</td>\n",
              "      <td>0</td>\n",
              "      <td>1</td>\n",
              "      <td>[Qualitative]</td>\n",
              "    </tr>\n",
              "    <tr>\n",
              "      <th>8</th>\n",
              "      <td>10.1177_0001839212461439</td>\n",
              "      <td>0</td>\n",
              "      <td>0</td>\n",
              "      <td>0</td>\n",
              "      <td>18</td>\n",
              "      <td>[Quantitative]</td>\n",
              "    </tr>\n",
              "    <tr>\n",
              "      <th>9</th>\n",
              "      <td>10.1177_0001839212440972</td>\n",
              "      <td>0</td>\n",
              "      <td>0</td>\n",
              "      <td>50</td>\n",
              "      <td>4</td>\n",
              "      <td>[Experiment]</td>\n",
              "    </tr>\n",
              "  </tbody>\n",
              "</table>\n",
              "</div>"
            ],
            "text/plain": [
              "                        DOI  Qualitative  ...  Quantitative  Majority_Method\n",
              "0  10.1177_0001839213486759            1  ...            23   [Quantitative]\n",
              "1  10.1177_0001839218793128            2  ...            14   [Quantitative]\n",
              "2  10.1177_0001839212437519           12  ...             2    [Qualitative]\n",
              "3  10.1177_0001839216673823            0  ...            24   [Quantitative]\n",
              "4  10.1177_0001839213488773            1  ...            15   [Quantitative]\n",
              "5  10.1177_0001839218761369            0  ...            25   [Quantitative]\n",
              "6  10.1177_0001839215619198            8  ...            26   [Quantitative]\n",
              "7  10.1177_0001839219855329            3  ...             1    [Qualitative]\n",
              "8  10.1177_0001839212461439            0  ...            18   [Quantitative]\n",
              "9  10.1177_0001839212440972            0  ...             4     [Experiment]\n",
              "\n",
              "[10 rows x 6 columns]"
            ]
          },
          "metadata": {},
          "execution_count": 21
        }
      ]
    },
    {
      "cell_type": "code",
      "metadata": {
        "colab": {
          "base_uri": "https://localhost:8080/"
        },
        "id": "FGYv9X8NBfWs",
        "outputId": "f17a1d05-ccbe-4531-a0ce-68ca7c8d2579"
      },
      "source": [
        "len(df_methods)"
      ],
      "execution_count": null,
      "outputs": [
        {
          "output_type": "execute_result",
          "data": {
            "text/plain": [
              "218"
            ]
          },
          "metadata": {},
          "execution_count": 22
        }
      ]
    },
    {
      "cell_type": "code",
      "metadata": {
        "colab": {
          "base_uri": "https://localhost:8080/",
          "height": 80
        },
        "id": "Ng1u75ixBXHl",
        "outputId": "d0d9b196-0e4e-44be-a9d4-0f25d55a619e"
      },
      "source": [
        "df_methods[df_methods[\"DOI\"] == \"10.1177_0001839218771550\"]"
      ],
      "execution_count": null,
      "outputs": [
        {
          "output_type": "execute_result",
          "data": {
            "text/html": [
              "<div>\n",
              "<style scoped>\n",
              "    .dataframe tbody tr th:only-of-type {\n",
              "        vertical-align: middle;\n",
              "    }\n",
              "\n",
              "    .dataframe tbody tr th {\n",
              "        vertical-align: top;\n",
              "    }\n",
              "\n",
              "    .dataframe thead th {\n",
              "        text-align: right;\n",
              "    }\n",
              "</style>\n",
              "<table border=\"1\" class=\"dataframe\">\n",
              "  <thead>\n",
              "    <tr style=\"text-align: right;\">\n",
              "      <th></th>\n",
              "      <th>DOI</th>\n",
              "      <th>Qualitative</th>\n",
              "      <th>Simulation</th>\n",
              "      <th>Experiment</th>\n",
              "      <th>Quantitative</th>\n",
              "      <th>Majority_Method</th>\n",
              "    </tr>\n",
              "  </thead>\n",
              "  <tbody>\n",
              "    <tr>\n",
              "      <th>10</th>\n",
              "      <td>10.1177_0001839218771550</td>\n",
              "      <td>4</td>\n",
              "      <td>0</td>\n",
              "      <td>0</td>\n",
              "      <td>43</td>\n",
              "      <td>[Quantitative]</td>\n",
              "    </tr>\n",
              "  </tbody>\n",
              "</table>\n",
              "</div>"
            ],
            "text/plain": [
              "                         DOI  Qualitative  ...  Quantitative  Majority_Method\n",
              "10  10.1177_0001839218771550            4  ...            43   [Quantitative]\n",
              "\n",
              "[1 rows x 6 columns]"
            ]
          },
          "metadata": {},
          "execution_count": 23
        }
      ]
    },
    {
      "cell_type": "code",
      "metadata": {
        "colab": {
          "base_uri": "https://localhost:8080/",
          "height": 351
        },
        "id": "mrYVIFt_FSwM",
        "outputId": "146e095f-29b2-4260-9adb-bb8081979060"
      },
      "source": [
        "df_methods[\"Majority_Method\"].value_counts()"
      ],
      "execution_count": null,
      "outputs": [
        {
          "output_type": "error",
          "ename": "TypeError",
          "evalue": "ignored",
          "traceback": [
            "\u001b[0;31m---------------------------------------------------------------------------\u001b[0m",
            "\u001b[0;31mTypeError\u001b[0m                                 Traceback (most recent call last)",
            "\u001b[0;32mpandas/_libs/hashtable_class_helper.pxi\u001b[0m in \u001b[0;36mpandas._libs.hashtable.PyObjectHashTable.map_locations\u001b[0;34m()\u001b[0m\n",
            "\u001b[0;31mTypeError\u001b[0m: unhashable type: 'list'"
          ]
        },
        {
          "output_type": "stream",
          "text": [
            "Exception ignored in: 'pandas._libs.index.IndexEngine._call_map_locations'\n",
            "Traceback (most recent call last):\n",
            "  File \"pandas/_libs/hashtable_class_helper.pxi\", line 1709, in pandas._libs.hashtable.PyObjectHashTable.map_locations\n",
            "TypeError: unhashable type: 'list'\n"
          ],
          "name": "stderr"
        },
        {
          "output_type": "execute_result",
          "data": {
            "text/plain": [
              "[Quantitative]                 137\n",
              "[Qualitative]                   63\n",
              "[Experiment]                     9\n",
              "[Simulation]                     6\n",
              "[Qualitative, Quantitative]      1\n",
              "[Qualitative, Simulation]        1\n",
              "[Experiment, Quantitative]       1\n",
              "Name: Majority_Method, dtype: int64"
            ]
          },
          "metadata": {},
          "execution_count": 24
        }
      ]
    },
    {
      "cell_type": "markdown",
      "metadata": {
        "id": "R_joSximCnqL"
      },
      "source": [
        "**Get the word count of each keyword describing the methods**"
      ]
    },
    {
      "cell_type": "code",
      "metadata": {
        "id": "xKIICHxgC2CW"
      },
      "source": [
        "qualitative = [\"interview\" , \"interviews\", \"ethnograph\", \"qualitative\", \"grounded theory\"]\n",
        "simulation = [\"simulation\", \"formal model\"]\n",
        "#experiment = [\"field experiment\", \"lab experiment\"]\n",
        "experiment = [\"field experiment\", \"lab experiment\", \"experiment\", \"experiments\"]\n",
        "#quantitative = [\"regression\", \"hypothesis\"]\n",
        "quantitative = [\"regression\", \"quantitative\", \"statistically significant\", \"statistical significance\", \"independent variable\", \"control variable\", \"dependent variable\", \"logit\", \"standard error\", \"OLS\", \"linear model\"]\n",
        "from collections import defaultdict\n",
        "countwords = {}\n",
        "for i in range(len(docs)):\n",
        "\n",
        "  q = [docs[i].lower().split().count(x) for x in qualitative]\n",
        "  s = [docs[i].lower().count(x) for x in simulation]\n",
        "  e = [docs[i].lower().split().count(x) for x in experiment]\n",
        "  qt = [docs[i].lower().count(x) for x in quantitative]\n",
        "  countwords[allfiles[i].split(\"/\")[-1].strip('.txt')] = [q,s,e,qt]"
      ],
      "execution_count": null,
      "outputs": []
    },
    {
      "cell_type": "code",
      "metadata": {
        "id": "PwNjZuqFDLqi"
      },
      "source": [
        "df_countwords = pd.DataFrame(data = countwords, index = None).T"
      ],
      "execution_count": null,
      "outputs": []
    },
    {
      "cell_type": "code",
      "metadata": {
        "id": "4Ex4zycYDmU-"
      },
      "source": [
        "df_countwords.reset_index(inplace = True)"
      ],
      "execution_count": null,
      "outputs": []
    },
    {
      "cell_type": "code",
      "metadata": {
        "id": "zehWYYSwDVH-"
      },
      "source": [
        "df_countwords.columns = [\"DOI\", \"[interview , interviews, ethnograph, qualitative, grounded theory]\", \"[simulation, formal model]\", \"[field experiment, lab experiment, experiment, experiments]\", \"[regression, quantitative, statistically significant, statistical significance, independent variable, control variable, dependent variable, logit, standard error, OLS, linear model]\" ]"
      ],
      "execution_count": null,
      "outputs": []
    },
    {
      "cell_type": "code",
      "metadata": {
        "id": "PZyH0Tsn64or"
      },
      "source": [
        "df_countwords.to_excel(path + \"methods.xlsx\")"
      ],
      "execution_count": null,
      "outputs": []
    },
    {
      "cell_type": "code",
      "metadata": {
        "colab": {
          "base_uri": "https://localhost:8080/",
          "height": 470
        },
        "id": "h6V2AAJ79gMe",
        "outputId": "50532ea6-7a33-4c2c-f6ee-72c334e93259"
      },
      "source": [
        "df_countwords"
      ],
      "execution_count": null,
      "outputs": [
        {
          "output_type": "execute_result",
          "data": {
            "text/html": [
              "<div>\n",
              "<style scoped>\n",
              "    .dataframe tbody tr th:only-of-type {\n",
              "        vertical-align: middle;\n",
              "    }\n",
              "\n",
              "    .dataframe tbody tr th {\n",
              "        vertical-align: top;\n",
              "    }\n",
              "\n",
              "    .dataframe thead th {\n",
              "        text-align: right;\n",
              "    }\n",
              "</style>\n",
              "<table border=\"1\" class=\"dataframe\">\n",
              "  <thead>\n",
              "    <tr style=\"text-align: right;\">\n",
              "      <th></th>\n",
              "      <th>DOI</th>\n",
              "      <th>[interview , interviews, ethnograph, qualitative, grounded theory]</th>\n",
              "      <th>[simulation, formal model]</th>\n",
              "      <th>[field experiment, lab experiment, experiment, experiments]</th>\n",
              "      <th>[regression, quantitative, statistically significant, statistical significance, independent variable, control variable, dependent variable, logit, standard error, OLS, linear model]</th>\n",
              "    </tr>\n",
              "  </thead>\n",
              "  <tbody>\n",
              "    <tr>\n",
              "      <th>0</th>\n",
              "      <td>10.1177_0001839213486759</td>\n",
              "      <td>[0, 0, 0, 1, 0]</td>\n",
              "      <td>[0, 0]</td>\n",
              "      <td>[0, 0, 0, 0]</td>\n",
              "      <td>[7, 0, 1, 0, 2, 3, 3, 1, 6, 0, 0]</td>\n",
              "    </tr>\n",
              "    <tr>\n",
              "      <th>1</th>\n",
              "      <td>10.1177_0001839218793128</td>\n",
              "      <td>[0, 2, 0, 0, 0]</td>\n",
              "      <td>[1, 0]</td>\n",
              "      <td>[0, 0, 0, 0]</td>\n",
              "      <td>[4, 0, 2, 0, 1, 2, 3, 0, 2, 0, 0]</td>\n",
              "    </tr>\n",
              "    <tr>\n",
              "      <th>2</th>\n",
              "      <td>10.1177_0001839212437519</td>\n",
              "      <td>[4, 8, 0, 0, 0]</td>\n",
              "      <td>[0, 0]</td>\n",
              "      <td>[0, 0, 1, 2]</td>\n",
              "      <td>[0, 2, 0, 0, 0, 0, 0, 0, 0, 0, 0]</td>\n",
              "    </tr>\n",
              "    <tr>\n",
              "      <th>3</th>\n",
              "      <td>10.1177_0001839216673823</td>\n",
              "      <td>[0, 0, 0, 0, 0]</td>\n",
              "      <td>[0, 0]</td>\n",
              "      <td>[0, 0, 0, 0]</td>\n",
              "      <td>[6, 0, 0, 0, 3, 5, 7, 0, 3, 0, 0]</td>\n",
              "    </tr>\n",
              "    <tr>\n",
              "      <th>4</th>\n",
              "      <td>10.1177_0001839213488773</td>\n",
              "      <td>[0, 0, 0, 1, 0]</td>\n",
              "      <td>[0, 0]</td>\n",
              "      <td>[0, 0, 0, 0]</td>\n",
              "      <td>[4, 0, 0, 0, 0, 2, 3, 0, 5, 0, 1]</td>\n",
              "    </tr>\n",
              "    <tr>\n",
              "      <th>...</th>\n",
              "      <td>...</td>\n",
              "      <td>...</td>\n",
              "      <td>...</td>\n",
              "      <td>...</td>\n",
              "      <td>...</td>\n",
              "    </tr>\n",
              "    <tr>\n",
              "      <th>215</th>\n",
              "      <td>10.1177_0001839220962795</td>\n",
              "      <td>[4, 7, 0, 4, 0]</td>\n",
              "      <td>[0, 0]</td>\n",
              "      <td>[0, 0, 0, 0]</td>\n",
              "      <td>[0, 2, 0, 0, 0, 0, 0, 0, 0, 0, 0]</td>\n",
              "    </tr>\n",
              "    <tr>\n",
              "      <th>216</th>\n",
              "      <td>asqu.2011.56.1.001</td>\n",
              "      <td>[0, 0, 0, 0, 0]</td>\n",
              "      <td>[0, 0]</td>\n",
              "      <td>[0, 0, 30, 10]</td>\n",
              "      <td>[4, 1, 0, 0, 3, 0, 7, 0, 1, 0, 0]</td>\n",
              "    </tr>\n",
              "    <tr>\n",
              "      <th>217</th>\n",
              "      <td>asqu.2011.56.1.061</td>\n",
              "      <td>[0, 1, 0, 1, 0]</td>\n",
              "      <td>[0, 0]</td>\n",
              "      <td>[0, 0, 0, 0]</td>\n",
              "      <td>[8, 1, 0, 0, 1, 3, 7, 0, 2, 0, 0]</td>\n",
              "    </tr>\n",
              "    <tr>\n",
              "      <th>218</th>\n",
              "      <td>asqu.2011.56.1.026</td>\n",
              "      <td>[0, 0, 0, 1, 0]</td>\n",
              "      <td>[0, 0]</td>\n",
              "      <td>[0, 0, 0, 0]</td>\n",
              "      <td>[4, 0, 8, 0, 0, 2, 3, 0, 0, 0, 0]</td>\n",
              "    </tr>\n",
              "    <tr>\n",
              "      <th>219</th>\n",
              "      <td>asqu.2011.56.1.095</td>\n",
              "      <td>[0, 0, 0, 1, 0]</td>\n",
              "      <td>[1, 0]</td>\n",
              "      <td>[0, 0, 0, 0]</td>\n",
              "      <td>[0, 0, 0, 0, 0, 0, 0, 0, 0, 0, 0]</td>\n",
              "    </tr>\n",
              "  </tbody>\n",
              "</table>\n",
              "<p>220 rows × 5 columns</p>\n",
              "</div>"
            ],
            "text/plain": [
              "                          DOI  ... [regression, quantitative, statistically significant, statistical significance, independent variable, control variable, dependent variable, logit, standard error, OLS, linear model]\n",
              "0    10.1177_0001839213486759  ...                  [7, 0, 1, 0, 2, 3, 3, 1, 6, 0, 0]                                                                                                                                   \n",
              "1    10.1177_0001839218793128  ...                  [4, 0, 2, 0, 1, 2, 3, 0, 2, 0, 0]                                                                                                                                   \n",
              "2    10.1177_0001839212437519  ...                  [0, 2, 0, 0, 0, 0, 0, 0, 0, 0, 0]                                                                                                                                   \n",
              "3    10.1177_0001839216673823  ...                  [6, 0, 0, 0, 3, 5, 7, 0, 3, 0, 0]                                                                                                                                   \n",
              "4    10.1177_0001839213488773  ...                  [4, 0, 0, 0, 0, 2, 3, 0, 5, 0, 1]                                                                                                                                   \n",
              "..                        ...  ...                                                ...                                                                                                                                   \n",
              "215  10.1177_0001839220962795  ...                  [0, 2, 0, 0, 0, 0, 0, 0, 0, 0, 0]                                                                                                                                   \n",
              "216        asqu.2011.56.1.001  ...                  [4, 1, 0, 0, 3, 0, 7, 0, 1, 0, 0]                                                                                                                                   \n",
              "217        asqu.2011.56.1.061  ...                  [8, 1, 0, 0, 1, 3, 7, 0, 2, 0, 0]                                                                                                                                   \n",
              "218        asqu.2011.56.1.026  ...                  [4, 0, 8, 0, 0, 2, 3, 0, 0, 0, 0]                                                                                                                                   \n",
              "219        asqu.2011.56.1.095  ...                  [0, 0, 0, 0, 0, 0, 0, 0, 0, 0, 0]                                                                                                                                   \n",
              "\n",
              "[220 rows x 5 columns]"
            ]
          },
          "metadata": {},
          "execution_count": 30
        }
      ]
    },
    {
      "cell_type": "markdown",
      "metadata": {
        "id": "cuxsqtjshGIl"
      },
      "source": [
        "**Mixed Category - any two of [Qualitative, Experiment, Quantitative]**\n",
        "\n",
        "\n",
        "\n",
        "\n",
        "\n",
        "Decision Rule: Above average OR Above a number (10)"
      ]
    },
    {
      "cell_type": "code",
      "metadata": {
        "id": "clbvnsz1hGIp"
      },
      "source": [
        "df_merged = pd.merge(df_methods[[\"DOI\", \"Majority_Method\"]], df_countwords, on = \"DOI\", how = \"outer\")"
      ],
      "execution_count": null,
      "outputs": []
    },
    {
      "cell_type": "code",
      "metadata": {
        "id": "kVw0_ucFhGIq"
      },
      "source": [
        "df_merged[\"Majority_Method_cs\"] = df_merged[\"Majority_Method\"].dropna().apply(lambda x: \",\".join(x))"
      ],
      "execution_count": null,
      "outputs": []
    },
    {
      "cell_type": "code",
      "metadata": {
        "id": "pMMJ2CwOhGIq"
      },
      "source": [
        "m = [\"Qualitative\", \"Quantitative\", \"Experiment\"]\n",
        "df_merged_q = df_merged[(df_merged[\"Majority_Method_cs\"] == \"Qualitative\") | (df_merged[\"Majority_Method_cs\"] == \"Quantitative\") | (df_merged[\"Majority_Method_cs\"] == \"Experiment\")].drop(\"Majority_Method\", axis =1)\n",
        "df_merged_q.columns = [\"DOI\", 'Qualitative', 'Simulation', 'Experiment', 'Quantitative', 'Majority_Method' ]"
      ],
      "execution_count": null,
      "outputs": []
    },
    {
      "cell_type": "code",
      "metadata": {
        "id": "W5RKmoK_hGIq"
      },
      "source": [
        "df_merged_others = df_merged[(df_merged[\"Majority_Method_cs\"] != \"Qualitative\") & (df_merged[\"Majority_Method_cs\"] != \"Quantitative\") & (df_merged[\"Majority_Method_cs\"] != \"Experiment\")].drop(\"Majority_Method\", axis =1)\n",
        "df_merged_others.columns = [\"DOI\", 'Qualitative', 'Simulation', 'Experiment', 'Quantitative', 'Majority_Method' ]"
      ],
      "execution_count": null,
      "outputs": []
    },
    {
      "cell_type": "code",
      "metadata": {
        "colab": {
          "base_uri": "https://localhost:8080/"
        },
        "id": "5KpVvI2xhGIr",
        "outputId": "6f9abf12-3e5a-4191-c68b-60d5b774abe0"
      },
      "source": [
        "import statistics\n",
        "a = [0,2,3]. = 5\n",
        "b = [3,4,1]. = 7\n",
        "savg = 6\n",
        "sum(a) > savg \n",
        "statistics.mean(a + b)\n",
        "np.array(a + b)[np.nonzero(np.array(a + b))]"
      ],
      "execution_count": null,
      "outputs": [
        {
          "output_type": "execute_result",
          "data": {
            "text/plain": [
              "array([2, 3, 3, 4, 1])"
            ]
          },
          "metadata": {},
          "execution_count": 35
        }
      ]
    },
    {
      "cell_type": "code",
      "metadata": {
        "id": "oB-uARXihGIr"
      },
      "source": [
        "def check_avg(x):\n",
        "  import statistics\n",
        "  a, b, c = x[\"Qualitative\"], x[\"Quantitative\"], x[\"Experiment\"]\n",
        "  no_zeros = np.array(a + b + c)[np.nonzero(np.array(a + b + c))]\n",
        "  avg = statistics.mean(no_zeros)\n",
        "  sa, sb, sc = sum(a), sum(b), sum(c) \n",
        "  savg = statistics.mean(np.array([sa, sb, sc])[np.nonzero(np.array([sa , sb , sc]))])  # Avg of non zero sum of scores in each category \n",
        "  if (sum(a) > sum(b)) and (sum(a) > sum(c)):  # Majority: Qualitative\n",
        "    if (sb > savg) or (sc > savg):\n",
        "      return \"Mixed Category\"\n",
        "    for i in b:\n",
        "      if i > avg or i > 5 :   #\n",
        "        return \"Mixed Category\"\n",
        "    for j in c:\n",
        "      if j > avg or i > 5  :   #or i > 0.01\n",
        "        return \"Mixed Category\"\n",
        "      \n",
        "  elif (sum(b) > sum(a)) and (sum(b) > sum(c)):  # Majority: Quantitative\n",
        "    if (sa > savg) or (sc > savg):\n",
        "      return \"Mixed Category\"\n",
        "    for i in a:\n",
        "      if i > avg or i > 5 :   #or i > 0.01\n",
        "        return \"Mixed Category\"\n",
        "    for j in c:\n",
        "      if j > avg or i > 5 :   #or i > 0.01\n",
        "        return \"Mixed Category\"\n",
        "\n",
        "  else:                                       # Majority : Experiment\n",
        "    if (sa > savg) or (sb > savg):\n",
        "      return \"Mixed Category\"  \n",
        "    for i in a:\n",
        "      if i > avg or i > 5 :\n",
        "        return \"Mixed Category\"\n",
        "    for j in b:\n",
        "      if j > avg or i > 5  :   #or i > 0.01\n",
        "        return \"Mixed Category\" \n",
        "\n",
        "\n"
      ],
      "execution_count": null,
      "outputs": []
    },
    {
      "cell_type": "code",
      "metadata": {
        "id": "ZnfRvlkkhGIr"
      },
      "source": [
        "df_merged_q[\"Mixed_Category\"] = df_merged_q[[\"Qualitative\", \"Quantitative\", \"Experiment\"]].apply(check_avg, axis = 1)"
      ],
      "execution_count": null,
      "outputs": []
    },
    {
      "cell_type": "code",
      "metadata": {
        "id": "PbjUyZrVhGIr"
      },
      "source": [
        "df_merged_q[\"Majority_Method\"] = df_merged_q.apply(lambda x: \"Mixed_Methods\" if x[\"Mixed_Category\"] == \"Mixed Category\" else x[\"Majority_Method\"], axis = 1)"
      ],
      "execution_count": null,
      "outputs": []
    },
    {
      "cell_type": "code",
      "metadata": {
        "id": "kRAbxN2PhGIs"
      },
      "source": [
        "df_merged_others[\"Majority_Method\"] = df_merged_others.dropna().apply(lambda x: \"Mixed_Methods\" if \",\" in x[\"Majority_Method\"] else x[\"Majority_Method\"], axis = 1 )"
      ],
      "execution_count": null,
      "outputs": []
    },
    {
      "cell_type": "code",
      "metadata": {
        "id": "m4gK5fEPhGIs"
      },
      "source": [
        "df_all = pd.concat([df_merged_q, df_merged_others])"
      ],
      "execution_count": null,
      "outputs": []
    },
    {
      "cell_type": "code",
      "metadata": {
        "colab": {
          "base_uri": "https://localhost:8080/"
        },
        "id": "g4zDUOaXh4tx",
        "outputId": "4a7b6d5e-a724-428d-db56-a76767de03f2"
      },
      "source": [
        "df_all[\"Majority_Method\"].value_counts()"
      ],
      "execution_count": null,
      "outputs": [
        {
          "output_type": "execute_result",
          "data": {
            "text/plain": [
              "Quantitative     99\n",
              "Qualitative      53\n",
              "Mixed_Methods    53\n",
              "Experiment        7\n",
              "Simulation        6\n",
              "Name: Majority_Method, dtype: int64"
            ]
          },
          "metadata": {},
          "execution_count": 41
        }
      ]
    },
    {
      "cell_type": "code",
      "metadata": {
        "colab": {
          "base_uri": "https://localhost:8080/",
          "height": 514
        },
        "id": "7kyxZK-RhGIt",
        "outputId": "f530aa1c-3bb9-4bfa-d2e5-44a1549f81dd"
      },
      "source": [
        "df_all.head(15)"
      ],
      "execution_count": null,
      "outputs": [
        {
          "output_type": "execute_result",
          "data": {
            "text/html": [
              "<div>\n",
              "<style scoped>\n",
              "    .dataframe tbody tr th:only-of-type {\n",
              "        vertical-align: middle;\n",
              "    }\n",
              "\n",
              "    .dataframe tbody tr th {\n",
              "        vertical-align: top;\n",
              "    }\n",
              "\n",
              "    .dataframe thead th {\n",
              "        text-align: right;\n",
              "    }\n",
              "</style>\n",
              "<table border=\"1\" class=\"dataframe\">\n",
              "  <thead>\n",
              "    <tr style=\"text-align: right;\">\n",
              "      <th></th>\n",
              "      <th>DOI</th>\n",
              "      <th>Qualitative</th>\n",
              "      <th>Simulation</th>\n",
              "      <th>Experiment</th>\n",
              "      <th>Quantitative</th>\n",
              "      <th>Majority_Method</th>\n",
              "      <th>Mixed_Category</th>\n",
              "    </tr>\n",
              "  </thead>\n",
              "  <tbody>\n",
              "    <tr>\n",
              "      <th>0</th>\n",
              "      <td>10.1177_0001839213486759</td>\n",
              "      <td>[0, 0, 0, 1, 0]</td>\n",
              "      <td>[0, 0]</td>\n",
              "      <td>[0, 0, 0, 0]</td>\n",
              "      <td>[7, 0, 1, 0, 2, 3, 3, 1, 6, 0, 0]</td>\n",
              "      <td>Quantitative</td>\n",
              "      <td>None</td>\n",
              "    </tr>\n",
              "    <tr>\n",
              "      <th>1</th>\n",
              "      <td>10.1177_0001839218793128</td>\n",
              "      <td>[0, 2, 0, 0, 0]</td>\n",
              "      <td>[1, 0]</td>\n",
              "      <td>[0, 0, 0, 0]</td>\n",
              "      <td>[4, 0, 2, 0, 1, 2, 3, 0, 2, 0, 0]</td>\n",
              "      <td>Quantitative</td>\n",
              "      <td>None</td>\n",
              "    </tr>\n",
              "    <tr>\n",
              "      <th>2</th>\n",
              "      <td>10.1177_0001839212437519</td>\n",
              "      <td>[4, 8, 0, 0, 0]</td>\n",
              "      <td>[0, 0]</td>\n",
              "      <td>[0, 0, 1, 2]</td>\n",
              "      <td>[0, 2, 0, 0, 0, 0, 0, 0, 0, 0, 0]</td>\n",
              "      <td>Qualitative</td>\n",
              "      <td>None</td>\n",
              "    </tr>\n",
              "    <tr>\n",
              "      <th>3</th>\n",
              "      <td>10.1177_0001839216673823</td>\n",
              "      <td>[0, 0, 0, 0, 0]</td>\n",
              "      <td>[0, 0]</td>\n",
              "      <td>[0, 0, 0, 0]</td>\n",
              "      <td>[6, 0, 0, 0, 3, 5, 7, 0, 3, 0, 0]</td>\n",
              "      <td>Quantitative</td>\n",
              "      <td>None</td>\n",
              "    </tr>\n",
              "    <tr>\n",
              "      <th>4</th>\n",
              "      <td>10.1177_0001839213488773</td>\n",
              "      <td>[0, 0, 0, 1, 0]</td>\n",
              "      <td>[0, 0]</td>\n",
              "      <td>[0, 0, 0, 0]</td>\n",
              "      <td>[4, 0, 0, 0, 0, 2, 3, 0, 5, 0, 1]</td>\n",
              "      <td>Quantitative</td>\n",
              "      <td>None</td>\n",
              "    </tr>\n",
              "    <tr>\n",
              "      <th>5</th>\n",
              "      <td>10.1177_0001839218761369</td>\n",
              "      <td>[0, 0, 0, 0, 0]</td>\n",
              "      <td>[1, 1]</td>\n",
              "      <td>[0, 0, 0, 0]</td>\n",
              "      <td>[0, 0, 1, 0, 2, 3, 4, 8, 6, 0, 1]</td>\n",
              "      <td>Quantitative</td>\n",
              "      <td>None</td>\n",
              "    </tr>\n",
              "    <tr>\n",
              "      <th>6</th>\n",
              "      <td>10.1177_0001839215619198</td>\n",
              "      <td>[0, 3, 0, 5, 0]</td>\n",
              "      <td>[0, 0]</td>\n",
              "      <td>[0, 0, 0, 0]</td>\n",
              "      <td>[10, 0, 1, 0, 1, 7, 5, 1, 1, 0, 0]</td>\n",
              "      <td>Mixed_Methods</td>\n",
              "      <td>Mixed Category</td>\n",
              "    </tr>\n",
              "    <tr>\n",
              "      <th>7</th>\n",
              "      <td>10.1177_0001839219855329</td>\n",
              "      <td>[0, 2, 0, 1, 0]</td>\n",
              "      <td>[0, 0]</td>\n",
              "      <td>[0, 0, 0, 0]</td>\n",
              "      <td>[0, 1, 0, 0, 0, 0, 0, 0, 0, 0, 0]</td>\n",
              "      <td>Qualitative</td>\n",
              "      <td>None</td>\n",
              "    </tr>\n",
              "    <tr>\n",
              "      <th>8</th>\n",
              "      <td>10.1177_0001839212461439</td>\n",
              "      <td>[0, 0, 0, 0, 0]</td>\n",
              "      <td>[0, 0]</td>\n",
              "      <td>[0, 0, 0, 0]</td>\n",
              "      <td>[0, 0, 0, 0, 0, 11, 3, 0, 0, 0, 4]</td>\n",
              "      <td>Quantitative</td>\n",
              "      <td>None</td>\n",
              "    </tr>\n",
              "    <tr>\n",
              "      <th>9</th>\n",
              "      <td>10.1177_0001839212440972</td>\n",
              "      <td>[0, 0, 0, 0, 0]</td>\n",
              "      <td>[0, 0]</td>\n",
              "      <td>[0, 0, 43, 7]</td>\n",
              "      <td>[3, 0, 0, 0, 0, 0, 1, 0, 0, 0, 0]</td>\n",
              "      <td>Experiment</td>\n",
              "      <td>None</td>\n",
              "    </tr>\n",
              "    <tr>\n",
              "      <th>10</th>\n",
              "      <td>10.1177_0001839218771550</td>\n",
              "      <td>[0, 2, 0, 2, 0]</td>\n",
              "      <td>[0, 0]</td>\n",
              "      <td>[0, 0, 0, 0]</td>\n",
              "      <td>[2, 2, 0, 0, 5, 11, 13, 0, 6, 0, 4]</td>\n",
              "      <td>Quantitative</td>\n",
              "      <td>None</td>\n",
              "    </tr>\n",
              "    <tr>\n",
              "      <th>11</th>\n",
              "      <td>10.1177_0001839217694359</td>\n",
              "      <td>[0, 0, 0, 0, 0]</td>\n",
              "      <td>[0, 0]</td>\n",
              "      <td>[0, 0, 0, 0]</td>\n",
              "      <td>[1, 0, 4, 0, 0, 8, 0, 5, 4, 0, 0]</td>\n",
              "      <td>Quantitative</td>\n",
              "      <td>None</td>\n",
              "    </tr>\n",
              "    <tr>\n",
              "      <th>12</th>\n",
              "      <td>10.1177_0001839215597269</td>\n",
              "      <td>[0, 1, 0, 0, 0]</td>\n",
              "      <td>[0, 0]</td>\n",
              "      <td>[0, 0, 0, 0]</td>\n",
              "      <td>[4, 1, 0, 0, 0, 1, 2, 0, 3, 0, 0]</td>\n",
              "      <td>Quantitative</td>\n",
              "      <td>None</td>\n",
              "    </tr>\n",
              "    <tr>\n",
              "      <th>13</th>\n",
              "      <td>10.1177_0001839215591627</td>\n",
              "      <td>[0, 0, 0, 1, 0]</td>\n",
              "      <td>[0, 0]</td>\n",
              "      <td>[0, 0, 0, 0]</td>\n",
              "      <td>[4, 0, 0, 0, 2, 8, 4, 0, 3, 0, 1]</td>\n",
              "      <td>Quantitative</td>\n",
              "      <td>None</td>\n",
              "    </tr>\n",
              "    <tr>\n",
              "      <th>14</th>\n",
              "      <td>10.1177_0001839213504403</td>\n",
              "      <td>[0, 1, 0, 0, 0]</td>\n",
              "      <td>[0, 0]</td>\n",
              "      <td>[0, 0, 0, 0]</td>\n",
              "      <td>[10, 0, 0, 1, 1, 8, 10, 0, 2, 0, 0]</td>\n",
              "      <td>Quantitative</td>\n",
              "      <td>None</td>\n",
              "    </tr>\n",
              "  </tbody>\n",
              "</table>\n",
              "</div>"
            ],
            "text/plain": [
              "                         DOI      Qualitative  ... Majority_Method  Mixed_Category\n",
              "0   10.1177_0001839213486759  [0, 0, 0, 1, 0]  ...    Quantitative            None\n",
              "1   10.1177_0001839218793128  [0, 2, 0, 0, 0]  ...    Quantitative            None\n",
              "2   10.1177_0001839212437519  [4, 8, 0, 0, 0]  ...     Qualitative            None\n",
              "3   10.1177_0001839216673823  [0, 0, 0, 0, 0]  ...    Quantitative            None\n",
              "4   10.1177_0001839213488773  [0, 0, 0, 1, 0]  ...    Quantitative            None\n",
              "5   10.1177_0001839218761369  [0, 0, 0, 0, 0]  ...    Quantitative            None\n",
              "6   10.1177_0001839215619198  [0, 3, 0, 5, 0]  ...   Mixed_Methods  Mixed Category\n",
              "7   10.1177_0001839219855329  [0, 2, 0, 1, 0]  ...     Qualitative            None\n",
              "8   10.1177_0001839212461439  [0, 0, 0, 0, 0]  ...    Quantitative            None\n",
              "9   10.1177_0001839212440972  [0, 0, 0, 0, 0]  ...      Experiment            None\n",
              "10  10.1177_0001839218771550  [0, 2, 0, 2, 0]  ...    Quantitative            None\n",
              "11  10.1177_0001839217694359  [0, 0, 0, 0, 0]  ...    Quantitative            None\n",
              "12  10.1177_0001839215597269  [0, 1, 0, 0, 0]  ...    Quantitative            None\n",
              "13  10.1177_0001839215591627  [0, 0, 0, 1, 0]  ...    Quantitative            None\n",
              "14  10.1177_0001839213504403  [0, 1, 0, 0, 0]  ...    Quantitative            None\n",
              "\n",
              "[15 rows x 7 columns]"
            ]
          },
          "metadata": {},
          "execution_count": 42
        }
      ]
    },
    {
      "cell_type": "code",
      "metadata": {
        "id": "XQYzWKyPhGIt"
      },
      "source": [
        "df_all.drop(\"Mixed_Category\", axis = 1, inplace = True)"
      ],
      "execution_count": null,
      "outputs": []
    },
    {
      "cell_type": "code",
      "metadata": {
        "colab": {
          "base_uri": "https://localhost:8080/",
          "height": 419
        },
        "id": "VAVFuHm4hGIt",
        "outputId": "b12d2524-7fe5-42ac-8051-8a99c8d40cec"
      },
      "source": [
        "df_all"
      ],
      "execution_count": null,
      "outputs": [
        {
          "output_type": "execute_result",
          "data": {
            "text/html": [
              "<div>\n",
              "<style scoped>\n",
              "    .dataframe tbody tr th:only-of-type {\n",
              "        vertical-align: middle;\n",
              "    }\n",
              "\n",
              "    .dataframe tbody tr th {\n",
              "        vertical-align: top;\n",
              "    }\n",
              "\n",
              "    .dataframe thead th {\n",
              "        text-align: right;\n",
              "    }\n",
              "</style>\n",
              "<table border=\"1\" class=\"dataframe\">\n",
              "  <thead>\n",
              "    <tr style=\"text-align: right;\">\n",
              "      <th></th>\n",
              "      <th>DOI</th>\n",
              "      <th>Qualitative</th>\n",
              "      <th>Simulation</th>\n",
              "      <th>Experiment</th>\n",
              "      <th>Quantitative</th>\n",
              "      <th>Majority_Method</th>\n",
              "    </tr>\n",
              "  </thead>\n",
              "  <tbody>\n",
              "    <tr>\n",
              "      <th>0</th>\n",
              "      <td>10.1177_0001839213486759</td>\n",
              "      <td>[0, 0, 0, 1, 0]</td>\n",
              "      <td>[0, 0]</td>\n",
              "      <td>[0, 0, 0, 0]</td>\n",
              "      <td>[7, 0, 1, 0, 2, 3, 3, 1, 6, 0, 0]</td>\n",
              "      <td>Quantitative</td>\n",
              "    </tr>\n",
              "    <tr>\n",
              "      <th>1</th>\n",
              "      <td>10.1177_0001839218793128</td>\n",
              "      <td>[0, 2, 0, 0, 0]</td>\n",
              "      <td>[1, 0]</td>\n",
              "      <td>[0, 0, 0, 0]</td>\n",
              "      <td>[4, 0, 2, 0, 1, 2, 3, 0, 2, 0, 0]</td>\n",
              "      <td>Quantitative</td>\n",
              "    </tr>\n",
              "    <tr>\n",
              "      <th>2</th>\n",
              "      <td>10.1177_0001839212437519</td>\n",
              "      <td>[4, 8, 0, 0, 0]</td>\n",
              "      <td>[0, 0]</td>\n",
              "      <td>[0, 0, 1, 2]</td>\n",
              "      <td>[0, 2, 0, 0, 0, 0, 0, 0, 0, 0, 0]</td>\n",
              "      <td>Qualitative</td>\n",
              "    </tr>\n",
              "    <tr>\n",
              "      <th>3</th>\n",
              "      <td>10.1177_0001839216673823</td>\n",
              "      <td>[0, 0, 0, 0, 0]</td>\n",
              "      <td>[0, 0]</td>\n",
              "      <td>[0, 0, 0, 0]</td>\n",
              "      <td>[6, 0, 0, 0, 3, 5, 7, 0, 3, 0, 0]</td>\n",
              "      <td>Quantitative</td>\n",
              "    </tr>\n",
              "    <tr>\n",
              "      <th>4</th>\n",
              "      <td>10.1177_0001839213488773</td>\n",
              "      <td>[0, 0, 0, 1, 0]</td>\n",
              "      <td>[0, 0]</td>\n",
              "      <td>[0, 0, 0, 0]</td>\n",
              "      <td>[4, 0, 0, 0, 0, 2, 3, 0, 5, 0, 1]</td>\n",
              "      <td>Quantitative</td>\n",
              "    </tr>\n",
              "    <tr>\n",
              "      <th>...</th>\n",
              "      <td>...</td>\n",
              "      <td>...</td>\n",
              "      <td>...</td>\n",
              "      <td>...</td>\n",
              "      <td>...</td>\n",
              "      <td>...</td>\n",
              "    </tr>\n",
              "    <tr>\n",
              "      <th>145</th>\n",
              "      <td>10.1177_0001839212439994</td>\n",
              "      <td>[0, 0, 0, 0, 0]</td>\n",
              "      <td>[0, 0]</td>\n",
              "      <td>[0, 0, 2, 1]</td>\n",
              "      <td>[2, 0, 0, 0, 0, 0, 1, 0, 0, 0, 0]</td>\n",
              "      <td>Mixed_Methods</td>\n",
              "    </tr>\n",
              "    <tr>\n",
              "      <th>173</th>\n",
              "      <td>10.1177_0001839214538021</td>\n",
              "      <td>[0, 0, 0, 0, 0]</td>\n",
              "      <td>[10, 0]</td>\n",
              "      <td>[0, 0, 1, 1]</td>\n",
              "      <td>[0, 0, 1, 0, 0, 0, 0, 0, 0, 0, 0]</td>\n",
              "      <td>Simulation</td>\n",
              "    </tr>\n",
              "    <tr>\n",
              "      <th>217</th>\n",
              "      <td>asqu.2011.56.1.095</td>\n",
              "      <td>[0, 0, 0, 1, 0]</td>\n",
              "      <td>[1, 0]</td>\n",
              "      <td>[0, 0, 0, 0]</td>\n",
              "      <td>[0, 0, 0, 0, 0, 0, 0, 0, 0, 0, 0]</td>\n",
              "      <td>Mixed_Methods</td>\n",
              "    </tr>\n",
              "    <tr>\n",
              "      <th>218</th>\n",
              "      <td>10.1177_0001839217726545</td>\n",
              "      <td>[0, 0, 0, 0, 0]</td>\n",
              "      <td>[0, 0]</td>\n",
              "      <td>[0, 0, 0, 0]</td>\n",
              "      <td>[0, 0, 0, 0, 0, 0, 0, 0, 0, 0, 0]</td>\n",
              "      <td>NaN</td>\n",
              "    </tr>\n",
              "    <tr>\n",
              "      <th>219</th>\n",
              "      <td>10.1177_0001839215592174</td>\n",
              "      <td>[0, 0, 0, 0, 0]</td>\n",
              "      <td>[0, 0]</td>\n",
              "      <td>[0, 0, 0, 0]</td>\n",
              "      <td>[0, 0, 0, 0, 0, 0, 0, 0, 0, 0, 0]</td>\n",
              "      <td>NaN</td>\n",
              "    </tr>\n",
              "  </tbody>\n",
              "</table>\n",
              "<p>220 rows × 6 columns</p>\n",
              "</div>"
            ],
            "text/plain": [
              "                          DOI  ... Majority_Method\n",
              "0    10.1177_0001839213486759  ...    Quantitative\n",
              "1    10.1177_0001839218793128  ...    Quantitative\n",
              "2    10.1177_0001839212437519  ...     Qualitative\n",
              "3    10.1177_0001839216673823  ...    Quantitative\n",
              "4    10.1177_0001839213488773  ...    Quantitative\n",
              "..                        ...  ...             ...\n",
              "145  10.1177_0001839212439994  ...   Mixed_Methods\n",
              "173  10.1177_0001839214538021  ...      Simulation\n",
              "217        asqu.2011.56.1.095  ...   Mixed_Methods\n",
              "218  10.1177_0001839217726545  ...             NaN\n",
              "219  10.1177_0001839215592174  ...             NaN\n",
              "\n",
              "[220 rows x 6 columns]"
            ]
          },
          "metadata": {},
          "execution_count": 44
        }
      ]
    },
    {
      "cell_type": "code",
      "metadata": {
        "id": "W3fRWySMhGIt"
      },
      "source": [
        "df_all.rename(columns = {\"Qualitative\" : \"Qualitative [interview , interviews, ethnograph, ethnographic, qualitative, grounded theory]\", \"Simulation\" : \"Simulation [simulation, formal model]\", \\\n",
        "                    \"Experiment\" : \"Experiment [field experiment, lab experiment, experiment, experiments]\", \"Quantitative\" : \"Quantitative [regression, quantitative, statistically significant, statistical significance, independent_variable, control_variable, dependent_variable, logit, standard error, OLS, linear model]\" }, inplace = True)"
      ],
      "execution_count": null,
      "outputs": []
    },
    {
      "cell_type": "code",
      "metadata": {
        "id": "MwpwJGBHhGIu"
      },
      "source": [
        "df_all.to_excel(path + \"Analysis/Methods_wordcount_new_2.xlsx\")"
      ],
      "execution_count": null,
      "outputs": []
    },
    {
      "cell_type": "markdown",
      "metadata": {
        "id": "CK_rOS0113W-"
      },
      "source": [
        "**Merge with Attributes**"
      ]
    },
    {
      "cell_type": "code",
      "metadata": {
        "id": "UPpeQbOJ1y0q"
      },
      "source": [
        "m = pd.read_excel(path + \"Analysis/Methods_wordcount_new_2.xlsx\")"
      ],
      "execution_count": null,
      "outputs": []
    },
    {
      "cell_type": "code",
      "metadata": {
        "id": "HsHJyUqZ1y0u"
      },
      "source": [
        "m.drop(\"Unnamed: 0\", axis = 1, inplace = True)"
      ],
      "execution_count": null,
      "outputs": []
    },
    {
      "cell_type": "code",
      "metadata": {
        "id": "kP3HJV2l1y0v"
      },
      "source": [
        "#m.rename(columns = {\"Qualitative\" : \"Qualitative [interview , ethnograph, qualitative, grounded theory]\", \"Simulation\" : \"Simulation [simulation, formal model]\", \\\n",
        " #                   \"Experiment\" : \"Experiment [field experiment, lab experiment]\", \"Quantitative\" : \"Quantitative [regression, hypothesis]\" }, inplace = True)\n"
      ],
      "execution_count": null,
      "outputs": []
    },
    {
      "cell_type": "code",
      "metadata": {
        "colab": {
          "base_uri": "https://localhost:8080/",
          "height": 272
        },
        "id": "2ay6pYcR1y0v",
        "outputId": "0d88d67a-9ddc-44a8-ca5d-19f1b9db7092"
      },
      "source": [
        "m.head()\n"
      ],
      "execution_count": null,
      "outputs": [
        {
          "output_type": "execute_result",
          "data": {
            "text/html": [
              "<div>\n",
              "<style scoped>\n",
              "    .dataframe tbody tr th:only-of-type {\n",
              "        vertical-align: middle;\n",
              "    }\n",
              "\n",
              "    .dataframe tbody tr th {\n",
              "        vertical-align: top;\n",
              "    }\n",
              "\n",
              "    .dataframe thead th {\n",
              "        text-align: right;\n",
              "    }\n",
              "</style>\n",
              "<table border=\"1\" class=\"dataframe\">\n",
              "  <thead>\n",
              "    <tr style=\"text-align: right;\">\n",
              "      <th></th>\n",
              "      <th>DOI</th>\n",
              "      <th>Qualitative [interview , interviews, ethnograph, ethnographic, qualitative, grounded theory]</th>\n",
              "      <th>Simulation [simulation, formal model]</th>\n",
              "      <th>Experiment [field experiment, lab experiment, experiment, experiments]</th>\n",
              "      <th>Quantitative [regression, quantitative, statistically significant, statistical significance, independent_variable, control_variable, dependent_variable]</th>\n",
              "      <th>Majority_Method</th>\n",
              "    </tr>\n",
              "  </thead>\n",
              "  <tbody>\n",
              "    <tr>\n",
              "      <th>0</th>\n",
              "      <td>10.1177_0001839213486759</td>\n",
              "      <td>[0, 0, 0, 1, 0]</td>\n",
              "      <td>[0, 0]</td>\n",
              "      <td>[0, 0, 0, 0]</td>\n",
              "      <td>[7, 0, 1, 0, 2, 3, 3, 1, 6, 0, 0]</td>\n",
              "      <td>Quantitative</td>\n",
              "    </tr>\n",
              "    <tr>\n",
              "      <th>1</th>\n",
              "      <td>10.1177_0001839218793128</td>\n",
              "      <td>[0, 2, 0, 0, 0]</td>\n",
              "      <td>[1, 0]</td>\n",
              "      <td>[0, 0, 0, 0]</td>\n",
              "      <td>[4, 0, 2, 0, 1, 2, 3, 0, 2, 0, 0]</td>\n",
              "      <td>Quantitative</td>\n",
              "    </tr>\n",
              "    <tr>\n",
              "      <th>2</th>\n",
              "      <td>10.1177_0001839212437519</td>\n",
              "      <td>[4, 8, 0, 0, 0]</td>\n",
              "      <td>[0, 0]</td>\n",
              "      <td>[0, 0, 1, 2]</td>\n",
              "      <td>[0, 2, 0, 0, 0, 0, 0, 0, 0, 0, 0]</td>\n",
              "      <td>Qualitative</td>\n",
              "    </tr>\n",
              "    <tr>\n",
              "      <th>3</th>\n",
              "      <td>10.1177_0001839216673823</td>\n",
              "      <td>[0, 0, 0, 0, 0]</td>\n",
              "      <td>[0, 0]</td>\n",
              "      <td>[0, 0, 0, 0]</td>\n",
              "      <td>[6, 0, 0, 0, 3, 5, 7, 0, 3, 0, 0]</td>\n",
              "      <td>Quantitative</td>\n",
              "    </tr>\n",
              "    <tr>\n",
              "      <th>4</th>\n",
              "      <td>10.1177_0001839213488773</td>\n",
              "      <td>[0, 0, 0, 1, 0]</td>\n",
              "      <td>[0, 0]</td>\n",
              "      <td>[0, 0, 0, 0]</td>\n",
              "      <td>[4, 0, 0, 0, 0, 2, 3, 0, 5, 0, 1]</td>\n",
              "      <td>Quantitative</td>\n",
              "    </tr>\n",
              "  </tbody>\n",
              "</table>\n",
              "</div>"
            ],
            "text/plain": [
              "                        DOI  ... Majority_Method\n",
              "0  10.1177_0001839213486759  ...    Quantitative\n",
              "1  10.1177_0001839218793128  ...    Quantitative\n",
              "2  10.1177_0001839212437519  ...     Qualitative\n",
              "3  10.1177_0001839216673823  ...    Quantitative\n",
              "4  10.1177_0001839213488773  ...    Quantitative\n",
              "\n",
              "[5 rows x 6 columns]"
            ]
          },
          "metadata": {},
          "execution_count": 91
        }
      ]
    },
    {
      "cell_type": "code",
      "metadata": {
        "id": "C0qWlQtB1y0w"
      },
      "source": [
        "m[\"DOI\"] = m[\"DOI\"].apply(lambda x: x.replace(\"_\", \"/\"))"
      ],
      "execution_count": null,
      "outputs": []
    },
    {
      "cell_type": "code",
      "metadata": {
        "id": "RKqMNb5M1y0w"
      },
      "source": [
        "att = pd.read_excel(path + \"Final_Topics/ASQ_Article Attributes 2011-20.xlsx\")"
      ],
      "execution_count": null,
      "outputs": []
    },
    {
      "cell_type": "code",
      "metadata": {
        "colab": {
          "base_uri": "https://localhost:8080/"
        },
        "id": "ZPKzTyiZ1y0w",
        "outputId": "18fda1fc-f2d0-4fcf-d67e-daaae8cf1295"
      },
      "source": [
        "att.columns"
      ],
      "execution_count": null,
      "outputs": [
        {
          "output_type": "execute_result",
          "data": {
            "text/plain": [
              "Index(['DOI', 'Authors', 'Gender 1st A', 'Gender Other', 'Affiliation', 'US',\n",
              "       'Canada', 'Europe', 'Asia', 'Other', 'Article-title', 'Subtitle',\n",
              "       'Publication Date', 'Year', 'Volume', 'Issue', 'Total Citations',\n",
              "       'Average per Year', 'Method', 'Data Source', 'Analysis Level',\n",
              "       'Abstract', 'Unnamed: 22'],\n",
              "      dtype='object')"
            ]
          },
          "metadata": {},
          "execution_count": 94
        }
      ]
    },
    {
      "cell_type": "code",
      "metadata": {
        "id": "Mvwbr5UZ1y0x"
      },
      "source": [
        "methods_merged = pd.merge(m, att[[\"DOI\", \"Year\", \"Article-title\", \"Abstract\"]], on = \"DOI\", how = \"outer\")"
      ],
      "execution_count": null,
      "outputs": []
    },
    {
      "cell_type": "code",
      "metadata": {
        "colab": {
          "base_uri": "https://localhost:8080/",
          "height": 578
        },
        "id": "1pB39Iee1y0x",
        "outputId": "7a695f48-fd0f-4fad-c771-3b98c50e804e"
      },
      "source": [
        "methods_merged.head()"
      ],
      "execution_count": null,
      "outputs": [
        {
          "output_type": "execute_result",
          "data": {
            "text/html": [
              "<div>\n",
              "<style scoped>\n",
              "    .dataframe tbody tr th:only-of-type {\n",
              "        vertical-align: middle;\n",
              "    }\n",
              "\n",
              "    .dataframe tbody tr th {\n",
              "        vertical-align: top;\n",
              "    }\n",
              "\n",
              "    .dataframe thead th {\n",
              "        text-align: right;\n",
              "    }\n",
              "</style>\n",
              "<table border=\"1\" class=\"dataframe\">\n",
              "  <thead>\n",
              "    <tr style=\"text-align: right;\">\n",
              "      <th></th>\n",
              "      <th>DOI</th>\n",
              "      <th>Qualitative [interview , interviews, ethnograph, ethnographic, qualitative, grounded theory]</th>\n",
              "      <th>Simulation [simulation, formal model]</th>\n",
              "      <th>Experiment [field experiment, lab experiment, experiment, experiments]</th>\n",
              "      <th>Quantitative [regression, quantitative, statistically significant, statistical significance, independent_variable, control_variable, dependent_variable]</th>\n",
              "      <th>Majority_Method</th>\n",
              "      <th>Year</th>\n",
              "      <th>Article-title</th>\n",
              "      <th>Abstract</th>\n",
              "    </tr>\n",
              "  </thead>\n",
              "  <tbody>\n",
              "    <tr>\n",
              "      <th>0</th>\n",
              "      <td>10.1177/0001839213486759</td>\n",
              "      <td>[0, 0, 0, 1, 0]</td>\n",
              "      <td>[0, 0]</td>\n",
              "      <td>[0, 0, 0, 0]</td>\n",
              "      <td>[7, 0, 1, 0, 2, 3, 3, 1, 6, 0, 0]</td>\n",
              "      <td>Quantitative</td>\n",
              "      <td>2013</td>\n",
              "      <td>Specialization and Career Dynamics</td>\n",
              "      <td>In this article, we attempt to resolve the ten...</td>\n",
              "    </tr>\n",
              "    <tr>\n",
              "      <th>1</th>\n",
              "      <td>10.1177/0001839218793128</td>\n",
              "      <td>[0, 2, 0, 0, 0]</td>\n",
              "      <td>[1, 0]</td>\n",
              "      <td>[0, 0, 0, 0]</td>\n",
              "      <td>[4, 0, 2, 0, 1, 2, 3, 0, 2, 0, 0]</td>\n",
              "      <td>Quantitative</td>\n",
              "      <td>2019</td>\n",
              "      <td>Dispositional Sources of Managerial Discretion...</td>\n",
              "      <td>We investigate the dispositional sources of ma...</td>\n",
              "    </tr>\n",
              "    <tr>\n",
              "      <th>2</th>\n",
              "      <td>10.1177/0001839212437519</td>\n",
              "      <td>[4, 8, 0, 0, 0]</td>\n",
              "      <td>[0, 0]</td>\n",
              "      <td>[0, 0, 1, 2]</td>\n",
              "      <td>[0, 2, 0, 0, 0, 0, 0, 0, 0, 0, 0]</td>\n",
              "      <td>Qualitative</td>\n",
              "      <td>2011</td>\n",
              "      <td>Transcending Socialization</td>\n",
              "      <td>A nine-year ethnography is used to show how tw...</td>\n",
              "    </tr>\n",
              "    <tr>\n",
              "      <th>3</th>\n",
              "      <td>10.1177/0001839216673823</td>\n",
              "      <td>[0, 0, 0, 0, 0]</td>\n",
              "      <td>[0, 0]</td>\n",
              "      <td>[0, 0, 0, 0]</td>\n",
              "      <td>[6, 0, 0, 0, 3, 5, 7, 0, 3, 0, 0]</td>\n",
              "      <td>Quantitative</td>\n",
              "      <td>2017</td>\n",
              "      <td>These Unequal States: Corporate Organization a...</td>\n",
              "      <td>In an analysis of data on employment in the 48...</td>\n",
              "    </tr>\n",
              "    <tr>\n",
              "      <th>4</th>\n",
              "      <td>10.1177/0001839213488773</td>\n",
              "      <td>[0, 0, 0, 1, 0]</td>\n",
              "      <td>[0, 0]</td>\n",
              "      <td>[0, 0, 0, 0]</td>\n",
              "      <td>[4, 0, 0, 0, 0, 2, 3, 0, 5, 0, 1]</td>\n",
              "      <td>Quantitative</td>\n",
              "      <td>2013</td>\n",
              "      <td>CEO Narcissism, Audience Engagement, and Organ...</td>\n",
              "      <td>We examine the responses of major pharmaceutic...</td>\n",
              "    </tr>\n",
              "  </tbody>\n",
              "</table>\n",
              "</div>"
            ],
            "text/plain": [
              "                        DOI  ...                                           Abstract\n",
              "0  10.1177/0001839213486759  ...  In this article, we attempt to resolve the ten...\n",
              "1  10.1177/0001839218793128  ...  We investigate the dispositional sources of ma...\n",
              "2  10.1177/0001839212437519  ...  A nine-year ethnography is used to show how tw...\n",
              "3  10.1177/0001839216673823  ...  In an analysis of data on employment in the 48...\n",
              "4  10.1177/0001839213488773  ...  We examine the responses of major pharmaceutic...\n",
              "\n",
              "[5 rows x 9 columns]"
            ]
          },
          "metadata": {},
          "execution_count": 96
        }
      ]
    },
    {
      "cell_type": "code",
      "metadata": {
        "id": "5xH6wLVC1y0x"
      },
      "source": [
        "methods_merged.to_excel(path + \"Analysis/Methods/Methods_merged_wc_2.xlsx\", index = False)"
      ],
      "execution_count": null,
      "outputs": []
    },
    {
      "cell_type": "markdown",
      "metadata": {
        "id": "4QMFWZMhXcOm"
      },
      "source": [
        "Word count of each keyword - for charts (comparison) - need this for the stacked bar chart "
      ]
    },
    {
      "cell_type": "code",
      "metadata": {
        "id": "pC-3s7L6Xi3k"
      },
      "source": [
        "qualitative = [\"interview\" , \"ethnograph\", \"qualitative\", \"grounded theory\"]\n",
        "simulation = [\"simulation\", \"formal model\"]\n",
        "#experiment = [\"field experiment\", \"lab experiment\"]\n",
        "experiment = [\"field experiment\", \"lab experiment\", \"experiment\"]\n",
        "#quantitative = [\"regression\", \"hypothesis\"]\n",
        "quantitative = [\"regression\", \"quantitative\", \"statistically significant\", \"statistical significance\"]\n",
        "from collections import defaultdict\n",
        "countwords = {}\n",
        "for i in range(len(docs)):\n",
        "\n",
        "  interview = docs[i].lower().count(\"interview\") \n",
        "  ethnograph = docs[i].lower().count(\"ethnograph\")\n",
        "  qualitative = docs[i].lower().count(\"qualitative\")\n",
        "  grounded = docs[i].lower().count(\"grounded theory\")\n",
        "  simulation = docs[i].lower().count(\"simulation\")\n",
        "  formal = docs[i].lower().count(\"formal model\")\n",
        "  field = docs[i].lower().count(\"field experiment\")\n",
        "  lab = docs[i].lower().count(\"lab experiment\")\n",
        "  exp = docs[i].lower().count(\"experiment\")\n",
        "  regression = docs[i].lower().count(\"regression\")\n",
        "  quantitative = docs[i].lower().count(\"quantitative\")\n",
        "  ss1 = docs[i].lower().count(\"statistically significant\")\n",
        "  ss2 = docs[i].lower().count(\"statistical significance\")\n",
        "\n",
        "\n",
        "  countwords[allfiles[i].split(\"/\")[-1].strip('.txt')] = [interview, ethnograph, qualitative, grounded, simulation, formal, field, lab, exp, regression, quantitative, ss1, ss2]"
      ],
      "execution_count": null,
      "outputs": []
    },
    {
      "cell_type": "code",
      "metadata": {
        "id": "63c2QWaKZUOg"
      },
      "source": [
        "df_words = pd.DataFrame(data = countwords, index = None).T"
      ],
      "execution_count": null,
      "outputs": []
    },
    {
      "cell_type": "code",
      "metadata": {
        "id": "CAy4Tes2ZalI"
      },
      "source": [
        "df_words.reset_index(inplace = True)"
      ],
      "execution_count": null,
      "outputs": []
    },
    {
      "cell_type": "code",
      "metadata": {
        "colab": {
          "base_uri": "https://localhost:8080/",
          "height": 204
        },
        "id": "rTlwd-aCZgZ_",
        "outputId": "15f25a80-8399-4337-8b8e-2fcfa239d2f8"
      },
      "source": [
        "df_words.head()"
      ],
      "execution_count": null,
      "outputs": [
        {
          "output_type": "execute_result",
          "data": {
            "text/html": [
              "<div>\n",
              "<style scoped>\n",
              "    .dataframe tbody tr th:only-of-type {\n",
              "        vertical-align: middle;\n",
              "    }\n",
              "\n",
              "    .dataframe tbody tr th {\n",
              "        vertical-align: top;\n",
              "    }\n",
              "\n",
              "    .dataframe thead th {\n",
              "        text-align: right;\n",
              "    }\n",
              "</style>\n",
              "<table border=\"1\" class=\"dataframe\">\n",
              "  <thead>\n",
              "    <tr style=\"text-align: right;\">\n",
              "      <th></th>\n",
              "      <th>index</th>\n",
              "      <th>0</th>\n",
              "      <th>1</th>\n",
              "      <th>2</th>\n",
              "      <th>3</th>\n",
              "      <th>4</th>\n",
              "      <th>5</th>\n",
              "      <th>6</th>\n",
              "      <th>7</th>\n",
              "      <th>8</th>\n",
              "      <th>9</th>\n",
              "      <th>10</th>\n",
              "      <th>11</th>\n",
              "      <th>12</th>\n",
              "    </tr>\n",
              "  </thead>\n",
              "  <tbody>\n",
              "    <tr>\n",
              "      <th>0</th>\n",
              "      <td>10.1177_0001839213486759</td>\n",
              "      <td>1</td>\n",
              "      <td>0</td>\n",
              "      <td>1</td>\n",
              "      <td>0</td>\n",
              "      <td>0</td>\n",
              "      <td>0</td>\n",
              "      <td>0</td>\n",
              "      <td>0</td>\n",
              "      <td>0</td>\n",
              "      <td>7</td>\n",
              "      <td>0</td>\n",
              "      <td>1</td>\n",
              "      <td>0</td>\n",
              "    </tr>\n",
              "    <tr>\n",
              "      <th>1</th>\n",
              "      <td>10.1177_0001839218793128</td>\n",
              "      <td>4</td>\n",
              "      <td>0</td>\n",
              "      <td>0</td>\n",
              "      <td>0</td>\n",
              "      <td>1</td>\n",
              "      <td>0</td>\n",
              "      <td>0</td>\n",
              "      <td>0</td>\n",
              "      <td>7</td>\n",
              "      <td>4</td>\n",
              "      <td>0</td>\n",
              "      <td>2</td>\n",
              "      <td>0</td>\n",
              "    </tr>\n",
              "    <tr>\n",
              "      <th>2</th>\n",
              "      <td>10.1177_0001839212437519</td>\n",
              "      <td>20</td>\n",
              "      <td>5</td>\n",
              "      <td>0</td>\n",
              "      <td>1</td>\n",
              "      <td>0</td>\n",
              "      <td>0</td>\n",
              "      <td>0</td>\n",
              "      <td>0</td>\n",
              "      <td>5</td>\n",
              "      <td>0</td>\n",
              "      <td>2</td>\n",
              "      <td>0</td>\n",
              "      <td>0</td>\n",
              "    </tr>\n",
              "    <tr>\n",
              "      <th>3</th>\n",
              "      <td>10.1177_0001839216673823</td>\n",
              "      <td>0</td>\n",
              "      <td>0</td>\n",
              "      <td>1</td>\n",
              "      <td>0</td>\n",
              "      <td>0</td>\n",
              "      <td>0</td>\n",
              "      <td>0</td>\n",
              "      <td>0</td>\n",
              "      <td>0</td>\n",
              "      <td>6</td>\n",
              "      <td>0</td>\n",
              "      <td>0</td>\n",
              "      <td>0</td>\n",
              "    </tr>\n",
              "    <tr>\n",
              "      <th>4</th>\n",
              "      <td>10.1177_0001839213488773</td>\n",
              "      <td>2</td>\n",
              "      <td>0</td>\n",
              "      <td>1</td>\n",
              "      <td>0</td>\n",
              "      <td>0</td>\n",
              "      <td>0</td>\n",
              "      <td>0</td>\n",
              "      <td>0</td>\n",
              "      <td>2</td>\n",
              "      <td>4</td>\n",
              "      <td>0</td>\n",
              "      <td>0</td>\n",
              "      <td>0</td>\n",
              "    </tr>\n",
              "  </tbody>\n",
              "</table>\n",
              "</div>"
            ],
            "text/plain": [
              "                      index   0  1  2  3  4  5  6  7  8  9  10  11  12\n",
              "0  10.1177_0001839213486759   1  0  1  0  0  0  0  0  0  7   0   1   0\n",
              "1  10.1177_0001839218793128   4  0  0  0  1  0  0  0  7  4   0   2   0\n",
              "2  10.1177_0001839212437519  20  5  0  1  0  0  0  0  5  0   2   0   0\n",
              "3  10.1177_0001839216673823   0  0  1  0  0  0  0  0  0  6   0   0   0\n",
              "4  10.1177_0001839213488773   2  0  1  0  0  0  0  0  2  4   0   0   0"
            ]
          },
          "metadata": {
            "tags": []
          },
          "execution_count": 87
        }
      ]
    },
    {
      "cell_type": "code",
      "metadata": {
        "id": "EwNUKxSEZm25"
      },
      "source": [
        "df_words.columns = [\"DOI\", \"interview\" , \"ethnograph\", \"qualitative\", \"grounded theory\", \"simulation\", \"formal model\", \"field experiment\", \"lab experiment\", \"experiment\", \"regression\", \"quantitative\", \"statistically significant\", \"statistical significance\" ]"
      ],
      "execution_count": null,
      "outputs": []
    },
    {
      "cell_type": "code",
      "metadata": {
        "id": "MB7Dqo-YmMbJ"
      },
      "source": [
        "df_words[\"DOI_new\"] = df_words[\"DOI\"].apply(lambda x: x.replace(\"_\", \"/\"))"
      ],
      "execution_count": null,
      "outputs": []
    },
    {
      "cell_type": "code",
      "metadata": {
        "id": "GEzPtIpPmc5M"
      },
      "source": [
        "df_words.drop(\"DOI\", axis = 1, inplace = True)"
      ],
      "execution_count": null,
      "outputs": []
    },
    {
      "cell_type": "code",
      "metadata": {
        "id": "Mg1o5QhRmhuS"
      },
      "source": [
        "df_words.rename(columns = {\"DOI_new\" : \"DOI\"}, inplace = True)"
      ],
      "execution_count": null,
      "outputs": []
    },
    {
      "cell_type": "markdown",
      "metadata": {
        "id": "LB5fA3HBaRLT"
      },
      "source": [
        "Merge with attributes (for charts contd)"
      ]
    },
    {
      "cell_type": "code",
      "metadata": {
        "id": "fvwXbvfoaEEh"
      },
      "source": [
        "att = pd.read_excel(path + \"Final_Topics/ASQ_Article Attributes 2011-20.xlsx\")"
      ],
      "execution_count": null,
      "outputs": []
    },
    {
      "cell_type": "code",
      "metadata": {
        "colab": {
          "base_uri": "https://localhost:8080/"
        },
        "id": "qGT-Evp4ah3h",
        "outputId": "2e295e66-a251-4a2e-950b-c6d3d2d6508f"
      },
      "source": [
        "att.columns"
      ],
      "execution_count": null,
      "outputs": [
        {
          "output_type": "execute_result",
          "data": {
            "text/plain": [
              "Index(['DOI', 'Authors', 'Gender 1st A', 'Gender Other', 'Affiliation', 'US',\n",
              "       'Canada', 'Europe', 'Asia', 'Other', 'Article-title', 'Subtitle',\n",
              "       'Publication Date', 'Year', 'Volume', 'Issue', 'Total Citations',\n",
              "       'Average per Year', 'Method', 'Data Source', 'Analysis Level',\n",
              "       'Abstract', 'Unnamed: 22'],\n",
              "      dtype='object')"
            ]
          },
          "metadata": {
            "tags": []
          },
          "execution_count": 29
        }
      ]
    },
    {
      "cell_type": "code",
      "metadata": {
        "id": "edkACl88aU0a"
      },
      "source": [
        "methods_merged = pd.merge(df_words, att[[\"DOI\", \"Year\", \"Article-title\"]], on = \"DOI\", how = \"outer\")"
      ],
      "execution_count": null,
      "outputs": []
    },
    {
      "cell_type": "code",
      "metadata": {
        "colab": {
          "base_uri": "https://localhost:8080/",
          "height": 496
        },
        "id": "vRtqzCNHazUx",
        "outputId": "d15e71dd-e689-40f8-dee9-90bf696f8b94"
      },
      "source": [
        "methods_merged.head()"
      ],
      "execution_count": null,
      "outputs": [
        {
          "output_type": "execute_result",
          "data": {
            "text/html": [
              "<div>\n",
              "<style scoped>\n",
              "    .dataframe tbody tr th:only-of-type {\n",
              "        vertical-align: middle;\n",
              "    }\n",
              "\n",
              "    .dataframe tbody tr th {\n",
              "        vertical-align: top;\n",
              "    }\n",
              "\n",
              "    .dataframe thead th {\n",
              "        text-align: right;\n",
              "    }\n",
              "</style>\n",
              "<table border=\"1\" class=\"dataframe\">\n",
              "  <thead>\n",
              "    <tr style=\"text-align: right;\">\n",
              "      <th></th>\n",
              "      <th>interview</th>\n",
              "      <th>ethnograph</th>\n",
              "      <th>qualitative</th>\n",
              "      <th>grounded theory</th>\n",
              "      <th>simulation</th>\n",
              "      <th>formal model</th>\n",
              "      <th>field experiment</th>\n",
              "      <th>lab experiment</th>\n",
              "      <th>experiment</th>\n",
              "      <th>regression</th>\n",
              "      <th>quantitative</th>\n",
              "      <th>statistically significant</th>\n",
              "      <th>statistical significance</th>\n",
              "      <th>DOI</th>\n",
              "      <th>Year</th>\n",
              "      <th>Article-title</th>\n",
              "    </tr>\n",
              "  </thead>\n",
              "  <tbody>\n",
              "    <tr>\n",
              "      <th>0</th>\n",
              "      <td>1.0</td>\n",
              "      <td>0.0</td>\n",
              "      <td>1.0</td>\n",
              "      <td>0.0</td>\n",
              "      <td>0.0</td>\n",
              "      <td>0.0</td>\n",
              "      <td>0.0</td>\n",
              "      <td>0.0</td>\n",
              "      <td>0.0</td>\n",
              "      <td>7.0</td>\n",
              "      <td>0.0</td>\n",
              "      <td>1.0</td>\n",
              "      <td>0.0</td>\n",
              "      <td>10.1177/0001839213486759</td>\n",
              "      <td>2013</td>\n",
              "      <td>Specialization and Career Dynamics</td>\n",
              "    </tr>\n",
              "    <tr>\n",
              "      <th>1</th>\n",
              "      <td>4.0</td>\n",
              "      <td>0.0</td>\n",
              "      <td>0.0</td>\n",
              "      <td>0.0</td>\n",
              "      <td>1.0</td>\n",
              "      <td>0.0</td>\n",
              "      <td>0.0</td>\n",
              "      <td>0.0</td>\n",
              "      <td>7.0</td>\n",
              "      <td>4.0</td>\n",
              "      <td>0.0</td>\n",
              "      <td>2.0</td>\n",
              "      <td>0.0</td>\n",
              "      <td>10.1177/0001839218793128</td>\n",
              "      <td>2019</td>\n",
              "      <td>Dispositional Sources of Managerial Discretion...</td>\n",
              "    </tr>\n",
              "    <tr>\n",
              "      <th>2</th>\n",
              "      <td>20.0</td>\n",
              "      <td>5.0</td>\n",
              "      <td>0.0</td>\n",
              "      <td>1.0</td>\n",
              "      <td>0.0</td>\n",
              "      <td>0.0</td>\n",
              "      <td>0.0</td>\n",
              "      <td>0.0</td>\n",
              "      <td>5.0</td>\n",
              "      <td>0.0</td>\n",
              "      <td>2.0</td>\n",
              "      <td>0.0</td>\n",
              "      <td>0.0</td>\n",
              "      <td>10.1177/0001839212437519</td>\n",
              "      <td>2011</td>\n",
              "      <td>Transcending Socialization</td>\n",
              "    </tr>\n",
              "    <tr>\n",
              "      <th>3</th>\n",
              "      <td>0.0</td>\n",
              "      <td>0.0</td>\n",
              "      <td>1.0</td>\n",
              "      <td>0.0</td>\n",
              "      <td>0.0</td>\n",
              "      <td>0.0</td>\n",
              "      <td>0.0</td>\n",
              "      <td>0.0</td>\n",
              "      <td>0.0</td>\n",
              "      <td>6.0</td>\n",
              "      <td>0.0</td>\n",
              "      <td>0.0</td>\n",
              "      <td>0.0</td>\n",
              "      <td>10.1177/0001839216673823</td>\n",
              "      <td>2017</td>\n",
              "      <td>These Unequal States: Corporate Organization a...</td>\n",
              "    </tr>\n",
              "    <tr>\n",
              "      <th>4</th>\n",
              "      <td>2.0</td>\n",
              "      <td>0.0</td>\n",
              "      <td>1.0</td>\n",
              "      <td>0.0</td>\n",
              "      <td>0.0</td>\n",
              "      <td>0.0</td>\n",
              "      <td>0.0</td>\n",
              "      <td>0.0</td>\n",
              "      <td>2.0</td>\n",
              "      <td>4.0</td>\n",
              "      <td>0.0</td>\n",
              "      <td>0.0</td>\n",
              "      <td>0.0</td>\n",
              "      <td>10.1177/0001839213488773</td>\n",
              "      <td>2013</td>\n",
              "      <td>CEO Narcissism, Audience Engagement, and Organ...</td>\n",
              "    </tr>\n",
              "  </tbody>\n",
              "</table>\n",
              "</div>"
            ],
            "text/plain": [
              "   interview  ...                                      Article-title\n",
              "0        1.0  ...                 Specialization and Career Dynamics\n",
              "1        4.0  ...  Dispositional Sources of Managerial Discretion...\n",
              "2       20.0  ...                         Transcending Socialization\n",
              "3        0.0  ...  These Unequal States: Corporate Organization a...\n",
              "4        2.0  ...  CEO Narcissism, Audience Engagement, and Organ...\n",
              "\n",
              "[5 rows x 16 columns]"
            ]
          },
          "metadata": {
            "tags": []
          },
          "execution_count": 93
        }
      ]
    },
    {
      "cell_type": "code",
      "metadata": {
        "id": "ko93QCW3Z87U"
      },
      "source": [
        "methods_merged.to_excel(path + \"Analysis/methods_words.xlsx\")"
      ],
      "execution_count": null,
      "outputs": []
    },
    {
      "cell_type": "markdown",
      "metadata": {
        "id": "Qk7Nvg8l9Y72"
      },
      "source": [
        "**Mixed Category - Qualitative and Quantitative**\n",
        "\n",
        "Decision Rule: Above average OR Above a number (10)"
      ]
    },
    {
      "cell_type": "code",
      "metadata": {
        "id": "bjbDWt9X7bFm"
      },
      "source": [
        "df_merged = pd.merge(df_methods[[\"DOI\", \"Majority_Method\"]], df_countwords, on = \"DOI\", how = \"outer\")"
      ],
      "execution_count": null,
      "outputs": []
    },
    {
      "cell_type": "code",
      "metadata": {
        "colab": {
          "base_uri": "https://localhost:8080/",
          "height": 368
        },
        "id": "-lClrbv_0Rrr",
        "outputId": "8d3cde90-dd37-4c7c-fa70-252e15f5f4f6"
      },
      "source": [
        "df_merged[\"Majority_Method\"].value_counts()"
      ],
      "execution_count": null,
      "outputs": [
        {
          "output_type": "error",
          "ename": "TypeError",
          "evalue": "ignored",
          "traceback": [
            "\u001b[0;31m---------------------------------------------------------------------------\u001b[0m",
            "\u001b[0;31mTypeError\u001b[0m                                 Traceback (most recent call last)",
            "\u001b[0;32mpandas/_libs/hashtable_class_helper.pxi\u001b[0m in \u001b[0;36mpandas._libs.hashtable.PyObjectHashTable.map_locations\u001b[0;34m()\u001b[0m\n",
            "\u001b[0;31mTypeError\u001b[0m: unhashable type: 'list'"
          ]
        },
        {
          "output_type": "stream",
          "text": [
            "Exception ignored in: 'pandas._libs.index.IndexEngine._call_map_locations'\n",
            "Traceback (most recent call last):\n",
            "  File \"pandas/_libs/hashtable_class_helper.pxi\", line 1709, in pandas._libs.hashtable.PyObjectHashTable.map_locations\n",
            "TypeError: unhashable type: 'list'\n"
          ],
          "name": "stderr"
        },
        {
          "output_type": "execute_result",
          "data": {
            "text/plain": [
              "[Qualitative]                  107\n",
              "[Quantitative]                  83\n",
              "[Experiment]                     9\n",
              "[Simulation]                     7\n",
              "[Experiment, Quantitative]       5\n",
              "[Simulation, Quantitative]       3\n",
              "[Qualitative, Quantitative]      2\n",
              "[Qualitative, Simulation]        2\n",
              "Name: Majority_Method, dtype: int64"
            ]
          },
          "metadata": {
            "tags": []
          },
          "execution_count": 136
        }
      ]
    },
    {
      "cell_type": "code",
      "metadata": {
        "colab": {
          "base_uri": "https://localhost:8080/",
          "height": 470
        },
        "id": "B1MsB1y0-D1h",
        "outputId": "2e651ee3-dc27-4775-bf0f-30e3826503d5"
      },
      "source": [
        "df_merged"
      ],
      "execution_count": null,
      "outputs": [
        {
          "output_type": "execute_result",
          "data": {
            "text/html": [
              "<div>\n",
              "<style scoped>\n",
              "    .dataframe tbody tr th:only-of-type {\n",
              "        vertical-align: middle;\n",
              "    }\n",
              "\n",
              "    .dataframe tbody tr th {\n",
              "        vertical-align: top;\n",
              "    }\n",
              "\n",
              "    .dataframe thead th {\n",
              "        text-align: right;\n",
              "    }\n",
              "</style>\n",
              "<table border=\"1\" class=\"dataframe\">\n",
              "  <thead>\n",
              "    <tr style=\"text-align: right;\">\n",
              "      <th></th>\n",
              "      <th>DOI</th>\n",
              "      <th>Majority_Method</th>\n",
              "      <th>[interview , ethnograph, qualitative, grounded theory]</th>\n",
              "      <th>[simulation, formal model]</th>\n",
              "      <th>[field experiment, lab experiment, experiment]</th>\n",
              "      <th>[regression, quantitative, statistically significant, statistical significance]</th>\n",
              "    </tr>\n",
              "  </thead>\n",
              "  <tbody>\n",
              "    <tr>\n",
              "      <th>0</th>\n",
              "      <td>10.1177_0001839213486759</td>\n",
              "      <td>[Quantitative]</td>\n",
              "      <td>[1, 0, 1, 0]</td>\n",
              "      <td>[0, 0]</td>\n",
              "      <td>[0, 0, 0, 0]</td>\n",
              "      <td>[7, 0, 1, 0]</td>\n",
              "    </tr>\n",
              "    <tr>\n",
              "      <th>1</th>\n",
              "      <td>10.1177_0001839218793128</td>\n",
              "      <td>[Quantitative]</td>\n",
              "      <td>[4, 0, 0, 0]</td>\n",
              "      <td>[1, 0]</td>\n",
              "      <td>[0, 0, 0, 0]</td>\n",
              "      <td>[4, 0, 2, 0]</td>\n",
              "    </tr>\n",
              "    <tr>\n",
              "      <th>2</th>\n",
              "      <td>10.1177_0001839212437519</td>\n",
              "      <td>[Qualitative]</td>\n",
              "      <td>[20, 5, 0, 1]</td>\n",
              "      <td>[0, 0]</td>\n",
              "      <td>[0, 0, 1, 2]</td>\n",
              "      <td>[0, 2, 0, 0]</td>\n",
              "    </tr>\n",
              "    <tr>\n",
              "      <th>3</th>\n",
              "      <td>10.1177_0001839216673823</td>\n",
              "      <td>[Quantitative]</td>\n",
              "      <td>[0, 0, 1, 0]</td>\n",
              "      <td>[0, 0]</td>\n",
              "      <td>[0, 0, 0, 0]</td>\n",
              "      <td>[6, 0, 0, 0]</td>\n",
              "    </tr>\n",
              "    <tr>\n",
              "      <th>4</th>\n",
              "      <td>10.1177_0001839213488773</td>\n",
              "      <td>[Quantitative]</td>\n",
              "      <td>[2, 0, 1, 0]</td>\n",
              "      <td>[0, 0]</td>\n",
              "      <td>[0, 0, 0, 0]</td>\n",
              "      <td>[4, 0, 0, 0]</td>\n",
              "    </tr>\n",
              "    <tr>\n",
              "      <th>...</th>\n",
              "      <td>...</td>\n",
              "      <td>...</td>\n",
              "      <td>...</td>\n",
              "      <td>...</td>\n",
              "      <td>...</td>\n",
              "      <td>...</td>\n",
              "    </tr>\n",
              "    <tr>\n",
              "      <th>215</th>\n",
              "      <td>asqu.2011.56.1.061</td>\n",
              "      <td>[Quantitative]</td>\n",
              "      <td>[3, 0, 1, 0]</td>\n",
              "      <td>[0, 0]</td>\n",
              "      <td>[0, 0, 0, 0]</td>\n",
              "      <td>[8, 1, 0, 0]</td>\n",
              "    </tr>\n",
              "    <tr>\n",
              "      <th>216</th>\n",
              "      <td>asqu.2011.56.1.026</td>\n",
              "      <td>[Quantitative]</td>\n",
              "      <td>[0, 0, 1, 0]</td>\n",
              "      <td>[0, 0]</td>\n",
              "      <td>[0, 0, 0, 0]</td>\n",
              "      <td>[4, 0, 8, 0]</td>\n",
              "    </tr>\n",
              "    <tr>\n",
              "      <th>217</th>\n",
              "      <td>asqu.2011.56.1.095</td>\n",
              "      <td>[Qualitative, Simulation]</td>\n",
              "      <td>[0, 0, 1, 0]</td>\n",
              "      <td>[1, 0]</td>\n",
              "      <td>[0, 0, 0, 0]</td>\n",
              "      <td>[0, 0, 0, 0]</td>\n",
              "    </tr>\n",
              "    <tr>\n",
              "      <th>218</th>\n",
              "      <td>10.1177_0001839212461439</td>\n",
              "      <td>NaN</td>\n",
              "      <td>[0, 0, 0, 0]</td>\n",
              "      <td>[0, 0]</td>\n",
              "      <td>[0, 0, 0, 0]</td>\n",
              "      <td>[0, 0, 0, 0]</td>\n",
              "    </tr>\n",
              "    <tr>\n",
              "      <th>219</th>\n",
              "      <td>10.1177_0001839212441928</td>\n",
              "      <td>NaN</td>\n",
              "      <td>[0, 0, 0, 0]</td>\n",
              "      <td>[0, 0]</td>\n",
              "      <td>[0, 0, 0, 0]</td>\n",
              "      <td>[0, 0, 0, 0]</td>\n",
              "    </tr>\n",
              "  </tbody>\n",
              "</table>\n",
              "<p>220 rows × 6 columns</p>\n",
              "</div>"
            ],
            "text/plain": [
              "                          DOI  ... [regression, quantitative, statistically significant, statistical significance]\n",
              "0    10.1177_0001839213486759  ...                                       [7, 0, 1, 0]                             \n",
              "1    10.1177_0001839218793128  ...                                       [4, 0, 2, 0]                             \n",
              "2    10.1177_0001839212437519  ...                                       [0, 2, 0, 0]                             \n",
              "3    10.1177_0001839216673823  ...                                       [6, 0, 0, 0]                             \n",
              "4    10.1177_0001839213488773  ...                                       [4, 0, 0, 0]                             \n",
              "..                        ...  ...                                                ...                             \n",
              "215        asqu.2011.56.1.061  ...                                       [8, 1, 0, 0]                             \n",
              "216        asqu.2011.56.1.026  ...                                       [4, 0, 8, 0]                             \n",
              "217        asqu.2011.56.1.095  ...                                       [0, 0, 0, 0]                             \n",
              "218  10.1177_0001839212461439  ...                                       [0, 0, 0, 0]                             \n",
              "219  10.1177_0001839212441928  ...                                       [0, 0, 0, 0]                             \n",
              "\n",
              "[220 rows x 6 columns]"
            ]
          },
          "metadata": {
            "tags": []
          },
          "execution_count": 139
        }
      ]
    },
    {
      "cell_type": "code",
      "metadata": {
        "id": "xlM6bZfwHOa9"
      },
      "source": [
        "df_merged[\"Majority_Method_cs\"] = df_merged[\"Majority_Method\"].dropna().apply(lambda x: \",\".join(x))"
      ],
      "execution_count": null,
      "outputs": []
    },
    {
      "cell_type": "code",
      "metadata": {
        "id": "FGx6hmZsFbPR"
      },
      "source": [
        "m = [\"Qualitative\", \"Quantitative\"]\n",
        "df_merged_q = df_merged[(df_merged[\"Majority_Method_cs\"] == \"Qualitative\") | (df_merged[\"Majority_Method_cs\"] == \"Quantitative\") ].drop(\"Majority_Method\", axis =1)\n",
        "df_merged_q.columns = [\"DOI\", 'Qualitative', 'Simulation', 'Experiment', 'Quantitative', 'Majority_Method' ]"
      ],
      "execution_count": null,
      "outputs": []
    },
    {
      "cell_type": "code",
      "metadata": {
        "id": "tabEjHj7W9yR"
      },
      "source": [
        "df_merged_others = df_merged[(df_merged[\"Majority_Method_cs\"] != \"Qualitative\") & (df_merged[\"Majority_Method_cs\"] != \"Quantitative\") ].drop(\"Majority_Method\", axis =1)\n",
        "df_merged_others.columns = [\"DOI\", 'Qualitative', 'Simulation', 'Experiment', 'Quantitative', 'Majority_Method' ]"
      ],
      "execution_count": null,
      "outputs": []
    },
    {
      "cell_type": "code",
      "metadata": {
        "colab": {
          "base_uri": "https://localhost:8080/"
        },
        "id": "LR_bgWhD6PTI",
        "outputId": "aeb4a36b-312b-484a-9179-bbdfacd2f8d6"
      },
      "source": [
        "import statistics\n",
        "a = [0,2,3]\n",
        "b = [3,4,1]\n",
        "statistics.mean(a + b)\n",
        "np.array(a + b)[np.nonzero(np.array(a + b))]"
      ],
      "execution_count": null,
      "outputs": [
        {
          "output_type": "execute_result",
          "data": {
            "text/plain": [
              "array([2, 3, 3, 4, 1])"
            ]
          },
          "metadata": {
            "tags": []
          },
          "execution_count": 82
        }
      ]
    },
    {
      "cell_type": "code",
      "metadata": {
        "id": "0w3j42xEGcJF"
      },
      "source": [
        "def check_avg(x):\n",
        "  import statistics\n",
        "  a, b = x[\"Qualitative\"], x[\"Quantitative\"]\n",
        "  no_zeros = np.array(a + b)[np.nonzero(np.array(a + b))]\n",
        "  avg = statistics.mean(no_zeros)\n",
        "  if sum(a) > sum(b):\n",
        "    for i in b:\n",
        "      if i > avg or i > 5:\n",
        "        return \"Mixed Category\"\n",
        "      \n",
        "  else:\n",
        "    for i in a:\n",
        "      if i > avg or i > 5:\n",
        "        return \"Mixed Category\"\n",
        "\n",
        "\n"
      ],
      "execution_count": null,
      "outputs": []
    },
    {
      "cell_type": "code",
      "metadata": {
        "id": "KqJxlWEJQZaV"
      },
      "source": [
        "df_merged_q[\"Mixed_Category\"] = df_merged_q[[\"Qualitative\", \"Quantitative\"]].apply(check_avg, axis = 1)"
      ],
      "execution_count": null,
      "outputs": []
    },
    {
      "cell_type": "code",
      "metadata": {
        "id": "aUTXJG_FTWPX"
      },
      "source": [
        "df_merged_q[\"Majority_Method\"] = df_merged_q.apply(lambda x: \"Mixed_Methods\" if x[\"Mixed_Category\"] == \"Mixed Category\" else x[\"Majority_Method\"], axis = 1)"
      ],
      "execution_count": null,
      "outputs": []
    },
    {
      "cell_type": "code",
      "metadata": {
        "id": "qXPUjByoGJvT"
      },
      "source": [
        "df_merged_others[\"Majority_Method\"] = df_merged_others.dropna().apply(lambda x: \"Mixed_Methods\" if \",\" in x[\"Majority_Method\"] else x[\"Majority_Method\"], axis = 1 )"
      ],
      "execution_count": null,
      "outputs": []
    },
    {
      "cell_type": "code",
      "metadata": {
        "id": "4Ua-br-xUc8o"
      },
      "source": [
        "df_all = pd.concat([df_merged_q, df_merged_others])"
      ],
      "execution_count": null,
      "outputs": []
    },
    {
      "cell_type": "code",
      "metadata": {
        "colab": {
          "base_uri": "https://localhost:8080/",
          "height": 419
        },
        "id": "22qDGpysDpWF",
        "outputId": "09fe4cb8-709b-4484-f54c-6ae0e52d5f57"
      },
      "source": [
        "df_all"
      ],
      "execution_count": null,
      "outputs": [
        {
          "output_type": "execute_result",
          "data": {
            "text/html": [
              "<div>\n",
              "<style scoped>\n",
              "    .dataframe tbody tr th:only-of-type {\n",
              "        vertical-align: middle;\n",
              "    }\n",
              "\n",
              "    .dataframe tbody tr th {\n",
              "        vertical-align: top;\n",
              "    }\n",
              "\n",
              "    .dataframe thead th {\n",
              "        text-align: right;\n",
              "    }\n",
              "</style>\n",
              "<table border=\"1\" class=\"dataframe\">\n",
              "  <thead>\n",
              "    <tr style=\"text-align: right;\">\n",
              "      <th></th>\n",
              "      <th>DOI</th>\n",
              "      <th>Qualitative</th>\n",
              "      <th>Simulation</th>\n",
              "      <th>Experiment</th>\n",
              "      <th>Quantitative</th>\n",
              "      <th>Majority_Method</th>\n",
              "      <th>Mixed_Category</th>\n",
              "    </tr>\n",
              "  </thead>\n",
              "  <tbody>\n",
              "    <tr>\n",
              "      <th>0</th>\n",
              "      <td>10.1177_0001839213486759</td>\n",
              "      <td>[1, 0, 1, 0]</td>\n",
              "      <td>[0, 0]</td>\n",
              "      <td>[0, 0, 0, 0]</td>\n",
              "      <td>[7, 0, 1, 0]</td>\n",
              "      <td>Quantitative</td>\n",
              "      <td>None</td>\n",
              "    </tr>\n",
              "    <tr>\n",
              "      <th>1</th>\n",
              "      <td>10.1177_0001839218793128</td>\n",
              "      <td>[4, 0, 0, 0]</td>\n",
              "      <td>[1, 0]</td>\n",
              "      <td>[0, 0, 0, 0]</td>\n",
              "      <td>[4, 0, 2, 0]</td>\n",
              "      <td>Mixed_Methods</td>\n",
              "      <td>Mixed Category</td>\n",
              "    </tr>\n",
              "    <tr>\n",
              "      <th>2</th>\n",
              "      <td>10.1177_0001839212437519</td>\n",
              "      <td>[20, 5, 0, 1]</td>\n",
              "      <td>[0, 0]</td>\n",
              "      <td>[0, 0, 1, 2]</td>\n",
              "      <td>[0, 2, 0, 0]</td>\n",
              "      <td>Qualitative</td>\n",
              "      <td>None</td>\n",
              "    </tr>\n",
              "    <tr>\n",
              "      <th>3</th>\n",
              "      <td>10.1177_0001839216673823</td>\n",
              "      <td>[0, 0, 1, 0]</td>\n",
              "      <td>[0, 0]</td>\n",
              "      <td>[0, 0, 0, 0]</td>\n",
              "      <td>[6, 0, 0, 0]</td>\n",
              "      <td>Quantitative</td>\n",
              "      <td>None</td>\n",
              "    </tr>\n",
              "    <tr>\n",
              "      <th>4</th>\n",
              "      <td>10.1177_0001839213488773</td>\n",
              "      <td>[2, 0, 1, 0]</td>\n",
              "      <td>[0, 0]</td>\n",
              "      <td>[0, 0, 0, 0]</td>\n",
              "      <td>[4, 0, 0, 0]</td>\n",
              "      <td>Quantitative</td>\n",
              "      <td>None</td>\n",
              "    </tr>\n",
              "    <tr>\n",
              "      <th>...</th>\n",
              "      <td>...</td>\n",
              "      <td>...</td>\n",
              "      <td>...</td>\n",
              "      <td>...</td>\n",
              "      <td>...</td>\n",
              "      <td>...</td>\n",
              "      <td>...</td>\n",
              "    </tr>\n",
              "    <tr>\n",
              "      <th>201</th>\n",
              "      <td>10.1177_0001839214523428</td>\n",
              "      <td>[0, 0, 0, 0]</td>\n",
              "      <td>[4, 0]</td>\n",
              "      <td>[0, 0, 0, 1]</td>\n",
              "      <td>[0, 0, 1, 1]</td>\n",
              "      <td>Simulation</td>\n",
              "      <td>NaN</td>\n",
              "    </tr>\n",
              "    <tr>\n",
              "      <th>214</th>\n",
              "      <td>asqu.2011.56.1.001</td>\n",
              "      <td>[1, 0, 0, 0]</td>\n",
              "      <td>[0, 0]</td>\n",
              "      <td>[0, 0, 30, 10]</td>\n",
              "      <td>[4, 1, 0, 0]</td>\n",
              "      <td>Experiment</td>\n",
              "      <td>NaN</td>\n",
              "    </tr>\n",
              "    <tr>\n",
              "      <th>217</th>\n",
              "      <td>asqu.2011.56.1.095</td>\n",
              "      <td>[0, 0, 1, 0]</td>\n",
              "      <td>[1, 0]</td>\n",
              "      <td>[0, 0, 0, 0]</td>\n",
              "      <td>[0, 0, 0, 0]</td>\n",
              "      <td>Mixed_Methods</td>\n",
              "      <td>NaN</td>\n",
              "    </tr>\n",
              "    <tr>\n",
              "      <th>218</th>\n",
              "      <td>10.1177_0001839212461439</td>\n",
              "      <td>[0, 0, 0, 0]</td>\n",
              "      <td>[0, 0]</td>\n",
              "      <td>[0, 0, 0, 0]</td>\n",
              "      <td>[0, 0, 0, 0]</td>\n",
              "      <td>NaN</td>\n",
              "      <td>NaN</td>\n",
              "    </tr>\n",
              "    <tr>\n",
              "      <th>219</th>\n",
              "      <td>10.1177_0001839212441928</td>\n",
              "      <td>[0, 0, 0, 0]</td>\n",
              "      <td>[0, 0]</td>\n",
              "      <td>[0, 0, 0, 0]</td>\n",
              "      <td>[0, 0, 0, 0]</td>\n",
              "      <td>NaN</td>\n",
              "      <td>NaN</td>\n",
              "    </tr>\n",
              "  </tbody>\n",
              "</table>\n",
              "<p>220 rows × 7 columns</p>\n",
              "</div>"
            ],
            "text/plain": [
              "                          DOI    Qualitative  ... Majority_Method  Mixed_Category\n",
              "0    10.1177_0001839213486759   [1, 0, 1, 0]  ...    Quantitative            None\n",
              "1    10.1177_0001839218793128   [4, 0, 0, 0]  ...   Mixed_Methods  Mixed Category\n",
              "2    10.1177_0001839212437519  [20, 5, 0, 1]  ...     Qualitative            None\n",
              "3    10.1177_0001839216673823   [0, 0, 1, 0]  ...    Quantitative            None\n",
              "4    10.1177_0001839213488773   [2, 0, 1, 0]  ...    Quantitative            None\n",
              "..                        ...            ...  ...             ...             ...\n",
              "201  10.1177_0001839214523428   [0, 0, 0, 0]  ...      Simulation             NaN\n",
              "214        asqu.2011.56.1.001   [1, 0, 0, 0]  ...      Experiment             NaN\n",
              "217        asqu.2011.56.1.095   [0, 0, 1, 0]  ...   Mixed_Methods             NaN\n",
              "218  10.1177_0001839212461439   [0, 0, 0, 0]  ...             NaN             NaN\n",
              "219  10.1177_0001839212441928   [0, 0, 0, 0]  ...             NaN             NaN\n",
              "\n",
              "[220 rows x 7 columns]"
            ]
          },
          "metadata": {
            "tags": []
          },
          "execution_count": 162
        }
      ]
    },
    {
      "cell_type": "code",
      "metadata": {
        "colab": {
          "base_uri": "https://localhost:8080/"
        },
        "id": "kuH4QefGD_MX",
        "outputId": "8e0479b6-3ab5-46c6-b9fc-6ca83009e624"
      },
      "source": [
        "df_all[\"Majority_Method\"].value_counts()"
      ],
      "execution_count": null,
      "outputs": [
        {
          "output_type": "execute_result",
          "data": {
            "text/plain": [
              "Qualitative      90\n",
              "Quantitative     64\n",
              "Mixed_Methods    48\n",
              "Experiment        9\n",
              "Simulation        7\n",
              "Name: Majority_Method, dtype: int64"
            ]
          },
          "metadata": {
            "tags": []
          },
          "execution_count": 163
        }
      ]
    },
    {
      "cell_type": "code",
      "metadata": {
        "id": "viNZYlXWX0eB"
      },
      "source": [
        "df_all.drop(\"Mixed_Category\", axis = 1, inplace = True)"
      ],
      "execution_count": null,
      "outputs": []
    },
    {
      "cell_type": "code",
      "metadata": {
        "colab": {
          "base_uri": "https://localhost:8080/",
          "height": 419
        },
        "id": "iMHBpG8AHPmU",
        "outputId": "d0947153-7f8b-4867-ec41-7105cfbc54c6"
      },
      "source": [
        "df_all"
      ],
      "execution_count": null,
      "outputs": [
        {
          "output_type": "execute_result",
          "data": {
            "text/html": [
              "<div>\n",
              "<style scoped>\n",
              "    .dataframe tbody tr th:only-of-type {\n",
              "        vertical-align: middle;\n",
              "    }\n",
              "\n",
              "    .dataframe tbody tr th {\n",
              "        vertical-align: top;\n",
              "    }\n",
              "\n",
              "    .dataframe thead th {\n",
              "        text-align: right;\n",
              "    }\n",
              "</style>\n",
              "<table border=\"1\" class=\"dataframe\">\n",
              "  <thead>\n",
              "    <tr style=\"text-align: right;\">\n",
              "      <th></th>\n",
              "      <th>DOI</th>\n",
              "      <th>Qualitative</th>\n",
              "      <th>Simulation</th>\n",
              "      <th>Experiment</th>\n",
              "      <th>Quantitative</th>\n",
              "      <th>Majority_Method</th>\n",
              "    </tr>\n",
              "  </thead>\n",
              "  <tbody>\n",
              "    <tr>\n",
              "      <th>0</th>\n",
              "      <td>10.1177_0001839213486759</td>\n",
              "      <td>[1, 0, 1, 0]</td>\n",
              "      <td>[0, 0]</td>\n",
              "      <td>[0, 0, 0, 0]</td>\n",
              "      <td>[7, 0, 1, 0]</td>\n",
              "      <td>Quantitative</td>\n",
              "    </tr>\n",
              "    <tr>\n",
              "      <th>1</th>\n",
              "      <td>10.1177_0001839218793128</td>\n",
              "      <td>[4, 0, 0, 0]</td>\n",
              "      <td>[1, 0]</td>\n",
              "      <td>[0, 0, 0, 0]</td>\n",
              "      <td>[4, 0, 2, 0]</td>\n",
              "      <td>Mixed_Methods</td>\n",
              "    </tr>\n",
              "    <tr>\n",
              "      <th>2</th>\n",
              "      <td>10.1177_0001839212437519</td>\n",
              "      <td>[20, 5, 0, 1]</td>\n",
              "      <td>[0, 0]</td>\n",
              "      <td>[0, 0, 1, 2]</td>\n",
              "      <td>[0, 2, 0, 0]</td>\n",
              "      <td>Qualitative</td>\n",
              "    </tr>\n",
              "    <tr>\n",
              "      <th>3</th>\n",
              "      <td>10.1177_0001839216673823</td>\n",
              "      <td>[0, 0, 1, 0]</td>\n",
              "      <td>[0, 0]</td>\n",
              "      <td>[0, 0, 0, 0]</td>\n",
              "      <td>[6, 0, 0, 0]</td>\n",
              "      <td>Quantitative</td>\n",
              "    </tr>\n",
              "    <tr>\n",
              "      <th>4</th>\n",
              "      <td>10.1177_0001839213488773</td>\n",
              "      <td>[2, 0, 1, 0]</td>\n",
              "      <td>[0, 0]</td>\n",
              "      <td>[0, 0, 0, 0]</td>\n",
              "      <td>[4, 0, 0, 0]</td>\n",
              "      <td>Quantitative</td>\n",
              "    </tr>\n",
              "    <tr>\n",
              "      <th>...</th>\n",
              "      <td>...</td>\n",
              "      <td>...</td>\n",
              "      <td>...</td>\n",
              "      <td>...</td>\n",
              "      <td>...</td>\n",
              "      <td>...</td>\n",
              "    </tr>\n",
              "    <tr>\n",
              "      <th>201</th>\n",
              "      <td>10.1177_0001839214523428</td>\n",
              "      <td>[0, 0, 0, 0]</td>\n",
              "      <td>[4, 0]</td>\n",
              "      <td>[0, 0, 0, 1]</td>\n",
              "      <td>[0, 0, 1, 1]</td>\n",
              "      <td>Simulation</td>\n",
              "    </tr>\n",
              "    <tr>\n",
              "      <th>214</th>\n",
              "      <td>asqu.2011.56.1.001</td>\n",
              "      <td>[1, 0, 0, 0]</td>\n",
              "      <td>[0, 0]</td>\n",
              "      <td>[0, 0, 30, 10]</td>\n",
              "      <td>[4, 1, 0, 0]</td>\n",
              "      <td>Experiment</td>\n",
              "    </tr>\n",
              "    <tr>\n",
              "      <th>217</th>\n",
              "      <td>asqu.2011.56.1.095</td>\n",
              "      <td>[0, 0, 1, 0]</td>\n",
              "      <td>[1, 0]</td>\n",
              "      <td>[0, 0, 0, 0]</td>\n",
              "      <td>[0, 0, 0, 0]</td>\n",
              "      <td>Mixed_Methods</td>\n",
              "    </tr>\n",
              "    <tr>\n",
              "      <th>218</th>\n",
              "      <td>10.1177_0001839212461439</td>\n",
              "      <td>[0, 0, 0, 0]</td>\n",
              "      <td>[0, 0]</td>\n",
              "      <td>[0, 0, 0, 0]</td>\n",
              "      <td>[0, 0, 0, 0]</td>\n",
              "      <td>NaN</td>\n",
              "    </tr>\n",
              "    <tr>\n",
              "      <th>219</th>\n",
              "      <td>10.1177_0001839212441928</td>\n",
              "      <td>[0, 0, 0, 0]</td>\n",
              "      <td>[0, 0]</td>\n",
              "      <td>[0, 0, 0, 0]</td>\n",
              "      <td>[0, 0, 0, 0]</td>\n",
              "      <td>NaN</td>\n",
              "    </tr>\n",
              "  </tbody>\n",
              "</table>\n",
              "<p>220 rows × 6 columns</p>\n",
              "</div>"
            ],
            "text/plain": [
              "                          DOI    Qualitative  ...  Quantitative Majority_Method\n",
              "0    10.1177_0001839213486759   [1, 0, 1, 0]  ...  [7, 0, 1, 0]    Quantitative\n",
              "1    10.1177_0001839218793128   [4, 0, 0, 0]  ...  [4, 0, 2, 0]   Mixed_Methods\n",
              "2    10.1177_0001839212437519  [20, 5, 0, 1]  ...  [0, 2, 0, 0]     Qualitative\n",
              "3    10.1177_0001839216673823   [0, 0, 1, 0]  ...  [6, 0, 0, 0]    Quantitative\n",
              "4    10.1177_0001839213488773   [2, 0, 1, 0]  ...  [4, 0, 0, 0]    Quantitative\n",
              "..                        ...            ...  ...           ...             ...\n",
              "201  10.1177_0001839214523428   [0, 0, 0, 0]  ...  [0, 0, 1, 1]      Simulation\n",
              "214        asqu.2011.56.1.001   [1, 0, 0, 0]  ...  [4, 1, 0, 0]      Experiment\n",
              "217        asqu.2011.56.1.095   [0, 0, 1, 0]  ...  [0, 0, 0, 0]   Mixed_Methods\n",
              "218  10.1177_0001839212461439   [0, 0, 0, 0]  ...  [0, 0, 0, 0]             NaN\n",
              "219  10.1177_0001839212441928   [0, 0, 0, 0]  ...  [0, 0, 0, 0]             NaN\n",
              "\n",
              "[220 rows x 6 columns]"
            ]
          },
          "metadata": {
            "tags": []
          },
          "execution_count": 165
        }
      ]
    },
    {
      "cell_type": "code",
      "metadata": {
        "id": "2VCPBDsqHLOL"
      },
      "source": [
        "df_all.rename(columns = {\"Qualitative\" : \"Qualitative [interview , ethnograph, qualitative, grounded theory]\", \"Simulation\" : \"Simulation [simulation, formal model]\", \\\n",
        "                    \"Experiment\" : \"Experiment [field experiment, lab experiment, experiment, experiments]\", \"Quantitative\" : \"Quantitative [regression, quantitative, statistically significant, statistical significance]\" }, inplace = True)"
      ],
      "execution_count": null,
      "outputs": []
    },
    {
      "cell_type": "code",
      "metadata": {
        "id": "jbEmLtFCX1le"
      },
      "source": [
        "df_all.to_excel(path + \"Analysis/Methods_new.xlsx\")"
      ],
      "execution_count": null,
      "outputs": []
    },
    {
      "cell_type": "markdown",
      "metadata": {
        "id": "4UqTf3BngISC"
      },
      "source": [
        "**Methods -Merged with attributes**"
      ]
    },
    {
      "cell_type": "code",
      "metadata": {
        "id": "IiRaMr11gLA7"
      },
      "source": [
        "m = pd.read_excel(path + \"Analysis/Methods_new.xlsx\")"
      ],
      "execution_count": null,
      "outputs": []
    },
    {
      "cell_type": "code",
      "metadata": {
        "id": "rrBW10pAgRXj"
      },
      "source": [
        "m.drop(\"Unnamed: 0\", axis = 1, inplace = True)"
      ],
      "execution_count": null,
      "outputs": []
    },
    {
      "cell_type": "code",
      "metadata": {
        "id": "cDhMbkU6gUvV"
      },
      "source": [
        "#m.rename(columns = {\"Qualitative\" : \"Qualitative [interview , ethnograph, qualitative, grounded theory]\", \"Simulation\" : \"Simulation [simulation, formal model]\", \\\n",
        " #                   \"Experiment\" : \"Experiment [field experiment, lab experiment]\", \"Quantitative\" : \"Quantitative [regression, hypothesis]\" }, inplace = True)\n"
      ],
      "execution_count": null,
      "outputs": []
    },
    {
      "cell_type": "code",
      "metadata": {
        "colab": {
          "base_uri": "https://localhost:8080/",
          "height": 255
        },
        "id": "yB9elIm_hL6m",
        "outputId": "f38ddde2-5b95-4da4-80aa-01de5f679144"
      },
      "source": [
        "m.head()"
      ],
      "execution_count": null,
      "outputs": [
        {
          "output_type": "execute_result",
          "data": {
            "text/html": [
              "<div>\n",
              "<style scoped>\n",
              "    .dataframe tbody tr th:only-of-type {\n",
              "        vertical-align: middle;\n",
              "    }\n",
              "\n",
              "    .dataframe tbody tr th {\n",
              "        vertical-align: top;\n",
              "    }\n",
              "\n",
              "    .dataframe thead th {\n",
              "        text-align: right;\n",
              "    }\n",
              "</style>\n",
              "<table border=\"1\" class=\"dataframe\">\n",
              "  <thead>\n",
              "    <tr style=\"text-align: right;\">\n",
              "      <th></th>\n",
              "      <th>DOI</th>\n",
              "      <th>Qualitative [interview , ethnograph, qualitative, grounded theory]</th>\n",
              "      <th>Simulation [simulation, formal model]</th>\n",
              "      <th>Experiment [field experiment, lab experiment, experiment]</th>\n",
              "      <th>Quantitative [regression, quantitative, statistically significant, statistical significance]</th>\n",
              "      <th>Majority_Method</th>\n",
              "    </tr>\n",
              "  </thead>\n",
              "  <tbody>\n",
              "    <tr>\n",
              "      <th>0</th>\n",
              "      <td>10.1177_0001839213486759</td>\n",
              "      <td>[1, 0, 1, 0]</td>\n",
              "      <td>[0, 0]</td>\n",
              "      <td>[0, 0, 0]</td>\n",
              "      <td>[7, 0, 1, 0]</td>\n",
              "      <td>Quantitative</td>\n",
              "    </tr>\n",
              "    <tr>\n",
              "      <th>1</th>\n",
              "      <td>10.1177_0001839212437519</td>\n",
              "      <td>[20, 5, 0, 1]</td>\n",
              "      <td>[0, 0]</td>\n",
              "      <td>[0, 0, 5]</td>\n",
              "      <td>[0, 2, 0, 0]</td>\n",
              "      <td>Qualitative</td>\n",
              "    </tr>\n",
              "    <tr>\n",
              "      <th>2</th>\n",
              "      <td>10.1177_0001839216673823</td>\n",
              "      <td>[0, 0, 1, 0]</td>\n",
              "      <td>[0, 0]</td>\n",
              "      <td>[0, 0, 0]</td>\n",
              "      <td>[6, 0, 0, 0]</td>\n",
              "      <td>Mixed_Methods</td>\n",
              "    </tr>\n",
              "    <tr>\n",
              "      <th>3</th>\n",
              "      <td>10.1177_0001839213488773</td>\n",
              "      <td>[2, 0, 1, 0]</td>\n",
              "      <td>[0, 0]</td>\n",
              "      <td>[0, 0, 2]</td>\n",
              "      <td>[4, 0, 0, 0]</td>\n",
              "      <td>Mixed_Methods</td>\n",
              "    </tr>\n",
              "    <tr>\n",
              "      <th>4</th>\n",
              "      <td>10.1177_0001839219855329</td>\n",
              "      <td>[6, 13, 1, 1]</td>\n",
              "      <td>[0, 0]</td>\n",
              "      <td>[0, 0, 2]</td>\n",
              "      <td>[0, 1, 0, 0]</td>\n",
              "      <td>Qualitative</td>\n",
              "    </tr>\n",
              "  </tbody>\n",
              "</table>\n",
              "</div>"
            ],
            "text/plain": [
              "                        DOI  ... Majority_Method\n",
              "0  10.1177_0001839213486759  ...    Quantitative\n",
              "1  10.1177_0001839212437519  ...     Qualitative\n",
              "2  10.1177_0001839216673823  ...   Mixed_Methods\n",
              "3  10.1177_0001839213488773  ...   Mixed_Methods\n",
              "4  10.1177_0001839219855329  ...     Qualitative\n",
              "\n",
              "[5 rows x 6 columns]"
            ]
          },
          "metadata": {
            "tags": []
          },
          "execution_count": 72
        }
      ]
    },
    {
      "cell_type": "code",
      "metadata": {
        "id": "0SYMpFt7hhEb"
      },
      "source": [
        "m[\"DOI_new\"] = m[\"DOI\"].apply(lambda x: x.replace(\"_\", \"/\"))"
      ],
      "execution_count": null,
      "outputs": []
    },
    {
      "cell_type": "code",
      "metadata": {
        "id": "waeJvccIhhEc"
      },
      "source": [
        "m.drop(\"DOI\", axis = 1, inplace = True)"
      ],
      "execution_count": null,
      "outputs": []
    },
    {
      "cell_type": "code",
      "metadata": {
        "id": "wmj0InB6hhEc"
      },
      "source": [
        "m.rename(columns = {\"DOI_new\" : \"DOI\"}, inplace = True)"
      ],
      "execution_count": null,
      "outputs": []
    },
    {
      "cell_type": "code",
      "metadata": {
        "colab": {
          "base_uri": "https://localhost:8080/"
        },
        "id": "lFm_Jt3-hp6-",
        "outputId": "43388085-aa2f-4db4-cc2c-5f19c7f323e6"
      },
      "source": [
        "att.columns"
      ],
      "execution_count": null,
      "outputs": [
        {
          "output_type": "execute_result",
          "data": {
            "text/plain": [
              "Index(['DOI', 'Authors', 'Gender 1st A', 'Gender Other', 'Affiliation', 'US',\n",
              "       'Canada', 'Europe', 'Asia', 'Other', 'Article-title', 'Subtitle',\n",
              "       'Publication Date', 'Year', 'Volume', 'Issue', 'Total Citations',\n",
              "       'Average per Year', 'Method', 'Data Source', 'Analysis Level',\n",
              "       'Abstract', 'Unnamed: 22'],\n",
              "      dtype='object')"
            ]
          },
          "metadata": {
            "tags": []
          },
          "execution_count": 80
        }
      ]
    },
    {
      "cell_type": "code",
      "metadata": {
        "id": "rE_3eCpfhNFf"
      },
      "source": [
        "methods_merged = pd.merge(m, att[[\"DOI\", \"Year\", \"Article-title\", \"Abstract\"]], on = \"DOI\", how = \"outer\")"
      ],
      "execution_count": null,
      "outputs": []
    },
    {
      "cell_type": "code",
      "metadata": {
        "colab": {
          "base_uri": "https://localhost:8080/",
          "height": 544
        },
        "id": "acBmyUl0hzdK",
        "outputId": "573c209c-7d10-478a-9fe3-cfaa8a635371"
      },
      "source": [
        "methods_merged.head()"
      ],
      "execution_count": null,
      "outputs": [
        {
          "output_type": "execute_result",
          "data": {
            "text/html": [
              "<div>\n",
              "<style scoped>\n",
              "    .dataframe tbody tr th:only-of-type {\n",
              "        vertical-align: middle;\n",
              "    }\n",
              "\n",
              "    .dataframe tbody tr th {\n",
              "        vertical-align: top;\n",
              "    }\n",
              "\n",
              "    .dataframe thead th {\n",
              "        text-align: right;\n",
              "    }\n",
              "</style>\n",
              "<table border=\"1\" class=\"dataframe\">\n",
              "  <thead>\n",
              "    <tr style=\"text-align: right;\">\n",
              "      <th></th>\n",
              "      <th>Qualitative [interview , ethnograph, qualitative, grounded theory]</th>\n",
              "      <th>Simulation [simulation, formal model]</th>\n",
              "      <th>Experiment [field experiment, lab experiment, experiment]</th>\n",
              "      <th>Quantitative [regression, quantitative, statistically significant, statistical significance]</th>\n",
              "      <th>Majority_Method</th>\n",
              "      <th>DOI</th>\n",
              "      <th>Year</th>\n",
              "      <th>Article-title</th>\n",
              "      <th>Abstract</th>\n",
              "    </tr>\n",
              "  </thead>\n",
              "  <tbody>\n",
              "    <tr>\n",
              "      <th>0</th>\n",
              "      <td>[1, 0, 1, 0]</td>\n",
              "      <td>[0, 0]</td>\n",
              "      <td>[0, 0, 0]</td>\n",
              "      <td>[7, 0, 1, 0]</td>\n",
              "      <td>Quantitative</td>\n",
              "      <td>10.1177/0001839213486759</td>\n",
              "      <td>2013</td>\n",
              "      <td>Specialization and Career Dynamics</td>\n",
              "      <td>In this article, we attempt to resolve the ten...</td>\n",
              "    </tr>\n",
              "    <tr>\n",
              "      <th>1</th>\n",
              "      <td>[20, 5, 0, 1]</td>\n",
              "      <td>[0, 0]</td>\n",
              "      <td>[0, 0, 5]</td>\n",
              "      <td>[0, 2, 0, 0]</td>\n",
              "      <td>Qualitative</td>\n",
              "      <td>10.1177/0001839212437519</td>\n",
              "      <td>2011</td>\n",
              "      <td>Transcending Socialization</td>\n",
              "      <td>A nine-year ethnography is used to show how tw...</td>\n",
              "    </tr>\n",
              "    <tr>\n",
              "      <th>2</th>\n",
              "      <td>[0, 0, 1, 0]</td>\n",
              "      <td>[0, 0]</td>\n",
              "      <td>[0, 0, 0]</td>\n",
              "      <td>[6, 0, 0, 0]</td>\n",
              "      <td>Mixed_Methods</td>\n",
              "      <td>10.1177/0001839216673823</td>\n",
              "      <td>2017</td>\n",
              "      <td>These Unequal States: Corporate Organization a...</td>\n",
              "      <td>In an analysis of data on employment in the 48...</td>\n",
              "    </tr>\n",
              "    <tr>\n",
              "      <th>3</th>\n",
              "      <td>[2, 0, 1, 0]</td>\n",
              "      <td>[0, 0]</td>\n",
              "      <td>[0, 0, 2]</td>\n",
              "      <td>[4, 0, 0, 0]</td>\n",
              "      <td>Mixed_Methods</td>\n",
              "      <td>10.1177/0001839213488773</td>\n",
              "      <td>2013</td>\n",
              "      <td>CEO Narcissism, Audience Engagement, and Organ...</td>\n",
              "      <td>We examine the responses of major pharmaceutic...</td>\n",
              "    </tr>\n",
              "    <tr>\n",
              "      <th>4</th>\n",
              "      <td>[6, 13, 1, 1]</td>\n",
              "      <td>[0, 0]</td>\n",
              "      <td>[0, 0, 2]</td>\n",
              "      <td>[0, 1, 0, 0]</td>\n",
              "      <td>Qualitative</td>\n",
              "      <td>10.1177/0001839219855329</td>\n",
              "      <td>2020</td>\n",
              "      <td>Evaluative Spillovers from Technological Chang...</td>\n",
              "      <td>Most studies of technologies’ impact on occupa...</td>\n",
              "    </tr>\n",
              "  </tbody>\n",
              "</table>\n",
              "</div>"
            ],
            "text/plain": [
              "  Qualitative [interview , ethnograph, qualitative, grounded theory]  ...                                           Abstract\n",
              "0                                       [1, 0, 1, 0]                  ...  In this article, we attempt to resolve the ten...\n",
              "1                                      [20, 5, 0, 1]                  ...  A nine-year ethnography is used to show how tw...\n",
              "2                                       [0, 0, 1, 0]                  ...  In an analysis of data on employment in the 48...\n",
              "3                                       [2, 0, 1, 0]                  ...  We examine the responses of major pharmaceutic...\n",
              "4                                      [6, 13, 1, 1]                  ...  Most studies of technologies’ impact on occupa...\n",
              "\n",
              "[5 rows x 9 columns]"
            ]
          },
          "metadata": {
            "tags": []
          },
          "execution_count": 82
        }
      ]
    },
    {
      "cell_type": "code",
      "metadata": {
        "id": "c3whGVPth6TA"
      },
      "source": [
        "methods_merged.to_excel(path + \"Analysis/Methods_merged_atts.xlsx\", index = False)"
      ],
      "execution_count": null,
      "outputs": []
    },
    {
      "cell_type": "markdown",
      "metadata": {
        "id": "eU0MHg0Fya5V"
      },
      "source": [
        "**Spreadsheet for stacked bar chart (methods)**"
      ]
    },
    {
      "cell_type": "code",
      "metadata": {
        "id": "Sf4FLmc8yhNr"
      },
      "source": [
        "m = pd.read_excel(path + \"Analysis/methods_words.xlsx\")"
      ],
      "execution_count": null,
      "outputs": []
    },
    {
      "cell_type": "code",
      "metadata": {
        "colab": {
          "base_uri": "https://localhost:8080/",
          "height": 496
        },
        "id": "LDjuIfNSysSj",
        "outputId": "af427ef9-dc97-4591-b53b-61e10dac464f"
      },
      "source": [
        "m.head()"
      ],
      "execution_count": null,
      "outputs": [
        {
          "output_type": "execute_result",
          "data": {
            "text/html": [
              "<div>\n",
              "<style scoped>\n",
              "    .dataframe tbody tr th:only-of-type {\n",
              "        vertical-align: middle;\n",
              "    }\n",
              "\n",
              "    .dataframe tbody tr th {\n",
              "        vertical-align: top;\n",
              "    }\n",
              "\n",
              "    .dataframe thead th {\n",
              "        text-align: right;\n",
              "    }\n",
              "</style>\n",
              "<table border=\"1\" class=\"dataframe\">\n",
              "  <thead>\n",
              "    <tr style=\"text-align: right;\">\n",
              "      <th></th>\n",
              "      <th>Unnamed: 0</th>\n",
              "      <th>interview</th>\n",
              "      <th>ethnograph</th>\n",
              "      <th>qualitative</th>\n",
              "      <th>grounded theory</th>\n",
              "      <th>simulation</th>\n",
              "      <th>formal model</th>\n",
              "      <th>field experiment</th>\n",
              "      <th>lab experiment</th>\n",
              "      <th>experiment</th>\n",
              "      <th>regression</th>\n",
              "      <th>quantitative</th>\n",
              "      <th>statistically significant</th>\n",
              "      <th>statistical significance</th>\n",
              "      <th>DOI</th>\n",
              "      <th>Year</th>\n",
              "      <th>Article-title</th>\n",
              "    </tr>\n",
              "  </thead>\n",
              "  <tbody>\n",
              "    <tr>\n",
              "      <th>0</th>\n",
              "      <td>0</td>\n",
              "      <td>1.0</td>\n",
              "      <td>0.0</td>\n",
              "      <td>1.0</td>\n",
              "      <td>0.0</td>\n",
              "      <td>0.0</td>\n",
              "      <td>0.0</td>\n",
              "      <td>0.0</td>\n",
              "      <td>0.0</td>\n",
              "      <td>0.0</td>\n",
              "      <td>7.0</td>\n",
              "      <td>0.0</td>\n",
              "      <td>1.0</td>\n",
              "      <td>0.0</td>\n",
              "      <td>10.1177/0001839213486759</td>\n",
              "      <td>2013</td>\n",
              "      <td>Specialization and Career Dynamics</td>\n",
              "    </tr>\n",
              "    <tr>\n",
              "      <th>1</th>\n",
              "      <td>1</td>\n",
              "      <td>4.0</td>\n",
              "      <td>0.0</td>\n",
              "      <td>0.0</td>\n",
              "      <td>0.0</td>\n",
              "      <td>1.0</td>\n",
              "      <td>0.0</td>\n",
              "      <td>0.0</td>\n",
              "      <td>0.0</td>\n",
              "      <td>7.0</td>\n",
              "      <td>4.0</td>\n",
              "      <td>0.0</td>\n",
              "      <td>2.0</td>\n",
              "      <td>0.0</td>\n",
              "      <td>10.1177/0001839218793128</td>\n",
              "      <td>2019</td>\n",
              "      <td>Dispositional Sources of Managerial Discretion...</td>\n",
              "    </tr>\n",
              "    <tr>\n",
              "      <th>2</th>\n",
              "      <td>2</td>\n",
              "      <td>20.0</td>\n",
              "      <td>5.0</td>\n",
              "      <td>0.0</td>\n",
              "      <td>1.0</td>\n",
              "      <td>0.0</td>\n",
              "      <td>0.0</td>\n",
              "      <td>0.0</td>\n",
              "      <td>0.0</td>\n",
              "      <td>5.0</td>\n",
              "      <td>0.0</td>\n",
              "      <td>2.0</td>\n",
              "      <td>0.0</td>\n",
              "      <td>0.0</td>\n",
              "      <td>10.1177/0001839212437519</td>\n",
              "      <td>2011</td>\n",
              "      <td>Transcending Socialization</td>\n",
              "    </tr>\n",
              "    <tr>\n",
              "      <th>3</th>\n",
              "      <td>3</td>\n",
              "      <td>0.0</td>\n",
              "      <td>0.0</td>\n",
              "      <td>1.0</td>\n",
              "      <td>0.0</td>\n",
              "      <td>0.0</td>\n",
              "      <td>0.0</td>\n",
              "      <td>0.0</td>\n",
              "      <td>0.0</td>\n",
              "      <td>0.0</td>\n",
              "      <td>6.0</td>\n",
              "      <td>0.0</td>\n",
              "      <td>0.0</td>\n",
              "      <td>0.0</td>\n",
              "      <td>10.1177/0001839216673823</td>\n",
              "      <td>2017</td>\n",
              "      <td>These Unequal States: Corporate Organization a...</td>\n",
              "    </tr>\n",
              "    <tr>\n",
              "      <th>4</th>\n",
              "      <td>4</td>\n",
              "      <td>2.0</td>\n",
              "      <td>0.0</td>\n",
              "      <td>1.0</td>\n",
              "      <td>0.0</td>\n",
              "      <td>0.0</td>\n",
              "      <td>0.0</td>\n",
              "      <td>0.0</td>\n",
              "      <td>0.0</td>\n",
              "      <td>2.0</td>\n",
              "      <td>4.0</td>\n",
              "      <td>0.0</td>\n",
              "      <td>0.0</td>\n",
              "      <td>0.0</td>\n",
              "      <td>10.1177/0001839213488773</td>\n",
              "      <td>2013</td>\n",
              "      <td>CEO Narcissism, Audience Engagement, and Organ...</td>\n",
              "    </tr>\n",
              "  </tbody>\n",
              "</table>\n",
              "</div>"
            ],
            "text/plain": [
              "   Unnamed: 0  ...                                      Article-title\n",
              "0           0  ...                 Specialization and Career Dynamics\n",
              "1           1  ...  Dispositional Sources of Managerial Discretion...\n",
              "2           2  ...                         Transcending Socialization\n",
              "3           3  ...  These Unequal States: Corporate Organization a...\n",
              "4           4  ...  CEO Narcissism, Audience Engagement, and Organ...\n",
              "\n",
              "[5 rows x 17 columns]"
            ]
          },
          "metadata": {
            "tags": []
          },
          "execution_count": 96
        }
      ]
    },
    {
      "cell_type": "code",
      "metadata": {
        "colab": {
          "base_uri": "https://localhost:8080/"
        },
        "id": "4yJ_l2FhzMpL",
        "outputId": "ea97d091-16f4-449f-fbf1-73c528dfbcaf"
      },
      "source": [
        "m.columns"
      ],
      "execution_count": null,
      "outputs": [
        {
          "output_type": "execute_result",
          "data": {
            "text/plain": [
              "Index(['Unnamed: 0', 'interview', 'ethnograph', 'qualitative',\n",
              "       'grounded theory', 'simulation', 'formal model', 'field experiment',\n",
              "       'lab experiment', 'experiment', 'regression', 'quantitative',\n",
              "       'statistically significant', 'statistical significance', 'DOI', 'Year',\n",
              "       'Article-title'],\n",
              "      dtype='object')"
            ]
          },
          "metadata": {
            "tags": []
          },
          "execution_count": 97
        }
      ]
    },
    {
      "cell_type": "code",
      "metadata": {
        "id": "wn3onsTmzCi5"
      },
      "source": [
        "methods_grouped = m.groupby(\"Year\").agg(lambda x: x.ne(0).sum())"
      ],
      "execution_count": null,
      "outputs": []
    },
    {
      "cell_type": "code",
      "metadata": {
        "colab": {
          "base_uri": "https://localhost:8080/",
          "height": 272
        },
        "id": "6kXdZqnj0NwB",
        "outputId": "75832202-82a1-4c9c-be4b-52c8f86b555a"
      },
      "source": [
        "methods_grouped.head()"
      ],
      "execution_count": null,
      "outputs": [
        {
          "output_type": "execute_result",
          "data": {
            "text/html": [
              "<div>\n",
              "<style scoped>\n",
              "    .dataframe tbody tr th:only-of-type {\n",
              "        vertical-align: middle;\n",
              "    }\n",
              "\n",
              "    .dataframe tbody tr th {\n",
              "        vertical-align: top;\n",
              "    }\n",
              "\n",
              "    .dataframe thead th {\n",
              "        text-align: right;\n",
              "    }\n",
              "</style>\n",
              "<table border=\"1\" class=\"dataframe\">\n",
              "  <thead>\n",
              "    <tr style=\"text-align: right;\">\n",
              "      <th></th>\n",
              "      <th>Unnamed: 0</th>\n",
              "      <th>interview</th>\n",
              "      <th>ethnograph</th>\n",
              "      <th>qualitative</th>\n",
              "      <th>grounded theory</th>\n",
              "      <th>simulation</th>\n",
              "      <th>formal model</th>\n",
              "      <th>field experiment</th>\n",
              "      <th>lab experiment</th>\n",
              "      <th>experiment</th>\n",
              "      <th>regression</th>\n",
              "      <th>quantitative</th>\n",
              "      <th>statistically significant</th>\n",
              "      <th>statistical significance</th>\n",
              "      <th>DOI</th>\n",
              "      <th>Article-title</th>\n",
              "    </tr>\n",
              "    <tr>\n",
              "      <th>Year</th>\n",
              "      <th></th>\n",
              "      <th></th>\n",
              "      <th></th>\n",
              "      <th></th>\n",
              "      <th></th>\n",
              "      <th></th>\n",
              "      <th></th>\n",
              "      <th></th>\n",
              "      <th></th>\n",
              "      <th></th>\n",
              "      <th></th>\n",
              "      <th></th>\n",
              "      <th></th>\n",
              "      <th></th>\n",
              "      <th></th>\n",
              "      <th></th>\n",
              "    </tr>\n",
              "  </thead>\n",
              "  <tbody>\n",
              "    <tr>\n",
              "      <th>2011</th>\n",
              "      <td>17</td>\n",
              "      <td>9.0</td>\n",
              "      <td>2.0</td>\n",
              "      <td>6.0</td>\n",
              "      <td>1.0</td>\n",
              "      <td>2.0</td>\n",
              "      <td>1.0</td>\n",
              "      <td>1.0</td>\n",
              "      <td>1.0</td>\n",
              "      <td>15.0</td>\n",
              "      <td>12.0</td>\n",
              "      <td>6.0</td>\n",
              "      <td>3.0</td>\n",
              "      <td>1.0</td>\n",
              "      <td>17</td>\n",
              "      <td>17</td>\n",
              "    </tr>\n",
              "    <tr>\n",
              "      <th>2012</th>\n",
              "      <td>16</td>\n",
              "      <td>8.0</td>\n",
              "      <td>2.0</td>\n",
              "      <td>8.0</td>\n",
              "      <td>1.0</td>\n",
              "      <td>4.0</td>\n",
              "      <td>0.0</td>\n",
              "      <td>1.0</td>\n",
              "      <td>0.0</td>\n",
              "      <td>12.0</td>\n",
              "      <td>11.0</td>\n",
              "      <td>9.0</td>\n",
              "      <td>7.0</td>\n",
              "      <td>3.0</td>\n",
              "      <td>16</td>\n",
              "      <td>16</td>\n",
              "    </tr>\n",
              "    <tr>\n",
              "      <th>2013</th>\n",
              "      <td>16</td>\n",
              "      <td>9.0</td>\n",
              "      <td>3.0</td>\n",
              "      <td>11.0</td>\n",
              "      <td>1.0</td>\n",
              "      <td>1.0</td>\n",
              "      <td>0.0</td>\n",
              "      <td>1.0</td>\n",
              "      <td>0.0</td>\n",
              "      <td>8.0</td>\n",
              "      <td>15.0</td>\n",
              "      <td>1.0</td>\n",
              "      <td>8.0</td>\n",
              "      <td>2.0</td>\n",
              "      <td>17</td>\n",
              "      <td>17</td>\n",
              "    </tr>\n",
              "    <tr>\n",
              "      <th>2014</th>\n",
              "      <td>22</td>\n",
              "      <td>14.0</td>\n",
              "      <td>4.0</td>\n",
              "      <td>14.0</td>\n",
              "      <td>2.0</td>\n",
              "      <td>5.0</td>\n",
              "      <td>2.0</td>\n",
              "      <td>3.0</td>\n",
              "      <td>2.0</td>\n",
              "      <td>15.0</td>\n",
              "      <td>14.0</td>\n",
              "      <td>10.0</td>\n",
              "      <td>11.0</td>\n",
              "      <td>6.0</td>\n",
              "      <td>22</td>\n",
              "      <td>22</td>\n",
              "    </tr>\n",
              "    <tr>\n",
              "      <th>2015</th>\n",
              "      <td>21</td>\n",
              "      <td>16.0</td>\n",
              "      <td>3.0</td>\n",
              "      <td>11.0</td>\n",
              "      <td>4.0</td>\n",
              "      <td>2.0</td>\n",
              "      <td>1.0</td>\n",
              "      <td>3.0</td>\n",
              "      <td>1.0</td>\n",
              "      <td>9.0</td>\n",
              "      <td>14.0</td>\n",
              "      <td>8.0</td>\n",
              "      <td>8.0</td>\n",
              "      <td>2.0</td>\n",
              "      <td>21</td>\n",
              "      <td>21</td>\n",
              "    </tr>\n",
              "  </tbody>\n",
              "</table>\n",
              "</div>"
            ],
            "text/plain": [
              "      Unnamed: 0  interview  ...  DOI  Article-title\n",
              "Year                         ...                    \n",
              "2011          17        9.0  ...   17             17\n",
              "2012          16        8.0  ...   16             16\n",
              "2013          16        9.0  ...   17             17\n",
              "2014          22       14.0  ...   22             22\n",
              "2015          21       16.0  ...   21             21\n",
              "\n",
              "[5 rows x 16 columns]"
            ]
          },
          "metadata": {
            "tags": []
          },
          "execution_count": 99
        }
      ]
    },
    {
      "cell_type": "code",
      "metadata": {
        "id": "9ZxEhDkt0X_k"
      },
      "source": [
        "methods_grouped.drop(\"Unnamed: 0\", axis = 1, inplace = True)"
      ],
      "execution_count": null,
      "outputs": []
    },
    {
      "cell_type": "code",
      "metadata": {
        "id": "CSBNrExV0gSS"
      },
      "source": [
        "methods_grouped.drop([\"DOI\", \"Article-title\"], axis = 1, inplace = True)"
      ],
      "execution_count": null,
      "outputs": []
    },
    {
      "cell_type": "code",
      "metadata": {
        "id": "y84wWV1T1on9"
      },
      "source": [
        "methods_grouped.reset_index(inplace = True)"
      ],
      "execution_count": null,
      "outputs": []
    },
    {
      "cell_type": "code",
      "metadata": {
        "id": "LovpxK2gXYF_"
      },
      "source": [
        "methods_grouped.to_excel(path + \"Analysis/methods_grouped_yearwise.xlsx\")"
      ],
      "execution_count": null,
      "outputs": []
    },
    {
      "cell_type": "code",
      "metadata": {
        "id": "ldacvdOATg1D"
      },
      "source": [
        "methods_narrow = methods_grouped.melt(id_vars=['Year'])"
      ],
      "execution_count": null,
      "outputs": []
    },
    {
      "cell_type": "code",
      "metadata": {
        "id": "9pC3fkP4UpoC"
      },
      "source": [
        "import pandas\n",
        "from openpyxl import load_workbook\n",
        "\n",
        "book = load_workbook(path + \"Analysis/methods_grouped_yearwise.xlsx\")\n",
        "writer = pandas.ExcelWriter(path + \"Analysis/methods_grouped_yearwise.xlsx\", engine='openpyxl') \n",
        "writer.book = book"
      ],
      "execution_count": null,
      "outputs": []
    },
    {
      "cell_type": "code",
      "metadata": {
        "id": "5ObXMutcU8fL"
      },
      "source": [
        "methods_narrow.to_excel(writer, sheet_name='Sheet2')\n",
        "\n",
        "writer.save()"
      ],
      "execution_count": null,
      "outputs": []
    },
    {
      "cell_type": "code",
      "metadata": {
        "id": "45tn1PiST669"
      },
      "source": [
        "#methods_narrow.to_excel(path + \"Analysis/methods_grouped_yearwise.xlsx\", sheet_name='Sheet2')"
      ],
      "execution_count": null,
      "outputs": []
    },
    {
      "cell_type": "markdown",
      "metadata": {
        "id": "lg91hYj_efjs"
      },
      "source": [
        "**QCA**"
      ]
    },
    {
      "cell_type": "code",
      "metadata": {
        "id": "jrBGWKNyiEwk"
      },
      "source": [
        "qca = [\"qca\", \"qualitative comparative analysis\"]\n"
      ],
      "execution_count": null,
      "outputs": []
    },
    {
      "cell_type": "code",
      "metadata": {
        "id": "2rkE_PnWfDXW"
      },
      "source": [
        "qca = [\"qca\", \"qualitative comparative analysis\"]\n",
        "from collections import defaultdict\n",
        "countqca = {}\n",
        "for i in range(len(docs)):\n",
        "\n",
        "  #qca = docs[i].lower().count(\"qca\") \n",
        "  #quali = docs[i].lower().count(\"qualitative comparative analysis\")\n",
        "  quali = [docs[i].lower().count(x) for x in qca]\n",
        "\n",
        "\n",
        "  countqca[allfiles[i].split(\"/\")[-1].strip('.txt')] = quali"
      ],
      "execution_count": null,
      "outputs": []
    },
    {
      "cell_type": "code",
      "metadata": {
        "id": "y0Ye81PkfDXX"
      },
      "source": [
        "qca = pd.DataFrame(data = countqca, index = None).T"
      ],
      "execution_count": null,
      "outputs": []
    },
    {
      "cell_type": "code",
      "metadata": {
        "id": "mez2iXcSfDXY"
      },
      "source": [
        "qca.reset_index(inplace = True)"
      ],
      "execution_count": null,
      "outputs": []
    },
    {
      "cell_type": "code",
      "metadata": {
        "colab": {
          "base_uri": "https://localhost:8080/",
          "height": 204
        },
        "id": "5jr9rOC3vqbN",
        "outputId": "9825abd8-866f-4a9a-c1c4-962d3aa6330c"
      },
      "source": [
        "qca.head()"
      ],
      "execution_count": null,
      "outputs": [
        {
          "output_type": "execute_result",
          "data": {
            "text/html": [
              "<div>\n",
              "<style scoped>\n",
              "    .dataframe tbody tr th:only-of-type {\n",
              "        vertical-align: middle;\n",
              "    }\n",
              "\n",
              "    .dataframe tbody tr th {\n",
              "        vertical-align: top;\n",
              "    }\n",
              "\n",
              "    .dataframe thead th {\n",
              "        text-align: right;\n",
              "    }\n",
              "</style>\n",
              "<table border=\"1\" class=\"dataframe\">\n",
              "  <thead>\n",
              "    <tr style=\"text-align: right;\">\n",
              "      <th></th>\n",
              "      <th>index</th>\n",
              "      <th>0</th>\n",
              "      <th>1</th>\n",
              "    </tr>\n",
              "  </thead>\n",
              "  <tbody>\n",
              "    <tr>\n",
              "      <th>0</th>\n",
              "      <td>10.1177_0001839213486759</td>\n",
              "      <td>0</td>\n",
              "      <td>0</td>\n",
              "    </tr>\n",
              "    <tr>\n",
              "      <th>1</th>\n",
              "      <td>10.1177_0001839218793128</td>\n",
              "      <td>0</td>\n",
              "      <td>0</td>\n",
              "    </tr>\n",
              "    <tr>\n",
              "      <th>2</th>\n",
              "      <td>10.1177_0001839212437519</td>\n",
              "      <td>0</td>\n",
              "      <td>0</td>\n",
              "    </tr>\n",
              "    <tr>\n",
              "      <th>3</th>\n",
              "      <td>10.1177_0001839216673823</td>\n",
              "      <td>0</td>\n",
              "      <td>0</td>\n",
              "    </tr>\n",
              "    <tr>\n",
              "      <th>4</th>\n",
              "      <td>10.1177_0001839213488773</td>\n",
              "      <td>0</td>\n",
              "      <td>0</td>\n",
              "    </tr>\n",
              "  </tbody>\n",
              "</table>\n",
              "</div>"
            ],
            "text/plain": [
              "                      index  0  1\n",
              "0  10.1177_0001839213486759  0  0\n",
              "1  10.1177_0001839218793128  0  0\n",
              "2  10.1177_0001839212437519  0  0\n",
              "3  10.1177_0001839216673823  0  0\n",
              "4  10.1177_0001839213488773  0  0"
            ]
          },
          "metadata": {
            "tags": []
          },
          "execution_count": 30
        }
      ]
    },
    {
      "cell_type": "code",
      "metadata": {
        "id": "u0U2CkrafDXY"
      },
      "source": [
        "qca.columns = [\"DOI\", \"qca\", \"qualitative comparative analysis\"] "
      ],
      "execution_count": null,
      "outputs": []
    },
    {
      "cell_type": "code",
      "metadata": {
        "id": "uLbI7bnVfDXY"
      },
      "source": [
        "qca[\"DOI_new\"] = qca[\"DOI\"].apply(lambda x: x.replace(\"_\", \"/\"))"
      ],
      "execution_count": null,
      "outputs": []
    },
    {
      "cell_type": "code",
      "metadata": {
        "id": "8Xi-vpw1fDXY"
      },
      "source": [
        "qca.drop(\"DOI\", axis = 1, inplace = True)"
      ],
      "execution_count": null,
      "outputs": []
    },
    {
      "cell_type": "code",
      "metadata": {
        "id": "v9bySUo4fDXZ"
      },
      "source": [
        "qca.rename(columns = {\"DOI_new\" : \"DOI\"}, inplace = True)"
      ],
      "execution_count": null,
      "outputs": []
    },
    {
      "cell_type": "code",
      "metadata": {
        "colab": {
          "base_uri": "https://localhost:8080/"
        },
        "id": "J6WY6ZGVwmnp",
        "outputId": "44f49d0e-0b2d-4671-a626-3752c720b5a4"
      },
      "source": [
        "qca[\"qca\"].value_counts()"
      ],
      "execution_count": null,
      "outputs": [
        {
          "output_type": "execute_result",
          "data": {
            "text/plain": [
              "0    218\n",
              "3      1\n",
              "1      1\n",
              "Name: qca, dtype: int64"
            ]
          },
          "metadata": {
            "tags": []
          },
          "execution_count": 37
        }
      ]
    },
    {
      "cell_type": "code",
      "metadata": {
        "colab": {
          "base_uri": "https://localhost:8080/"
        },
        "id": "MfuWs9o2w13g",
        "outputId": "7e56fc13-433e-475a-9fa2-2356e7df1293"
      },
      "source": [
        "qca[\"qualitative comparative analysis\"].value_counts()"
      ],
      "execution_count": null,
      "outputs": [
        {
          "output_type": "execute_result",
          "data": {
            "text/plain": [
              "0    219\n",
              "1      1\n",
              "Name: qualitative comparative analysis, dtype: int64"
            ]
          },
          "metadata": {
            "tags": []
          },
          "execution_count": 38
        }
      ]
    },
    {
      "cell_type": "markdown",
      "metadata": {
        "id": "-lpZITxAxJQm"
      },
      "source": [
        "merge with attributes"
      ]
    },
    {
      "cell_type": "code",
      "metadata": {
        "id": "TPxhplkHxDhw"
      },
      "source": [
        "qca_merged = pd.merge(att[[\"DOI\", \"Article-title\", \"Abstract\"]], qca, on = \"DOI\", how = \"outer\")"
      ],
      "execution_count": null,
      "outputs": []
    },
    {
      "cell_type": "code",
      "metadata": {
        "colab": {
          "base_uri": "https://localhost:8080/",
          "height": 419
        },
        "id": "d3PpY0ATxXAJ",
        "outputId": "3d3cfb5d-eb41-49d1-d515-d22d97fb7856"
      },
      "source": [
        "qca_merged"
      ],
      "execution_count": null,
      "outputs": [
        {
          "output_type": "execute_result",
          "data": {
            "text/html": [
              "<div>\n",
              "<style scoped>\n",
              "    .dataframe tbody tr th:only-of-type {\n",
              "        vertical-align: middle;\n",
              "    }\n",
              "\n",
              "    .dataframe tbody tr th {\n",
              "        vertical-align: top;\n",
              "    }\n",
              "\n",
              "    .dataframe thead th {\n",
              "        text-align: right;\n",
              "    }\n",
              "</style>\n",
              "<table border=\"1\" class=\"dataframe\">\n",
              "  <thead>\n",
              "    <tr style=\"text-align: right;\">\n",
              "      <th></th>\n",
              "      <th>DOI</th>\n",
              "      <th>Article-title</th>\n",
              "      <th>Abstract</th>\n",
              "      <th>qca</th>\n",
              "      <th>qualitative comparative analysis</th>\n",
              "    </tr>\n",
              "  </thead>\n",
              "  <tbody>\n",
              "    <tr>\n",
              "      <th>0</th>\n",
              "      <td>10.1177/0001839217725782</td>\n",
              "      <td>The Artisan and His Audience: Identification w...</td>\n",
              "      <td>Using ethnographic, experimental, and survey d...</td>\n",
              "      <td>0.0</td>\n",
              "      <td>0.0</td>\n",
              "    </tr>\n",
              "    <tr>\n",
              "      <th>1</th>\n",
              "      <td>10.1177/0001839215591627</td>\n",
              "      <td>Business as Plan B</td>\n",
              "      <td>This article develops and empirically evaluate...</td>\n",
              "      <td>0.0</td>\n",
              "      <td>0.0</td>\n",
              "    </tr>\n",
              "    <tr>\n",
              "      <th>2</th>\n",
              "      <td>10.1177/0001839218763595</td>\n",
              "      <td>How Misconduct Spreads: Auditors‚Äô Role in th...</td>\n",
              "      <td>I study the role of external auditors in the d...</td>\n",
              "      <td>0.0</td>\n",
              "      <td>0.0</td>\n",
              "    </tr>\n",
              "    <tr>\n",
              "      <th>3</th>\n",
              "      <td>10.1177/0001839218793128</td>\n",
              "      <td>Dispositional Sources of Managerial Discretion...</td>\n",
              "      <td>We investigate the dispositional sources of ma...</td>\n",
              "      <td>0.0</td>\n",
              "      <td>0.0</td>\n",
              "    </tr>\n",
              "    <tr>\n",
              "      <th>4</th>\n",
              "      <td>10.1177/0001839218761369</td>\n",
              "      <td>Network Synergy</td>\n",
              "      <td>Acquisitions can dramatically reshape interorg...</td>\n",
              "      <td>0.0</td>\n",
              "      <td>0.0</td>\n",
              "    </tr>\n",
              "    <tr>\n",
              "      <th>...</th>\n",
              "      <td>...</td>\n",
              "      <td>...</td>\n",
              "      <td>...</td>\n",
              "      <td>...</td>\n",
              "      <td>...</td>\n",
              "    </tr>\n",
              "    <tr>\n",
              "      <th>225</th>\n",
              "      <td>10.1177/0001839220963633</td>\n",
              "      <td>Escaping the Ellipsis of Diversity: Insider Ac...</td>\n",
              "      <td>Researchers have explored in depth how social ...</td>\n",
              "      <td>0.0</td>\n",
              "      <td>0.0</td>\n",
              "    </tr>\n",
              "    <tr>\n",
              "      <th>226</th>\n",
              "      <td>asqu.2011.56.1.001</td>\n",
              "      <td>The Ethical Dangers of Deliberative Decision M...</td>\n",
              "      <td>Research on ethical decision making has been h...</td>\n",
              "      <td>0.0</td>\n",
              "      <td>0.0</td>\n",
              "    </tr>\n",
              "    <tr>\n",
              "      <th>227</th>\n",
              "      <td>asqu.2011.56.1.026</td>\n",
              "      <td>When Firms Are Desperate to Grow via Acquisiti...</td>\n",
              "      <td>In this paper we draw on work in behavioral le...</td>\n",
              "      <td>0.0</td>\n",
              "      <td>0.0</td>\n",
              "    </tr>\n",
              "    <tr>\n",
              "      <th>228</th>\n",
              "      <td>asqu.2011.56.1.061</td>\n",
              "      <td>Identities as Lenses: How Organizational Ident...</td>\n",
              "      <td>This study calls into question the completenes...</td>\n",
              "      <td>0.0</td>\n",
              "      <td>0.0</td>\n",
              "    </tr>\n",
              "    <tr>\n",
              "      <th>229</th>\n",
              "      <td>asqu.2011.56.1.095</td>\n",
              "      <td>Founding Conditions, Learning, and Organizatio...</td>\n",
              "      <td>Empirical evidence about the relation between ...</td>\n",
              "      <td>0.0</td>\n",
              "      <td>0.0</td>\n",
              "    </tr>\n",
              "  </tbody>\n",
              "</table>\n",
              "<p>230 rows × 5 columns</p>\n",
              "</div>"
            ],
            "text/plain": [
              "                          DOI  ... qualitative comparative analysis\n",
              "0    10.1177/0001839217725782  ...                              0.0\n",
              "1    10.1177/0001839215591627  ...                              0.0\n",
              "2    10.1177/0001839218763595  ...                              0.0\n",
              "3    10.1177/0001839218793128  ...                              0.0\n",
              "4    10.1177/0001839218761369  ...                              0.0\n",
              "..                        ...  ...                              ...\n",
              "225  10.1177/0001839220963633  ...                              0.0\n",
              "226        asqu.2011.56.1.001  ...                              0.0\n",
              "227        asqu.2011.56.1.026  ...                              0.0\n",
              "228        asqu.2011.56.1.061  ...                              0.0\n",
              "229        asqu.2011.56.1.095  ...                              0.0\n",
              "\n",
              "[230 rows x 5 columns]"
            ]
          },
          "metadata": {
            "tags": []
          },
          "execution_count": 40
        }
      ]
    },
    {
      "cell_type": "code",
      "metadata": {
        "id": "hajEa0wpxX_z"
      },
      "source": [
        "qca_merged.to_excel(path +\"Analysis/qca.xlsx\")"
      ],
      "execution_count": null,
      "outputs": []
    },
    {
      "cell_type": "markdown",
      "metadata": {
        "id": "IXgoziJxyXSu"
      },
      "source": [
        ""
      ]
    },
    {
      "cell_type": "code",
      "metadata": {
        "id": "Dxbehq8GxjDk"
      },
      "source": [
        ""
      ],
      "execution_count": null,
      "outputs": []
    }
  ]
}