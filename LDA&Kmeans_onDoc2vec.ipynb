{
  "nbformat": 4,
  "nbformat_minor": 0,
  "metadata": {
    "colab": {
      "name": "LDA&Kmeans_onDoc2vec",
      "provenance": [],
      "collapsed_sections": []
    },
    "kernelspec": {
      "name": "python3",
      "display_name": "Python 3"
    },
    "language_info": {
      "name": "python"
    }
  },
  "cells": [
    {
      "cell_type": "markdown",
      "metadata": {
        "id": "F4QdtVg_UVOK"
      },
      "source": [
        "This notebook does the following:\n",
        "*   Perform Doc2vec on the corpus \n",
        "*   Create an array that has all the documents in vecorized form (from doc2vec)\n",
        "*   kmeans clustering on this array (12 topics identified as the best from elbow curve)\n",
        "*   Make a spreadsheet that has the kmeans clusters and corresponding LDA topics ---> these spreadsheets are in the folder \"Journal_Analysis/best_model/No_Essays/kmeans\"\n",
        "\n",
        "\n",
        "\n"
      ]
    },
    {
      "cell_type": "code",
      "metadata": {
        "colab": {
          "base_uri": "https://localhost:8080/"
        },
        "id": "77rKK9L2CV-3",
        "outputId": "86a83dea-f82c-41ce-8217-3f8954b08b03"
      },
      "source": [
        "pip install --upgrade gensim"
      ],
      "execution_count": null,
      "outputs": [
        {
          "output_type": "stream",
          "text": [
            "Collecting gensim\n",
            "\u001b[?25l  Downloading https://files.pythonhosted.org/packages/44/52/f1417772965652d4ca6f901515debcd9d6c5430969e8c02ee7737e6de61c/gensim-4.0.1-cp37-cp37m-manylinux1_x86_64.whl (23.9MB)\n",
            "\u001b[K     |████████████████████████████████| 23.9MB 123kB/s \n",
            "\u001b[?25hRequirement already satisfied, skipping upgrade: scipy>=0.18.1 in /usr/local/lib/python3.7/dist-packages (from gensim) (1.4.1)\n",
            "Requirement already satisfied, skipping upgrade: numpy>=1.11.3 in /usr/local/lib/python3.7/dist-packages (from gensim) (1.19.5)\n",
            "Requirement already satisfied, skipping upgrade: smart-open>=1.8.1 in /usr/local/lib/python3.7/dist-packages (from gensim) (5.1.0)\n",
            "Installing collected packages: gensim\n",
            "  Found existing installation: gensim 3.6.0\n",
            "    Uninstalling gensim-3.6.0:\n",
            "      Successfully uninstalled gensim-3.6.0\n",
            "Successfully installed gensim-4.0.1\n"
          ],
          "name": "stdout"
        }
      ]
    },
    {
      "cell_type": "markdown",
      "metadata": {
        "id": "IQj444Lb7uLy"
      },
      "source": [
        "Restart Kernel"
      ]
    },
    {
      "cell_type": "code",
      "metadata": {
        "id": "xwNH5gT8Y2mL"
      },
      "source": [
        "import nltk\n",
        "import numpy as np\n",
        "import pandas as pd\n",
        "from nltk import word_tokenize\n",
        "import re\n",
        "import seaborn as sns\n",
        "import matplotlib.pyplot as plt\n",
        "import smart_open\n",
        "#from gensim.models import LdaModel\n",
        "#from gensim.models import CoherenceModel\n",
        "#import pyLDAvis\n",
        "#import pyLDAvis.gensim_models as gensimvis\n",
        "#pyLDAvis.enable_notebook()\n",
        "import spacy\n"
      ],
      "execution_count": null,
      "outputs": []
    },
    {
      "cell_type": "code",
      "metadata": {
        "colab": {
          "base_uri": "https://localhost:8080/",
          "height": 89
        },
        "id": "S6xxtgac_T3a",
        "outputId": "bfbad076-3637-4744-ee2e-5d377737ad0b"
      },
      "source": [
        "import gensim\n",
        "gensim.__version__"
      ],
      "execution_count": null,
      "outputs": [
        {
          "output_type": "stream",
          "text": [
            "/usr/local/lib/python3.7/dist-packages/gensim/similarities/__init__.py:15: UserWarning: The gensim.similarities.levenshtein submodule is disabled, because the optional Levenshtein package <https://pypi.org/project/python-Levenshtein/> is unavailable. Install Levenhstein (e.g. `pip install python-Levenshtein`) to suppress this warning.\n",
            "  warnings.warn(msg)\n"
          ],
          "name": "stderr"
        },
        {
          "output_type": "execute_result",
          "data": {
            "application/vnd.google.colaboratory.intrinsic+json": {
              "type": "string"
            },
            "text/plain": [
              "'4.0.1'"
            ]
          },
          "metadata": {
            "tags": []
          },
          "execution_count": 2
        }
      ]
    },
    {
      "cell_type": "code",
      "metadata": {
        "colab": {
          "base_uri": "https://localhost:8080/"
        },
        "id": "poHJuUk4ZE-y",
        "outputId": "1d7a6da6-6866-4517-d9ec-15220a8ce6c8"
      },
      "source": [
        "from google.colab import drive\n",
        "drive.mount('/content/drive')"
      ],
      "execution_count": null,
      "outputs": [
        {
          "output_type": "stream",
          "text": [
            "Mounted at /content/drive\n"
          ],
          "name": "stdout"
        }
      ]
    },
    {
      "cell_type": "code",
      "metadata": {
        "id": "oZYPFKloZG69"
      },
      "source": [
        "path = \"/content/drive/MyDrive/Journal_Analysis/\""
      ],
      "execution_count": null,
      "outputs": []
    },
    {
      "cell_type": "code",
      "metadata": {
        "id": "cli_IA2iZbqx"
      },
      "source": [
        "def extract_documents(folder_name):\n",
        "  import os\n",
        "  docs = []\n",
        "  allfiles = []\n",
        "  for entry in os.scandir(folder_name):\n",
        "      if entry.path.endswith(\".txt\") and entry.is_file():\n",
        "          path_paper = entry.path\n",
        "          allfiles.append(path_paper)\n",
        "          if os.stat(path_paper).st_size == 0:\n",
        "              continue\n",
        "          with open(path_paper) as f:\n",
        "            text = f.read()\n",
        "            docs.append(text)\n",
        "  return docs, allfiles"
      ],
      "execution_count": null,
      "outputs": []
    },
    {
      "cell_type": "code",
      "metadata": {
        "id": "cVzVPqMDZN5j"
      },
      "source": [
        "docs, allfiles = extract_documents(path + 'allpapers_NoEssays')"
      ],
      "execution_count": null,
      "outputs": []
    },
    {
      "cell_type": "code",
      "metadata": {
        "colab": {
          "base_uri": "https://localhost:8080/"
        },
        "id": "TGQNT_SWm2hs",
        "outputId": "932e0938-472a-47ee-cc01-f787dd9bb5a3"
      },
      "source": [
        "range(len(docs))"
      ],
      "execution_count": null,
      "outputs": [
        {
          "output_type": "execute_result",
          "data": {
            "text/plain": [
              "range(0, 220)"
            ]
          },
          "metadata": {
            "tags": []
          },
          "execution_count": 7
        }
      ]
    },
    {
      "cell_type": "markdown",
      "metadata": {
        "id": "O9S9uUQ4Hkj5"
      },
      "source": [
        "**Vecorizing the documents using DOC2VEC**"
      ]
    },
    {
      "cell_type": "code",
      "metadata": {
        "id": "zMs8shaxmj98"
      },
      "source": [
        "def read_corpus(docs, allfiles):\n",
        "  for i in range(len(docs)):\n",
        "    tokens = gensim.utils.simple_preprocess(docs[i])\n",
        "    all_filenames = [file.split(\"/\")[-1].strip('.txt') for file in allfiles]\n",
        "    # For training data, add tags\n",
        "    yield gensim.models.doc2vec.TaggedDocument(tokens, [all_filenames[i]])\n"
      ],
      "execution_count": null,
      "outputs": []
    },
    {
      "cell_type": "code",
      "metadata": {
        "id": "gmhqWfcRndaM"
      },
      "source": [
        "corpus = list(read_corpus(docs, allfiles))"
      ],
      "execution_count": null,
      "outputs": []
    },
    {
      "cell_type": "markdown",
      "metadata": {
        "id": "86J7hDgNo4uq"
      },
      "source": [
        "**Training the Model (doc2vec)**"
      ]
    },
    {
      "cell_type": "code",
      "metadata": {
        "id": "J6oE9l5apHJR"
      },
      "source": [
        "model = gensim.models.doc2vec.Doc2Vec(vector_size=100, min_count=2, epochs=40)"
      ],
      "execution_count": null,
      "outputs": []
    },
    {
      "cell_type": "code",
      "metadata": {
        "id": "UTEG1HsKpOek"
      },
      "source": [
        "model.build_vocab(corpus)"
      ],
      "execution_count": null,
      "outputs": []
    },
    {
      "cell_type": "code",
      "metadata": {
        "colab": {
          "base_uri": "https://localhost:8080/"
        },
        "id": "07AdNVbepT7z",
        "outputId": "3108407e-4e2c-40f5-fb48-4729a09c6422"
      },
      "source": [
        "print(f\"Word 'career' appeared {model.wv.get_vecattr('penalty', 'count')} times in the training corpus.\")"
      ],
      "execution_count": null,
      "outputs": [
        {
          "output_type": "stream",
          "text": [
            "Word 'career' appeared 68 times in the training corpus.\n"
          ],
          "name": "stdout"
        }
      ]
    },
    {
      "cell_type": "code",
      "metadata": {
        "id": "4E7XBMjzpcEd"
      },
      "source": [
        "model.train(corpus, total_examples=model.corpus_count, epochs=model.epochs)"
      ],
      "execution_count": null,
      "outputs": []
    },
    {
      "cell_type": "code",
      "metadata": {
        "id": "M09Z1RozxhVG"
      },
      "source": [
        "def get_array(model):\n",
        "  array_vectors = []\n",
        "  for doc_id in range(len(corpus)):\n",
        "    inferred_vector = model.infer_vector(corpus[doc_id].words)\n",
        "    array_vectors.append(inferred_vector)\n",
        "  return array_vectors\n"
      ],
      "execution_count": null,
      "outputs": []
    },
    {
      "cell_type": "code",
      "metadata": {
        "id": "zwuZo34Xz_h3"
      },
      "source": [
        "lst = get_array(model)"
      ],
      "execution_count": null,
      "outputs": []
    },
    {
      "cell_type": "code",
      "metadata": {
        "id": "Ky8c8h5Z0Qba"
      },
      "source": [
        "arr = np.array(lst)  # arr is the array containing 220 vectors representing the documents in the corpus"
      ],
      "execution_count": null,
      "outputs": []
    },
    {
      "cell_type": "markdown",
      "metadata": {
        "id": "gpNSbp-6xiPL"
      },
      "source": [
        "Trying out scikit learn **DBSCAN**  \n",
        "\n",
        "https://towardsdatascience.com/nlp-with-lda-latent-dirichlet-allocation-and-text-clustering-to-improve-classification-97688c23d98\n",
        "\n",
        "DBSCAN has an option of choosing the distance metric. Cosine similarity works best for the document vectors obtained from doc2vec"
      ]
    },
    {
      "cell_type": "code",
      "metadata": {
        "id": "Vo0_5-4z0c6_"
      },
      "source": [
        "from sklearn.cluster import DBSCAN\n",
        "clustering = DBSCAN(metric='cosine', eps=0.5, min_samples=5).fit(arr)"
      ],
      "execution_count": null,
      "outputs": []
    },
    {
      "cell_type": "code",
      "metadata": {
        "colab": {
          "base_uri": "https://localhost:8080/"
        },
        "id": "9HAZWhaz1PVZ",
        "outputId": "5a3f4d92-30f4-426a-a293-5c278ecee67e"
      },
      "source": [
        "clustering.labels_"
      ],
      "execution_count": null,
      "outputs": [
        {
          "output_type": "execute_result",
          "data": {
            "text/plain": [
              "array([ 3,  0, -1,  3,  0, -1, -1, -1,  1,  1, -1, -1, -1, -1, -1, -1, -1,\n",
              "       -1, -1,  0, -1, -1,  1, -1,  0,  2, -1, -1, -1, -1, -1, -1, -1,  5,\n",
              "       -1, -1, -1, -1, -1, -1, -1, -1, -1, -1,  0,  0,  3, -1, -1,  0,  0,\n",
              "       -1,  3,  2, -1,  3, -1,  0,  4, -1,  0,  0, -1, -1, -1, -1,  5, -1,\n",
              "        0, -1, -1, -1, -1, -1, -1, -1, -1,  2,  2,  5,  0, -1,  5,  5, -1,\n",
              "       -1, -1, -1, -1, -1, -1, -1,  2, -1,  4, -1, -1, -1, -1, -1,  3, -1,\n",
              "        5, -1, -1,  6, -1, -1, -1, -1, -1,  0,  3,  0, -1, -1, -1, -1,  4,\n",
              "        6,  0, -1, -1,  4,  0,  1,  1, -1,  3, -1, -1, -1, -1,  1, -1, -1,\n",
              "       -1, -1, -1, -1, -1, -1, -1, -1,  4, -1,  0,  1, -1, -1,  0,  4,  5,\n",
              "       -1,  1, -1,  5, -1, -1, -1, -1,  3, -1, -1,  0, -1, -1,  0,  3,  5,\n",
              "       -1, -1, -1,  5,  3, -1, -1, -1, -1, -1, -1, -1, -1, -1, -1,  3, -1,\n",
              "       -1,  0,  1,  5, -1,  3, -1,  2, -1,  0,  0, -1, -1, -1,  0,  6, -1,\n",
              "       -1, -1,  2, -1, -1,  6, -1, -1, -1, -1, -1,  6,  1, -1,  0, -1])"
            ]
          },
          "metadata": {
            "tags": []
          },
          "execution_count": 212
        }
      ]
    },
    {
      "cell_type": "markdown",
      "metadata": {
        "id": "3zvOGiM82cEV"
      },
      "source": [
        "**K-Means Clustering**"
      ]
    },
    {
      "cell_type": "code",
      "metadata": {
        "id": "6DXO1clG2bUh"
      },
      "source": [
        "from sklearn.cluster import KMeans, MiniBatchKMeans\n",
        "km = KMeans(n_clusters= 10, init='k-means++', max_iter=100, n_init=1, random_state= 42)"
      ],
      "execution_count": null,
      "outputs": []
    },
    {
      "cell_type": "code",
      "metadata": {
        "id": "8UhA579W2q7h"
      },
      "source": [
        "clusters = km.fit(arr)"
      ],
      "execution_count": null,
      "outputs": []
    },
    {
      "cell_type": "code",
      "metadata": {
        "colab": {
          "base_uri": "https://localhost:8080/"
        },
        "id": "dhxFC1wgKxXy",
        "outputId": "5919d00a-91a3-46ed-94f3-25b5cec0c8e9"
      },
      "source": [
        "clusters.labels_"
      ],
      "execution_count": null,
      "outputs": [
        {
          "output_type": "execute_result",
          "data": {
            "text/plain": [
              "array([2, 7, 5, 2, 7, 4, 9, 5, 8, 1, 9, 9, 9, 2, 2, 1, 2, 5, 9, 7, 1, 9,\n",
              "       2, 2, 9, 5, 4, 3, 5, 8, 9, 6, 8, 9, 9, 4, 9, 8, 4, 4, 6, 4, 9, 4,\n",
              "       7, 7, 2, 4, 1, 7, 9, 5, 2, 2, 8, 6, 9, 7, 5, 8, 7, 7, 2, 3, 9, 9,\n",
              "       9, 2, 6, 6, 8, 8, 5, 3, 1, 5, 1, 2, 2, 9, 8, 3, 9, 9, 4, 4, 7, 9,\n",
              "       3, 7, 9, 4, 2, 7, 6, 5, 3, 6, 4, 4, 2, 2, 9, 6, 3, 8, 9, 3, 2, 3,\n",
              "       6, 7, 2, 7, 3, 3, 2, 8, 1, 8, 7, 9, 4, 5, 7, 1, 1, 2, 2, 2, 8, 8,\n",
              "       8, 1, 2, 4, 2, 2, 1, 5, 1, 9, 8, 7, 5, 9, 6, 1, 8, 8, 7, 6, 9, 5,\n",
              "       1, 2, 9, 1, 5, 8, 7, 2, 8, 6, 7, 9, 6, 7, 1, 9, 8, 2, 6, 4, 2, 4,\n",
              "       5, 8, 2, 8, 6, 6, 9, 6, 6, 1, 4, 2, 6, 1, 9, 9, 6, 5, 8, 6, 7, 7,\n",
              "       3, 4, 3, 7, 8, 9, 1, 6, 5, 1, 5, 8, 9, 1, 3, 7, 8, 8, 1, 6, 7, 0],\n",
              "      dtype=int32)"
            ]
          },
          "metadata": {
            "tags": []
          },
          "execution_count": 23
        }
      ]
    },
    {
      "cell_type": "markdown",
      "metadata": {
        "id": "n_B_QDYYqGdR"
      },
      "source": [
        "**Plotting Elbow Curve**: to identify the best k (number of clusters)"
      ]
    },
    {
      "cell_type": "code",
      "metadata": {
        "colab": {
          "base_uri": "https://localhost:8080/",
          "height": 481
        },
        "id": "aJAlub34qOqP",
        "outputId": "66f9726f-0996-41ed-a565-231a1591ec09"
      },
      "source": [
        "sns.set(rc= {'figure.figsize': (7,7)})\n",
        "number_of_clusters = range(9,15)\n",
        "\n",
        "import time\n",
        "t0= time.time()\n",
        "kmeans = [KMeans(n_clusters=i,max_iter=1000,random_state= 42,n_jobs=-1) for i in number_of_clusters]\n",
        "score = [-1*kmeans[i].fit(arr).score(arr) for i in range(len(kmeans))]\n",
        "t1= time.time()\n",
        "\n",
        "plt.plot((number_of_clusters),score)\n",
        "plt.xlabel('Number of Clusters')\n",
        "plt.ylabel('Score')\n",
        "plt.title('Elbow Curve')\n",
        "plt.show()\n",
        "\n",
        "print(\"Plotting the Elbow curve took:{:.1f}s \".format(t1-t0))"
      ],
      "execution_count": null,
      "outputs": [
        {
          "output_type": "display_data",
          "data": {
            "image/png": "[encoded data removed]",
            "text/plain": [
              "<Figure size 504x504 with 1 Axes>"
            ]
          },
          "metadata": {
            "tags": []
          }
        },
        {
          "output_type": "stream",
          "text": [
            "Plotting the Elbow curve took:0.5s \n"
          ],
          "name": "stdout"
        }
      ]
    },
    {
      "cell_type": "markdown",
      "metadata": {
        "id": "7jWECNg5q9Ee"
      },
      "source": [
        "Clustering with k=12"
      ]
    },
    {
      "cell_type": "code",
      "metadata": {
        "id": "lOdxBz5_rES3"
      },
      "source": [
        "from sklearn.cluster import KMeans, MiniBatchKMeans\n",
        "km = KMeans(n_clusters= 12, init='k-means++', max_iter=100, n_init=1, random_state= 42)"
      ],
      "execution_count": null,
      "outputs": []
    },
    {
      "cell_type": "code",
      "metadata": {
        "id": "Wo1bFW6UrES3"
      },
      "source": [
        "clusters = km.fit(arr)"
      ],
      "execution_count": null,
      "outputs": []
    },
    {
      "cell_type": "code",
      "metadata": {
        "colab": {
          "base_uri": "https://localhost:8080/"
        },
        "id": "jOf42l39rES4",
        "outputId": "cb435ee0-2175-4f67-da57-01a0ab219456"
      },
      "source": [
        "clusters.labels_"
      ],
      "execution_count": null,
      "outputs": [
        {
          "output_type": "execute_result",
          "data": {
            "text/plain": [
              "array([ 2,  7,  5,  2,  7,  4,  2,  5,  8,  1,  9,  9,  9,  2,  2,  1,  2,\n",
              "        5,  9,  7, 10,  9,  1,  2, 11, 10,  4,  3,  5,  8,  9,  6,  8,  9,\n",
              "       11,  4,  9, 10,  4,  4,  3,  4,  9,  4,  7,  7,  2,  4,  1,  7, 11,\n",
              "        5,  2, 10,  5,  6,  9, 11,  6,  5,  7,  7,  2,  3, 11,  9,  9,  2,\n",
              "       11,  6, 10, 11,  5,  3,  1,  5, 10, 10, 10,  9, 11,  3,  9,  9,  4,\n",
              "        4,  7,  5,  3, 11,  9,  4, 10,  7,  6,  5,  3,  3,  4,  4,  2,  2,\n",
              "        9,  6,  3,  8,  9,  3,  2,  3, 10,  7,  2, 11,  3, 10,  2,  8,  1,\n",
              "        5,  7,  9,  4,  5,  7,  1,  1,  2,  2,  2, 10,  8,  8,  1,  2,  4,\n",
              "        2,  2,  1,  5,  1,  9,  8,  7,  5,  9, 11,  1, 11,  5, 11,  6,  9,\n",
              "        5,  1,  2,  9,  1,  5, 10,  5,  2, 10,  6,  7,  9, 11,  7,  1,  9,\n",
              "       10,  2,  6,  4,  2,  4,  5,  8,  2, 10, 11,  6,  9,  6,  6,  2,  4,\n",
              "        2, 11,  1,  9,  9,  6,  5, 10,  6,  7,  7,  3,  4,  3, 11,  8,  9,\n",
              "        1,  9, 10,  1,  5,  8,  9,  1,  3, 10, 11,  8,  1,  6,  7,  0],\n",
              "      dtype=int32)"
            ]
          },
          "metadata": {
            "tags": []
          },
          "execution_count": 160
        }
      ]
    },
    {
      "cell_type": "code",
      "metadata": {
        "id": "l6cI4u2k3yx-"
      },
      "source": [
        "km_clusters = clusters.labels_"
      ],
      "execution_count": null,
      "outputs": []
    },
    {
      "cell_type": "code",
      "metadata": {
        "id": "YhP08x_A3__y"
      },
      "source": [
        "#Get a list of DOIs of the documents in the corpus\n",
        "def get_doi(corpus):\n",
        "  doi_list = []\n",
        "  for doc_id in range(len(corpus)):\n",
        "    doi_list.append(corpus[doc_id].tags[0])\n",
        "  return doi_list"
      ],
      "execution_count": null,
      "outputs": []
    },
    {
      "cell_type": "code",
      "metadata": {
        "id": "aRjBKQg547t1"
      },
      "source": [
        "doi_list = get_doi(corpus)"
      ],
      "execution_count": null,
      "outputs": []
    },
    {
      "cell_type": "code",
      "metadata": {
        "id": "WJ8MwtSm5Yts"
      },
      "source": [
        "#Dataframe with DOI of the paper and the topic label \n",
        "df = pd.DataFrame(np.array([doi_list, km_clusters]).T,\n",
        "                   columns=['new_DOI', \"kmeans_cluster_label\"])"
      ],
      "execution_count": null,
      "outputs": []
    },
    {
      "cell_type": "code",
      "metadata": {
        "colab": {
          "base_uri": "https://localhost:8080/",
          "height": 80
        },
        "id": "mZ_n9_Wg6xPG",
        "outputId": "cd1c5876-0719-44a9-fead-ce7351f8592b"
      },
      "source": [
        "df[df[\"kmeans_cluster_label\"] == \"0\"]"
      ],
      "execution_count": null,
      "outputs": [
        {
          "output_type": "execute_result",
          "data": {
            "text/html": [
              "<div>\n",
              "<style scoped>\n",
              "    .dataframe tbody tr th:only-of-type {\n",
              "        vertical-align: middle;\n",
              "    }\n",
              "\n",
              "    .dataframe tbody tr th {\n",
              "        vertical-align: top;\n",
              "    }\n",
              "\n",
              "    .dataframe thead th {\n",
              "        text-align: right;\n",
              "    }\n",
              "</style>\n",
              "<table border=\"1\" class=\"dataframe\">\n",
              "  <thead>\n",
              "    <tr style=\"text-align: right;\">\n",
              "      <th></th>\n",
              "      <th>new_DOI</th>\n",
              "      <th>kmeans_cluster_label</th>\n",
              "    </tr>\n",
              "  </thead>\n",
              "  <tbody>\n",
              "    <tr>\n",
              "      <th>219</th>\n",
              "      <td>asqu.2011.56.1.095</td>\n",
              "      <td>0</td>\n",
              "    </tr>\n",
              "  </tbody>\n",
              "</table>\n",
              "</div>"
            ],
            "text/plain": [
              "                new_DOI kmeans_cluster_label\n",
              "219  asqu.2011.56.1.095                    0"
            ]
          },
          "metadata": {
            "tags": []
          },
          "execution_count": 165
        }
      ]
    },
    {
      "cell_type": "markdown",
      "metadata": {
        "id": "CWGJdem1s3s9"
      },
      "source": [
        "**Comparing kmeans cluster labels with 12 LDA topics classified when p>0.5**"
      ]
    },
    {
      "cell_type": "code",
      "metadata": {
        "id": "L1ujwwgTs1lk"
      },
      "source": [
        "topics_all = pd.read_excel(path + \"best_model/No_Essays/12topics.xlsx\", index_col=0 )"
      ],
      "execution_count": null,
      "outputs": []
    },
    {
      "cell_type": "code",
      "metadata": {
        "id": "YdB9ULPRs1ll"
      },
      "source": [
        "topics_all[\"new_DOI\"] = topics_all[\"DOI\"].apply(lambda x: x.replace(\"/\", \"_\"))"
      ],
      "execution_count": null,
      "outputs": []
    },
    {
      "cell_type": "code",
      "metadata": {
        "id": "fCJEAa7Ps1lm"
      },
      "source": [
        "merged = pd.merge(topics_all, df, how = 'inner', on = \"new_DOI\")"
      ],
      "execution_count": null,
      "outputs": []
    },
    {
      "cell_type": "code",
      "metadata": {
        "colab": {
          "base_uri": "https://localhost:8080/",
          "height": 114
        },
        "id": "E1vRAM8FtGfh",
        "outputId": "ebe58e27-ab6b-4e0d-cd26-d1caaf17ac08"
      },
      "source": [
        "merged[merged[\"kmeans_cluster_label\"] == '0']"
      ],
      "execution_count": null,
      "outputs": [
        {
          "output_type": "execute_result",
          "data": {
            "text/html": [
              "<div>\n",
              "<style scoped>\n",
              "    .dataframe tbody tr th:only-of-type {\n",
              "        vertical-align: middle;\n",
              "    }\n",
              "\n",
              "    .dataframe tbody tr th {\n",
              "        vertical-align: top;\n",
              "    }\n",
              "\n",
              "    .dataframe thead th {\n",
              "        text-align: right;\n",
              "    }\n",
              "</style>\n",
              "<table border=\"1\" class=\"dataframe\">\n",
              "  <thead>\n",
              "    <tr style=\"text-align: right;\">\n",
              "      <th></th>\n",
              "      <th>DOI</th>\n",
              "      <th>best_topic</th>\n",
              "      <th>Article-title</th>\n",
              "      <th>Year</th>\n",
              "      <th>Abstract</th>\n",
              "      <th>Authors</th>\n",
              "      <th>Total Citations</th>\n",
              "      <th>new_DOI</th>\n",
              "      <th>kmeans_cluster_label</th>\n",
              "    </tr>\n",
              "  </thead>\n",
              "  <tbody>\n",
              "    <tr>\n",
              "      <th>219</th>\n",
              "      <td>asqu.2011.56.1.095</td>\n",
              "      <td>0</td>\n",
              "      <td>Founding Conditions, Learning, and Organizatio...</td>\n",
              "      <td>2011</td>\n",
              "      <td>Empirical evidence about the relation between ...</td>\n",
              "      <td>Gaël Le Mens, Michael T. Hannan, László Pólos</td>\n",
              "      <td>NaN</td>\n",
              "      <td>asqu.2011.56.1.095</td>\n",
              "      <td>0</td>\n",
              "    </tr>\n",
              "  </tbody>\n",
              "</table>\n",
              "</div>"
            ],
            "text/plain": [
              "                    DOI best_topic  ...             new_DOI  kmeans_cluster_label\n",
              "219  asqu.2011.56.1.095          0  ...  asqu.2011.56.1.095                     0\n",
              "\n",
              "[1 rows x 9 columns]"
            ]
          },
          "metadata": {
            "tags": []
          },
          "execution_count": 228
        }
      ]
    },
    {
      "cell_type": "code",
      "metadata": {
        "id": "hAj0CkBus1lm"
      },
      "source": [
        "grouped = merged.groupby(\"kmeans_cluster_label\").agg({\n",
        "    'best_topic' : 'value_counts'})\n"
      ],
      "execution_count": null,
      "outputs": []
    },
    {
      "cell_type": "code",
      "metadata": {
        "id": "tbXpwIkcs1ln"
      },
      "source": [
        "grouped.rename(columns = {\"best_topic\" : \"Number of papers\"}, inplace = True)"
      ],
      "execution_count": null,
      "outputs": []
    },
    {
      "cell_type": "code",
      "metadata": {
        "id": "IRaHlar0s1ln"
      },
      "source": [
        "grouped.reset_index(inplace = True)"
      ],
      "execution_count": null,
      "outputs": []
    },
    {
      "cell_type": "code",
      "metadata": {
        "colab": {
          "base_uri": "https://localhost:8080/",
          "height": 204
        },
        "id": "NpycA_Frs1ln",
        "outputId": "aff4b781-fdf3-4426-dfc8-d39c5519e5bd"
      },
      "source": [
        "grouped.head()"
      ],
      "execution_count": null,
      "outputs": [
        {
          "output_type": "execute_result",
          "data": {
            "text/html": [
              "<div>\n",
              "<style scoped>\n",
              "    .dataframe tbody tr th:only-of-type {\n",
              "        vertical-align: middle;\n",
              "    }\n",
              "\n",
              "    .dataframe tbody tr th {\n",
              "        vertical-align: top;\n",
              "    }\n",
              "\n",
              "    .dataframe thead th {\n",
              "        text-align: right;\n",
              "    }\n",
              "</style>\n",
              "<table border=\"1\" class=\"dataframe\">\n",
              "  <thead>\n",
              "    <tr style=\"text-align: right;\">\n",
              "      <th></th>\n",
              "      <th>kmeans_cluster_label</th>\n",
              "      <th>best_topic</th>\n",
              "      <th>Number of papers</th>\n",
              "    </tr>\n",
              "  </thead>\n",
              "  <tbody>\n",
              "    <tr>\n",
              "      <th>0</th>\n",
              "      <td>0</td>\n",
              "      <td>0</td>\n",
              "      <td>1</td>\n",
              "    </tr>\n",
              "    <tr>\n",
              "      <th>1</th>\n",
              "      <td>1</td>\n",
              "      <td>11</td>\n",
              "      <td>7</td>\n",
              "    </tr>\n",
              "    <tr>\n",
              "      <th>2</th>\n",
              "      <td>1</td>\n",
              "      <td>No right fit</td>\n",
              "      <td>5</td>\n",
              "    </tr>\n",
              "    <tr>\n",
              "      <th>3</th>\n",
              "      <td>1</td>\n",
              "      <td>4</td>\n",
              "      <td>2</td>\n",
              "    </tr>\n",
              "    <tr>\n",
              "      <th>4</th>\n",
              "      <td>1</td>\n",
              "      <td>6</td>\n",
              "      <td>2</td>\n",
              "    </tr>\n",
              "  </tbody>\n",
              "</table>\n",
              "</div>"
            ],
            "text/plain": [
              "  kmeans_cluster_label    best_topic  Number of papers\n",
              "0                    0             0                 1\n",
              "1                    1            11                 7\n",
              "2                    1  No right fit                 5\n",
              "3                    1             4                 2\n",
              "4                    1             6                 2"
            ]
          },
          "metadata": {
            "tags": []
          },
          "execution_count": 232
        }
      ]
    },
    {
      "cell_type": "code",
      "metadata": {
        "id": "fXfCfXQ0s1lo"
      },
      "source": [
        "def get_percentages(group):\n",
        "  percentage = (group[\"Number of papers\"]/ group[\"Number of papers\"].sum())*100\n",
        "  return percentage "
      ],
      "execution_count": null,
      "outputs": []
    },
    {
      "cell_type": "code",
      "metadata": {
        "id": "ngzR9vmZs1lo"
      },
      "source": [
        "regrouped = grouped.groupby(\"kmeans_cluster_label\").apply(get_percentages)"
      ],
      "execution_count": null,
      "outputs": []
    },
    {
      "cell_type": "code",
      "metadata": {
        "id": "n1uh3gaGs1lo"
      },
      "source": [
        "regrouped_df = regrouped.reset_index().drop(\"level_1\", axis=1).rename(columns = {\"Number of papers\" : \"Percentage of LDA topic\"})\n"
      ],
      "execution_count": null,
      "outputs": []
    },
    {
      "cell_type": "code",
      "metadata": {
        "id": "uwdT7hzAs1lo"
      },
      "source": [
        "regrouped_df.drop(\"kmeans_cluster_label\", axis = 1, inplace= True)"
      ],
      "execution_count": null,
      "outputs": []
    },
    {
      "cell_type": "code",
      "metadata": {
        "id": "yEMz5WPJs1lo"
      },
      "source": [
        "# kmeans_and_lda has both LDA topic wise number of papers and percentage of each topic \n",
        "kmeans_and_lda = pd.concat([grouped, regrouped_df], axis = 1, join = \"inner\")"
      ],
      "execution_count": null,
      "outputs": []
    },
    {
      "cell_type": "code",
      "metadata": {
        "id": "MXGkGCy7s1lp"
      },
      "source": [
        "kmeans_and_lda.rename(columns = {\"best_topic\" : \"LDA_best_topic\"}, inplace = True)"
      ],
      "execution_count": null,
      "outputs": []
    },
    {
      "cell_type": "code",
      "metadata": {
        "id": "J4KWSiI5s1lv"
      },
      "source": [
        "# Joining Topic Keywords to the spreadsheet\n",
        "keywords = pd.read_excel(path + \"best_model/No_Essays/topics_fullcorpus_12_auto_auto.xlsx\", sheet_name = \"topics_wise_keywords\", header = [0,1], index_col = 0)"
      ],
      "execution_count": null,
      "outputs": []
    },
    {
      "cell_type": "code",
      "metadata": {
        "id": "I9YeiCBWs1lw"
      },
      "source": [
        "with pd.ExcelWriter(path + \"best_model/No_Essays/kmeans/p>50_kmeans_12_topic_wise_fullcorpus_auto_auto.xlsx\") as writer:  \n",
        "  for topic, group in merged.groupby(\"kmeans_cluster_label\"):\n",
        "    group.to_excel(writer, sheet_name = str(topic))\n",
        "  kmeans_and_lda.to_excel(writer, sheet_name = \"Kmeans and LDA\" )\n",
        "  keywords.to_excel(writer, sheet_name = \"LDA Topic Keywords\")"
      ],
      "execution_count": null,
      "outputs": []
    },
    {
      "cell_type": "markdown",
      "metadata": {
        "id": "7uh35-1M_SjH"
      },
      "source": [
        "**Comparing kmeans cluster labels with LDA topics classified when p>0.8**"
      ]
    },
    {
      "cell_type": "code",
      "metadata": {
        "id": "i8Q7kT965PFh"
      },
      "source": [
        "topics_all = pd.read_excel(path + \"best_model/No_Essays/p>80_alltopics.xlsx\")"
      ],
      "execution_count": null,
      "outputs": []
    },
    {
      "cell_type": "code",
      "metadata": {
        "id": "IkzvaHyP468I"
      },
      "source": [
        "topics_all[\"new_DOI\"] = topics_all[\"DOI\"].apply(lambda x: x.replace(\"/\", \"_\"))"
      ],
      "execution_count": null,
      "outputs": []
    },
    {
      "cell_type": "code",
      "metadata": {
        "id": "D9GqJbPc5WJk"
      },
      "source": [
        "merged = pd.merge(topics_all, df, how = 'outer', on = \"new_DOI\")"
      ],
      "execution_count": null,
      "outputs": []
    },
    {
      "cell_type": "code",
      "metadata": {
        "id": "fgGXU37pY4Wj"
      },
      "source": [
        "def get_percentages(group):\n",
        "  val_counts = group.value_counts()\n",
        "  return val_counts "
      ],
      "execution_count": null,
      "outputs": []
    },
    {
      "cell_type": "code",
      "metadata": {
        "colab": {
          "base_uri": "https://localhost:8080/",
          "height": 442
        },
        "id": "fVeq4NVLmkyD",
        "outputId": "f3556ad6-8114-48f1-b545-a6ffdb2e946c"
      },
      "source": [
        "merged.head()"
      ],
      "execution_count": null,
      "outputs": [
        {
          "output_type": "execute_result",
          "data": {
            "text/html": [
              "<div>\n",
              "<style scoped>\n",
              "    .dataframe tbody tr th:only-of-type {\n",
              "        vertical-align: middle;\n",
              "    }\n",
              "\n",
              "    .dataframe tbody tr th {\n",
              "        vertical-align: top;\n",
              "    }\n",
              "\n",
              "    .dataframe thead th {\n",
              "        text-align: right;\n",
              "    }\n",
              "</style>\n",
              "<table border=\"1\" class=\"dataframe\">\n",
              "  <thead>\n",
              "    <tr style=\"text-align: right;\">\n",
              "      <th></th>\n",
              "      <th>Unnamed: 0</th>\n",
              "      <th>DOI</th>\n",
              "      <th>best_topic</th>\n",
              "      <th>Article-title</th>\n",
              "      <th>Year</th>\n",
              "      <th>Abstract</th>\n",
              "      <th>Authors</th>\n",
              "      <th>Total Citations</th>\n",
              "      <th>new_DOI</th>\n",
              "      <th>kmeans_cluster_label</th>\n",
              "    </tr>\n",
              "  </thead>\n",
              "  <tbody>\n",
              "    <tr>\n",
              "      <th>0</th>\n",
              "      <td>0</td>\n",
              "      <td>10.1177/0001839213486759</td>\n",
              "      <td>7</td>\n",
              "      <td>Specialization and Career Dynamics</td>\n",
              "      <td>2013</td>\n",
              "      <td>In this article, we attempt to resolve the ten...</td>\n",
              "      <td>['John-Paul Ferguson', 'Sharique Hasan']</td>\n",
              "      <td>32</td>\n",
              "      <td>10.1177_0001839213486759</td>\n",
              "      <td>2</td>\n",
              "    </tr>\n",
              "    <tr>\n",
              "      <th>1</th>\n",
              "      <td>1</td>\n",
              "      <td>10.1177/0001839218793128</td>\n",
              "      <td>4</td>\n",
              "      <td>Dispositional Sources of Managerial Discretion...</td>\n",
              "      <td>2019</td>\n",
              "      <td>We investigate the dispositional sources of ma...</td>\n",
              "      <td>['Abhinav Gupta', 'Sucheta Nadkarni', 'Misha M...</td>\n",
              "      <td>9</td>\n",
              "      <td>10.1177_0001839218793128</td>\n",
              "      <td>7</td>\n",
              "    </tr>\n",
              "    <tr>\n",
              "      <th>2</th>\n",
              "      <td>2</td>\n",
              "      <td>10.1177/0001839212437519</td>\n",
              "      <td>No right fit</td>\n",
              "      <td>Transcending Socialization</td>\n",
              "      <td>2011</td>\n",
              "      <td>A nine-year ethnography is used to show how tw...</td>\n",
              "      <td>['Alexandra Michel']</td>\n",
              "      <td>90</td>\n",
              "      <td>10.1177_0001839212437519</td>\n",
              "      <td>5</td>\n",
              "    </tr>\n",
              "    <tr>\n",
              "      <th>3</th>\n",
              "      <td>3</td>\n",
              "      <td>10.1177/0001839216673823</td>\n",
              "      <td>No right fit</td>\n",
              "      <td>These Unequal States: Corporate Organization a...</td>\n",
              "      <td>2017</td>\n",
              "      <td>In an analysis of data on employment in the 48...</td>\n",
              "      <td>['J. Adam Cobb', 'Flannery G. Stevens']</td>\n",
              "      <td>17</td>\n",
              "      <td>10.1177_0001839216673823</td>\n",
              "      <td>2</td>\n",
              "    </tr>\n",
              "    <tr>\n",
              "      <th>4</th>\n",
              "      <td>4</td>\n",
              "      <td>10.1177/0001839213488773</td>\n",
              "      <td>No right fit</td>\n",
              "      <td>CEO Narcissism, Audience Engagement, and Organ...</td>\n",
              "      <td>2013</td>\n",
              "      <td>We examine the responses of major pharmaceutic...</td>\n",
              "      <td>['Wolf-Christian Gerstner', 'Andreas König', '...</td>\n",
              "      <td>127</td>\n",
              "      <td>10.1177_0001839213488773</td>\n",
              "      <td>7</td>\n",
              "    </tr>\n",
              "  </tbody>\n",
              "</table>\n",
              "</div>"
            ],
            "text/plain": [
              "   Unnamed: 0  ... kmeans_cluster_label\n",
              "0           0  ...                    2\n",
              "1           1  ...                    7\n",
              "2           2  ...                    5\n",
              "3           3  ...                    2\n",
              "4           4  ...                    7\n",
              "\n",
              "[5 rows x 10 columns]"
            ]
          },
          "metadata": {
            "tags": []
          },
          "execution_count": 154
        }
      ]
    },
    {
      "cell_type": "code",
      "metadata": {
        "id": "g-KZ3O46MUS8"
      },
      "source": [
        "grouped = merged.groupby(\"kmeans_cluster_label\").agg({\n",
        "    'best_topic' : 'value_counts'})\n",
        "  #  'best_topic' : get_percentages}) "
      ],
      "execution_count": null,
      "outputs": []
    },
    {
      "cell_type": "code",
      "metadata": {
        "colab": {
          "base_uri": "https://localhost:8080/",
          "height": 235
        },
        "id": "cOtu3Uqza7B4",
        "outputId": "bdc64852-2d2c-4deb-a5c6-22b542c5d1da"
      },
      "source": [
        "grouped.head()"
      ],
      "execution_count": null,
      "outputs": [
        {
          "output_type": "execute_result",
          "data": {
            "text/html": [
              "<div>\n",
              "<style scoped>\n",
              "    .dataframe tbody tr th:only-of-type {\n",
              "        vertical-align: middle;\n",
              "    }\n",
              "\n",
              "    .dataframe tbody tr th {\n",
              "        vertical-align: top;\n",
              "    }\n",
              "\n",
              "    .dataframe thead th {\n",
              "        text-align: right;\n",
              "    }\n",
              "</style>\n",
              "<table border=\"1\" class=\"dataframe\">\n",
              "  <thead>\n",
              "    <tr style=\"text-align: right;\">\n",
              "      <th></th>\n",
              "      <th></th>\n",
              "      <th>best_topic</th>\n",
              "    </tr>\n",
              "    <tr>\n",
              "      <th>kmeans_cluster_label</th>\n",
              "      <th>best_topic</th>\n",
              "      <th></th>\n",
              "    </tr>\n",
              "  </thead>\n",
              "  <tbody>\n",
              "    <tr>\n",
              "      <th rowspan=\"4\" valign=\"top\">1</th>\n",
              "      <th>No right fit</th>\n",
              "      <td>15</td>\n",
              "    </tr>\n",
              "    <tr>\n",
              "      <th>5</th>\n",
              "      <td>3</td>\n",
              "    </tr>\n",
              "    <tr>\n",
              "      <th>1</th>\n",
              "      <td>2</td>\n",
              "    </tr>\n",
              "    <tr>\n",
              "      <th>2</th>\n",
              "      <td>1</td>\n",
              "    </tr>\n",
              "    <tr>\n",
              "      <th>2</th>\n",
              "      <th>No right fit</th>\n",
              "      <td>21</td>\n",
              "    </tr>\n",
              "  </tbody>\n",
              "</table>\n",
              "</div>"
            ],
            "text/plain": [
              "                                   best_topic\n",
              "kmeans_cluster_label best_topic              \n",
              "1                    No right fit          15\n",
              "                     5                      3\n",
              "                     1                      2\n",
              "                     2                      1\n",
              "2                    No right fit          21"
            ]
          },
          "metadata": {
            "tags": []
          },
          "execution_count": 81
        }
      ]
    },
    {
      "cell_type": "code",
      "metadata": {
        "id": "teOI3UfbNRtv"
      },
      "source": [
        "grouped.rename(columns = {\"best_topic\" : \"Number of papers\"}, inplace = True)\n",
        "#grouped[\"Percentage of topic\"] = (grouped[\"Number of papers\"]/grouped[\"Number of papers\"].sum())*100\n"
      ],
      "execution_count": null,
      "outputs": []
    },
    {
      "cell_type": "code",
      "metadata": {
        "id": "Ya3yCMzXYWtk"
      },
      "source": [
        "grouped.reset_index(inplace = True)"
      ],
      "execution_count": null,
      "outputs": []
    },
    {
      "cell_type": "code",
      "metadata": {
        "colab": {
          "base_uri": "https://localhost:8080/",
          "height": 204
        },
        "id": "7hsIJEL6ckos",
        "outputId": "edfb01cf-b3ea-49d2-8d8b-c2a577ce2000"
      },
      "source": [
        "grouped.head()"
      ],
      "execution_count": null,
      "outputs": [
        {
          "output_type": "execute_result",
          "data": {
            "text/html": [
              "<div>\n",
              "<style scoped>\n",
              "    .dataframe tbody tr th:only-of-type {\n",
              "        vertical-align: middle;\n",
              "    }\n",
              "\n",
              "    .dataframe tbody tr th {\n",
              "        vertical-align: top;\n",
              "    }\n",
              "\n",
              "    .dataframe thead th {\n",
              "        text-align: right;\n",
              "    }\n",
              "</style>\n",
              "<table border=\"1\" class=\"dataframe\">\n",
              "  <thead>\n",
              "    <tr style=\"text-align: right;\">\n",
              "      <th></th>\n",
              "      <th>kmeans_cluster_label</th>\n",
              "      <th>best_topic</th>\n",
              "      <th>Number of papers</th>\n",
              "    </tr>\n",
              "  </thead>\n",
              "  <tbody>\n",
              "    <tr>\n",
              "      <th>0</th>\n",
              "      <td>1</td>\n",
              "      <td>No right fit</td>\n",
              "      <td>15</td>\n",
              "    </tr>\n",
              "    <tr>\n",
              "      <th>1</th>\n",
              "      <td>1</td>\n",
              "      <td>5</td>\n",
              "      <td>3</td>\n",
              "    </tr>\n",
              "    <tr>\n",
              "      <th>2</th>\n",
              "      <td>1</td>\n",
              "      <td>1</td>\n",
              "      <td>2</td>\n",
              "    </tr>\n",
              "    <tr>\n",
              "      <th>3</th>\n",
              "      <td>1</td>\n",
              "      <td>2</td>\n",
              "      <td>1</td>\n",
              "    </tr>\n",
              "    <tr>\n",
              "      <th>4</th>\n",
              "      <td>2</td>\n",
              "      <td>No right fit</td>\n",
              "      <td>21</td>\n",
              "    </tr>\n",
              "  </tbody>\n",
              "</table>\n",
              "</div>"
            ],
            "text/plain": [
              "  kmeans_cluster_label    best_topic  Number of papers\n",
              "0                    1  No right fit                15\n",
              "1                    1             5                 3\n",
              "2                    1             1                 2\n",
              "3                    1             2                 1\n",
              "4                    2  No right fit                21"
            ]
          },
          "metadata": {
            "tags": []
          },
          "execution_count": 86
        }
      ]
    },
    {
      "cell_type": "code",
      "metadata": {
        "id": "wBKAiP9nb-7R"
      },
      "source": [
        "def get_percentages(group):\n",
        "  percentage = (group[\"Number of papers\"]/ group[\"Number of papers\"].sum())*100\n",
        "  return percentage "
      ],
      "execution_count": null,
      "outputs": []
    },
    {
      "cell_type": "code",
      "metadata": {
        "id": "xyf-ewpOcUIk"
      },
      "source": [
        "regrouped = grouped.groupby(\"kmeans_cluster_label\").apply(get_percentages)"
      ],
      "execution_count": null,
      "outputs": []
    },
    {
      "cell_type": "code",
      "metadata": {
        "id": "OSP6itHacsHM"
      },
      "source": [
        "regrouped_df = regrouped.reset_index().drop(\"level_1\", axis=1).rename(columns = {\"Number of papers\" : \"Percentage of LDA topic\"})\n"
      ],
      "execution_count": null,
      "outputs": []
    },
    {
      "cell_type": "code",
      "metadata": {
        "id": "lBpVtt4ce0rJ"
      },
      "source": [
        "regrouped_df.drop(\"kmeans_cluster_label\", axis = 1, inplace= True)"
      ],
      "execution_count": null,
      "outputs": []
    },
    {
      "cell_type": "code",
      "metadata": {
        "id": "G_zoGv0Zd4oo"
      },
      "source": [
        "#kmeans_and_lda = pd.merge(grouped, regrouped, how = \"inner\" , on = \"kmeans_cluster_label\")"
      ],
      "execution_count": null,
      "outputs": []
    },
    {
      "cell_type": "code",
      "metadata": {
        "id": "H-dLv0Kud-D4"
      },
      "source": [
        "kmeans_and_lda = pd.concat([grouped, regrouped_df], axis = 1, join = \"inner\")"
      ],
      "execution_count": null,
      "outputs": []
    },
    {
      "cell_type": "code",
      "metadata": {
        "id": "YGZ6ddV7gUWR"
      },
      "source": [
        "kmeans_and_lda.rename(columns = {\"best_topic\" : \"LDA_best_topic\"}, inplace = True)"
      ],
      "execution_count": null,
      "outputs": []
    },
    {
      "cell_type": "code",
      "metadata": {
        "colab": {
          "base_uri": "https://localhost:8080/"
        },
        "id": "05oW-lis7gPk",
        "outputId": "363a5498-82eb-4aab-e653-e6e364c6c684"
      },
      "source": [
        "merged.groupby(\"best_topic\")[\"kmeans_cluster_label\"].nunique()"
      ],
      "execution_count": null,
      "outputs": [
        {
          "output_type": "execute_result",
          "data": {
            "text/plain": [
              "best_topic\n",
              "0               4\n",
              "1               2\n",
              "2               4\n",
              "3               2\n",
              "4               1\n",
              "5               3\n",
              "6               1\n",
              "7               1\n",
              "8               1\n",
              "9               1\n",
              "No right fit    9\n",
              "Name: kmeans_cluster_label, dtype: int64"
            ]
          },
          "metadata": {
            "tags": []
          },
          "execution_count": 32
        }
      ]
    },
    {
      "cell_type": "code",
      "metadata": {
        "id": "JarBYBXHjXr9"
      },
      "source": [
        "# Joining Topic Keywords to the spreadsheet\n",
        "keywords = pd.read_excel(path + \"best_model/No_Essays/topics_fullcorpus_10_auto_auto.xlsx\", sheet_name = \"topics_wise_keywords\", header = [0,1], index_col = 0)"
      ],
      "execution_count": null,
      "outputs": []
    },
    {
      "cell_type": "code",
      "metadata": {
        "id": "xILuhYMi8GuL"
      },
      "source": [
        "with pd.ExcelWriter(path + \"best_model/No_Essays/kmeans/p>80_kmeans_topic_wise_fullcorpus_auto_auto.xlsx\") as writer:  \n",
        "  for topic, group in merged.groupby(\"kmeans_cluster_label\"):\n",
        "    group.to_excel(writer, sheet_name = str(topic))\n",
        "  kmeans_and_lda.to_excel(writer, sheet_name = \"Kmeans and LDA\")\n",
        "  keywords.to_excel(writer, sheet_name = \"LDA Topic Keywords\")"
      ],
      "execution_count": null,
      "outputs": []
    },
    {
      "cell_type": "code",
      "metadata": {
        "colab": {
          "base_uri": "https://localhost:8080/",
          "height": 255
        },
        "id": "tzl4LJuNkC_D",
        "outputId": "86641c20-1e8e-4494-c2df-1edd201e1422"
      },
      "source": [
        "keywords.head()"
      ],
      "execution_count": null,
      "outputs": [
        {
          "output_type": "execute_result",
          "data": {
            "text/html": [
              "<div>\n",
              "<style scoped>\n",
              "    .dataframe tbody tr th:only-of-type {\n",
              "        vertical-align: middle;\n",
              "    }\n",
              "\n",
              "    .dataframe tbody tr th {\n",
              "        vertical-align: top;\n",
              "    }\n",
              "\n",
              "    .dataframe thead tr th {\n",
              "        text-align: left;\n",
              "    }\n",
              "</style>\n",
              "<table border=\"1\" class=\"dataframe\">\n",
              "  <thead>\n",
              "    <tr>\n",
              "      <th></th>\n",
              "      <th colspan=\"2\" halign=\"left\">topic 0</th>\n",
              "      <th colspan=\"2\" halign=\"left\">topic 1</th>\n",
              "      <th colspan=\"2\" halign=\"left\">topic 2</th>\n",
              "      <th colspan=\"2\" halign=\"left\">topic 3</th>\n",
              "      <th colspan=\"2\" halign=\"left\">topic 4</th>\n",
              "      <th colspan=\"2\" halign=\"left\">topic 5</th>\n",
              "      <th colspan=\"2\" halign=\"left\">topic 6</th>\n",
              "      <th colspan=\"2\" halign=\"left\">topic 7</th>\n",
              "      <th colspan=\"2\" halign=\"left\">topic 8</th>\n",
              "      <th colspan=\"2\" halign=\"left\">topic 9</th>\n",
              "    </tr>\n",
              "    <tr>\n",
              "      <th></th>\n",
              "      <th>Probabilities</th>\n",
              "      <th>Words</th>\n",
              "      <th>Probabilities</th>\n",
              "      <th>Words</th>\n",
              "      <th>Probabilities</th>\n",
              "      <th>Words</th>\n",
              "      <th>Probabilities</th>\n",
              "      <th>Words</th>\n",
              "      <th>Probabilities</th>\n",
              "      <th>Words</th>\n",
              "      <th>Probabilities</th>\n",
              "      <th>Words</th>\n",
              "      <th>Probabilities</th>\n",
              "      <th>Words</th>\n",
              "      <th>Probabilities</th>\n",
              "      <th>Words</th>\n",
              "      <th>Probabilities</th>\n",
              "      <th>Words</th>\n",
              "      <th>Probabilities</th>\n",
              "      <th>Words</th>\n",
              "    </tr>\n",
              "  </thead>\n",
              "  <tbody>\n",
              "    <tr>\n",
              "      <th>0</th>\n",
              "      <td>0.008</td>\n",
              "      <td>\"venture\"</td>\n",
              "      <td>0.023</td>\n",
              "      <td>\"identity\"</td>\n",
              "      <td>0.021</td>\n",
              "      <td>\"team\"</td>\n",
              "      <td>0.011</td>\n",
              "      <td>\"family\"</td>\n",
              "      <td>0.048</td>\n",
              "      <td>\"ceo\"</td>\n",
              "      <td>0.031</td>\n",
              "      <td>\"network\"</td>\n",
              "      <td>0.020</td>\n",
              "      <td>\"political\"</td>\n",
              "      <td>0.027</td>\n",
              "      <td>\"logic\"</td>\n",
              "      <td>0.025</td>\n",
              "      <td>\"woman\"</td>\n",
              "      <td>0.021</td>\n",
              "      <td>\"routine\"</td>\n",
              "    </tr>\n",
              "    <tr>\n",
              "      <th>1</th>\n",
              "      <td>0.007</td>\n",
              "      <td>\"investment\"</td>\n",
              "      <td>0.010</td>\n",
              "      <td>\"participant\"</td>\n",
              "      <td>0.010</td>\n",
              "      <td>\"conflict\"</td>\n",
              "      <td>0.008</td>\n",
              "      <td>\"acquisition\"</td>\n",
              "      <td>0.010</td>\n",
              "      <td>\"corporate\"</td>\n",
              "      <td>0.024</td>\n",
              "      <td>\"tie\"</td>\n",
              "      <td>0.011</td>\n",
              "      <td>\"activist\"</td>\n",
              "      <td>0.018</td>\n",
              "      <td>\"job\"</td>\n",
              "      <td>0.018</td>\n",
              "      <td>\"gender\"</td>\n",
              "      <td>0.018</td>\n",
              "      <td>\"community\"</td>\n",
              "    </tr>\n",
              "    <tr>\n",
              "      <th>2</th>\n",
              "      <td>0.007</td>\n",
              "      <td>\"investor\"</td>\n",
              "      <td>0.009</td>\n",
              "      <td>\"job\"</td>\n",
              "      <td>0.010</td>\n",
              "      <td>\"professional\"</td>\n",
              "      <td>0.006</td>\n",
              "      <td>\"space\"</td>\n",
              "      <td>0.008</td>\n",
              "      <td>\"exchange\"</td>\n",
              "      <td>0.017</td>\n",
              "      <td>\"partner\"</td>\n",
              "      <td>0.010</td>\n",
              "      <td>\"stakeholder\"</td>\n",
              "      <td>0.014</td>\n",
              "      <td>\"worker\"</td>\n",
              "      <td>0.016</td>\n",
              "      <td>\"female\"</td>\n",
              "      <td>0.011</td>\n",
              "      <td>\"provider\"</td>\n",
              "    </tr>\n",
              "    <tr>\n",
              "      <th>3</th>\n",
              "      <td>0.006</td>\n",
              "      <td>\"bank\"</td>\n",
              "      <td>0.004</td>\n",
              "      <td>\"task\"</td>\n",
              "      <td>0.007</td>\n",
              "      <td>\"meeting\"</td>\n",
              "      <td>0.005</td>\n",
              "      <td>\"growth\"</td>\n",
              "      <td>0.008</td>\n",
              "      <td>\"director\"</td>\n",
              "      <td>0.013</td>\n",
              "      <td>\"client\"</td>\n",
              "      <td>0.010</td>\n",
              "      <td>\"government\"</td>\n",
              "      <td>0.011</td>\n",
              "      <td>\"institutional\"</td>\n",
              "      <td>0.013</td>\n",
              "      <td>\"men\"</td>\n",
              "      <td>0.010</td>\n",
              "      <td>\"commander\"</td>\n",
              "    </tr>\n",
              "    <tr>\n",
              "      <th>4</th>\n",
              "      <td>0.005</td>\n",
              "      <td>\"entrepreneur\"</td>\n",
              "      <td>0.004</td>\n",
              "      <td>\"emotion\"</td>\n",
              "      <td>0.006</td>\n",
              "      <td>\"project\"</td>\n",
              "      <td>0.005</td>\n",
              "      <td>\"successor\"</td>\n",
              "      <td>0.007</td>\n",
              "      <td>\"ideology\"</td>\n",
              "      <td>0.010</td>\n",
              "      <td>\"collaboration\"</td>\n",
              "      <td>0.009</td>\n",
              "      <td>\"movement\"</td>\n",
              "      <td>0.010</td>\n",
              "      <td>\"fund\"</td>\n",
              "      <td>0.011</td>\n",
              "      <td>\"job\"</td>\n",
              "      <td>0.008</td>\n",
              "      <td>\"brokerage\"</td>\n",
              "    </tr>\n",
              "  </tbody>\n",
              "</table>\n",
              "</div>"
            ],
            "text/plain": [
              "        topic 0                   ...       topic 9              \n",
              "  Probabilities            Words  ... Probabilities         Words\n",
              "0         0.008       \"venture\"   ...         0.021    \"routine\" \n",
              "1         0.007    \"investment\"   ...         0.018  \"community\" \n",
              "2         0.007      \"investor\"   ...         0.011   \"provider\" \n",
              "3         0.006          \"bank\"   ...         0.010  \"commander\" \n",
              "4         0.005  \"entrepreneur\"   ...         0.008  \"brokerage\" \n",
              "\n",
              "[5 rows x 20 columns]"
            ]
          },
          "metadata": {
            "tags": []
          },
          "execution_count": 147
        }
      ]
    },
    {
      "cell_type": "code",
      "metadata": {
        "id": "r4KpTQ8Hk9o3"
      },
      "source": [
        "with pd.ExcelWriter(path + \"best_model/No_Essays/kmeans/p>80topic_wise_fullcorpus_auto_auto.xlsx\") as writer:  \n",
        "  keywords.to_excel(writer, sheet_name = \"LDA Topic Keywords\")"
      ],
      "execution_count": null,
      "outputs": []
    },
    {
      "cell_type": "markdown",
      "metadata": {
        "id": "DQSze0S5_i4V"
      },
      "source": [
        "**Comparing kmeans cluster labels with LDA topics classified when p>0.5**"
      ]
    },
    {
      "cell_type": "code",
      "metadata": {
        "id": "Sxk3fhAk_qFH"
      },
      "source": [
        "topics_all = pd.read_excel(path + \"best_model/No_Essays/p>80_alltopics.xlsx\") #make a new spreadsheet for p>50 "
      ],
      "execution_count": null,
      "outputs": []
    },
    {
      "cell_type": "code",
      "metadata": {
        "id": "LLxazAbn_qFH"
      },
      "source": [
        "topics_all[\"new_DOI\"] = topics_all[\"DOI\"].apply(lambda x: x.replace(\"/\", \"_\"))"
      ],
      "execution_count": null,
      "outputs": []
    },
    {
      "cell_type": "code",
      "metadata": {
        "id": "uOE8zuI3_qFI"
      },
      "source": [
        "merged = pd.merge(topics_all, df, how = 'inner', on = \"new_DOI\")"
      ],
      "execution_count": null,
      "outputs": []
    },
    {
      "cell_type": "code",
      "metadata": {
        "colab": {
          "base_uri": "https://localhost:8080/"
        },
        "id": "oJIkVdrW_qFI",
        "outputId": "f175539b-3410-433d-e4fb-5d2b1ecfce9f"
      },
      "source": [
        "merged.groupby(\"best_topic\")[\"kmeans_cluster_label\"].nunique()"
      ],
      "execution_count": null,
      "outputs": [
        {
          "output_type": "execute_result",
          "data": {
            "text/plain": [
              "best_topic\n",
              "0                5\n",
              "1                4\n",
              "2                4\n",
              "3                2\n",
              "4                1\n",
              "5                3\n",
              "6                1\n",
              "7                1\n",
              "8                2\n",
              "9                1\n",
              "No right fit    10\n",
              "Name: kmeans_cluster_label, dtype: int64"
            ]
          },
          "metadata": {
            "tags": []
          },
          "execution_count": 90
        }
      ]
    },
    {
      "cell_type": "code",
      "metadata": {
        "id": "onR2HxGq_qFJ"
      },
      "source": [
        "with pd.ExcelWriter(path + \"best_model/No_Essays/kmeans/topic_wise_fullcorpus_auto_auto.xlsx\") as writer:  \n",
        "  for topic, group in merged.groupby(\"kmeans_cluster_label\"):\n",
        "    group.to_excel(writer, sheet_name = str(topic))"
      ],
      "execution_count": null,
      "outputs": []
    },
    {
      "cell_type": "markdown",
      "metadata": {
        "id": "MHmvvFpApkzW"
      },
      "source": [
        "**Assessing the model**"
      ]
    },
    {
      "cell_type": "code",
      "metadata": {
        "id": "VybPuouApnt1"
      },
      "source": [
        "ranks = []\n",
        "second_ranks = []\n",
        "\n",
        "#similar_docs \n",
        "for doc_id in range(len(corpus)):\n",
        "    inferred_vector = model.infer_vector(corpus[doc_id].words)\n",
        "    sims = model.dv.most_similar([inferred_vector], topn=len(model.dv))\n",
        "    rank = [docid for docid, sim in sims].index(all_filenames[doc_id])\n",
        "    ranks.append(rank)\n",
        "\n",
        "    second_ranks.append(sims[1])\n"
      ],
      "execution_count": null,
      "outputs": []
    },
    {
      "cell_type": "code",
      "metadata": {
        "colab": {
          "base_uri": "https://localhost:8080/"
        },
        "id": "gO0vIz2lzm46",
        "outputId": "c745a381-fde8-4ae7-bbd4-76e481ac6353"
      },
      "source": [
        "inferred_vector.shape"
      ],
      "execution_count": null,
      "outputs": [
        {
          "output_type": "execute_result",
          "data": {
            "text/plain": [
              "(50,)"
            ]
          },
          "metadata": {
            "tags": []
          },
          "execution_count": 45
        }
      ]
    },
    {
      "cell_type": "code",
      "metadata": {
        "colab": {
          "base_uri": "https://localhost:8080/"
        },
        "id": "Sg-QYzSEaZd9",
        "outputId": "2c02aafc-a0b6-47f3-b576-ac106ec03443"
      },
      "source": [
        "j = 0\n",
        "for i in second_ranks:\n",
        "  if i[1] < 0.5:\n",
        "    print(\"{}'s similar document: less than 0.5\".format(all_filenames[j]))\n",
        "    print(i[0])\n",
        "  j = j+1"
      ],
      "execution_count": null,
      "outputs": [
        {
          "output_type": "stream",
          "text": [
            "10.1177_0001839212441349's similar document: less than 0.5\n",
            "10.1177_0001839212461439\n",
            "10.1177_0001839217704811's similar document: less than 0.5\n",
            "10.1177_0001839217713748\n"
          ],
          "name": "stdout"
        }
      ]
    },
    {
      "cell_type": "code",
      "metadata": {
        "colab": {
          "base_uri": "https://localhost:8080/"
        },
        "id": "josOrhr-l8zc",
        "outputId": "1dcbb3a9-767e-4d1c-b096-50f1f2c9dfc1"
      },
      "source": [
        "second_ranks"
      ],
      "execution_count": null,
      "outputs": [
        {
          "output_type": "execute_result",
          "data": {
            "text/plain": [
              "[('10.1177_0001839211433562', 0.7246613502502441),\n",
              " ('10.1177_0001839213486984', 0.82057785987854),\n",
              " ('10.1177_0001839214553655', 0.5529376268386841),\n",
              " ('10.1177_0001839220909101', 0.7132365107536316),\n",
              " ('10.1177_0001839211427534', 0.8676475286483765),\n",
              " ('10.1177_0001839215609083', 0.7040761113166809),\n",
              " ('10.1177_0001839214531719', 0.6986525058746338),\n",
              " ('10.1177_0001839218804527', 0.6161857843399048),\n",
              " ('10.1177_0001839212439994', 0.6351875066757202),\n",
              " ('10.1177_0001839212441928', 0.7447593212127686),\n",
              " ('10.1177_0001839220911022', 0.6250776648521423),\n",
              " ('10.1177_0001839215597269', 0.8651427030563354),\n",
              " ('10.1177_0001839217694359', 0.8870086073875427),\n",
              " ('10.1177_0001839219835867', 0.7626936435699463),\n",
              " ('10.1177_0001839216673823', 0.6316832900047302),\n",
              " ('10.1177_0001839213477098', 0.5302948951721191),\n",
              " ('10.1177_0001839215610365', 0.6679982542991638),\n",
              " ('10.1177_0001839220980015', 0.568498432636261),\n",
              " ('10.1177_0001839212465077', 0.6284801959991455),\n",
              " ('10.1177_0001839213509364', 0.8945327997207642),\n",
              " ('10.1177_0001839220975697', 0.591003954410553),\n",
              " ('10.1177_0001839216674457', 0.6364181637763977),\n",
              " ('10.1177_0001839219835867', 0.7759427428245544),\n",
              " ('10.1177_0001839215576401', 0.5611748695373535),\n",
              " ('10.1177_0001839216687743', 0.6811172366142273),\n",
              " ('10.1177_0001839218759646', 0.7889134883880615),\n",
              " ('10.1177_0001839216637849', 0.6510555148124695),\n",
              " ('10.1177_0001839218778505', 0.6433321237564087),\n",
              " ('10.1177_0001839219855329', 0.5758015513420105),\n",
              " ('10.1177_0001839218778018', 0.6165878772735596),\n",
              " ('10.1177_0001839218773324', 0.7445901036262512),\n",
              " ('10.1177_0001839216629671', 0.6828383207321167),\n",
              " ('10.1177_0001839212461439', 0.4890514016151428),\n",
              " ('10.1177_0001839218771550', 0.6089580059051514),\n",
              " ('10.1177_0001839216668172', 0.7844798564910889),\n",
              " ('10.1177_0001839217703935', 0.7148209810256958),\n",
              " ('10.1177_0001839214537810', 0.7285888195037842),\n",
              " ('10.1177_0001839217718547', 0.6151571273803711),\n",
              " ('10.1177_0001839219852349', 0.6056767106056213),\n",
              " ('10.1177_0001839216649350', 0.8615853786468506),\n",
              " ('10.1177_0001839216636103', 0.620104193687439),\n",
              " ('10.1177_0001839215619198', 0.6945334672927856),\n",
              " ('10.1177_0001839215601459', 0.6174278855323792),\n",
              " ('10.1177_0001839211428131', 0.6254621148109436),\n",
              " ('10.1177_0001839216686053', 0.8916808366775513),\n",
              " ('10.1177_0001839211427534', 0.7433606386184692),\n",
              " ('10.1177_0001839219840022', 0.7409290671348572),\n",
              " ('10.1177_0001839219899606', 0.7146090269088745),\n",
              " ('10.1177_0001839211435904', 0.623607337474823),\n",
              " ('10.1177_0001839214554989', 0.7195814847946167),\n",
              " ('10.1177_0001839216673823', 0.6338982582092285),\n",
              " ('10.1177_0001839216642211', 0.5038809180259705),\n",
              " ('10.1177_0001839217736045', 0.8111706972122192),\n",
              " ('10.1177_0001839217720930', 0.7225277423858643),\n",
              " ('10.1177_0001839219827006', 0.6458965539932251),\n",
              " ('10.1177_0001839214523602', 0.6673979163169861),\n",
              " ('10.1177_0001839213500272', 0.5901743173599243),\n",
              " ('10.1177_0001839215579235', 0.6892683506011963),\n",
              " ('10.1177_0001839217731997', 0.750990092754364),\n",
              " ('10.1177_0001839220948483', 0.6046391725540161),\n",
              " ('10.1177_0001839218793128', 0.8251783847808838),\n",
              " ('10.1177_0001839217712240', 0.6225574016571045),\n",
              " ('10.1177_0001839217750868', 0.6853533983230591),\n",
              " ('10.1177_0001839219851501', 0.5780879855155945),\n",
              " ('10.1177_0001839213511243', 0.6639099717140198),\n",
              " ('10.1177_0001839217712920', 0.6224961280822754),\n",
              " ('10.1177_0001839215590153', 0.6884651780128479),\n",
              " ('10.1177_0001839213498591', 0.5751445889472961),\n",
              " ('10.1177_0001839216648953', 0.7920355200767517),\n",
              " ('10.1177_0001839212446689', 0.64643794298172),\n",
              " ('10.1177_0001839212453028', 0.6104962229728699),\n",
              " ('10.1177_0001839213511243', 0.5659547448158264),\n",
              " ('10.1177_0001839217747876', 0.5758952498435974),\n",
              " ('10.1177_0001839216647679', 0.5816202759742737),\n",
              " ('10.1177_0001839217750826', 0.5073168277740479),\n",
              " ('10.1177_0001839217726545', 0.6550302505493164),\n",
              " ('10.1177_0001839220962760', 0.6064421534538269),\n",
              " ('10.1177_0001839217720930', 0.7560034394264221),\n",
              " ('10.1177_0001839218759646', 0.7840378284454346),\n",
              " ('10.1177_0001839216674457', 0.7980430126190186),\n",
              " ('10.1177_0001839220963633', 0.6315111517906189),\n",
              " ('10.1177_0001839218817520', 0.6452047824859619),\n",
              " ('10.1177_0001839216657311', 0.7842807769775391),\n",
              " ('10.1177_0001839216657311', 0.6855502128601074),\n",
              " ('10.1177_0001839218766310', 0.7129862904548645),\n",
              " ('10.1177_0001839218761369', 0.69861900806427),\n",
              " ('10.1177_0001839219835867', 0.6274147033691406),\n",
              " ('10.1177_0001839216686531', 0.5527827739715576),\n",
              " ('10.1177_0001839218804527', 0.52532559633255),\n",
              " ('10.1177_0001839218821439', 0.6533304452896118),\n",
              " ('10.1177_0001839218763595', 0.5186702013015747),\n",
              " ('10.1177_0001839216637849', 0.7121860384941101),\n",
              " ('10.1177_0001839217733972', 0.7940597534179688),\n",
              " ('10.1177_0001839219845875', 0.6452756524085999),\n",
              " ('10.1177_0001839217731997', 0.6627534627914429),\n",
              " ('10.1177_0001839212453028', 0.647294819355011),\n",
              " ('10.1177_0001839213476502', 0.6400560140609741),\n",
              " ('10.1177_0001839220972422', 0.761942446231842),\n",
              " ('10.1177_0001839218761369', 0.6510177850723267),\n",
              " ('10.1177_0001839219852349', 0.5888215899467468),\n",
              " ('10.1177_0001839216682728', 0.7509645819664001),\n",
              " ('10.1177_0001839214528704', 0.7889233827590942),\n",
              " ('10.1177_0001839216657311', 0.761115550994873),\n",
              " ('asqu.2011.56.1.061', 0.7652903199195862),\n",
              " ('10.1177_0001839216636103', 0.5652964115142822),\n",
              " ('10.1177_0001839217726545', 0.6566985845565796),\n",
              " ('10.1177_0001839214523428', 0.6884118914604187),\n",
              " ('10.1177_0001839220949502', 0.5632457733154297),\n",
              " ('10.1177_0001839219832813', 0.5381489992141724),\n",
              " ('10.1177_0001839217692535', 0.6713380813598633),\n",
              " ('10.1177_0001839216649350', 0.5465764999389648),\n",
              " ('10.1177_0001839214554989', 0.7083956599235535),\n",
              " ('10.1177_0001839211433562', 0.8378692269325256),\n",
              " ('10.1177_0001839213486984', 0.6843660473823547),\n",
              " ('10.1177_0001839213476502', 0.6413813233375549),\n",
              " ('10.1177_0001839217720930', 0.5889068245887756),\n",
              " ('10.1177_0001839216673823', 0.7265856266021729),\n",
              " ('10.1177_0001839214563975', 0.6812164187431335),\n",
              " ('10.1177_0001839218793384', 0.6202458143234253),\n",
              " ('10.1177_0001839219855329', 0.6138174533843994),\n",
              " ('10.1177_0001839212453267', 0.91291743516922),\n",
              " ('10.1177_0001839215601459', 0.6680701971054077),\n",
              " ('10.1177_0001839218782131', 0.6176865100860596),\n",
              " ('10.1177_0001839216665364', 0.6702826619148254),\n",
              " ('10.1177_0001839218793128', 0.635384738445282),\n",
              " ('10.1177_0001839212441928', 0.7460952997207642),\n",
              " ('asqu.2011.56.1.001', 0.590625524520874),\n",
              " ('10.1177_0001839215576401', 0.5729393362998962),\n",
              " ('10.1177_0001839215576401', 0.6082251667976379),\n",
              " ('10.1177_0001839214566297', 0.6617873907089233),\n",
              " ('10.1177_0001839213520131', 0.5292522311210632),\n",
              " ('10.1177_0001839211428131', 0.5838962197303772),\n",
              " ('10.1177_0001839214553655', 0.6830219626426697),\n",
              " ('10.1177_0001839213498591', 0.6630169153213501),\n",
              " ('10.1177_0001839215611447', 0.7170584201812744),\n",
              " ('10.1177_0001839216637849', 0.6724501848220825),\n",
              " ('10.1177_0001839214553655', 0.5928851366043091),\n",
              " ('10.1177_0001839217750868', 0.6696137189865112),\n",
              " ('10.1177_0001839212440972', 0.7426324486732483),\n",
              " ('10.1177_0001839220962795', 0.6603781580924988),\n",
              " ('10.1177_0001839219832813', 0.6621658802032471),\n",
              " ('10.1177_0001839213511243', 0.6227293014526367),\n",
              " ('10.1177_0001839220962795', 0.5917068719863892),\n",
              " ('10.1177_0001839219870449', 0.6519222259521484),\n",
              " ('10.1177_0001839216665364', 0.7181681394577026),\n",
              " ('10.1177_0001839216655090', 0.5761363506317139),\n",
              " ('10.1177_0001839213500032', 0.8050574064254761),\n",
              " ('10.1177_0001839212441928', 0.7159554958343506),\n",
              " ('10.1177_0001839214528704', 0.5762214660644531),\n",
              " ('10.1177_0001839216665805', 0.5691360831260681),\n",
              " ('10.1177_0001839216668172', 0.638849139213562),\n",
              " ('10.1177_0001839216665364', 0.7488427758216858),\n",
              " ('10.1177_0001839216674457', 0.6785740256309509),\n",
              " ('10.1177_0001839217747876', 0.5771223902702332),\n",
              " ('10.1177_0001839212440972', 0.7460178136825562),\n",
              " ('10.1177_0001839213477098', 0.6869574785232544),\n",
              " ('10.1177_0001839216657311', 0.6640148758888245),\n",
              " ('10.1177_0001839214563595', 0.5654377341270447),\n",
              " ('10.1177_0001839217690530', 0.5687007308006287),\n",
              " ('10.1177_0001839219827006', 0.8716533780097961),\n",
              " ('10.1177_0001839217713748', 0.48781445622444153),\n",
              " ('10.1177_0001839215591627', 0.5636917948722839),\n",
              " ('10.1177_0001839214538636', 0.6619342565536499),\n",
              " ('10.1177_0001839214554830', 0.5976639986038208),\n",
              " ('10.1177_0001839213488773', 0.865547776222229),\n",
              " ('10.1177_0001839218762403', 0.7800000309944153),\n",
              " ('10.1177_0001839213497011', 0.6301196813583374),\n",
              " ('10.1177_0001839213486984', 0.7961999773979187),\n",
              " ('10.1177_0001839216661150', 0.6103564500808716),\n",
              " ('10.1177_0001839214554830', 0.6584049463272095),\n",
              " ('10.1177_0001839217714024', 0.8699880242347717),\n",
              " ('10.1177_0001839215576401', 0.7018133997917175),\n",
              " ('10.1177_0001839212446689', 0.7569245100021362),\n",
              " ('10.1177_0001839216674457', 0.6674782633781433),\n",
              " ('10.1177_0001839218759965', 0.6643787026405334),\n",
              " ('10.1177_0001839218766310', 0.6365443468093872),\n",
              " ('10.1177_0001839215590153', 0.5901010036468506),\n",
              " ('10.1177_0001839217726545', 0.5200411677360535),\n",
              " ('10.1177_0001839212461141', 0.6879345178604126),\n",
              " ('10.1177_0001839219836670', 0.6078723669052124),\n",
              " ('10.1177_0001839214532428', 0.690464198589325),\n",
              " ('10.1177_0001839211427535', 0.6998611688613892),\n",
              " ('10.1177_0001839213500272', 0.5853002667427063),\n",
              " ('10.1177_0001839216661150', 0.7502706050872803),\n",
              " ('10.1177_0001839215571125', 0.6957284212112427),\n",
              " ('10.1177_0001839216678847', 0.6925716996192932),\n",
              " ('10.1177_0001839211428131', 0.8349401354789734),\n",
              " ('10.1177_0001839212461633', 0.6876855492591858),\n",
              " ('10.1177_0001839213500032', 0.77337646484375),\n",
              " ('10.1177_0001839212440972', 0.6526515483856201),\n",
              " ('10.1177_0001839214545277', 0.6557620167732239),\n",
              " ('10.1177_0001839214523428', 0.6990560293197632),\n",
              " ('10.1177_0001839217731997', 0.7497531175613403),\n",
              " ('10.1177_0001839216653712', 0.5791152715682983),\n",
              " ('10.1177_0001839217720930', 0.5385825037956238),\n",
              " ('10.1177_0001839215571125', 0.5888787508010864),\n",
              " ('10.1177_0001839211427534', 0.7472354769706726),\n",
              " ('10.1177_0001839211429102', 0.8937468528747559),\n",
              " ('10.1177_0001839220948483', 0.6411438584327698),\n",
              " ('10.1177_0001839214523603', 0.5802559852600098),\n",
              " ('10.1177_0001839218817520', 0.6815388202667236),\n",
              " ('10.1177_0001839212465077', 0.7025842070579529),\n",
              " ('10.1177_0001839220980015', 0.8180292844772339),\n",
              " ('10.1177_0001839214551943', 0.6842946410179138),\n",
              " ('10.1177_0001839218769252', 0.60914146900177),\n",
              " ('10.1177_0001839219851501', 0.7264083623886108),\n",
              " ('10.1177_0001839217733972', 0.7328474521636963),\n",
              " ('10.1177_0001839212439994', 0.5431777238845825),\n",
              " ('10.1177_0001839217707738', 0.6275027990341187),\n",
              " ('10.1177_0001839217718547', 0.7870315313339233),\n",
              " ('10.1177_0001839216648953', 0.5052350163459778),\n",
              " ('10.1177_0001839218782131', 0.58183354139328),\n",
              " ('10.1177_0001839218782131', 0.5494144558906555),\n",
              " ('10.1177_0001839219832310', 0.6019942164421082),\n",
              " ('10.1177_0001839219899613', 0.6375266909599304),\n",
              " ('10.1177_0001839217718547', 0.7347238063812256),\n",
              " ('10.1177_0001839212453456', 0.5972886681556702),\n",
              " ('10.1177_0001839214566297', 0.7862626910209656),\n",
              " ('10.1177_0001839211427534', 0.6590214967727661),\n",
              " ('asqu.2011.56.1.061', 0.6347864270210266)]"
            ]
          },
          "metadata": {
            "tags": []
          },
          "execution_count": 29
        }
      ]
    },
    {
      "cell_type": "code",
      "metadata": {
        "id": "WN47uWuUXm9h"
      },
      "source": [
        "dir(corpus[doc_id])\n",
        "corpus[doc_id].tags"
      ],
      "execution_count": null,
      "outputs": []
    },
    {
      "cell_type": "code",
      "metadata": {
        "colab": {
          "base_uri": "https://localhost:8080/",
          "height": 164
        },
        "id": "sBpdc8ZdYuld",
        "outputId": "6fad818f-3c53-4776-9cd4-de0f119002a2"
      },
      "source": [
        "inferred_vector"
      ],
      "execution_count": null,
      "outputs": [
        {
          "output_type": "error",
          "ename": "NameError",
          "evalue": "ignored",
          "traceback": [
            "\u001b[0;31m---------------------------------------------------------------------------\u001b[0m",
            "\u001b[0;31mNameError\u001b[0m                                 Traceback (most recent call last)",
            "\u001b[0;32m<ipython-input-15-e35d8275123b>\u001b[0m in \u001b[0;36m<module>\u001b[0;34m()\u001b[0m\n\u001b[0;32m----> 1\u001b[0;31m \u001b[0minferred_vector\u001b[0m\u001b[0;34m\u001b[0m\u001b[0;34m\u001b[0m\u001b[0m\n\u001b[0m",
            "\u001b[0;31mNameError\u001b[0m: name 'inferred_vector' is not defined"
          ]
        }
      ]
    },
    {
      "cell_type": "code",
      "metadata": {
        "id": "3m24aRhnpwEA",
        "colab": {
          "base_uri": "https://localhost:8080/"
        },
        "outputId": "b79e0964-4e15-4263-a0f1-a35b2f1c009d"
      },
      "source": [
        "import collections\n",
        "\n",
        "counter = collections.Counter(ranks)\n",
        "print(counter)"
      ],
      "execution_count": null,
      "outputs": [
        {
          "output_type": "stream",
          "text": [
            "Counter({0: 220})\n"
          ],
          "name": "stdout"
        }
      ]
    },
    {
      "cell_type": "code",
      "metadata": {
        "colab": {
          "base_uri": "https://localhost:8080/"
        },
        "id": "Wu3g81P8xYdz",
        "outputId": "dd655eeb-e6d6-4660-c640-9cafff4d6de0"
      },
      "source": [
        "len(corpus[0][1])"
      ],
      "execution_count": null,
      "outputs": [
        {
          "output_type": "execute_result",
          "data": {
            "text/plain": [
              "1"
            ]
          },
          "metadata": {
            "tags": []
          },
          "execution_count": 42
        }
      ]
    },
    {
      "cell_type": "code",
      "metadata": {
        "colab": {
          "base_uri": "https://localhost:8080/"
        },
        "id": "hRTksA3jEarM",
        "outputId": "74ba5eb6-1ad4-4311-bc6c-8e8c7b9ef96b"
      },
      "source": [
        "for i in range(len(corpus)):\n",
        "  if corpus[i].tags == ['10.1177_0001839213500272']:\n",
        "    print(i)"
      ],
      "execution_count": null,
      "outputs": [
        {
          "output_type": "stream",
          "text": [
            "21\n"
          ],
          "name": "stdout"
        }
      ]
    },
    {
      "cell_type": "code",
      "metadata": {
        "colab": {
          "base_uri": "https://localhost:8080/"
        },
        "id": "UK_sR984xHW8",
        "outputId": "7fbd6569-a3d7-46ac-913a-e5b3f4b387f6"
      },
      "source": [
        "# Pick a random document from the corpus and infer a vector from the model\n",
        "import random\n",
        "#doc_id = random.randint(0, len(corpus) - 1)\n",
        "for j in range(len(corpus)):\n",
        "  if corpus[j].tags == ['10.1177_0001839214532428']:\n",
        "    doc_id = j \n",
        "# Compare and print the second-most-similar document\n",
        "print('Train Document ({}): «{}»\\n'.format(corpus[doc_id].tags, ' '.join(corpus[doc_id].words)))\n",
        "sim_id = second_ranks[doc_id]         #sim_id is a list of 2 elements: DOI of the similar paper, cosine similarity vale\n",
        "for i in range(len(corpus)):\n",
        "  if corpus[i].tags == [sim_id[0]]:\n",
        "    sim_index = i    #sim_index is the index of the document that's second-most-similar to the original document (indexed doc_id)\n",
        " \n",
        "print('Similar Document {}: «{}»\\n'.format(sim_id, ' '.join(corpus[sim_index].words)))"
      ],
      "execution_count": null,
      "outputs": [
        {
          "output_type": "stream",
          "text": [
            "Train Document (['10.1177_0001839214532428']): «on the causality and cause of returns to organizational status evidence from the grands crus classés of the médoc this paper identifies the causal symbolic effect of status on the prices organizations charge for their products exploit the classification of the châteaux of the médoc which sorted wine producers into five growth classes in as fixed hierarchical symbol of class status the classification has defied attempts at revision for more than years this means that château rank in the classification cannot be reversely affected by the quality or price of its wine which greatly facilitates the estimation of the causal effect of status to determine whether status serves as signal of quality under uncertainty or satisfies the motive of conspicuous consumption study period of time during which the uncertainty about quality has arguably declined because the internet has made wine ratings ubiquitously available identify symbolic effect of status on prices that increases in time of decreasing uncertainty which suggests the motive of conspicuous consumption as driver of the effect but the results caution that we might commonly overestimate the symbolic value of status if we underestimate the disproportional value that markets place on the pinnacle of quality the enduring nature of reputation and the effect of endogenous quality choices on estimates of status effects organizational status reputation quality signals conspicuous consumption wine classification of grand cru the literature on status has extensively documented associations between organizational status and desirable organizational outcomes theorizing causal link recent empirical work on the individual level however calls into question whether the observed associations between status and outcomes reflect causal effect of status on outcomes by matching published articles written by scientists appointed as howard hughes medical investigators to articles of equally likely candidates who were not appointed showed that the symbolic effect of the appointment on citations to these articles is much smaller and more short lived than commonly used estimators suggest their findings call into question the causality claims in the organizational status literature and whether cumulative advantage can accrue to organizations based purely on the symbolic value of status cf failure to establish causality however would not only imply that the observed effects of status may be little more than reflections of superior quality it would also imply that the assertions about what drives status effects would be dubious if the effects were not causal to begin with responding to these challenges seek to identify the symbolic value of status for organizations following recent discussions in the literature highlight two problem areas that impede identifying causal effects of status first it is possible to estimate positive albeit spurious status effects even if there is perfect correlation between status and quality or reputation second if status is embedded in web of reversely causal relationships with quality and organizational outcomes then the standard estimators used in the extant organizational literature will generally not produce consistent estimates of the causal effects finally juxtapose the prevalent view of organizational status as signal of quality under uncertainty and the motive of conspicuous consumption to assess their theoretical consistency with returns to status that are independent of quality to identify the causal effect of status on the prices organizations charge for their products analyze whether the grand cru classification of the châteaux of the médoc cf which sorted producers into five grands crus classés in exerts an influence on wine prices today created by powerful actors this hierarchical symbol of class status has defied attempts at revision for more than years the classification cannot be reversely affected by the quality that the châteaux produce or the prices they charge this eliminates two typical sources of endogeneity which simplifies the task of estimating the causal effect of status to investigate whether the uncertainty about quality or the motive of conspicuous consumption drives the returns to status in this market study time period during which the uncertainty about quality has arguably declined due to the proliferation of information on wine quality over the internet the causality of status effects the central concern of status scholars is that status orders create reward structure that favors those who already occupy high status positions the phenomenon known as the matthew effect is purely symbolic effect of status independent of quality as well as substantive effect of status on subsequent quality and an effect of that quality on status acquisition even further down the road recent theoretical arguments have criticized the organizational status literature narrow view of status as signal of quality under uncertainty because it neglects the symbolic effect of status and risks confounding status with producer reputation for quality moreover empirical evidence is accruing that the standard estimators used in the status literature do not produce consistent estimates of status effects cf understanding the difficulties associated with isolating the causal effects of status requires clearly distinguishing the competing constructs of quality and reputation as well as creating models for the mechanism by which status is acquired and the mechanisms by which it creates advantages mistaking quality and reputation effects for status the process of acquiring status is viewed as one in which producers first choose level of quality where quality is defined as the performance of product or service through the production of certain level of quality over time producer acquires reputation for quality this reputation may help prospective buyers form expectations about the current level of quality of firm products or services reputation should thus be relevant if prospective buyers believe that it predicts current quality in markets in which current quality is imperfectly observable as byproduct of their past or present demonstrations of quality organizations may obtain tokens of status such as awards or prizes formal recognition or ranks and connections or network positions wine for example may win gold medals in tasting competitions be served at dinners of kings or presidents or become central and prestigious among peer wineries of its provenance this view of the process of status acquisition implies that status will generally be correlated with quality or reputation at some point in producer history cf separating the symbolic value of status from quality and the signaling value of reputation thus requires comprehensive controls for quality and reputation that render status the symbolic residual the available controls for quality and reputation however are often less than perfect the more complex products services or organizations are and the more difficult it is to measure their characteristics the more challenging it is to control comprehensively for quality and reputation because of that status studies in settings like investment banks universities or professional service firms are likely to face an elevated risk of ascribing effects to status that are more easily explained by quality or reputation if status is acquired as byproduct of quality or reputation it remains from them as long as the status order simply reproduces the hierarchical order that exists in quality or reputation cf this is true even if the status order represents differences in quality or reputation in an amplified way the reason is that amplification without distortion preserves rank correlation of one between status and quality or reputation for status effects to be distinguishable from quality or reputation effects status order must be distorted representation of the quality and reputation orders nonetheless it is possible to estimate significant albeit spurious status effects even if status is only an amplified representation of quality or reputation tokens of status frequently accrue cumulatively or for example the best athlete wins the most gold medals and becomes the star even if the performance difference to the second best athlete is consistently small status may thus frequently be nonlinear function of quality or reputation the risk associated with this nonlinear relationship is that instead of having an effect of its own status might pick up nonlinear appreciation for quality or reputation this could happen if an empirical strategy for studying status constrains quality and reputation effects to be linear in the predictor an assumption that is common to most organizational status literature the risk of mistaking nonlinear quality or reputation effects for status effects would seem to be the greatest in markets in which status is commonly believed to matter the most superstar markets in which disproportional value is placed on the pinnacle of quality superstar or winner take all markets are special form of markets with increasing marginal returns to quality in which the superstar can serve large portions of the market due to low marginal costs we are familiar with such highly asymmetric reward distributions among wines movies professional services and universities for example but in such markets differences in outcomes might not be best explained by status they might be better explained by differences in underlying qualities that are in limited supply and for which there are few or no substitutes even if these differences are small this suggests that we need to allow for increasing marginal effects of quality and reputation in order to attribute returns to status furthermore if quality varies heterogeneously across producers over time we may perceive status hierarchy to be distorted representation of the reputation hierarchy even when it is not the grands crus classés of the médoc for example underwent periods of weakness in their history when the quality of their products matched neither their historic reputation for quality nor their supposed status the consequence of such quality fluctuations is that status may capture producer quality in the distant past or long term average quality better than quality in the recent past does if the market has reason to value quality demonstrations in the distant past or producer long term average quality we might erroneously attribute effects to status if reputation is defined on an inappropriately short lag the three to five year lag with which extant studies have commonly controlled for past quality might thus be insufficient to capture producers reputations for quality for example provided evidence that the reputations of law schools are virtually stable over at least years we should generally expect reputations for quality to be durable when quality perceptions update slowly this occurs in markets in which the signal to noise ratio in quality signals is naturally high law firms movie production baseball franchises product generations revolve slowly or used products are traded in large volumes cars products are durable or they mature or improve with age wine or the consequences of consuming product or service materialize slowly university education this suggests that we are at risk of mistaking markets in which reputations for quality are enduring for markets in which status matters and some of the markets in which we believe status to matter the most once again seem particularly susceptible to this bias cumulative advantage and reverse causality empirically the issues identified above all constitute cases of omitted variable bias yet the identification of causal status effects is further complicated by the potential reverse causality among status quality and organizational outcomes as noted in their analysis of the california wine industry there is undoubtedly reciprocal relationship between the level of quality that firm achieves and the structural position that firm obtains but the standard estimators that have commonly been used in the literature generally do not produce consistent estimates of the causal effects in the presence of such reverse causal relationships some of the complexities arise from the two mechanisms that are suspected of creating cumulative advantage first status may affect the quality level at which producers operate status may enable producers to produce at higher level of quality because for example status attracts greater funding or more capable or hardworking partners in addition producer may be motivated to maintain high level of quality to avoid the risk of losing status cf producer audiences might penalize low quality product for being inconsistent with not only the firm reputation for quality but also with its status claim self reinforcing cycle of status and quality that escalates the quality differences among producers could result but if status affects the level or the trajectory of quality that producers pursue then producer reputation for quality in the past will be biased predictor of the producer quality in the present this problem will likely be more pronounced if status shock happened recently if status is time variant rather than fixed or if quality differences have no natural limit because the effect of status on subsequent quality is not fully captured by differences in producers reputations for quality this would result in an overestimation of the symbolic effect of status for example sought to estimate the symbolic effect of hiring prominent winemaker on wine prices but their price equation did not directly control for the fact that wines were rated about one point higher if the winery had experienced the hiring of prominent winemaker quality difference of one point however might be large enough to explain much of the effect they observed suggesting that the effect might in large part be substantive rather than symbolic similarly observed that the symbolic effect of scientists status on the number of citations to their academic articles was much smaller than initially estimated once they accounted for the fact that the status shock enabled the scientists to publish papers in higher quality journals controls for producers reputations may thus be insufficient to account for systematic differences in producers current quality levels that are driven by status second any causal effect of status on organizational performance may commonly be confounded with the reverse causal effect of organizational performance on status certain organizational outcomes such as price or survival seem particularly apt to drive status that higher prices imply status is the precise idea of the veblen good for which the price of the good defines its status value rather than the status of the good defining its price and while status might affect organizational survival surviving organizations with long history or heritage have also had more time and thus better chances to accumulate tokens of class status rather than status driving organizational outcomes outcomes might drive organizational status in dynamic feedback loop that can render status an artifactual correlate of performance cf finally producers will choose only the level of quality for which they expect to be able to recoup their investments or be rewarded by the market otherwise implying an effect of expected performance on quality cf this means that producer reputation defined as the producer demonstrations of quality in the past is composed of series of choices in the past that are endogenous to current performance this endogeneity problem should be more pronounced in markets with greater uncertainty because producers make investments in quality in these markets today to be rewarded for their reputations tomorrow neither current nor past quality choices can thus be treated as exogenous see while the endogenous relationships between quality or reputation and performance do not directly involve status standard estimators may propagate the bias in their estimates to the estimates of correlated variables such as status in ways that are difficult to anticipate without knowing the correlation structure of the data causes of status effects in the original view of organizational status focal actor interprets the status of exchange partners as signal of their quality inferring the quality of an organization or its products and services from the status position the organization occupies as status affects returns only indirectly through its effect on perceived quality audiences would not have to rely on status to infer quality if quality were perfectly observable hence for status to be valuable one has to assume that there is residual uncertainty about quality or show empirically that returns to status increase with uncertainty there is in fact strong empirical evidence supporting this view status generates greater returns when the uncertainty about the quality of producer or product is high in the alternative view status is positional good because high status is scarce by definition there can be only few at the top of any given status hierarchy status can serve as differentiator the pure social scarcity of the status symbol itself independent of its substance enables social actors to assert their social precedence over their peers through the conspicuous consumption of high status goods or affiliations the conspicuous consumption perspective differs from the signaling perspective in two ways first conspicuous consumption requires an audience in front of which the focal actor consumes the reason for consuming high status goods shifts from what the focal actor believes about the quality of the products or affiliations he or she consumes to what the focal actor believes about the attributions his or her audience will make upon observing his or her consumption of the good focal actor uncertainty about the quality of producer or product which is central to the signaling perspective is thus not necessary condition for returns to status under the conspicuous consumption perspective instead social actor belief that his or her audience will reward him or her for the conspicuous display of goods or affiliations is sufficient to generate returns to status even if he or she knows that substantively they are no better than their lower status alternatives second the two views also differ in their implications for the relationship between status and quality and the persistence of returns to status over time when status is defined as perceived quality under uncertainty status effects can persist only if high level of uncertainty about quality is sustained this is likely only for credence goods for which uncertainty is fundamentally irresolvable for experience goods for which uncertainty is resolved in consumption the flow of information among members of the audience would have to be inhibited across space and time as uncertainty would otherwise likely be reduced through experience or word of mouth for information goods for which uncertainty can be resolved in advance persistent status returns could only be explained by cost advantage of relying on noisy status signal over the acquisition of the available information about quality for non trivial purchases of information or experience rich goods such as cars for example it would be difficult to explain status returns based on the signaling perspective the level of uncertainty about quality that is needed to generate status effects under the signaling perspective thus appears questionable for fairly wide variety of contexts if quality reveals itself through consumption or interaction uncertainty should decline over time which would reveal whether status is biased signal of quality if status were biased signal of quality we would have to anticipate that the quality expectations associated with status will be adjusted until they are unbiased again this would have two broad implications for returns to status under the signaling perspective first if status and quality were uncorrelated over extended periods of time status could have no value in the long run the lack of correlation would be revealed as such and if realignment of quality with status were not to occur returns to status would be short lived consistent with this argument showed that the effect of status shock on academic citations is short lived if the shock is uninformative about the underlying quality of the academics and their work second because status would generally have to be an unbiased predictor of quality status could not have an independent effect if quality is observable consistent with this argument found that the effect of status depended on the level of quality among california wines with inconsistent findings for the direct effect across two status measures symbolic returns to status by contrast are theoretically independent of quality and should be able to self perpetuate indefinitely but returns to status that at face value satisfy the motive of conspicuous consumption could still be consistent with the intrinsic gratification derived from possessing rare status good or affiliation they would not necessarily satisfy the motive of conspicuous consumption as the demonstration of wealth through the throwing away of money on more expensive goods that provide no greater utility but cost significantly more while recent evidence in the economics and marketing literatures supports the perspective that displaying status is motive for consumption we lack convincing causal evidence that consumers are willing to pay premium for high status products that perform no better or even worse than their lower status competitors even though study is frequently cited for the effect of status on prices they noted that conspicuous consumption alone did not explain their results because the effect of status depended on producer reputation for quality and only wish ed to assert that the existence of the status ordering constrains how firms can develop reputations for quality whether status effects if they exist are driven by the signaling or the symbolic value of status is ultimately an empirical question the answer to which will depend on the context but the signaling perspective offers clear advice on how to discern these effects if status serves as signal of quality under uncertainty returns to status should decline as the uncertainty about producer and product quality declines increasing returns to status when uncertainty is decreasing are inconsistent with the signaling perspective and would point toward symbolic returns to status from conspicuous consumption tested these questions about the causality and cause of returns to status among the grand cru classified châteaux of the médoc method the classification of the châteaux of the médoc of the grand cru classification of was commissioned by the chamber of commerce of bordeaux and created by the union of brokers to be temporally displayed on map at the imperial universal exposition in paris the classification sorted the presumably greatest producers of bordeaux wine at the time into five grands crus classés the union of brokers furnished the classification of the châteaux of the médoc based on historic prices value based classifications had long been tradition in the trade of bordeaux wine and were preferred over classifications based on quality judgments because the latter were seen to be subject to error importantly the classification conferred grand cru great growth status directly upon the producer not upon the terroir location thereby creating persistent link between château identity and its class status this feature distinguishes the classifications of bordeaux from the classifications of burgundy where class is based upon the terroir because the history of the classification is less important for the purposes of this article than the mere fact of its existence refer interested readers to excellent history of the classification as well as to and pre and post classification standard works bordeaux its wines and the claret country and bordeaux and its wines multiple features make the grand cru classification of bordeaux an unusually favorable setting in which to study status effects first the classification is hierarchical signal of class status reflecting not only quality and price but also the endorsement by elite actors the wines of the médoc are placed on the tables of kings and great of the earth second the classification stands as one of the few examples of normative and impenetrable status hierarchy it was factually inscribed in law in when the conditions for the use of the term cru classé were set in stone châteaux cannot be added to or drop out of the classification see exceptions below nor can the quality château produces or the price it charges affect its rank in the classification third of the châteaux of the original classification are still in operation the fact that there is so little attrition implies that there is effectively no selection effect that could affect the analyses fourth of the classified châteaux are located in the aoc appellation origine contrôlée haut médoc which guarantees the origin of the grapes and the grape varietals in the wine or one of its sub appellations which include margaux st julien pauillac and st estephe the aoc haut médoc is fairly small area on the left bank of the gironde estuary that contains approximately producers on square miles about quarter of the size of the wine growing area of the napa valley fifth even though the wines can be blend of up to six grape varietals that are permissible by law cabernet sauvignon generally dominates the wines sixth the châteaux generally sell the wines as futures also known as en primeur in the year after the harvest and to months before the wine is bottled the wines are sold to brokers who then further distribute the wines largely implying homogeneity in channels and sales costs across châteaux seventh without having tasted newly released wines buyers have to rely on expert evaluations of the wines when making their purchase decisions rating agencies like robert parker the wine advocate and the wine spectator provide such ratings from blind tastings hence they are presumably unbiased this implies that with respect to composition terroir climatic conditions market mechanism and institutional environment the grand cru classified châteaux of the médoc constitute coherent set of producers with fixed status hierarchy for which alternative explanations are unlikely to drive the effects of status shown hereafter since there have been only three cases of mobility one into the classification one out of the classification and one within the classification that are worth noting château cantemerle was added to the classification in late or early but is regarded as an original member of the classification today its owner the widow villeneuve durfort appealed directly to the union of brokers not the chamber of commerce and was able to prove that her château had been unjustly omitted from the list the chamber of commerce or the union of brokers declined all other appeals at the time château dubignon classified as third growth ceased to exist its vineyards had first been absorbed into another classified growth then spun out again causing and later reabsorbed into multiple classified growths finally after decades of first class quality and price and lobbying by its owner baron phillipe de rothschild château mouton rothschild was elevated from second to first growth status under opaque circumstances by then secretary of agriculture later president of france jacques chirac in although the need to update the classification was pointed out soon after it had been created all such attempts were actively or passively barred by powerful actors in particular the chamber of commerce of bordeaux there is theoretical mechanism in place by which revision of the classification could be undertaken today but it is unlikely that this will ever occur an official revision would require the approval of all producers within class producers at risk of losing their current grand cru classé status would have no incentive to vote in favor of revision if class status indeed conferred benefits or were anticipated to do so in the future as proprietor of classified château confirmed in personal conversation change in the classification can be deemed an impossible event today it is what it is it is not going to change given the impermeability of the classification it is implausible to assume that producers choose their level of quality or set their price hoping that doing so would elevate their status in the classification data the data source is the wine spectator online database initially downloaded the ratings and tasting notes for all red bordeaux wines of the vintages through then restricted the data to the wines of the classified châteaux for the vintages to the wine spectator records hold fairly complete data for this period for both the ratings and the release prices of these wines and data from the allow constructing the châteaux reputations for quality used wine spectator data over data from because the data from the wine spectator are more comprehensive of the classified growths excluded château haut brion from the analyses because it is the only chateau in the classification of located in graves specifically pessac leognan an area outside of and not contiguous with the médoc that created its own classification in haut brion was included in the classification because it had had an exceptional reputation and had fetched high price for more than years at the time the classification was created in but the records suggest that haut brion inclusion was selective because château la mission haut brion neighboring château was also highly regarded at the time and would have met the standards of the classification haut brion thus stands as an exception in the classification of the great médoc wines though including it does not substantially affect the results the remaining châteaux produced vintage wines over the years of study gathered ratings and tasting notes for of these wines for of them the records contain information about their release prices thus had complete information for about percent of the wines the comparative completeness of the sample alleviates concerns about selection effects using only the observations for which instruments are feasible based on lagged variables reduces the sample to observations from this sample derived the variables for my analyses the dependent variable is the gdp deflated logged per bottle price of wine at the time the wine was released measured quality by wine rating as published in the wine spectator reputation was measured as the mean of the quality ratings over the years to or otherwise specified lags subtracted from both variables the observed minimum of points which renders the intercept informative status was measured by château grand cru classé operationalized by set of dummy variables baseline first grand cru classé there had been many classifications before showing that producer class was tied into feedback loop with quality and price up until in essence the classification of is the year lag of an endogenous variable lagged endogenous variables can be treated as exogenous only if there is no autocorrelation of the error terms as endogeneity between contemporaneous variables gets carried over to endogeneity between lagged and current variables otherwise for the dynamic feedback loop between status quality and rewards cf the absence of autocorrelation would generally be an unrealistic assumption but the fixed nature and old age of the classification remedy this issue even if the error terms were correlated at the risk of carrying forward endogeneity from to the period of study would be negligible as the residual autocorrelation would be at the beginning of the period of study hence the classification created in stands as an unambiguous symbol of class status that can be treated as exogenous today because of the passage of time results the association of status and quality to the extent that high status châteaux own superior land operate with superior technology or are otherwise enabled or constrained in the level of quality they produce châteaux in higher grands crus classés should produce at higher levels of quality on average provides comparisons for the estimated differences in average quality between pairs of grands crus classés the cells show the estimated quality difference between the column and the row grand cru classé the estimates are from regression of wine ratings on grands crus classés and vintage fixed effects the values are from series of tests against the null hypothesis that the respective column and row class fixed effects are equal estimated quality differences between classes of grands crus classés means that the value of the test is smaller than in one sided test confirms that châteaux in higher grands crus classés produce higher quality on average for example châteaux in the first class produce wines that are rated points higher than wines from the second class and points higher than wines from the fifth class on average these differences are highly statistically significant by contrast the fourth class produces wines that are rated only points higher than wines from the fifth class this is the only statistically insignificant difference generally the quality differences are large at the top and become smaller toward the bottom of the classification implying nonlinearity the fact that quality differences between adjacent classes increase nonlinearly in status amplifies the concern that nonlinear marginal returns to quality or reputation could be attributed to status if unjustified linearity assumptions are forced upon the returns to quality or reputation the differences in reputation not shown closely mimic the quality differences among classes they must do so by definition because reputation is measured as an average over past quality this does not mean that quality and reputation are the correlation between quality and reputation is only attesting to the significant vintage to vintage variation in quality there is also sufficient quality overlap between pairs of classes to warrant comparison in every class there is at least one producer often more that produces at comparable level of quality as producers from one or more other classes to provide graphic evidence for this overlap shows the mean estimates and confidence intervals for each château average quality over the years to from regression of wine ratings on château and vintage fixed effects the baseline and the mean of the vintage effects were added back in to show average quality aligned with the wine spectator point scale while the figure attests to the overlap of quality among producers from different classes it also highlights that the first class producers may not be comparable to the producers in some other classes château quality châteaux are sorted by class with the first class on top classes are separated by dotted lines within classes châteaux are sorted by average quality the causality of status effects the fixed nature of the classification prevents status from becoming entangled in feedback loop with quality or organizational performance thereby eliminating two sources of endogeneity between typically contemporaneous variables this simplifies the task of estimating the causal effect of status as displayed in addressed the third source of endogeneity the reverse causal effect of performance on quality which likely implies endogeneity between reputation and performance with an instrumental variable and matching estimator the instrumental variable estimator allows making appropriate assumptions about the functional form of quality and reputation effects as well as the market memory for quality while endogenizing château choice of its reputation the matching estimator obviates these issues by comparing wines that look like monozygotic twins in terms of quality and reputation but that differ in their status class these identification strategies are displayed in endogeneity between status quality reputation and price identification strategies instrumental variable estimation to make appropriate assumptions about functional forms of the effects of quality and reputation and to assess whether quality is an endogenous choice the estimation proceeded in multiple steps first estimated semi parametric regression in which regressed logged prices on smooth functions for quality and reputation that were determined by the data in penalized maximum likelihood approach as well as grands crus classés and vintage fixed effects this approach revealed two pieces of information first it indicated that the effects of quality and reputation on the logged price increase at the margin and suggested that they could be approximated by quadratic functions as shown in the quadratic functional form creates the complication that predicting quality or reputation using the instruments and then squaring the prediction is not permissible as it would result in forbidden regression that generally yields biased and inconsistent estimates instead one has to instrument for both the linear and squared term which increases the number of instruments needed estimated effects of quality and reputation on price second an inspection of the residuals of this regression indicated autocorrelation at the first second and third lag the autocorrelation implies that reputation operationalized as moving average over endogenous quality choices in the past cannot be treated as exogenous was unable to find set of fully exogenous instruments that affect quality or reputation at the château level weather conditions would be suitable exogenous instrument for example but weather data are not available at the château level lagged endogenous variables were the next best option for instrumentation when instrumenting with lagged endogenous variables one has to hope to find lags that maintain the strength of the instruments because weak instruments can lead to more severe bias than fully endogenous independent variables but minimize the residual endogeneity carried forward through autocorrelation did not find sufficient set of lagged endogenous variables that satisfied the criteria of strength and exogeneity eventually instrumented for wine reputation for the vintages to and the squared term of this variable with the interactions of wine reputation for the vintages to and the number of vintages for the period to that were reviewed in the wine spectator with the average rainfall in august and september the months when the grapes ripen and the average temperature in september over the vintages to the methodological reason for instrumenting in this way is that the lagged endogenous variables introduce variation at the château level and retain the strength of the instruments whereas the weather characteristics introduce exogenous variation and depress the endogeneity problem carried forward through autocorrelation the substantive reason for instrumenting in this way is the idea that high quality châteaux should be less susceptible to bad weather consistent with this conjecture the effect of the rain interactions was negative and the effect of the temperature interactions was positive in the first stage regressions for the linear and quadratic term not shown only model with more instruments than endogenous regressors allows using diagnostics to test the validity of the iv approach because of the dearth of valid instruments and the need to instrument for both the linear and the squared term instrumented for reputation but not for quality there are two reasons why we may believe priori that it is appropriate to instrument for reputation but not for quality in this context one reason is that the classification should have exerted most of its effect on quality differences between classes prior to the period of study which starts years after the classification was created moreover limits of the scale on which wines are rated put limit on the maximum quality differences between classes hence past quality differences between classes should be fairly accurate predictor of current and future quality differences between classes for the period of study the second reason is that while châteaux may be able to select the average level of quality at which they produce they may have little control over quality fluctuations from vintage to vintage which are determined by the weather importantly the conjecture that quality is exogenous conditional on instrumenting for reputation is testable the instrument diagnostics available at maintained the null hypothesis that quality is conditionally the final estimator is traditionally one would start the analysis by showing the more restricted models and progress toward relaxing the restrictions the hierarchical inclusion of regressors and the switch from less to more sophisticated estimators this approach is impracticable here it would require displaying an inordinate number of models many of which would not be very informative because they would relax multiple restrictions non experimentally instead pursue the opposite route and start with the least restrictive model that best estimates the causal status effect then enforce experimentally the assumptions as they are commonly made in the extant literature and that argued would bias the estimates of status effects the results are presented in regressions for the effects of status quality and reputation on price statistics for and autocorrelation robust standard errors are in parentheses vintage fixed effects are included in all models model shows the estimates from the iv estimator and supports causal effect of status on prices the estimates indicate that controlling for quality and reputation first growths fetch prices exp times as high as second growths second growths are estimated to be percent more expensive than wines from the third class wines from the third fourth and fifth classes charge prices that are not statistically different from each other the insignificance of the reputation effects in this model is purely due to an test indicates that the explanatory power of the model increases significantly when the reputation terms are included and if include the linear or the quadratic term alone either term is flagged as significant positive predictor of prices the fact that model is over identified also allows putting an approximate bound on the residual bias contained in the iv estimates the instrument diagnostics described in the online appendix indicate that the relative bias is about percent hence under the null hypothesis that all status effects are zero the residual bias in the iv estimates should be no greater than percent of the estimated coefficients note that the quadratic form assumption forces true shape into the quality effects within the range of data it predicts that very low quality wines below points would fetch higher prices than wines in the to point range albeit with very wide standard errors this is statistical artifact of the quadratic form assumption and of the fact that the data are sparsely populated below points and very heavily populated above points which drives the shape of the curve to assure that this does not affect the results presented hereafter conducted two robustness analyses in one removed the wines with less than points in the other winsorized the data retaining these outliers but limiting their extreme values to the th percentile of the observed range both analyses produced the same insights with only slight differences in the coefficients model presents the ols estimates of an otherwise identically specified model throughout the estimates of the status effects are larger than the estimates of the iv estimator hausman test rejects the null hypothesis that the iv and the ols estimates of the status effects are equal this confirms significant bias of the status effects in the ols estimates neglecting that the choice of quality is endogenous to prices carries over bias to the status coefficients despite the fact that status is fixed here model omits the product quality controls it assumes that conditional on reputation and status the quality of the focal wine has no effect on price an inability to control for quality on the product level is not uncommon in the organizational status literature for an exception see this model overestimates status effects by to percent hausman test rejects the null hypothesis that the status coefficients are equal to the estimates in model quality differences correlate with status even for this ancient and fixed status hierarchy and after conditioning on reputation reputation controls are thus insufficient to account for differences in current quality model is estimated for comparison only it contrasts model with model that includes the quality controls but that omits the reputation controls the model shows that failure to control for reputation induces bias in the status coefficients of around percent the hausman test between the status coefficients of model and model is highly statistically significant comparison of the estimates of models and implies that failing to control for reputation induces greater bias in the estimates of status effects in this context than failing to control for quality this is expected here because status may correlate more strongly with past or long term average quality than with current quality if quality fluctuates over time model replaces the nonlinear quality and reputation effects with linearity assumptions this approach induces bias in the estimated status effects of to percent hausman test strongly rejects the null hypothesis that the status coefficients of model and model are equal the resulting bias is greater than the biases induced by any of the other omissions model augments model by omitting the control for current quality it shows an even greater bias than model overestimating status effects by to percent these biases are remarkable because all models are log linear models which already embody an assumption of increasing marginal effects of quality and reputation on price nonetheless the log linear form proves insufficient to capture the extraordinary value this market places on high quality and reputation model defines reputation on ten year lag rather than five year lag otherwise the model is specified like model the comparison with model shows that larger status effects are estimated when the market memory for quality is assumed to be shorter the upward bias in the coefficients in model over model is approximately percent this cautions that choosing an arbitrary and inappropriately short lag on which reputation is defined may result in upward biased estimates of status effects the estimates seem to approach the iv estimates but hausman test still rejects the null hypothesis indicating significant bias of the status effects in model over model to assure that the smaller status effects in model compared with model are not the result of choosing second arbitrary value of for the lag on which the market defines reputation systematically varied from to in models that were otherwise specified like models or for brevity do not present the regression table instead graphically present the estimated status coefficients as function of in status effects dependent upon the market memory for quality the figure shows the estimated status effects on logged prices dependent upon varying assumptions about the market memory for quality the axis denotes the assumed in years and the axis denotes the point estimates the traces indicate the point estimates for the second class third class fourth class and fifth class the first class is the omitted base line shows that the estimated status effects decline in the market assumed memory for quality compare for example the estimate for the fifth class solid line at and when the market is assumed to look back only one year to determine reputation estimate that first class wine costs times the price of comparable fifth class wine when the market is allowed to look back ten years to determine reputation however estimate that first class wine costs only times the price of comparable fifth class wine it is disconcerting that the trend for status effects to decline does not further attenuate after year three without historic data reaching further back or without consistent estimator as basis of comparison model it would remain impossible to determine the appropriate lag even asymptotically coarsened exact matching estimation the regression analysis in allows us to estimate the price differences between all pairs of status classes it is unclear whether all such comparisons are permissible given the data for example model estimated that first growth costs exp times the price of fourth growth yet suggested that producers in the first and fourth class produce at such vastly different levels of quality that they should not be compared the comparisons between some status classes might thus be an out of sample extrapolation of unknown validity to overcome this shortcoming complemented the regression analysis with coarsened exact matching estimator that compares only wines and thus status classes that are in fact comparable the idea of the coarsened exact matching procedure is to find two units of observation that appear like monozygotic twins it holds constant within narrow limits all important control variables except the variable of interest here the procedure matches two wines that are equal on average in quality and reputation but that differ in their status class the question is whether status has residual impact on price conditional on not having differentially affected selection into quality or reputation the null hypothesis is that conditional on being of the same quality and reputation two wines should fetch the same price irrespective of class rejection of the null hypothesis would indicate that buyers are willing to pay for status at the margin constructed the matched sample requiring the following from two matched wines the producing châteaux are in different grands crus classes the wines ratings differ by at most one point the reputations of the two wines based on their average ratings over the past ten years differ by at most half point the number of the past ten vintages of each wine that was reviewed by the wine spectator differs by at most one and both wines are from the same vintage the effect of status difference on price is the treatment effect of interest hence the two wines are required to differ in their status class the second through the fourth matching criteria aim to hold constant the quality and the reputation for quality of two matched wines the last matching criterion holds vintage and macroeconomic conditions constant that might otherwise differentially affect the prices of wines from different vintages the matching procedure first identifies all possible matches given the matching criteria if it finds more than one match for focal wine the matching wine is selected at random out of the possible matches if no match is found the observation is dropped double matches resulting in duplicate observations are removed because selected the match for each focal wine at random out of all potential matches every run of the matching procedure yielded somewhat different sample to increase the accuracy of the estimates bootstrapped matched samples according to the matching criteria provide comparison of the treatment and control groups in the matched samples in and comparison of the matched samples with the data at large in quantiles of the coarsened matching characteristics in the treatment and control groups of the matched samples quantiles of the quality distribution of the matched samples and the data at large shows the close correspondence of the treatment and control groups for the matched samples in all quantiles of the coarsened matching characteristics the treatment group stands for the wines in the higher grand cru classé and the control group for the wines in the lower grand cru classé that were matched to the treatment group the table shows how closely the higher ranked châteaux resemble the lower ranked matches the close correspondence between the higher and lower ranked matches is important to the causality claim of this analysis suppose the lower ranked châteaux were to achieve only the lower bound of the allowable difference of the matching criteria then we would be unable to say that the price difference is truly due to status difference and not due to the residual difference in quality or reputation the effective absence of difference reassures us that this estimator estimates causal effect shows the correspondence between the quantiles of the quality distribution of the matched samples and the data at large some lack of correspondence is apparent in the lower quantiles for the lower classes where wines are of such poor quality that they have no match or few matches within the grand cru classification this table shows that the matched sample closely resembles the full data the close correspondence between the matched sample and the data at large implies that the sample average treatment effect satt identified with this analysis should generalize beyond the matched sample and come reasonably close to the average treatment effect on the treated att that is the estimated status effects should be representative of status effects on the population of the grand cru classified wines of the médoc analyzed for each pair of grands crus classés the price ratio of the higher ranked wines vis vis their lower ranked matches this mimics the previous regression analysis the ratio indicates the price multiple buyers pay for the higher ranked wine relative to the lower ranked wine of tightly matched quality and reputation ratio significantly greater than one indicates status premium the results of the matched sample analysis are presented in matched sample analysis relative prices the mean estimate for the relative price of wine in the column grand cru classé is shown relative to wine of equal quality and reputation in the row grand cru classé from bootstrapped matched samples the means of the standard error estimates from the bootstrapped matched samples are in parentheses and the median numbers of matches per bootstrap are in brackets designates that there were no matched wines for that pair of status classes in any of the bootstraps shows that wines from the first grand cru classé fetch an estimated times the price of wines from the second grand cru classé holding quality and reputation constant wines from the first class are estimated to cost times the price of matched wine from the third class but this effect is imprecisely estimated there are only very sporadic matches of first class with third class wines and they involve only one third class producer château palmer wines from the fourth class are never matched with wines from the first class finally the matched samples contain median number of five matches between wines from the first and wines from the fifth class first class wines are estimated to cost times the price of matched fifth class wine overall this analysis reproduces the finding that the first class enjoys substantial price premium over the other classes but it points out that comparison of wines from the first class may be warranted only with wines from the second class as wines from the lower classes match first class quality and reputation sporadically at best second growths fetch an estimated percent more than third growths percent more than fourth growths and percent more than fifth growths of equal quality and reputation it may come as surprise that the advantage of the second over the fifth growths is smaller than over the fourth growths but the confidence intervals of these estimates overlap widely moreover this may reflect that the analysis brushes over some detail fourth growths are more likely to be matched with second growths that produce at the bottom of the quality distribution of the second class by contrast some high quality fifth growths like châteaux clerc milon lynch bages or pontet canet are matched with châteaux closer to the top of the quality distribution of the second class cf suggesting that status might play more important role as buffer than as booster third growths charge an estimated percent more than fourth growths and percent more than fifth growths but these premiums are statistically insignificant fourth growths charge an imprecisely estimated percent more than comparable fifth growths which is just significant at the percent level overall six of the eight comparisons show significant returns to status the price premium is huge for the first growths and substantial for the second growths and it may be small or zero among the third fourth and fifth growths the cause of returns to status to assess the underlying cause for the status effects in this market studied their development over time this analysis assumes that wine ratings effectively resolve the uncertainty about product quality wine ratings have become ubiquitously available with the proliferation of the internet this increase in the availability of information about quality should have reduced the buyers uncertainty about quality if status returns were driven by uncertainty about quality they should have decreased over the period of study increasing returns to status over time will be inconsistent with the uncertainty hypothesis and point to the conspicuous consumption hypothesis only if three additional conditions hold first the classification must not have become stronger signal of quality over time second buyers must not have become more uncertain about quality over time which might otherwise cause greater reliance on the classification as signal of quality even when its signal strength is constant third competitive pressures on the lower classes must not have increased relative to the competitive pressures on the higher classes which would otherwise depress the prices of the lower quality and by correlation lower status châteaux more than the prices of the higher status châteaux in the first two cases the uncertainty hypothesis would be plausible alternative explanation to the conspicuous consumption hypothesis for increasing returns to status over time in the latter case increasing returns to status over time could be driven by unaccounted for changes in the broader competitive environment that the classified châteaux of the médoc face in analyses available from the author isolated three distinct time intervals over the period of study over the vintages through the classification became stronger signal of quality due to increasing statistical precision but not increasing effect size and the internet was in its infancy for the vintages through none of the three conditions that might compromise the conspicuous consumption hypothesis apply the classification did not become stronger signal of quality demand came from long established markets and while competitive pressures seem to have increased they increased proportionally for producers at all levels of quality and by correlation status for the vintages after the influx of chinese money resulted in massive increase in prices the chinese might be particularly status conscious but due to their lack of experience with bordeaux wines they might also be particularly uncertain about quality which could result in an increased reliance on the classification as signal of quality under these conditions increasing returns to status over the time period to would provide the strongest evidence for the conspicuous consumption hypothesis to assess the development of returns to status over time reestimated variant of model in for each of the three time periods included an interaction of linear time trend with an indicator variable that takes the value of if wine producing château is not member of the first class unreported regressions of the time trend interaction with the individual grand cru classé fixed effects indicated that they were jointly statistically significant for each of the three time periods but they were not significantly different from each other implying that they can be collapsed into one as controls included linear time trends for the changing effects of quality and reputation on prices over time more complex models or an iv estimator were not feasible because of or the number of required instruments but if we make the assumption that the estimates will be similarly biased as the estimates in model in we should expect that the following status coefficients might be overestimated between and percent the results of the analysis are presented in regressions for the effect of status reputation and quality on price over time statistics for and autocorrelation robust standard errors are in parentheses vintage fixed effects are included in all models all models indicate an increase in returns to status for the first class within the three time periods and hence over the period of study as whole the period between and offers the cleanest test of the conspicuous consumption hypothesis although smaller than in the other periods the increasing relative advantage of the first class is statistically significant and economically sizeable the first growths gained an estimated percent exp per year relative to the other classes over this period first growth prices diverge even more strongly from the prices of the other classes for the vintages through and to the first class gained about percent per year for the vintages through and whopping percent per year over the vintages through relative to all other classes for reasons discussed above the signaling value of the classification might explain the trends in these two time periods invoking the uncertainty explanation for the period through however would be paradoxical while the status hierarchy has become more precise signal of quality over this period it is unclear how buyers would be able to realize and incorporate this information into the release prices of wines if they did not pay close attention to the ratings this undermines the standard uncertainty explanation for increasing returns to status during this period instead it seems to be the stronger alignment between quality and status and hence the increasing certainty that the highest class producers produce superior quality that exacerbates the returns to status during this period this suggests that the increasing value of status in this period may not have been driven as much by the uncertainty about quality as it may have been driven by status accurately distinguishing the quality of producers offerings for the period of exploding demand from china for the vintages through both the uncertainty and the conspicuous consumption hypothesis are plausible explanations for the dramatic increase in returns to status even though the hypotheses cannot be tested with the data there are some hints that the effect may be driven by conspicuous consumption more than by the uncertainty about quality one press report indicates that the chinese consider these wines luxury goods like any other and that they are not primarily concerned with the quality of the wines the same report indicates that château lafite rothschild the first growth heading the list that the union of brokers sent to the chamber of commerce in is the beverage of choice to ingratiate them with business partners seal business deals and entertain government officials another report indicates that in chinese restaurants expensive bottles like lafite are placed on the table with the label facing outward for everyone to see finally up to percent of all lafite sold in china is counterfeited counterfeit goods are characteristic of demand from consumers who are interested neither in being deeply knowledgeable about that category of goods nor in their quality but who attempt to elevate their status through the consumption of highly conspicuous goods that even uninformed audiences can identify this at least suggests that much of the first growth effect for the vintages after is driven by the status directed ostentatious display of wealth among the chinese buyers rather than their uncertainty about quality discussion the first goal of this paper was to identify the causal symbolic effect of organizational status on product prices and to highlight the impediments to identifying causal status effects in the process investigated this question in the context of médoc wines of the vintages to whose producing châteaux were classified as grands crus in the fixed nature of the classification resolved most of the endogeneity concerns that typically plague empirical studies of organizational status wine ratings from blind tastings enabled implementing tight controls for quality and reputation on the product level the concern about reverse causality between quality and price was addressed with an instrumental variable and matching estimator as result this study provides one of the cleanest tests of organizational status effects yet that differentiates the effects of status reputation and quality the instrumental variable and matching estimators provided strong evidence for causal symbolic effect of status on the prices of the grands crus classés of the médoc the greatest returns to status accrue to the highest status producers the returns to status decline toward the bottom of the status hierarchy the differences are from zero for some pairs of status classes in the instrumental variable and matching estimators respectively at least in this market status is thus phenomenon of categorical rather than continuous hierarchical distinction but the descriptive statistics highlighted that the first class châteaux broadly validate their status position by producing much higher quality on average than the producers in the other classes and the matching estimator showed that this strongly limits their comparability whether this is direct consequence of the incentives flowing from the status hierarchy is beyond the scope of this study and an interesting question for future research it certainly does not explain why château leoville las cases second growth that has been producing at first growth quality for years cost percent of first growth in but costs only about percent of first growth today beyond identifying the causal effect this study highlighted important sources of biases in status effect estimates comparatively small effect sizes in the extant literature give reason to suspect that many of the causality claims might not hold if the status effects were properly identified the failure to control for reputation demonstrations of quality in the past induced greater bias in the status effect estimates than the failure to control for current quality we may expect this finding to generalize to other settings in which the status hierarchy is ancient or fixed and is approaching the limit of its potential to determine quality differences between status classes if status is expected to continue to drive quality differences between producers by contrast we should expect that the omission of controls for current quality becomes more important source of bias cf some studies that cannot directly assess the quality of firm products or services might find partial remedy for this problem by using forward looking in addition to backward looking versions of the available controls for reputation this should purge status effect estimates from some of the substantive effects of status and thereby get closer to its symbolic effect status quality and reputation are not only correlated but their effects also all increase at the margin in this market restrictive assumptions about the functional form of quality and reputation effects were thus the most important source of bias for the status effect estimates even log linearity assumption which already allowed for exponential effects of quality and reputation on prices was too restrictive to account for the increasing marginal willingness to pay for quality and reputation we should thus be careful not to misattribute returns to status that truly derive from the value markets place on the pinnacle of quality future work on status would benefit from testing and reporting the validity of its functional form assumptions in addition the results alert us not to underestimate the enduring nature of reputation in markets in which we believe status to matter status may capture producer long term average quality better than its recent demonstrations of quality do hence we may mistake reputation for status effects if an empirical strategy defines reputation on an inappropriately short lag consistent with this reasoning the estimated status effects among the grands crus classés of the médoc declined as the lag on which reputation was defined was extended defining reputation on longer lag seemed to remedy large parts of the bias in the ols estimates but without the reference point of consistent estimator it would be unknown how much of the bias is remedied and what the appropriate lag is in studies that cannot track the entire quality history of producer returns to status that asymptotically approach bound as the market memory for quality is extended or plausible theoretical limit for the durability of reputations might provide some albeit imperfect relief from this problem finally showed that neglecting to recognize that quality choices are endogenous can propagate bias to the status effect estimates even if status itself cannot be reversely affected by quality or price the instrumental variable estimator produced the lowest estimated status effects of all estimators and allowed putting an approximate bound on the residual bias contained in the estimates less sophisticated estimators will neglect reverse causality and produce biased estimates not only for the endogenous variables themselves but also for correlated variables as status scholars we study complex social phenomenon for which it is difficult to ascertain causality because of the endogenous feedback loops among status quality and organizational outcomes while our methods need to address this complexity some of these methods like the matching estimator need not be complicated the choice of the empirical setting can also greatly aid in identifying the causal effect of status as this work and other recent articles have shown by studying period of time during which the internet proliferated tested inductively two alternative root causes for the returns to organizational status status as signal of quality under uncertainty and conspicuous consumption previously the evidence that buyers are willing to pay premium for good of equal or lesser quality had been weak consistent with the conspicuous consumption hypothesis found that the symbolic returns to status that part of the matthew effect that is not justified by differences in underlying quality has strongly increased in time of decreasing uncertainty and benefited only the highest status producers conclude from this that uncertainty is not necessary condition and the motive of conspicuous consumption is sufficient condition to generate returns to status considerations of conspicuous consumption might enter many decisions that are not typically considered consumption for example this might include the choice among employers or educational institutions for purely symbolic reasons further inquiry into the scope conditions of conspicuous consumption is needed the presence of an audience at least an imagined one is defining characteristic of conspicuous consumption as an explanation for status effects in this view social actor consumes or displays goods or affiliations to elevate that audience perception of him or her without an audience the motive of conspicuous consumption cannot generate returns to status under the perspective that status acts as signal of quality under uncertainty by contrast no audience is required to generate returns to status at least three features thus suggest themselves to testing the underlying mechanisms that drive or bound status effects changes or differences in the presence absence or composition of audiences the conspicuousness of goods or their consumption or uncertainty about quality future work should continue to exploit such variation to identify the underlying explanation for status effects but it would also benefit from more comparative studies of status hierarchies to identify their distinguishing features the reader should not interpret the evidence for conspicuous consumption to mean that uncertainty does not generally have positive effect on the returns to status which is cornerstone of the theoretical and empirical organizational status literature instead one should interpret this to mean that the uncertainty about the producers was low even before the advent of the internet and that therefore different root cause must explain the returns to status in this market after all each of the châteaux had been in existence for more than years and the trade was aware of rating agencies such as the wine spectator and robert parker well before the internet started to proliferate the purely symbolic returns to status identified here imply that status acquisition becomes an organizational end in itself beyond the purpose of signaling quality how organizations can affect audiences perceptions of organizational status independent of quality remains an interesting question for future research»\n",
            "\n",
            "Similar Document ('10.1177_0001839216629671', 0.6618010401725769): «status aspirational pricing the chivas regal strategy in higher education this paper examines the effect of status loss on organizations price setting behavior we predict counter to current status theory and aligned with performance feedback theory that status decline prompts certain organizations to charge higher prices and that there are two kinds of organizations most prone to make such price increases those with broad appeal across disconnected types of customers and those whose most strategically similar rivals have charged high prices previously using panel data from news world report annual rankings of private colleges and universities from to we model the effect of drops in rank that take school below an aspiration level we find that schools set tuition higher after sharp decline in rank particularly those that appeal widely to college applicants and whose rivals are relatively more expensive this study presents dynamic conception of status that differs from the prevailing view of status as stable asset that yields concrete benefits in contrast to past work that has assumed that organizations passively experience negative effects when their status falls our results show that organizations actively respond to status loss status is performance related goal for such producers who may increase prices as they work to recover lost ground after status decline status performance feedback theory decision making college rankings chivas regal effect pricing signaling whether status is seen as means of detecting otherwise obscured quality or as an end in itself core insight of previous research in organization theory is that high status organizations command higher prices than low status organizations for their goods and services found that elite wineries enjoy higher prices for their wines than do their lower status rivals established that biotech ventures with more prestigious affiliates enjoy better initial valuations and identified strong positive effect of corporate law firm status on the price of legal services what remains less clear however is the impact that an organization changes in status have on its price setting behavior specifically what is the effect that loss of status has on the price of an organization goods and services researchers have given little attention to how an organization responds after its status falls focusing explicitly on these behavioral responses is important because it is likely that assuming away agency has created an incomplete view of how status shapes outcomes in markets by agency we mean action taken in the face of expectations imposed by other market actors see prevailing status theory suggests that when an organization or individual slips in status status loss leads to lower rates of innovation higher costs elevated exit chances lower growth rates and lower prices seen through this theoretical lens status is strongly deterministic and the implicit picture is clear when an organization status falls it passively suffers future performance decline with low chances for recovery an emphatically more agentic conception of status dynamics in markets is necessary focusing on active responses to the pain of status loss is important for producing better models of status based performance measured by organizational growth survival or profitability and of industry wide status distributions if we take into account the triggering effect that status loss can exert or the satiating effect status gain can have we may find that status shapes both organizational performance and global status distributions in ways that differ from what prevailing wisdom predicts the core issue is that loss in status elicits efforts to recover which can curb the unfavorable effects of these declines on organizational performance while also shaking up and ultimately tightening status distributions otherwise thought to fan out irreversibly with time cf to develop an agentic theory of the effect of status loss on future pricing we draw extensively on performance feedback theory which is not overly deterministic and gives significant weight to agency it posits that an organization receives feedback from its external environment such as changes to its rank in dynamic contest for status and adjusts its conduct such as its price setting behavior if that feedback indicates it has fallen short of its aspirations using performance feedback theory as basis for advancing status theory also requires us to view status and price differently from how they have been viewed in prior work on organizational status consistent with signaling theory and hedonic pricing models in their study of wine and in their study of legal services conceived of status as largely stable trait that buyers desire consumers of wine take winery status as signal of difficult to observe quality and corporate clients derive satisfaction from the status of the law firms whose services they buy price is then natural reflection of consumer demand buyers consider vertical array of outputs differentiated by producer status and are more willing to pay higher prices for the goods or services of higher status organizations using between organization models and found positive effects of organizational status on price inspired by the focus on dynamics in performance feedback theory we instead view status as mutable position in tournament in which producers seek to rank favorably see also status is therefore not exclusively trait that buyers value it is also salient performance related goal for producers when producer status falls below its aspirations it may use price as an adaptive device in an effort to recover lost ground we thus cast price setting as an organizational decision based on status relative to aspirations and we discuss organizations as prone to increase prices after drop in status in order to send quality signal conducive to status recovery in this sense we anchor on different side of the dual role of price following early distinction we focus on price not simply as sacrifice for consumers but also as symbol used strategically by status aspiring organizations several other studies have drawn similar distinction for instance distinguished between price as an indicator of sacrifice in economic theory and price as quality cue in behavioral research and distinguished between price as monetary constraint and price as signal of quality consistent with this second view of the role of price and using within rather than between organization models we test the hypothesis that an organization loss in status not its gain triggers price increase our departures from prior theory are not necessary however for understanding the consequences of status in all empirical settings one can certainly imagine markets in which virtually all variance in producers status is time invariant and prices are primarily determined by buyers preferences in such cases the traditional conception of status is the correct theoretical lens status acts as signal or good that raises buyers willingness to pay yet in many contexts whose main features we later sketch as scope conditions producers do see status as performance dimension on which they vary over time rendering relatively passive responses to status decline unlikely for these settings it is necessary to reconsider the nature of the effect of status on price and the possibility of producer taking action in response to decline in status raising prices in reaction to status loss to illustrate our main hypothesis we have constructed theoretically informed narrative cf centered on focal producer an organization occupying rank in dynamic contest for status sells good in competition with other producers in the set to group of buyers both groups and place high value on the status levels of the producers and their goods in the marketplace higher status members of attract status seeking members of who in turn intrinsically value their association with higher status producers and their wares decision makers are therefore compelled to take steps to ensure the continual maintenance or improvement of their organizational status it is goal unto itself in addition in the simple account that follows takes actions that clearly not all producers across all industries can take but before describing the factors that bracket the generality of these actions we lay out their antecedents and expected consequences suppose that in the current iteration of the contest observes that it has slipped sharply in status and this decline means that is now significantly shy of its aspirational status level within the status hierarchy this aspiration level is narrow region in which is comfortable band in the status order toward which is psychologically neutral because has fallen below this band is no longer satisfied but rather suffers the pain of status loss in line with prospect theory and with model of peer effects this displeasure is greater than the pleasure would enjoy if it had instead ascended above this band two organizational changes result from dissatisfaction first as prospect theory suggests is now more willing to engage in risky behavior second as performance feedback theory indicates sharp distaste for status loss evokes deliberations on possible strategies for recapturing lost ground we envision deliberations as special form of problemistic search triggered by unmet objectives these deliberations are related directly to price setting and are separate from ongoing mechanisms for status maintenance cf such as quality investments strategic gift giving and endorsement seeking focusing here on strategic search in response to status loss imagine that considers the possibility of raising the price of its good doing so is in effect acting on folk theorem known as the chivas regal strategy named after previously middling brand of whiskey purported to have doubled its sales by doubling its price the chivas regal strategy is often described as an effort to enhance status by price signaling raising price is way for the focal organization to increase its perceived quality and associate more closely with its more elite peers when producer takes this approach it is choosing price it believes will maximize its subjective function of status and revenue the organization attempts to send quality signal but not with price so high that prospective buyers recoil the chivas regal strategy is consistent with long history of work emphasizing the symbolic role of prices was among the first to stress that price could serve as symbol of prestige arguing that high price may attract instead of repel and citing as an example the phenomenon of the dormant shirt that comes to life when the price is marked up in contemporary experimental work established that when individuals are falsely informed that given wine commands higher price than physically identical wine they give the allegedly more expensive wine better rating perhaps most succinctly demonstrating the potent impact of price on perceptions found that placebos described as expensive are more effective than those described as cheap in the treatment of parkinson disease numerous studies similarly suggest that price and perceived quality are often positively associated when comparing organizations or their products at single point in time for example although the magnitude of the correlation between price and quality varies across markets meta analyses by and are all consistent with the axiom you get what you pay for although we do not cast our focal producer as explicitly aware of particular stylized facts reported in the scientific literature is not so boundedly rational as to be unaware of general patterns relevant to its goal of status recovery consistent with likely rough sense of these patterns may also choose to raise price because it believes that this will improve how it is perceived among those shaping its status assessment of the gap between its current and desired status elicits further deliberation and ultimately decision separate from the problemistic search caused by status loss the focal producer must of course also consider an array of other factors as it settles on the price of its good including the same cost and demand drivers it routinely considers when making pricing decisions must finally make judgment about whether raising its price makes sense in light of the risks involved demand for good may suffer and in some contexts the composition of its buyers may grow less heterogeneous or may be stigmatized for violating fairness norms on pricing one can thus liken the pricing decision making process to titration the practice in medicine of routinely measuring and adjusting the dose of medication administered in order to maximize its benefits and minimize its side effects the status aspiring organization dances around fair price that is close enough to an appropriate reflection of its current status and yet still sends signal conducive to the status to which it aspires more complex considerations surround how certain is that higher price will translate into status recovery including aspects of the organization position in its market and its tolerance for risk suppose for now however that market position and its broader institutional context are such that the causal sequence we have sketched ends with decision to engage in status aspirational pricing status drops below its aspiration level the pain of this deviation evokes problemistic deliberation as well as greater willingness to take risks and aiming to recover in status decides that raising its price is the right decision despite the risk involved our main hypothesis is thus hypothesis focal organization increases its price in reaction to status loss flexibility in price setting there are two circumstances under which organizations are most prone to react to status loss by raising their prices the first has to do with risk taking and an organization consumer conferred freedom to charge more the second with the freedom afforded by its competitors in the market following from our discussion of price hikes as cases of organizational risk taking we expect the focal producer to react most strongly to status decline if appeals broadly to disparate kinds of buyers cf fig imagine that buyers are differentiated in their preferences for certain producers over others such pattern might emerge as the result of many producers tendencies to target specific locations in technical geographical or product features space and then target particular kinds of buyers similarly distributed across that space cf imagine that by contrast appeals to broad array of these buyers rather than selling just to narrow subset suppose further that the structural features of market are such that breadth of appeal rather than specialization raises the attractiveness and durability of producers positions in that market in such setting our reasons for anticipating that this breadth of appeal will magnify the strength of reaction to status decline are twofold the first is purely structural the second is perceptual and more intriguing theoretically see on pipes versus prisms for an analogous distinction first the risks often associated with price increases are lower for an organization that enjoys broad appeal such producer is aware of its options and is appropriately hedged should some consumers defect this claim follows several long standing theoretical approaches which include resource dependence ecological portrayals of niche width as buffer against uncertainty and structural hole theory which highlights the freedom to experiment enjoyed by occupants of brokerage positions these research traditions which stress the advantages of being minimally dependent on any one exchange partner jointly imply that organizations exhibiting wide diverse appeal will also deem decisions that are typically seen as high risk as less precarious second an organization with broad appeal occupies subjectively advantageous position within its market breadth of appeal is associated with an organization residing near the core and away from peripheral players of its market with connections extending to multiple groups such reach makes an organization appear more credible than its more resource dependent rivals on the periphery here we again diverge from research underscoring the identity related advantages of focus and specialization instead focusing on the confirmation of credibility provided when normally disparate or disagreeing parties reach consensus on focal individual or organization we view producer buyer ties as implicit endorsements that are especially valuable for the producer if its buyers are diffuse and otherwise non overlapping in their choice sets this intuition is perhaps best illustrated by an example at the individual level consider job candidate who is able to earn praise from several members of hiring committee who are typically at each other throats getting broad support from those with divergent tastes signals that the candidate more than his or her narrowly supported rivals is worthy cf research on the performance related advantages of betweenness centrality and robust positions in networks is also consistent with this account organizations with this structure of support are perceived to be highly credible members of their market cores such organizations we predict will have the leeway to react most strongly when their status falls the nature of their connections gives them an implicit license in their price setting decisions that other peripheral organizations may lack thus we expect hypothesis focal organization increases price more substantially in reaction to status loss when that organization appeals broadly to disparate kinds of buyers we also expect the positive effect of status loss on its future price to be greatest for the focal producer whose structurally equivalent rivals already charge relatively high prices focal producer is structurally equivalent to another producer if it has similar relationships with the same third parties such as suppliers buyers or other constituents cf when joined with behavioral research on fairness norms in markets network analytic research on structural equivalence provides clear guidance on how focal producer closest rivals amplify or dampen reactions to slips in status an important implication of behavioral research is that rivals past prices shape the normative context in which focal producer selects its own price observed that whether buyers perceive given producer price as unfair hinges on the prices already set by that producer rivals rivals that have previously charged high price afford the producer greater latitude in subsequent price setting allowing that producer to charge more without transgressing norms of fairness status aspirational pricing can become viable strategy when the focal producer is unconcerned about exceeding its peer based just price which could lead to being stigmatized as unfair or even exploitative support for this claim also appears in the marketing literature around the concept of contextual reference prices and in sociological research on markets in particular formal model posits that all producers in given market offer buyers an equally fair deal and suggests that penalties await the producer that exceeds the price expected in light of its peers pricing decisions one particularly valuable and precise approach to identifying such peers relies on the concept of structural equivalence work on the subject also supports the contention that structurally equivalent peers shape focal producer autonomy to react to status decline by raising its price earlier work proposed structural equivalence as the social architecture out of which reference groups emerge in competitive domains while also demonstrating that similarly situated rivals define appropriate conduct for given organization research in this vein carries direct implications for the circumstances in which focal producer reacts to status loss by increasing its price conditioning on given organization prior price we expect an organization to react most assertively to status decline when its nearest peers have previously charged high prices under this scenario the organization has the freedom to increase price with lower risk of violating buyers normative expectations we predict hypothesis focal organization increases price more substantially in reaction to status loss when that organization structurally equivalent rivals have previously charged high prices method context and variables we tested our hypotheses using panel of nationally focused liberal arts colleges and universities covered by news world report hereafter usn from through this empirical context is appropriate for assessing our predictions for three main reasons first it offers clear measure of organizational status the usn rank and the opportunity to examine its effects on organizations pricing decisions second it contains organizations for which status is goal and whose status positions change meaningfully over time specifically usn separation of liberal arts colleges and universities by geographic scope and degree offerings based on the carnegie foundation classification system allowed us to focus on schools for which status matters most institutions with an inter national reach our panel excludes institutions covered by non national usn rankings such as regional and baccalaureate schools because although status and tuition are important for these schools they tend to have narrower strategic purview monitoring peer schools and targeting students within close geographic radius third during the seven year interval from through usn reported detailed relational data based on reports of incoming students application behavior which allowed us to construct the network related covariates required by our two moderating hypotheses usn rankings usn creates hierarchy of ranks each year based on weighted and measurable if contested inputs the ranks are public manufactured reflection of the prestige of colleges and universities hereafter schools as viewed by administrators as well as statisticians at usn owing both to their involvement in the rankings calculation and to the fact that their jobs often hinge on improving their schools positions in this ordering administrators provosts college presidents and board members are thought to care more about the rankings than does any other constituency these individuals are also responsible for setting tuition levels though the specific office or position assigned to the task differs by school usn began ranking undergraduate institutions in basing those rankings exclusively on the subjective assessments of college administrators today usn rankings reflect much more intricate process though they are no less subjective gauge of status as the magazine still depends on the opinions of top administrators when calculating ranks usn takes the weighted average of series of scores ranging from subjective appraisals and student selectivity to alumni giving to create an overall score for each school which is then normalized to for the top ranked college and top ranked university the normalized scores are converted to ordinal positions and published as the final annual usn rankings in williams amherst and swarthmore received overall scores of and respectively and accordingly occupied ranks and in the college category in that same year for universities the overall scores of harvard princeton and yale were and and so they held ranks and ties like the one in between harvard and princeton are even more common as ranks grow larger seven universities were tied for th in in addition ties occur by construction beyond the first tier as an example usn best colleges assigned ranks for colleges ranging up to where there was five school tie without explicitly denoting second tier the guide noted that schools in the third tier were ranked between and and were listed alphabetically instead of by rank fourth tier colleges were also listed alphabetically and were listed as being ranked from to given usn approach we followed method for assigning ranks to schools outside of the top tier any school listed alphabetically by group was assigned the average rank rounded to the nearest integer of the reported range for that group we also created corresponding dummy variable not first tier for any school with rank assigned by this method yearly contests for status among schools our empirical setting is also marked by dual condition that must be met for our hypotheses to have relevance in given context status shifts across time and status positions are important objectives for the organizations involved this condition characterizes the nationally focused schools covered by usn college administrators are perhaps extraordinary in their fascination with prestige and their obsession with yearly changes in standing although financial health is certainly concern for administrators and overseers many colleges and universities are arguably more concerned with maintaining and raising their status than anything else unsurprisingly in the first formal economic model of the modern university depicted academic departments and by extension entire schools fundamentally as status maximizers see also more so than in other industries in which status also matters such as banking in higher education maximizing institutional status is primary aim if colleges and universities have single valued objective function it is something like prestige maximization academics reflections on their own context are paralleled in more popular accounts caught up in the usn rankings craze administrators are thought to obsess over every incremental shift on the rankings scoreboard while college presidents live and die by usn rankings there is though an important caveat here public institutions often have different missions from those of their private counterparts in particular public schools are often more committed to the objective of equal access than the goal of relative standing consequently in the empirical models we present our estimates reflect the rankings and tuition levels of only private institutions status loss and status gain using the usn rank as our starting point we constructed two dummy variables status loss and status gain estimating the effect of loss in status on future tuition is necessary for testing our three hypotheses conditioning separately on second indicator that records significant gain in status is important for addressing alternative explanations for the empirical pattern we observed which we describe below our measurement strategy follows earlier work in performance feedback theory in which researchers have relied on important facets of an organization history and have focused on deviations from an aspiration level or reference point in particular we build on conception of an organization reference point as boundary between perceived success and failure using this imagery as our foundation we assumed first that the focal school is relatively neutral or indifferent when its rank in year is reasonably proximate to its school specific time invariant mean rank unlike very long multi decade panels in which several time varying reference points likely arise for each organization our panel contains seven years along which we can measure our explanatory variables consequently in our setting focal school average rank is plausible midpoint around which to proxy the width of that school time constant and latent boundary between perceived failure and success in the rankings we set the width of this boundary at ten ranks when given school is inside ten rank range around its mean it occupies region of relative indifference compared with the sharp dissatisfaction or satisfaction it would sense were it more than five ranks worse or better than this mean we used ten rank range so that yearly changes in status captured by our dummy variables exceed white noise fluctuations while also not being so broad that virtually no schools experience these changes during our observation window more generally we viewed the organizations in our setting as led by relatively boundedly rational decision makers who do not pinpoint single precise rank at which they are indifferent they instead know when they reside meaningfully outside below or above comfortable range in the tournament for ranks our measures of status loss and status gain are each simple binary switches that reflect two events status loss equals rather than under these two conditions first school is currently in year more than five ranks worse than its school specific mean second school previously in year ascended above that mean our measurement of status gain follows the same logic switching from to when these two mirror image conditions are met school is currently in year more than five ranks better than its school specific mean and school historically in year fell beneath that mean we depict these two measures as follows conditioning on status gain together with status loss is important for two reasons first we are interested in testing the prediction that status decline triggers higher future price an effect that could instead be traceable to an increase in status that influences decision makers to lower price or hold it constant such an outcome might occur if status gain ratifies existing behaviors fostering complacency and solidifying the sense that change is unnecessary second turning to specific features of our empirical setting an improvement in status might also reduce the chances of raising tuition because higher status brings greater visibility and thus stronger normative pressure to seem less expensive in setting in which political leaders have felt inspired to declare war on the rising cost of college it is important to consider that increasing status may make focal school more susceptible to an outrage constraint cf and therefore averse to raising tuition entering status gain as an adjustment allows us to address these possibilities and in particular to disentangle the effects of loss versus gain moderating variables betweenness centrality and weighted peer tuition inter school relational data reported by usn allowed us to capture the width and diversity of schools positions in the college applicant market our measure of betweenness centrality based on these data permitted us to identify credible core institutions to test hypothesis summarizing our calculation of betweenness centrality we first note that from through usn listed the top five other schools to which each focal school students also applied for example in new york university nyu cited these five schools as those to which its students also applied boston university columbia university cornell university university of southern california and the university of pennsylvania columbia university in turn cited these five institutions in harvard university mit princeton university stanford university and yale university using these citations as inter school ties we pooled all private and public schools in each year and generated symmetric annual inter school citation matrices where in this matrix if school cited school or school cited school as an overlap in year and if and jointly cited each other we then applied method to to generate betweenness centrality scores for all schools in each year the betweenness centrality of given node in network is function of the number of shortest paths between two other nodes passing through the focal node in our setting school with high level of betweenness centrality such as boston university bu nyu or washington university in st louis washu shown in reaches across diverse college applicants such schools tend to cite or be cited by schools that typically do not cite each other as overlap schools meaning that they appeal broadly to set of students whose application related preferences are divergent unlike peripheral schools with limited market reach occupants of these bridging positions in the network are more likely to be capable of aspirational pricing restating hypothesis in our empirical setting we expected the positive effect of status loss on future tuition to increase with betweenness centrality the college and university applicant network clear nodes are private schools dark nodes are public schools node size is based on tuition the inter school relational data also allowed us to construct measure of close rivals past pricing decisions which we term weighted peer tuition this variable is important both as conditioning variable and as moderator for testing hypothesis first as conditioning variable weighted peer tuition allows us to account for dynamic feature of status aspirational pricing focal school could in principle raise its price not only in reaction to sharp drop in rank but also as reaction to seeing its closest rivals pricing high not accounting for rivals past prices could consequently lead us to overestimate the effect of status decline especially if focal school fears that rivals higher prices are status aspirational and will subsequently hurt the focal school rank controlling for these rivals past pricing behavior thus helped us disentangle the effect of status loss from rival driven fears of future status descent second as moderator weighted peer tuition permitted us to test our third prediction that the positive effect of status loss on future tuition rises with the lagged tuition levels of these peers our approach to measuring this follows we first calculated two euclidean distances in citation patterns between the focal school and all other schools tracked by usn in the focal year we computed these distances from yearly varying matrices of inter school citations where and if school cited school as an overlap in year therefore insofar as and have similar row vectors in the same schools identify them as overlaps and to the extent that they have similar column vectors they identify the same schools as overlaps letting denote the euclidean distance between and rows plus the distance between and columns we then computed the citation based proximity of and as after normalizing for each school so that and collecting tuition values for our measure of peer tuition may be written as estimation and conditioning variables we estimated the effect of status decline on schools future tuition using two way fixed effects models of the form where denotes school tuition in year and ranges from to we included lagged tuition for three reasons first owing to inflation growing demand for campus services and amenities and the perceived need to price high for the sake of prestige schools rarely hold tuition levels constant schools typically raise tuition every year the question is by how much second tuition is remarkably state dependent price stickiness is substantial and we therefore wished to estimate the effect of status decline conditional on the prior level of tuition third dynamic model isolates the unique consequences of slip in rank separate from school proximity to an overall price ceiling captured jointly by lagged tuition and the year fixed effects we also included several adjustments in the matrix whose coefficients are in includes correlations and descriptive statistics for the private schools in our panel models we lagged all conditioning variables by one year so that they correspond to the measurement year of our main covariate of interest status loss summarizing our adjustments in we first entered the indicator variable not first tier to denote those schools not included in usn top tier and for which we assigned the average of the upper and lower ranks that mark its tier correlations and descriptive statistics for variables in analyses our second set of controls is related to student body demographics starting with size we adjusted for student body size because if school were to decline in status and size simultaneously that school might then raise tuition not just to improve in standing but also to cover the related loss in forecasted revenue in addition we captured facets of the demographic composition of the student body in two ways through percentages of ethnic minorities and by simpson diversity index controlling for demographic diversity is essential because diversity may be associated with status while also tempering the rate of tuition growth potentially reflecting the consequences of an enrollment management strategy geared toward greater inclusiveness we collected these percentages of minorities from the government run integrated postsecondary education data system ipeds categories omitted from and are percentages for multiethnic white and unknown we computed simpson diversity index as the inverse of the sum of the squared proportions of all eight ethnic categories tracked by ipeds we expected this index to affect future tuition negatively estimates for pooled cross sectional and fixed effects models predicting log tuition robust standard errors are in parentheses all covariates are lagged one year overall values are shown for model within values for within school models we also conditioned on two indicator variables related to inter school citation data zero in degree was included to ensure that the effect of betweenness centrality is not consequence of not being cited by other schools as an overlap zero out degree addressed the possibility that when school chooses not to send network data to usn it pays less attention to its rivals and sets prices differently when school does not respond to this aspect of usn survey this could reflect less susceptibility to the pricing decisions of other schools and its own rate of tuition growth may change as result fourth set of controls was included to adjust for consumer demand we entered the average sat scores of incoming students because willingness to pay may rise with the opportunity to associate with other high scoring students see on education as an associative good schools whose current students have high sat scores should be more attractive to prospective students consumer demand for particular school may also be proxied by students willingness to take on loans to attend using data collected from ipeds we included the logged per student average loan and expected loan levels to be positively associated with future tuition our fifth set of covariates was intended to gauge the financial well being of each school entering financial measures ensures that we do not overestimate the unique effect of status loss financial shortfalls may arrive jointly with slips in rank resulting in tuition hikes as schools look to increase cash flow to support their strategic objectives first we entered logged average institutional grant aid which includes all scholarships and fellowships granted to undergraduates by the institution itself meaning the school uses this money to attract students it desires without expecting financial remuneration this covariate excludes loans second and third we entered each school endowment collected from the national association of college and university business officers nacubo plus dummy variable endowment missing indicating that the focal school had no record of an endowment according to nacubo such schools endowments were coded as zero controlling for endowment is important because schools with higher endowments have more freedom to adjust tuition levels undertake projects improve facilities hire faculty and staff and offer aid all of which might directly improve rank and lower future tuition growth we adjusted as well for the gdp of the state in which the school is located more favorable local economic conditions might associate better rank with lower subsequent tuition because of increased revenues from other sources such as student athletic events school fixed effects and year fixed effects represented by and are the final two terms in equation entering school fixed effects so our estimates reflect within rather than between school variations is essential for testing our main hypothesis that given producer sets price higher in reaction to the perceived problem of status loss for two reasons first the fixed effects sweep out unobserved stable traits such as preexisting reputation location or an unusually large athletics budget that might create the appearance of positive effect of status on price second they allow us to bring into focus the adaptive responses of focal organization as it travels through its status hierarchy over time year fixed effects are included in all models because tuition rises on average each year year fixed effects also adjust for annual changes in the applicant pool the number of schools to which the average student applies and the health of the stock market which dramatically affected college endowments over the course of our panel results we present estimates for six models predicting future tuition for private institutions in which starts with simple pooled cross sectional model we included only usn rank our not first tier dummy variable and year fixed effects school fixed effects are omitted in model the coefficient on usn rank is negative as schools positioned in the top ranks charge higher tuition this result is consistent with previous work on status showing that higher status organizations command higher prices for their goods and services in model we estimated within school growth model by adding lagged log tuition and school fixed effects although we do not report coefficients on the school indicators to conserve space these available by request express sharp between school differences in pricing tendencies confirming the merits of the within school estimator in addition the coefficient on usn rank now is significant and positive when our estimates reflect within organization variations only decline in status is associated with higher future price using this very simple specification we see initial support for our first hypothesis model replaces the usn rank with our measures of status loss and status gain the coefficient on status loss is significant and positive indicating that when school slips more than five ranks beneath its time constant mean rank after having ascended above that threshold previously it then raises tuition in the next year the effect is economically meaningful the increase rounds to full percentage point which is the equivalent of the provost announcing in his or her spring letter to parents that next year tuition will go up by percent instead of by percent in contrast the effect of status gain is statistically indiscernible upward status mobility which we thought might bind school more tightly to normative constraints to charge students less does not uniquely affect price we instead see further evidence that downward status mobility is more influential in shaping pricing decisions in addition the asymmetric effects of status loss versus status gain imply that reversion to the mean is unlikely to account for the positive effect of status loss if reversion to the mean were the main process at work we would expect coefficients on these two variables that are roughly equal in absolute value rather than the substantial difference we observe in model we conditioned on wide range of factors that are important for isolating the consequences of declines in status status loss retains its significance in the presence of these covariates including those for student body diversity simpson diversity index is negative and significant reflecting tempered rate of future price growth as school commits to more heterogeneous student pool the sustained positive effect of fall in status controlling for student diversity suggests that our main effect of interest is not byproduct of school growing less diverse and then deciding to exploit locked in student body with higher socioeconomic status that status loss stays significant together with the size of the endowment is also noteworthy clearly price setting committees raise tuition in response to financial shortfalls yet conditioning on this process model indicates that they still also react to sharp declines in rank the third and final set of continuous variables in model includes betweenness centrality and weighted peer tuition the covariates we constructed to test the interaction effects stated in hypotheses and we turn to these in models and respectively but note their main effects here aligned with our discussion of betweenness centrality as measure of the degree to which school is credible market incumbent its effect is positive though not quite achieving significance it suggests inconclusively that the more school reach cuts across disparate sections of the market for students the more it charges the effect of weighted peer tuition is not what we anticipated instead of seeing evidence of contagious pricing we interpret this coefficient as possible reflection of efforts to differentiate in models and we turn to two interaction effects which clarify when status aspirational pricing is most prevalent as not all organizations in market have license to do so supporting hypothesis that broad appeal across otherwise disparate buyers allows an organization to price aspirationally the effect of status loss by betweenness centrality is positive and significant note also the weakened main effect of status loss at zero betweenness centrality in model though the effect of status loss is lower for peripheral school its effect grows in magnitude as betweenness centrality rises for instance after status loss tuition rises by percent when betweenness centrality is at its mean but by percent for betweenness centrality at one standard deviation above its mean and by percent at two standard deviations above its mean we also find support for our second moderating hypothesis in model our prediction following from our assumption that norms of fairness constrain price setting decisions was that organizations whose close competitors have charged high prices have the latitude to pursue status aspirational pricing showing support for hypothesis the coefficient on status loss by weighted peer tuition is positive the positive effect on tuition of fall in status is strongest when focal school structurally equivalent peers have previously set tuition high for instance at one standard deviation above the mean of weighted peer tuition decline in status is associated with percent increase in future tuition and for the maximum value of weighted peer tuition drop in status is associated with percent increase robustness checks and extensions we took four main steps to evaluate the robustness of our main finding that schools raise tuition after status loss first given our claim that only core rather than peripheral organizations can price aspirationally we examined counts of status losses and gains together with average yearly tuition increases across range of status categories quartiles of lagged ranks and first tier versus not first tier schools if our interpretation of our main effect of interest is correct there should both be sufficient number of status losses among first tier schools and the impact of status loss will be concentrated there as shows across our panel private schools there were status losses percent of the school years and status gains percent this asymmetry reflects usn record of demoting more than it promotes as well as the expanding size of its coverage over time usually by adding lower ranked schools this feature of usn design also reinforces the importance of adding year fixed effects further sharp status changes almost never occur in the top quartile of the rankings just one school suffered status loss and no schools ranked or better posted status gain this likely reflects usn effort to prevent non credible churn at the peak of the rankings as well as our conservative definitions of status loss and status gain status losses gains and tuition changes by status quartile and tier turning to differences between first tier and not first tier schools in the first tier in which tuition rose by an annual average of percent there were status losses and status gains for not first tier institutions tuition increased yearly by percent and there were status losses and only gains status losses for both categories are consistent with our theory but it is still important to determine where in the distribution of ranks the effect of status loss is most strongly concentrated model of reports the results of our main model model in with not first tier schools removed although this effect is slightly dampened there is no longer full percentage point increase in tuition after status loss the coefficient on status loss stays significant test among first tier schools which have clearly crossed credibility threshold we see continued evidence in support of our main hypothesis estimates for robustness check models predicting log tuition robust standard errors are in parentheses school and year fixed effects are included all covariates are lagged one year our second set of robustness checks sought to guard against the possibility that small handful of schools suffer status losses sequentially while also aggressively raising tuition to arrest free fall thus biasing our estimates model presents estimates for the subset of schools from model with one difference we excluded all schools experiencing more than one status loss and again we see robust effect of our main variable of interest this result gives us added confidence that our results are not reflection of few outlying schools flailing as they slide down the rankings third we assessed our claim regarding the direction of the effect of status loss from several vantage points one approach was to ask whether the effect of status loss is strongest in the middle of the first tier rankings category if status decline triggers higher tuition rather than vice versa status loss should exert weaker effects in some regions of the ranks than in others rather than affecting tuition uniformly in model which again includes only first tier schools we interacted status loss with dummy variable termed middle top school this variable equals one if the focal school rank resides between and rank distance from the lowest first tier rank that year the estimates in model suggest that schools in the middle of the top tier are also most responsive to sharp decline such schools are core members of the market but they are also arguably the most anxious about status neither entrenched incumbents of the top nor newcomers to the first tier and sharp fall in rank appears to trouble them the most in addition to an instrumental variable analysis see the online appendix we also explored whether tuition is associated empirically with future status loss counter to our theory tuition hike could trigger slip in rank if schools get punished for appearing greedy or unfair using conditional fixed effects logit on our full panel of private schools we modeled status loss as function of all explanatory variables from model in this supplementary model lagged log tuition is insignificant score test further suggesting that reverse causality is probably not responsible for the effect of status loss on future tuition fourth we addressed the possibility that status decline prompts schools to spend exorbitantly and thus to raise tuition for reasons unrelated to signaling as schools fall in the rankings they may expect the imminent loss of higher caliber applicants to further hurt their rankings leading them to employ various recruiting strategies to entice their preferred students such strategies could include providing more grants improving the student to faculty ratio or pushing fundraising efforts each of which necessitates spending more money which would likely come from increased tuition we explored each of these scenarios among the ranked schools in our data results available by request and found that when logged average grant aid the student to faculty ratio and the alumni giving rate were each inserted as dependent variables in alternative versions of model status loss was not significant predictor for any of them tests for status loss across these three models were and respectively though certainly not conclusive it appears that raising tuition following decline in status is not at least in the short term related mainly to spending more money to attract more desirable students qualitative accounts lastly we collected and coded qualitative accounts of the chivas regal strategy in higher education to assess from another angle our claim that schools increase their prices to send status signal although there has been discussion since the late of status aspiring schools hiking tuition to enhance perceptions second version of the chivas regal strategy in our context refers to investment in status symbols such as new dormitories and gyms through the revenues provided by tuition increases this is long run version of status aspirational pricing in which conspicuous consumption serves as the expected link between charging more and eventual status gain we cannot rule out the possibility that this long run version is also at work in our panel but qualitative evidence suggests that the short run signaling based version of the chivas regal strategy we have described typically summarizes the aims of those setting tuition ideally we would have direct and accurate data on the deliberations of those responsible for setting tuition each year to further test our theory unfortunately though some university presidents such as stephen trachtenberg of george washington university and richard freeland of northeastern university have discussed their use of the chivas regal strategy such open revelations have typically come only after they have left the job the price setters themselves are generally unreliable sources when it comes to publicly confirming the use of higher prices to signal status as the implicit understanding is that to reveal the strategy as such would be to kill its efficacy or incite outrage at the school journalists however are not bound by these constraints to check our main assertion we searched google and lexis nexis to collect all of their electronically available journalistic articles explicitly mentioning chivas regal in connection with higher education searching from through we identified articles and one congressional hearing document documents from lexis nexis six from google news and four from google web search we counted the total number of words in each document referring explicitly or implicitly to the chivas regal strategy and coded each sentence according to how the chivas regal strategy was characterized our approach yielded four different raising tuition to signal higher status raising tuition to invest in status symbols charging what the market will bear and other or non pertinent sentences coded as other typically either characterized the chivas regal strategy ambiguously or conflated multiple while sentences coded as non pertinent did not imply any particular of the total words across all documents percent were relevant in that they pertained to the chivas regal strategy of these relevant words percent pertained to tuition increases geared toward signaling higher status while only percent pertained to tuition increases to invest in status symbols some examples of text aligned with our emphasis on status signaling via higher tuition include the following says martin meyerson upenn president from we were building up kind of notion about colleges and universities that the higher the price the better they were for decades most private college pricing has reflected the chivas regal effect the notion that whether in scotch or school higher price indicates higher quality schools wanted high tuition on the assumption that families would say that if they re charging that high tuition they must be right up there with the ivies said david warren president of the national association of independent colleges and universities the increase not only would allow the system to recover more of the cost of student education he said but also would encourage applicants to view college park as more selective institution concept known in higher education circles as the chivas regal argument the perception is if tuition too low people say hey that school can be any good hug said the best way to improve your reputation is to increase tuition the results of our qualitative search thus indicate that the strategic raising of prices not only occurs among status aspiring schools but also appears to be done more in the name of the price status perception link than to be able to invest in tangible status symbols it is well known and regularly utilized tactic for university presidents and other price setters exploring consequences these analyses lead us to an important final question does the chivas regal strategy actually work to try to address this question our approach was to see if tuition is positively associated with future improvements in usn rank after status loss presents conditional fixed effects logit models predicting the probability of focal school improvement in rank from year to as function of its logged tuition in and whether it suffered loss in status in we used this estimator instead of standard logit with dummies for schools to avoid the incidental parameters problem for models the outcome variable equals under these conditions respectively the school improved by one or more ranks two or more ranks and three or more ranks in all three models the coefficient on the interaction term is in the expected direction but only in model is prior tuition strongly associated with future rank improvement when the school has previously undergone loss in status in contrast the interaction between lagged status loss and tuition falls shy of significance in model which predicts the probability of rank improvement of three or more hiking tuition in the wake of the status loss appears to be beneficial for modest recovery but is in no way panacea for schools seeking instant recovery from sharp status loss estimates for conditional fixed effects logit models predicting rank improvements standard errors are in parentheses status loss and status gain are lagged two years other predictors are lagged one year year fixed effects are included in all models discussion our examination of colleges and universities in the united states reveals an important and finding an institution loss of status will under certain conditions lead to status aspirational rather than status consistent pricing having clarified two conditions in which organizations raise prices in reaction to drops in status we show that the impact of status on price can no longer be seen as exclusively positive this revelation has implications for status theory performance feedback theory and administrative research on ranking systems we see two interlinked implications for status theory first new research will benefit from focusing more explicitly on the consequences of significant status changes considering both status declines and gains see as central explanatory variables in future work will broaden our understanding of how status shapes organizational conduct and performance such an empirical strategy may also require broader portrait of the nature of status itself some of the most compelling studies most notably original formulation have construed status as stable asset yielding concrete benefits we can contrast this perspective with our own using two of metaphors on one hand similar to merton pictured high status actors as owners of an almost irrevocable coin of recognition an image characterizing status as resource cf that passively brings advantage on the other hand merton also analogized status position to way station en route to the next summit which suggests that status is rank in tournament in which advances and reversals occur status here is less like resource and more like prized territory in turf war this dynamic imagery is aligned with more recent frameworks in which status shifts meaningfully in real time confirms and threatens actors identities and requires constant cultivation taking an explicitly dynamic within organization view and zeroing in on focal firm reactions to sharp declines will likely cast new light on how organizational decision making varies with relative standing in ways that pooled cross sectional designs cannot the second implication for status theory is the vital need to reconsider the link between status and agency prior work has underscored elites latitude to choose non normative actions observing that there are certain activities in which only high status actors are allowed to engage although we agree with this in general our results also suggest that agentic behavior is especially likely among those that have fallen in status for instance although found that increases in status raised the propensity to collaborate across firms we suspect that focal firm that was recently pushed down in status beneath its reference point may be driven perhaps frantically to form alliances using measures and methods similar to what we have proposed it may be possible to demonstrate that the strongest bursts of collaborative behavior come from those wishing to appear more like their more elite peers status aspiring actors may also exert agency by making ceremonial expenditures as originally discussed by who noted the increase in status that can arise for university that hires nobel prize winner like status aspirational pricing hiring nobel laureate is possible only for institutions that fit the criteria implied by our moderating hypotheses they are core rather than peripheral market actors and their stakeholders are not expected to bear unfair costs unlike status aspirational pricing however hiring an academic superstar rarely happens quickly new research on the possible effect of status loss on ceremonial hiring would therefore need to consider an important if hard to measure moderator namely whether the organization suffering status decline has the staying power or collective patience to wait for an external savior cf we also see two implications for future investigations in performance feedback theory first consistent with schools setting tuition merely to improve how they are perceived we see valuable opportunities for theorists of organizational learning to model what might be termed cosmetic as opposed to material responses to unfulfilled aspirations most of the earlier work in this tradition has focused on material outcomes such as intensity and strategic change in contrast we see interesting possibilities for modeling the hazard of symbolic reactions securing celebrities endorsements as function of slips in performance second given our dependent variable an obvious suggestion for subsequent research is to consider whether the loss of market share potentially similar to loss in prestige could trigger status aspirational pricing used relative market share as predictor of changes in partnering behavior but pricing changes could also be modeled if company loses market share we generally expect it to lower prices to recover customers or to seek orthogonal market niches but there are some markets particularly those described by and in which market share is positively associated with producers status in such domains there is natural link to performance feedback theory arising from our approach are there conditions in which producers strategically raise price in response to shortfalls in market share turning to administrative research on ranking systems our moderating effects lead us to anticipate that new research in this vein will profit from focusing on sources of variation in susceptibility to third party arbiters offered rich account of the process by which usn adroitly inserted itself as the key arbiter of perceived quality in legal education usn first won over students and employers and from that beachhead brought about increased homogeneity across law schools which felt obliged to bend to its criteria sauder analysis also indicated that law schools with less experienced deans were most susceptible to the influence of usn building on this theme valuable next step is to bring network analytic perspective to bear on the historical question of which schools succumbed and which ones resisted usn pressures toward conformity for instance law schools whose structurally equivalent peers initially posted fast improvements on metrics imposed by usn may have been those that conformed most quickly and tightly alternatively schools encircled by conformist peers may have been those most prone to resist and delay in an effort to appear authentic limitations and scope conditions additional possibilities for new research arise from considering two limitations of our analyses and four scope conditions on the of our hypotheses first in focusing simply on whether focal school was discernibly below its reference point we did not consider potential moderating effects of different rates of status decline descent and ascent can be rapid or gradual and if it is gradual the sliding organization may fail to respond much like slowly boiled frog new research could consider how different rates of status change exert indirect or even direct effects on future organizational behavior second we may not have fully captured the motivations of the organizational decision makers in our setting in particular we did not address whether the price signal may also be intended for an internal audience to trigger self fulfilling prophecy among employees as pointed out price not only influences buyers expectations but also influences producers incentives although we cannot address this possibility with our current data it is worth examining whether price setter provost may be pursuing intra organizational changes as he or she prices up in this scenario the goal is to push faculty and administrators to live up to the new price seeking to better understand if and when the chivas regal strategy is pursued to motivate internal stakeholders is an interesting possibility for future work especially research taking qualitative approach moreover some institutional features of higher education are certainly not present across all markets so status aspirational pricing will not occur universally in addition to the two conditions implied by our moderating hypotheses the focal firm must be viewed as credible member of the core of its market and it cannot violate norms of fairness when it determines its price four further boundary conditions are required when these conditions are met by at least subset of the buyers and producers in given setting we expect producers in that setting to increase price in reaction to status loss two conditions relate to buyers and two concern focal producer first buyers face uncertainty about the quality of the producer good without this uncertainty price is rigid reflection of the good known or observable attributes and producer therefore cannot use it as strategic aspirational device in contrast goods often marked by sufficient uncertainty for status aspirational pricing include experience goods credence goods cf like fair trade food whose conformity to sustainability ideals buyers must blindly trust and veblen goods whose ability to confer status on buyers is known only after consumption uncertainty creates degrees of freedom in setting prices producers of such goods not only have more information about their goods than do their buyers but their products or services are also marked by second order type of uncertainty in which the dimensions that matter for buyers assessments of quality are multiple and contested rather than singular and taken for granted the producer thus has the flexibility to set its price with enhanced status as its aim the price itself can enter the mix of quality dimensions that are up for grabs and in the producer decision making process can be seen as route to status gain second buyers have historically viewed high prices as positive signals of quality and or status buyers may intuitively understand that only truly high quality producer can sustain high price without losing customers or they may see their purchase of more expensive goods as step to advancing in status themselves not all buyers must meet this second scope condition only subset must many buyers may have long been strongly averse to high prices while some sophisticated consumers may identify price hikes as placebo cf what is important is that enough buyers have over sustained period of time viewed high prices as positive signals of quality and or status when this is the case producer can then realistically believe that raising its price is viable strategy third organizational status is mutable and is an important objective for the producer not all status hierarchies meet these criteria distinguished between two hypothetical status systems one in which the exact volume and types of deference expected between any two individuals are always known expected and given and second in which prestige is highly unstable and ambivalent for our hypotheses to apply the focal producer and its peers must occupy status hierarchy closer to the second type this means that the producer is not so secure in its role that slips in status never occur nor does that producer face cultural norms that punish status falls so sharply that recovery is untenable in addition the producer must significantly value its status beyond the goal of sustained financial performance and it must do so in the particular status hierarchy in which the loss occurs for instance business school that fares well in several published rankings none of which enjoy the hegemony of usn for undergraduate intuitions may value its status but still discount sharp loss in one of the rankings cf for that business school the rank decline is dismissible case of status inconsistency not cause for alarm where we observe status aspirational pricing we will necessarily see producers for which status is both salient goal in the hierarchy in question and subject to reasonable and recoverable shifts across time fourth the producer perceives some form of safety net that lowers the perceived risk of aspirational pricing this condition is informed by one of the unique aspects of our empirical setting the presence of third party subsidizer the government government subsidized financial aid allows colleges and universities to engage in price discrimination on the basis of students socioeconomic status in our empirical setting this is fully legal and sustainable because admitted students cannot resell their spot to richer less deserving applicants clearly this makes it easier to raise prices after slip in rank nonetheless we do not see the presence of an active subsidizer as necessary for our theory to apply in other industries substitutes exist for this role in other contexts such substitutes could include at the most basic level access to credit or an appetite for risk imagine for example solo practitioner lawyer who experiences status drop two close rivals recently secured new prestigious clients bringing them halo he or she now lacks suppose also that his or her response is to raise hourly rates for reasons consistent with our theory higher price makes the lawyer seem closer to competitors in the local status hierarchy our hypothetical lawyer lacks government support but relies on two substitutes willingness to risk short term drops in demand to send the right price related message and access to capital should things go wrong though our initial boundary condition on producer credibility is similar conceptually credibility is analytically distinct from the perception of buffer against risk when such buffer exists status aspirational pricing is more likely to occur settings for future research for organizations that meet the scope conditions we have described two industries are especially promising sites for replicating and extending our results wine and high end restaurants similar to other settings that are also candidates for future study art cosmetics consulting firms and luxury goods these industries contain producers with the credibility and latitude to price in ways intended to counteract shortcomings in status wineries and elite restaurants are particularly appealing due to the precise time varying data maintained on organizational status and pricing starting with wine perhaps the most straightforward way to replicate our findings is to assemble panel similar to that used by and then take three analytical steps add winery fixed effects construct indicator variables capturing drops in status below reference point and examine interactions with measures of credibility and of close competitors lagged prices benjamin and podolny measure of reputation could inform covariate capturing credibility and computing rivals average prior prices is feasible in light of the relational data available our falsifiable prediction is positive main effect of status loss on future price we believe this is likely in light of the well documented connection between price and perceived quality in wine cf we also expect set of moderating effects similar to what we have observed we expect certain subset in panel of wineries will exhibit patterns consistent with our theory if we are correct then this core question warrants close attention in future work what are the distinctive features of organizations in this section of the wine market offered evidence largely in keeping with our theory in their analysis of french restaurants gaining and losing michelin stars they revealed that restaurants dramatically increased their prices in the two years prior to receiving michelin star this effect is consistent with our main prediction when shy of an important status marker focal organization will raise prices in hopes of ascending in addition although snyder and cotter found that restaurants demoted from three stars lowered their prices commensurately the experience of two star restaurants experiencing loss in status is provocative after suffering demotion to just one star these restaurants slipping from the elite core of this market but still credible members of it raised their prices an interesting and straightforward next step involves identifying when these downwardly mobile restaurants raise prices most sharply in response contrary to what prior explorations of status and its effects imply our account shows that organizations are not always passive recipients of their status and its consequences quite the opposite in settings in which status is both alterable and primary organizational goal like higher education wine and fine restaurants firms will actively take steps to change their position in status hierarchy the story of chivas regal whiskey provided an apposite analogy for the types of contexts in which organizations will actively attempt to signal higher status as well as the means by which they will do so when organizations conclude that passively accepting lower than aspiration level of status is intolerable they will raise their prices as means of dynamically responding to loss we expect future research on status to more seriously consider such agentic responses from both firms and individuals when examining shifts in status hierarchies over time»\n",
            "\n"
          ],
          "name": "stdout"
        }
      ]
    },
    {
      "cell_type": "code",
      "metadata": {
        "id": "-4qViBYzZTZk"
      },
      "source": [
        "def get_most_similar(doi):   #Format Example: '10.1177_0001839214532428' \n",
        "  for j in range(len(corpus)):\n",
        "    if corpus[j].tags == [doi]:\n",
        "      doc_id = j \n",
        "  inferred_vector = model.infer_vector(corpus[doc_id].words)\n",
        "  sims = model.dv.most_similar([inferred_vector], topn=len(model.dv))  # sims is a list of size of the number of documents in the corpus. Each element is a tuple (doi, similarity value)\n",
        "  second_rank = sims[1] #sims[0] is the paper itself\n",
        "  return sims \n",
        "\n"
      ],
      "execution_count": null,
      "outputs": []
    },
    {
      "cell_type": "code",
      "metadata": {
        "id": "3ppNcN6fpqQ2"
      },
      "source": [
        ""
      ],
      "execution_count": null,
      "outputs": []
    },
    {
      "cell_type": "markdown",
      "metadata": {
        "id": "cEtPiRt3R7Ot"
      },
      "source": [
        "**Integration LDA Model Results**\n",
        "Taking results from topic model with 10 topics and topics assigned to documents when probability > 0.8"
      ]
    },
    {
      "cell_type": "code",
      "metadata": {
        "id": "nUPYyCPIR6wm"
      },
      "source": [
        "topics_all = pd.read_excel(path + \"best_model/No_Essays/p>80_alltopics.xlsx\")"
      ],
      "execution_count": null,
      "outputs": []
    },
    {
      "cell_type": "code",
      "metadata": {
        "colab": {
          "base_uri": "https://localhost:8080/"
        },
        "id": "GL49HWwJSYwQ",
        "outputId": "52f0102a-b5a5-47c3-8343-3a039100fb50"
      },
      "source": [
        "topics_all[\"best_topic\"].value_counts()"
      ],
      "execution_count": null,
      "outputs": [
        {
          "output_type": "execute_result",
          "data": {
            "text/plain": [
              "No right fit    165\n",
              "4                 9\n",
              "2                 9\n",
              "0                 8\n",
              "5                 7\n",
              "8                 5\n",
              "1                 5\n",
              "7                 3\n",
              "3                 3\n",
              "9                 1\n",
              "6                 1\n",
              "Name: best_topic, dtype: int64"
            ]
          },
          "metadata": {
            "tags": []
          },
          "execution_count": 36
        }
      ]
    },
    {
      "cell_type": "code",
      "metadata": {
        "id": "HAwCkXaUSalK"
      },
      "source": [
        "papers_topics = topics_all[topics_all[\"best_topic\"] != \"No right fit\"]"
      ],
      "execution_count": null,
      "outputs": []
    },
    {
      "cell_type": "code",
      "metadata": {
        "colab": {
          "base_uri": "https://localhost:8080/",
          "height": 306
        },
        "id": "TnQTMli7pvSi",
        "outputId": "9d8218be-8b13-4fb9-e75d-ef6d684c1650"
      },
      "source": [
        "topic0 = papers_topics[papers_topics[\"best_topic\"] == 0]\n",
        "topic0.head()\n"
      ],
      "execution_count": null,
      "outputs": [
        {
          "output_type": "execute_result",
          "data": {
            "text/html": [
              "<div>\n",
              "<style scoped>\n",
              "    .dataframe tbody tr th:only-of-type {\n",
              "        vertical-align: middle;\n",
              "    }\n",
              "\n",
              "    .dataframe tbody tr th {\n",
              "        vertical-align: top;\n",
              "    }\n",
              "\n",
              "    .dataframe thead th {\n",
              "        text-align: right;\n",
              "    }\n",
              "</style>\n",
              "<table border=\"1\" class=\"dataframe\">\n",
              "  <thead>\n",
              "    <tr style=\"text-align: right;\">\n",
              "      <th></th>\n",
              "      <th>Unnamed: 0</th>\n",
              "      <th>DOI</th>\n",
              "      <th>best_topic</th>\n",
              "      <th>Article-title</th>\n",
              "      <th>Year</th>\n",
              "      <th>Abstract</th>\n",
              "      <th>Authors</th>\n",
              "      <th>Total Citations</th>\n",
              "    </tr>\n",
              "  </thead>\n",
              "  <tbody>\n",
              "    <tr>\n",
              "      <th>21</th>\n",
              "      <td>21</td>\n",
              "      <td>10.1177/0001839213500272</td>\n",
              "      <td>0</td>\n",
              "      <td>Constrained Delegation</td>\n",
              "      <td>2013</td>\n",
              "      <td>We examine the influence of competitive spillo...</td>\n",
              "      <td>['Metin Sengul', 'Javier Gimeno']</td>\n",
              "      <td>23</td>\n",
              "    </tr>\n",
              "    <tr>\n",
              "      <th>31</th>\n",
              "      <td>31</td>\n",
              "      <td>10.1177/0001839214532428</td>\n",
              "      <td>0</td>\n",
              "      <td>On the Causality and Cause of Returns to Organ...</td>\n",
              "      <td>2014</td>\n",
              "      <td>This paper identifies the causal symbolic effe...</td>\n",
              "      <td>['Daniel Malter']</td>\n",
              "      <td>34</td>\n",
              "    </tr>\n",
              "    <tr>\n",
              "      <th>47</th>\n",
              "      <td>47</td>\n",
              "      <td>10.1177/0001839218766310</td>\n",
              "      <td>0</td>\n",
              "      <td>Colleagues and Competitors: How Internal Socia...</td>\n",
              "      <td>2019</td>\n",
              "      <td>Intra-organizational comparisons—managers and ...</td>\n",
              "      <td>['Oliver Baumann', 'J. P. Eggers', 'Nils Stieg...</td>\n",
              "      <td>3</td>\n",
              "    </tr>\n",
              "    <tr>\n",
              "      <th>82</th>\n",
              "      <td>82</td>\n",
              "      <td>10.1177/0001839216674457</td>\n",
              "      <td>0</td>\n",
              "      <td>State Ownership and Firm Innovation in China: ...</td>\n",
              "      <td>2017</td>\n",
              "      <td>Using two longitudinal panel datasets of Chine...</td>\n",
              "      <td>['Kevin Zheng Zhou', 'Gerald Yong Gao', 'Hongx...</td>\n",
              "      <td>179</td>\n",
              "    </tr>\n",
              "    <tr>\n",
              "      <th>135</th>\n",
              "      <td>135</td>\n",
              "      <td>10.1177/0001839215585602</td>\n",
              "      <td>0</td>\n",
              "      <td>(Un)Tangled</td>\n",
              "      <td>2015</td>\n",
              "      <td>We explore the relationship between status and...</td>\n",
              "      <td>['Timothy G. Pollock', 'Peggy M. Lee', 'Kyuho ...</td>\n",
              "      <td>44</td>\n",
              "    </tr>\n",
              "  </tbody>\n",
              "</table>\n",
              "</div>"
            ],
            "text/plain": [
              "     Unnamed: 0  ... Total Citations\n",
              "21           21  ...              23\n",
              "31           31  ...              34\n",
              "47           47  ...               3\n",
              "82           82  ...             179\n",
              "135         135  ...              44\n",
              "\n",
              "[5 rows x 8 columns]"
            ]
          },
          "metadata": {
            "tags": []
          },
          "execution_count": 39
        }
      ]
    },
    {
      "cell_type": "code",
      "metadata": {
        "colab": {
          "base_uri": "https://localhost:8080/"
        },
        "id": "ydDREesSqDJ-",
        "outputId": "4c4045fd-7c1c-48a4-bb0f-7c3d7dd4c68a"
      },
      "source": [
        "topic0[\"new DOI\"] = topic0[\"DOI\"].apply(lambda x: x.replace(\"/\", \"_\"))"
      ],
      "execution_count": null,
      "outputs": [
        {
          "output_type": "stream",
          "text": [
            "/usr/local/lib/python3.7/dist-packages/ipykernel_launcher.py:1: SettingWithCopyWarning: \n",
            "A value is trying to be set on a copy of a slice from a DataFrame.\n",
            "Try using .loc[row_indexer,col_indexer] = value instead\n",
            "\n",
            "See the caveats in the documentation: https://pandas.pydata.org/pandas-docs/stable/user_guide/indexing.html#returning-a-view-versus-a-copy\n",
            "  \"\"\"Entry point for launching an IPython kernel.\n"
          ],
          "name": "stderr"
        }
      ]
    },
    {
      "cell_type": "code",
      "metadata": {
        "colab": {
          "base_uri": "https://localhost:8080/"
        },
        "id": "j8B8g-pgqi9i",
        "outputId": "0977f796-b236-4dd3-8050-d61427f4756a"
      },
      "source": [
        "topic0[\"new DOI\"].apply(get_most_similar)"
      ],
      "execution_count": null,
      "outputs": [
        {
          "output_type": "execute_result",
          "data": {
            "text/plain": [
              "21     [(10.1177_0001839213500272, 0.9952492713928223...\n",
              "31     [(10.1177_0001839214532428, 0.9949886798858643...\n",
              "47     [(10.1177_0001839218766310, 0.9915781617164612...\n",
              "82     [(10.1177_0001839216674457, 0.9924858212471008...\n",
              "135    [(10.1177_0001839215585602, 0.9954397678375244...\n",
              "144    [(10.1177_0001839218793384, 0.9914360046386719...\n",
              "172    [(10.1177_0001839216661150, 0.9957326054573059...\n",
              "183    [(10.1177_0001839212446689, 0.9917332530021667...\n",
              "Name: new DOI, dtype: object"
            ]
          },
          "metadata": {
            "tags": []
          },
          "execution_count": 43
        }
      ]
    },
    {
      "cell_type": "markdown",
      "metadata": {
        "id": "beseFH23XJaN"
      },
      "source": [
        "Recursively search for the papers in \"No right fit\" if their most similar paper is in the papers that have been classified to one of the 10 topics. "
      ]
    },
    {
      "cell_type": "code",
      "metadata": {
        "id": "llkM33_FW_zb"
      },
      "source": [
        ""
      ],
      "execution_count": null,
      "outputs": []
    }
  ]
}