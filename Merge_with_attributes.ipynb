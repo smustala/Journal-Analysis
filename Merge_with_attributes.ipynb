{
  "nbformat": 4,
  "nbformat_minor": 0,
  "metadata": {
    "colab": {
      "name": "Merge with attributes.ipynb",
      "provenance": []
    },
    "kernelspec": {
      "name": "python3",
      "display_name": "Python 3"
    },
    "language_info": {
      "name": "python"
    }
  },
  "cells": [
    {
      "cell_type": "code",
      "metadata": {
        "id": "4GeeYROBjVhz"
      },
      "source": [
        "import pandas as pd\n",
        "import numpy as np"
      ],
      "execution_count": null,
      "outputs": []
    },
    {
      "cell_type": "code",
      "metadata": {
        "colab": {
          "base_uri": "https://localhost:8080/"
        },
        "id": "poHJuUk4ZE-y",
        "outputId": "8984b846-d1c9-409a-80c6-b1a186530665"
      },
      "source": [
        "from google.colab import drive\n",
        "drive.mount('/content/drive')"
      ],
      "execution_count": null,
      "outputs": [
        {
          "output_type": "stream",
          "text": [
            "Mounted at /content/drive\n"
          ],
          "name": "stdout"
        }
      ]
    },
    {
      "cell_type": "code",
      "metadata": {
        "id": "oZYPFKloZG69"
      },
      "source": [
        "path = \"/content/drive/MyDrive/Journal_Analysis/\""
      ],
      "execution_count": null,
      "outputs": []
    },
    {
      "cell_type": "code",
      "metadata": {
        "id": "Jg39rJnziYYa"
      },
      "source": [
        ""
      ],
      "execution_count": null,
      "outputs": []
    },
    {
      "cell_type": "code",
      "metadata": {
        "id": "fvwXbvfoaEEh"
      },
      "source": [
        "att = pd.read_excel(path + \"Final_Topics/ASQ_Article Attributes 2011-20.xlsx\")"
      ],
      "execution_count": null,
      "outputs": []
    },
    {
      "cell_type": "code",
      "metadata": {
        "colab": {
          "base_uri": "https://localhost:8080/"
        },
        "id": "qGT-Evp4ah3h",
        "outputId": "ea8327eb-32e2-46bf-b961-5ac8e14f2462"
      },
      "source": [
        "att.columns"
      ],
      "execution_count": null,
      "outputs": [
        {
          "output_type": "execute_result",
          "data": {
            "text/plain": [
              "Index(['DOI', 'Authors', 'Gender 1st A', 'Gender Other', 'Affiliation', 'US',\n",
              "       'Canada', 'Europe', 'Asia', 'Other', 'Article-title', 'Subtitle',\n",
              "       'Publication Date', 'Year', 'Volume', 'Issue', 'Total Citations',\n",
              "       'Average per Year', 'Method', 'Data Source', 'Analysis Level',\n",
              "       'Abstract', 'Unnamed: 22'],\n",
              "      dtype='object')"
            ]
          },
          "metadata": {
            "tags": []
          },
          "execution_count": 5
        }
      ]
    },
    {
      "cell_type": "code",
      "metadata": {
        "id": "9YGAL6_finEc"
      },
      "source": [
        "#sheet to be merged \n",
        "methods_tfidf = pd.read_excel(path + \"Analysis/Methods_TFIDF.xlsx\")"
      ],
      "execution_count": null,
      "outputs": []
    },
    {
      "cell_type": "code",
      "metadata": {
        "id": "MB7Dqo-YmMbJ"
      },
      "source": [
        "#if the DOI has \"_\" instead of \"/\"\n",
        "methods_tfidf[\"DOI\"] = methods_tfidf[\"DOI\"].apply(lambda x: x.replace(\"_\", \"/\"))"
      ],
      "execution_count": null,
      "outputs": []
    },
    {
      "cell_type": "code",
      "metadata": {
        "id": "edkACl88aU0a"
      },
      "source": [
        "methods_merged = pd.merge(methods_tfidf, att[[\"DOI\", \"Year\", \"Article-title\", \"Abstract\"]], on = \"DOI\", how = \"outer\")"
      ],
      "execution_count": null,
      "outputs": []
    },
    {
      "cell_type": "code",
      "metadata": {
        "colab": {
          "base_uri": "https://localhost:8080/",
          "height": 700
        },
        "id": "vRtqzCNHazUx",
        "outputId": "d0532e10-6dcd-4455-b52b-ecc82e3cd4e3"
      },
      "source": [
        "methods_merged.head()"
      ],
      "execution_count": null,
      "outputs": [
        {
          "output_type": "execute_result",
          "data": {
            "text/html": [
              "<div>\n",
              "<style scoped>\n",
              "    .dataframe tbody tr th:only-of-type {\n",
              "        vertical-align: middle;\n",
              "    }\n",
              "\n",
              "    .dataframe tbody tr th {\n",
              "        vertical-align: top;\n",
              "    }\n",
              "\n",
              "    .dataframe thead th {\n",
              "        text-align: right;\n",
              "    }\n",
              "</style>\n",
              "<table border=\"1\" class=\"dataframe\">\n",
              "  <thead>\n",
              "    <tr style=\"text-align: right;\">\n",
              "      <th></th>\n",
              "      <th>Unnamed: 0</th>\n",
              "      <th>DOI</th>\n",
              "      <th>Qualitative [interview , ethnograph, ethnographic, qualitative, grounded theory]</th>\n",
              "      <th>Simulation [simulation]</th>\n",
              "      <th>Experiment [field experiment, lab experiment, experiment]</th>\n",
              "      <th>Quantitative [regression, quantitative, statistically significant, statistical significance, independent_variable, control_variable, dependent_variable]</th>\n",
              "      <th>Majority_Method</th>\n",
              "      <th>Year</th>\n",
              "      <th>Article-title</th>\n",
              "      <th>Abstract</th>\n",
              "    </tr>\n",
              "  </thead>\n",
              "  <tbody>\n",
              "    <tr>\n",
              "      <th>0</th>\n",
              "      <td>0.0</td>\n",
              "      <td>10.1177/0001839213486759</td>\n",
              "      <td>[0.0008866804210397894, 0.001377694962868834]</td>\n",
              "      <td>[]</td>\n",
              "      <td>[]</td>\n",
              "      <td>[0.0023133174683891604, 0.000845087055641116, ...</td>\n",
              "      <td>Quantitative</td>\n",
              "      <td>2013</td>\n",
              "      <td>Specialization and Career Dynamics</td>\n",
              "      <td>In this article, we attempt to resolve the ten...</td>\n",
              "    </tr>\n",
              "    <tr>\n",
              "      <th>1</th>\n",
              "      <td>1.0</td>\n",
              "      <td>10.1177/0001839218793128</td>\n",
              "      <td>[0.0017618285803206763]</td>\n",
              "      <td>[0.002588817067970413]</td>\n",
              "      <td>[]</td>\n",
              "      <td>[0.0015321825595982124, 0.0011194552115643282,...</td>\n",
              "      <td>Quantitative</td>\n",
              "      <td>2019</td>\n",
              "      <td>Dispositional Sources of Managerial Discretion...</td>\n",
              "      <td>We investigate the dispositional sources of ma...</td>\n",
              "    </tr>\n",
              "    <tr>\n",
              "      <th>2</th>\n",
              "      <td>2.0</td>\n",
              "      <td>10.1177/0001839212437519</td>\n",
              "      <td>[0.01433381443361991, 0.01013012032033908, 0.0...</td>\n",
              "      <td>[]</td>\n",
              "      <td>[0.00525660278422638]</td>\n",
              "      <td>[0.004326107879458741]</td>\n",
              "      <td>Qualitative</td>\n",
              "      <td>2011</td>\n",
              "      <td>Transcending Socialization</td>\n",
              "      <td>A nine-year ethnography is used to show how tw...</td>\n",
              "    </tr>\n",
              "    <tr>\n",
              "      <th>3</th>\n",
              "      <td>3.0</td>\n",
              "      <td>10.1177/0001839216673823</td>\n",
              "      <td>[]</td>\n",
              "      <td>[]</td>\n",
              "      <td>[]</td>\n",
              "      <td>[0.004122804712260293, 0.0024097886730218543, ...</td>\n",
              "      <td>Quantitative</td>\n",
              "      <td>2017</td>\n",
              "      <td>These Unequal States: Corporate Organization a...</td>\n",
              "      <td>In an analysis of data on employment in the 48...</td>\n",
              "    </tr>\n",
              "    <tr>\n",
              "      <th>4</th>\n",
              "      <td>4.0</td>\n",
              "      <td>10.1177/0001839213488773</td>\n",
              "      <td>[0.0013375311816508503, 0.0010391060453773598]</td>\n",
              "      <td>[]</td>\n",
              "      <td>[]</td>\n",
              "      <td>[0.0017447854794175382, 0.0019121832308037, 0....</td>\n",
              "      <td>Quantitative</td>\n",
              "      <td>2013</td>\n",
              "      <td>CEO Narcissism, Audience Engagement, and Organ...</td>\n",
              "      <td>We examine the responses of major pharmaceutic...</td>\n",
              "    </tr>\n",
              "  </tbody>\n",
              "</table>\n",
              "</div>"
            ],
            "text/plain": [
              "   Unnamed: 0  ...                                           Abstract\n",
              "0         0.0  ...  In this article, we attempt to resolve the ten...\n",
              "1         1.0  ...  We investigate the dispositional sources of ma...\n",
              "2         2.0  ...  A nine-year ethnography is used to show how tw...\n",
              "3         3.0  ...  In an analysis of data on employment in the 48...\n",
              "4         4.0  ...  We examine the responses of major pharmaceutic...\n",
              "\n",
              "[5 rows x 10 columns]"
            ]
          },
          "metadata": {
            "tags": []
          },
          "execution_count": 21
        }
      ]
    },
    {
      "cell_type": "code",
      "metadata": {
        "id": "ko93QCW3Z87U"
      },
      "source": [
        "methods_merged.to_excel(path + \"Analysis/Methods/methods_merged_tfidf.xlsx\")"
      ],
      "execution_count": null,
      "outputs": []
    },
    {
      "cell_type": "code",
      "metadata": {
        "id": "kW2GfVOzlW1p"
      },
      "source": [
        ""
      ],
      "execution_count": null,
      "outputs": []
    }
  ]
}